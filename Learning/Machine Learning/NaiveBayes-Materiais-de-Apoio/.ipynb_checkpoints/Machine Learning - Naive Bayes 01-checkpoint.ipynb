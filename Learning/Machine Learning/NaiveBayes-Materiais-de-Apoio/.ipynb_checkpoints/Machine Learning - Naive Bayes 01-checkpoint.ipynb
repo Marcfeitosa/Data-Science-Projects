{
 "cells": [
  {
   "cell_type": "markdown",
   "metadata": {},
   "source": [
    "# Naive Bayes"
   ]
  },
  {
   "cell_type": "markdown",
   "metadata": {},
   "source": [
    "## Análise de Sentimentos"
   ]
  },
  {
   "cell_type": "code",
   "execution_count": 2,
   "metadata": {},
   "outputs": [],
   "source": [
    "import nltk\n",
    "import re\n",
    "import pandas as pd\n",
    "from sklearn.feature_extraction.text import CountVectorizer\n",
    "from sklearn.naive_bayes import MultinomialNB\n",
    "from sklearn import metrics\n",
    "from sklearn.model_selection import cross_val_predict"
   ]
  },
  {
   "cell_type": "markdown",
   "metadata": {},
   "source": [
    "**Ler arquivo de dados e conta a quantidade de linhas**"
   ]
  },
  {
   "cell_type": "code",
   "execution_count": 3,
   "metadata": {},
   "outputs": [],
   "source": [
    "dataset = pd.read_csv('Tweets_Mg.csv',encoding='utf-8')"
   ]
  },
  {
   "cell_type": "code",
   "execution_count": 4,
   "metadata": {},
   "outputs": [
    {
     "name": "stdout",
     "output_type": "stream",
     "text": [
      "<class 'pandas.core.frame.DataFrame'>\n",
      "RangeIndex: 8199 entries, 0 to 8198\n",
      "Data columns (total 26 columns):\n",
      "Unnamed: 0                   8199 non-null int64\n",
      "Created At                   8199 non-null object\n",
      "Text                         8199 non-null object\n",
      "Geo Coordinates.latitude     104 non-null float64\n",
      "Geo Coordinates.longitude    104 non-null float64\n",
      "User Location                5489 non-null object\n",
      "Username                     8199 non-null object\n",
      "User Screen Name             8199 non-null object\n",
      "Retweet Count                8199 non-null int64\n",
      "Classificacao                8199 non-null object\n",
      "Observação                   1 non-null object\n",
      "Unnamed: 10                  0 non-null float64\n",
      "Unnamed: 11                  0 non-null float64\n",
      "Unnamed: 12                  0 non-null float64\n",
      "Unnamed: 13                  0 non-null float64\n",
      "Unnamed: 14                  0 non-null float64\n",
      "Unnamed: 15                  0 non-null float64\n",
      "Unnamed: 16                  0 non-null float64\n",
      "Unnamed: 17                  0 non-null float64\n",
      "Unnamed: 18                  0 non-null float64\n",
      "Unnamed: 19                  0 non-null float64\n",
      "Unnamed: 20                  0 non-null float64\n",
      "Unnamed: 21                  0 non-null float64\n",
      "Unnamed: 22                  0 non-null float64\n",
      "Unnamed: 23                  0 non-null float64\n",
      "Unnamed: 24                  0 non-null float64\n",
      "dtypes: float64(17), int64(2), object(7)\n",
      "memory usage: 1.6+ MB\n"
     ]
    }
   ],
   "source": [
    "dataset.info()"
   ]
  },
  {
   "cell_type": "code",
   "execution_count": 5,
   "metadata": {},
   "outputs": [
    {
     "data": {
      "text/plain": [
       "0     ���⛪ @ Catedral de Santo Antônio - Governador Valadares/MG https://t.co/JSbKamIqUJ                                                          \n",
       "1     � @ Governador Valadares, Minas Gerais https://t.co/B3ThIDJCSf                                                                              \n",
       "2     �� @ Governador Valadares, Minas Gerais https://t.co/dPkgzVR2Qw                                                                             \n",
       "3     ��� https://t.co/BnDsO34qK0                                                                                                                 \n",
       "4     ��� PSOL vai questionar aumento de vereadores e prefeito de BH na Justiça - Politica - Estado de Minas https://t.co/DMg7BGsek5              \n",
       "5     \" bom é bandido morto\"\\nDeputado Cabo Júlio é condenado e fica inelegível por 10 anos - Politica - Estado de Minas https://t.co/3GfAqvrFHS  \n",
       "6     \"..E 25% dos mineiros dizem não torcer para time nenhum,mesmo dentro de um estado com Atlético-MG e Cruzeiro. Pq?..\" https://t.co/fN5evlLQsR\n",
       "7     \"A gigantesca barba do mal\" em destaque no caderno Cultura do Estado de Minas. https://t.co/PxNurIkTlw                                      \n",
       "8     \"BB e governo de Minas travam disputa sobre depósitos judiciais\" https://t.co/CnMu2A2Qo5                                                    \n",
       "9     \"com vcs bh fica pequena!\" Belo Horizonte (pron. [bɛloɾiˈzõntʃi][10]) é a capital do estado de MG, com uma área de aproximadamente 331 km²  \n",
       "10    \"Daí a gente visita governador valadares\"\\n\"Que lugar eh esse mãe?\"\\n\"MG, a gente tem uns parente la\"\\n\\nMANO onde q eu NÃO tenho parente   \n",
       "11    \"É bonita e é bonita...\" \\n#latergram #ibituruna #home @ Governador Valadares, Minas Gerais https://t.co/y12TtNqpnH                         \n",
       "12    \"erro desconhecido\" é mato! Aliás, é da secretaria estadual de fazenda que tá assim... MG não precisa de dinheiro não, Governador?          \n",
       "13    \"La La Land: Cantando Estações\" arrasa no Globo de Ouro - Estado de Minas https://t.co/aQ0NG1bp5f https://t.co/aY3qlrVnTE                   \n",
       "14    \"La La Land: Cantando Estações\" arrasa no Globo de Ouro - Estado de Minas https://t.co/qRI9DCiicc                                           \n",
       "15    \"Los abusos, aun en el estado más sólido, son minas sordas que tarde o temprano estallan\" Joseph Sanial-Dubay                               \n",
       "16    \"Mesmo sem muito dinheiro no caixa o governo de Minas Gerais compra 2 (DOIS) helicópteros.\" Dois... Helicópteros... Minas Gerais... #2017 s1\n",
       "17    \"Modelo de segurança será o nosso legado\", diz Cláudio Beato - Politica - Estado de Minas https://t.co/1MqOJo7Nnf                           \n",
       "18    \"Modelo de segurança será o nosso legado\", diz Cláudio Beato - Politica - Estado de Minas https://t.co/kA09mEn4xN                           \n",
       "19    \"Modelo de segurança será o nosso legado\", diz Cláudio Beato - Politica - Estado de Minas https://t.co/S97Khxldiu                           \n",
       "20    \"O governo de Minas Gerais não comentou o assunto. \"\\n\\nhttps://t.co/SNYMRfQ737                                                             \n",
       "21    \"O governo federal publicou no dia 27 de dezembro de 2016, a Medida Provisória 764/16 que permite a diferenciação... https://t.co/0DlDpZ9WGz\n",
       "22    \"Polícia Federal acaba de divulgar que encontrou provas no apartamento do Lula, mas só até a 4ª série.\" Jornal Estado de Minas              \n",
       "23    \"Praia da Estação\" lota neste sábado de verão em BH - Gerais - Estado de Minas https://t.co/DpG3CNfZBb                                      \n",
       "24    \"Representando mais uma ferramenta de monitoramento da educação da rede estadual em Minas, a Secretaria de Estado... https://t.co/brsfBqHXlQ\n",
       "25    \"uso de aeronave pertencente ao  Estado de MG, em domingo, p/ fins pessoais,  em claro desvio de finalidade\" - https://t.co/WEfv5iLyju      \n",
       "26    \"vou postar umas curiosidades sobre o corpo humano\"\\n\\n*o Japão é menor que o estado de minas gerais* ????¿¿¿.?¿                            \n",
       "27    #ACORDAMINAS!!!\\n\\nO governador Fernando Pimentel, depois de ser flagrado usando um helicóptero do Estado de MG... https://t.co/bedW4w4jij  \n",
       "28    #ACORDAMINAS!!!!\\n\\nO povo mineiro tem que da um pé na bunda  desse  canalha... https://t.co/ZKZNVmyXbg                                     \n",
       "29    #Alerta - Nome da CEEE é utilizado em golpe no Estado. https://t.co/i5ndsWhXR4 https://t.co/yaEM6s3Z2f                                      \n",
       "                                                       ...                                                                                        \n",
       "70    #i5gornascimento @i5gornascimento @cristiano UFJF abre 62 vagas para cursos em Governador Valadares https://t.co/NnA9YFp4BP                 \n",
       "71    #i5gornascimento @i5gornascimento g1 Corpo em estado de decomposição é encontrado em Poços de Caldas, MG https://t.co/ndVVD6kdly            \n",
       "72    #i5gornascimento @i5gornascimento g1 Prefeito de Aimorés decreta estado de emergência administrativa https://t.co/0Jh7ARbSnk                \n",
       "73    #i5gornascimento @i5gornascimento g1 Vereadores de Governador Valadares não terão 13º salário em 2017 https://t.co/9dJnmDxEAI               \n",
       "74    #i5gornascimento @i5gornascimento Governador Valadares registra dois assassinatos em menos de uma hora https://t.co/ZcuZugp8dq              \n",
       "75    #i5gornascimento @i5gornascimento UFJF abre 62 vagas para cursos em Governador Valadares https://t.co/FYeEFvieCy                            \n",
       "76    #ImpeachmentPimentel #PTNuncaMais \\nMesmo em calamidade financeira, governo de MG compra mais dois helicópteros https://t.co/rcLSmbvdoH     \n",
       "77    #ImpeachmentPimentel #PTNuncaMais #ForaPT #ForaPCdoB #ForaPSOL #ForaRede \\nhttps://t.co/0RRGhWdmdB                                          \n",
       "78    #Janeiro, #PartiuFerias, GOVERNADOR VALADARES/MG, Pousada Vale Silvestre EcoPark, Comprar: https://t.co/rNRqRFbUeM… https://t.co/2UyZ6Ojdp7 \n",
       "79    #Janeiro, #PartiuFerias, GOVERNADOR VALADARES/MG, Pousada Vale Silvestre EcoPark, Comprar: https://t.co/rNRqRFbUeM… https://t.co/qw78x6qm7k \n",
       "80    #jornaldacultura\\nPor Favor comentem a compra de dois helicópteros pelo governo de Minas Gerais e o uso do Helicópteros por Pimentel        \n",
       "81    #METADEdoBRASILpertenceaosPOLÍTICOSaoutraédosBANCOSeEMPRESÁRIOS  Politica - Estado de Minas https://t.co/usvOMucmuq                         \n",
       "82    #Microsoft  #lumia galera hj descobrir que aqui n estado do rio de janeiro n tem autorizada .(S.PAULO E MINAS ) NAO COMPREI WINDOWS PHONE   \n",
       "83    #Mídia:  Press Release from Business Wire : Consumer Technology ... - Estado de Minas https://t.co/FGoxtwksdM                               \n",
       "84    #Mídia:  Press Release from Business Wire : Digital Living Network Alliance - Estado de Minas https://t.co/wj7wMchv8S                       \n",
       "85    #Mídia:  Press Release from Business Wire : IBC - Estado de Minas https://t.co/Uy5QuJo8wx                                                   \n",
       "86    #MINAS Postos dos Sine oferecem mais de 1.500 vagas de emprego no estado https://t.co/ZTrZ8MGrRp #Trabalho #Emprego #MG #Oportunidades      \n",
       "87    #Minas vai dobrar oferta de trabalho e estudo nos #presídios do Estado\\nhttps://t.co/CC6gpVFTCX                                             \n",
       "88    #Minas vai dobrar oferta de trabalho e estudo nos #presídios do Estado\\nhttps://t.co/UxfPtAKxte                                             \n",
       "89    #Mortalidade por câncer cai 25% em 25 anos nos Estados Unidos - Estado de Minas https://t.co/fsZg1D8WCL                                     \n",
       "90    #musicagratis Fundação Hospitalar do Estado de Minas Gerais (FHEMIG): A Fundação Hospitalar…… https://t.co/JXxZCenikX                       \n",
       "91    #musicagratis Ministério Público de Minas Gerais (Araxá): O Ministério Público do Estado de…… https://t.co/4WqHRHwxOg                       \n",
       "92    #musicagratis Prefeitura de Rodeiro: A Prefeitura de Rodeiro, no Estado de Minas Gerais,… https://t.co/kdGlkcQKcG… https://t.co/NyF4ZQiZqm  \n",
       "93    #noticiasdorenan Em calamidade financeira, governo de MG compra dois helicópteros: O… https://t.co/oW6G9hElta                               \n",
       "94    #noticiasdorenan Governo de Minas Gerais reconhece Folias de Reis como Patrimônio Imaterial… https://t.co/AL18Rr45X3                        \n",
       "95    #noticiasdorenan Uso de depósitos judiciais pelo governo tem nova polêmica em MG: O Banco… https://t.co/kHuZpKQaj5                          \n",
       "96    #OperacaoBetaLab #TimBeta #Beta #BetaLab #BetaAjudaBeta #BetaSegueBeta UOL: Desastre ambiental em MG: Empresas ped… https://t.co/kwyeKjhtcI \n",
       "97    #OperacaoBetaLab #TimBeta #Beta #BetaLab #BetaAjudaBeta #BetaSegueBeta UOL: Governo em calamidade financeira: BB a… https://t.co/1rWaHUACqt \n",
       "98    #OperacaoBetaLab #TimBeta #Beta #BetaLab #BetaAjudaBeta #BetaSegueBeta UOL: Polêmica com filho de Pimentel: Govern… https://t.co/E1EhSA9Ti3 \n",
       "99    #operacaobetalab BB avisa Justiça que governo de MG não tem recursos em conta judicial https://t.co/W6AoFMMsvA #rt #sdv                     \n",
       "Name: Text, Length: 100, dtype: object"
      ]
     },
     "execution_count": 5,
     "metadata": {},
     "output_type": "execute_result"
    }
   ],
   "source": [
    "# Expante o tamanho de exibição de coluna de texto\n",
    "pd.set_option('display.max_colwidth', -1)\n",
    "dataset.Text.head(100)"
   ]
  },
  {
   "cell_type": "markdown",
   "metadata": {},
   "source": [
    "**Excluir Linhas duplicadas**"
   ]
  },
  {
   "cell_type": "code",
   "execution_count": null,
   "metadata": {},
   "outputs": [],
   "source": [
    "dataset.drop_duplicates(['Text'],inplace=True)"
   ]
  },
  {
   "cell_type": "code",
   "execution_count": null,
   "metadata": {},
   "outputs": [],
   "source": [
    "dataset.count()"
   ]
  },
  {
   "cell_type": "markdown",
   "metadata": {},
   "source": [
    "**Removendo Colunas desnecessárias**"
   ]
  },
  {
   "cell_type": "code",
   "execution_count": 8,
   "metadata": {},
   "outputs": [
    {
     "name": "stdout",
     "output_type": "stream",
     "text": [
      "Colunas Deletadas: Unnamed: 0\n",
      "Colunas Deletadas: Unnamed: 10\n",
      "Colunas Deletadas: Unnamed: 11\n",
      "Colunas Deletadas: Unnamed: 12\n",
      "Colunas Deletadas: Unnamed: 13\n",
      "Colunas Deletadas: Unnamed: 14\n",
      "Colunas Deletadas: Unnamed: 15\n",
      "Colunas Deletadas: Unnamed: 16\n",
      "Colunas Deletadas: Unnamed: 17\n",
      "Colunas Deletadas: Unnamed: 18\n",
      "Colunas Deletadas: Unnamed: 19\n",
      "Colunas Deletadas: Unnamed: 20\n",
      "Colunas Deletadas: Unnamed: 21\n",
      "Colunas Deletadas: Unnamed: 22\n",
      "Colunas Deletadas: Unnamed: 23\n",
      "Colunas Deletadas: Unnamed: 24\n"
     ]
    }
   ],
   "source": [
    "for i in dataset.columns.values:\n",
    "    if i.startswith('Unnamed'):\n",
    "        dataset.drop(i, axis=1, inplace=True)\n",
    "        print ('Colunas Deletadas:', i)"
   ]
  },
  {
   "cell_type": "code",
   "execution_count": 9,
   "metadata": {},
   "outputs": [
    {
     "data": {
      "text/plain": [
       "Index(['Created At', 'Text', 'Geo Coordinates.latitude',\n",
       "       'Geo Coordinates.longitude', 'User Location', 'Username',\n",
       "       'User Screen Name', 'Retweet Count', 'Classificacao', 'Observação'],\n",
       "      dtype='object')"
      ]
     },
     "execution_count": 9,
     "metadata": {},
     "output_type": "execute_result"
    }
   ],
   "source": [
    "# Visualizando as colunas do dataset\n",
    "dataset.columns"
   ]
  },
  {
   "cell_type": "markdown",
   "metadata": {},
   "source": [
    "**Distribuição das classes neutros, positivos e negativos**"
   ]
  },
  {
   "cell_type": "code",
   "execution_count": null,
   "metadata": {},
   "outputs": [],
   "source": [
    "%matplotlib inline\n",
    "dataset.Classificacao.value_counts().plot(kind='bar')"
   ]
  },
  {
   "cell_type": "markdown",
   "metadata": {},
   "source": [
    "** Separando tweets e suas classes\n",
    "**"
   ]
  },
  {
   "cell_type": "code",
   "execution_count": null,
   "metadata": {},
   "outputs": [],
   "source": [
    "tweets = dataset['Text']\n",
    "classes = dataset['Classificacao']"
   ]
  },
  {
   "cell_type": "markdown",
   "metadata": {
    "collapsed": true
   },
   "source": [
    "**Gerando o modelo**"
   ]
  },
  {
   "cell_type": "code",
   "execution_count": null,
   "metadata": {},
   "outputs": [],
   "source": [
    "vectorizer = CountVectorizer(analyzer=\"word\")\n",
    "freq_tweets = vectorizer.fit_transform(tweets)"
   ]
  },
  {
   "cell_type": "code",
   "execution_count": null,
   "metadata": {},
   "outputs": [],
   "source": [
    "type(freq_tweets)"
   ]
  },
  {
   "cell_type": "code",
   "execution_count": null,
   "metadata": {},
   "outputs": [],
   "source": [
    "freq_tweets.shape"
   ]
  },
  {
   "cell_type": "code",
   "execution_count": null,
   "metadata": {},
   "outputs": [],
   "source": [
    "freq_tweets.A"
   ]
  },
  {
   "cell_type": "markdown",
   "metadata": {},
   "source": [
    "**Cria um modelo usando Naive Bayes Multinomial**"
   ]
  },
  {
   "cell_type": "code",
   "execution_count": null,
   "metadata": {},
   "outputs": [],
   "source": [
    "modelo = MultinomialNB()\n",
    "modelo.fit(freq_tweets,classes)"
   ]
  },
  {
   "cell_type": "markdown",
   "metadata": {},
   "source": [
    "** Testando o modelo com algumas instâncias simples**"
   ]
  },
  {
   "cell_type": "code",
   "execution_count": null,
   "metadata": {},
   "outputs": [],
   "source": [
    "# defina instâncias de teste dentro de uma lista\n",
    "testes = ['Esse governo está no início, vamos ver o que vai dar',\n",
    "          'Estou muito feliz com o governo de Minas esse ano',\n",
    "          'O estado de Minas Gerais decretou calamidade financeira!!!',\n",
    "          'A segurança desse país está deixando a desejar',\n",
    "          'O governador de Minas é mais uma vez do PT']"
   ]
  },
  {
   "cell_type": "code",
   "execution_count": null,
   "metadata": {},
   "outputs": [],
   "source": [
    "# Transforma os dados de teste em vetores de palavras.\n",
    "freq_testes = vectorizer.transform(testes)"
   ]
  },
  {
   "cell_type": "code",
   "execution_count": null,
   "metadata": {},
   "outputs": [],
   "source": [
    "# Fazendo a classificação com o modelo treinado.\n",
    "for t, c in zip (testes,modelo.predict(freq_testes)):\n",
    "    print (t +\", \"+ c)"
   ]
  },
  {
   "cell_type": "code",
   "execution_count": null,
   "metadata": {},
   "outputs": [],
   "source": [
    "# Probabilidades de cada classe\n",
    "print (modelo.classes_)\n",
    "modelo.predict_proba(freq_testes).round(2)"
   ]
  },
  {
   "cell_type": "markdown",
   "metadata": {},
   "source": [
    "## Avaliação o modelo ##"
   ]
  },
  {
   "cell_type": "markdown",
   "metadata": {},
   "source": [
    "* Usaremos a técnica de Cross Validation para avaliação dos modelos.\n",
    "* Esta técnica será usada com 10 folds."
   ]
  },
  {
   "cell_type": "markdown",
   "metadata": {
    "collapsed": true
   },
   "source": [
    "**Fazendo o cross validation do modelo**"
   ]
  },
  {
   "cell_type": "code",
   "execution_count": null,
   "metadata": {},
   "outputs": [],
   "source": [
    "resultados = cross_val_predict(modelo, freq_tweets, classes, cv=10)"
   ]
  },
  {
   "cell_type": "markdown",
   "metadata": {},
   "source": [
    "**Matriz de confusão**"
   ]
  },
  {
   "cell_type": "code",
   "execution_count": null,
   "metadata": {
    "scrolled": false
   },
   "outputs": [],
   "source": [
    "print (pd.crosstab(classes, resultados, rownames=['Real'], colnames=['Predito'], margins=True))"
   ]
  },
  {
   "cell_type": "markdown",
   "metadata": {
    "collapsed": true
   },
   "source": [
    "** Métricas de validação do modelo**"
   ]
  },
  {
   "cell_type": "code",
   "execution_count": null,
   "metadata": {},
   "outputs": [],
   "source": [
    "sentimento=['Positivo','Negativo','Neutro']\n",
    "print (metrics.classification_report(classes,resultados,sentimento))"
   ]
  },
  {
   "cell_type": "markdown",
   "metadata": {},
   "source": [
    "## Tunning do Naive Bayes"
   ]
  },
  {
   "cell_type": "code",
   "execution_count": null,
   "metadata": {},
   "outputs": [],
   "source": [
    "from sklearn.model_selection import GridSearchCV"
   ]
  },
  {
   "cell_type": "markdown",
   "metadata": {},
   "source": [
    "** Defina uma lista de valores de Alpha**"
   ]
  },
  {
   "cell_type": "code",
   "execution_count": null,
   "metadata": {},
   "outputs": [],
   "source": [
    "lista_alpha = list(range(1,11))\n",
    "lista_alpha"
   ]
  },
  {
   "cell_type": "markdown",
   "metadata": {},
   "source": [
    "** Cria um dicionario com o nome do parametro e a lista de valores **"
   ]
  },
  {
   "cell_type": "code",
   "execution_count": null,
   "metadata": {},
   "outputs": [],
   "source": [
    "parametros_grid = dict(alpha=lista_alpha)"
   ]
  },
  {
   "cell_type": "markdown",
   "metadata": {},
   "source": [
    "**Instancia um modelo**"
   ]
  },
  {
   "cell_type": "code",
   "execution_count": null,
   "metadata": {},
   "outputs": [],
   "source": [
    "nvModelo = MultinomialNB()"
   ]
  },
  {
   "cell_type": "markdown",
   "metadata": {},
   "source": [
    "** Cria o objeto Grid**"
   ]
  },
  {
   "cell_type": "code",
   "execution_count": null,
   "metadata": {},
   "outputs": [],
   "source": [
    "grid = GridSearchCV(nvModelo, parametros_grid, cv=10, scoring='accuracy')"
   ]
  },
  {
   "cell_type": "markdown",
   "metadata": {},
   "source": [
    "**Roda o Grid**"
   ]
  },
  {
   "cell_type": "code",
   "execution_count": null,
   "metadata": {},
   "outputs": [],
   "source": [
    "freq_tweets = vectorizer.fit_transform(tweets)\n",
    "grid.fit(freq_tweets, classes)"
   ]
  },
  {
   "cell_type": "markdown",
   "metadata": {},
   "source": [
    "** Melhores Scores**"
   ]
  },
  {
   "cell_type": "code",
   "execution_count": null,
   "metadata": {},
   "outputs": [],
   "source": [
    "grid.grid_scores_"
   ]
  },
  {
   "cell_type": "markdown",
   "metadata": {},
   "source": [
    "** Melhores parâmetros**"
   ]
  },
  {
   "cell_type": "code",
   "execution_count": null,
   "metadata": {},
   "outputs": [],
   "source": [
    "grid.best_params_"
   ]
  },
  {
   "cell_type": "code",
   "execution_count": null,
   "metadata": {},
   "outputs": [],
   "source": [
    "grid.best_score_"
   ]
  },
  {
   "cell_type": "code",
   "execution_count": null,
   "metadata": {},
   "outputs": [],
   "source": [
    "vectorizer = CountVectorizer(analyzer=\"word\")\n",
    "freq_tweets = vectorizer.fit_transform(tweets)\n",
    "modelo = MultinomialNB(alpha=5)\n",
    "modelo.fit(freq_tweets,classes)"
   ]
  },
  {
   "cell_type": "code",
   "execution_count": null,
   "metadata": {},
   "outputs": [],
   "source": [
    "freq_testes = vectorizer.transform(testes)"
   ]
  },
  {
   "cell_type": "code",
   "execution_count": null,
   "metadata": {},
   "outputs": [],
   "source": [
    "# Fazendo a classificação com o modelo treinado.\n",
    "modelo.predict(freq_testes)"
   ]
  },
  {
   "cell_type": "code",
   "execution_count": null,
   "metadata": {},
   "outputs": [],
   "source": [
    "resultados = cross_val_predict(modelo, freq_tweets, classes, cv=10)"
   ]
  },
  {
   "cell_type": "code",
   "execution_count": null,
   "metadata": {},
   "outputs": [],
   "source": [
    "sentimento=['Positivo','Negativo','Neutro']\n",
    "print (metrics.classification_report(classes,resultados,sentimento))"
   ]
  },
  {
   "cell_type": "markdown",
   "metadata": {},
   "source": [
    "** Considerações Finais**"
   ]
  },
  {
   "cell_type": "markdown",
   "metadata": {},
   "source": [
    "* Considere aumentar a quantidade de dados de treino.\n",
    "\n",
    "* Pela sua simplicidade o Naive Bayes pode ser usado perfeitamente como um algoritmo de Baseline.\n",
    "\n",
    "* Considere alterar os parâmetros do algoritmo.\n",
    "\n",
    "* Em tarefas de classificação de textos considere utilizar outras modelagens como Bigrams por exemplo.\n",
    "\n",
    "* Em tarefas envolvendo textos outras técnicas como stemming ou remoção de stoptowords podem dar bons resultados.\n"
   ]
  }
 ],
 "metadata": {
  "kernelspec": {
   "display_name": "Python 3",
   "language": "python",
   "name": "python3"
  },
  "language_info": {
   "codemirror_mode": {
    "name": "ipython",
    "version": 3
   },
   "file_extension": ".py",
   "mimetype": "text/x-python",
   "name": "python",
   "nbconvert_exporter": "python",
   "pygments_lexer": "ipython3",
   "version": "3.6.4"
  }
 },
 "nbformat": 4,
 "nbformat_minor": 2
}
