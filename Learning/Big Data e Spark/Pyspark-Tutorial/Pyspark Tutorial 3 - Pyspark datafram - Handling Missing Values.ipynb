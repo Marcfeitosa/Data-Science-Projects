{
 "cells": [
  {
   "cell_type": "markdown",
   "id": "4b6ade15-a3b4-4a24-b095-81ab208d6bb9",
   "metadata": {},
   "source": [
    "# Pyspark Handling Missing Values\n",
    "\n",
    "- Dropping Columns\n",
    "- Dropping Rows\n",
    "- Various Parameter in Dropping functionalities\n",
    "- Handling Missing values by Mean, Median and Mode"
   ]
  },
  {
   "cell_type": "code",
   "execution_count": 1,
   "id": "aab475f4-b58a-4b6b-b6e9-3250cb52f2fa",
   "metadata": {},
   "outputs": [],
   "source": [
    "from pyspark.sql import SparkSession\n",
    "spark = SparkSession.builder.appName('Practice').getOrCreate()"
   ]
  },
  {
   "cell_type": "code",
   "execution_count": 4,
   "id": "d85fc9be-b636-41d6-bee3-f875898bf666",
   "metadata": {},
   "outputs": [
    {
     "data": {
      "text/plain": [
       "DataFrame[CPT Major Category: string, CPT Minor Category: string, Start Code: int, End Code: int]"
      ]
     },
     "execution_count": 4,
     "metadata": {},
     "output_type": "execute_result"
    }
   ],
   "source": [
    "spark.read.csv(r\"C:\\Users\\marcf\\OneDrive\\Documentos\\Ciencia-de-dados\\Master_Data_Analysis_with_Python_by_Ted_Petrou_20221019\\Jupyter Notebooks\\data\\cpt\\category.csv\", header=True,inferSchema=True)"
   ]
  },
  {
   "cell_type": "code",
   "execution_count": 5,
   "id": "6a27bcb2-25c0-467b-8660-f48a553a903c",
   "metadata": {},
   "outputs": [
    {
     "name": "stdout",
     "output_type": "stream",
     "text": [
      "+------------------+--------------------+----------+--------+\n",
      "|CPT Major Category|  CPT Minor Category|Start Code|End Code|\n",
      "+------------------+--------------------+----------+--------+\n",
      "|        Anesthesia|                head|       100|     222|\n",
      "|        Anesthesia|                neck|       300|     352|\n",
      "|        Anesthesia|              thorax|       400|     474|\n",
      "|        Anesthesia|       intrathoracic|       500|     580|\n",
      "|        Anesthesia| spineandspinal cord|       600|     670|\n",
      "|        Anesthesia|       upper abdomen|       700|     797|\n",
      "|        Anesthesia|       lower abdomen|       800|     882|\n",
      "|        Anesthesia|            perineum|       902|     952|\n",
      "|        Anesthesia|  pelvis(except hip)|      1112|    1190|\n",
      "|        Anesthesia|upper leg (except...|      1200|    1274|\n",
      "|        Anesthesia|knee and poplitea...|      1320|    1444|\n",
      "|        Anesthesia|lower leg (below ...|      1462|    1522|\n",
      "|        Anesthesia| shoulderandaxillary|      1610|    1682|\n",
      "|        Anesthesia| upper arm and elbow|      1710|    1782|\n",
      "|        Anesthesia|forearm, wrist an...|      1810|    1860|\n",
      "|        Anesthesia|radiological proc...|      1916|    1936|\n",
      "|        Anesthesia|burn excisions or...|      1951|    1953|\n",
      "|        Anesthesia|           obstetric|      1958|    1969|\n",
      "|        Anesthesia|    other procedures|      1990|    1999|\n",
      "|           Surgery|             general|     10000|   10022|\n",
      "+------------------+--------------------+----------+--------+\n",
      "only showing top 20 rows\n",
      "\n"
     ]
    }
   ],
   "source": [
    "df_pyspark = spark.read.csv(r\"C:\\Users\\marcf\\OneDrive\\Documentos\\Ciencia-de-dados\\Master_Data_Analysis_with_Python_by_Ted_Petrou_20221019\\Jupyter Notebooks\\data\\cpt\\category.csv\", header=True,inferSchema=True)\n",
    "df_pyspark.show()"
   ]
  },
  {
   "cell_type": "code",
   "execution_count": 6,
   "id": "51d1cccf-633d-47d9-bbe4-fc2caa3337be",
   "metadata": {},
   "outputs": [
    {
     "name": "stdout",
     "output_type": "stream",
     "text": [
      "+------------------+--------------------+----------+\n",
      "|CPT Major Category|  CPT Minor Category|Start Code|\n",
      "+------------------+--------------------+----------+\n",
      "|        Anesthesia|                head|       100|\n",
      "|        Anesthesia|                neck|       300|\n",
      "|        Anesthesia|              thorax|       400|\n",
      "|        Anesthesia|       intrathoracic|       500|\n",
      "|        Anesthesia| spineandspinal cord|       600|\n",
      "|        Anesthesia|       upper abdomen|       700|\n",
      "|        Anesthesia|       lower abdomen|       800|\n",
      "|        Anesthesia|            perineum|       902|\n",
      "|        Anesthesia|  pelvis(except hip)|      1112|\n",
      "|        Anesthesia|upper leg (except...|      1200|\n",
      "|        Anesthesia|knee and poplitea...|      1320|\n",
      "|        Anesthesia|lower leg (below ...|      1462|\n",
      "|        Anesthesia| shoulderandaxillary|      1610|\n",
      "|        Anesthesia| upper arm and elbow|      1710|\n",
      "|        Anesthesia|forearm, wrist an...|      1810|\n",
      "|        Anesthesia|radiological proc...|      1916|\n",
      "|        Anesthesia|burn excisions or...|      1951|\n",
      "|        Anesthesia|           obstetric|      1958|\n",
      "|        Anesthesia|    other procedures|      1990|\n",
      "|           Surgery|             general|     10000|\n",
      "+------------------+--------------------+----------+\n",
      "only showing top 20 rows\n",
      "\n"
     ]
    }
   ],
   "source": [
    "## Drop the columns\n",
    "df_pyspark.drop('End Code').show()"
   ]
  },
  {
   "cell_type": "code",
   "execution_count": 7,
   "id": "fe5f5da2-c717-47b0-a173-a6ca90e01042",
   "metadata": {},
   "outputs": [
    {
     "name": "stdout",
     "output_type": "stream",
     "text": [
      "+------------------+--------------------+----------+--------+\n",
      "|CPT Major Category|  CPT Minor Category|Start Code|End Code|\n",
      "+------------------+--------------------+----------+--------+\n",
      "|        Anesthesia|                head|       100|     222|\n",
      "|        Anesthesia|                neck|       300|     352|\n",
      "|        Anesthesia|              thorax|       400|     474|\n",
      "|        Anesthesia|       intrathoracic|       500|     580|\n",
      "|        Anesthesia| spineandspinal cord|       600|     670|\n",
      "|        Anesthesia|       upper abdomen|       700|     797|\n",
      "|        Anesthesia|       lower abdomen|       800|     882|\n",
      "|        Anesthesia|            perineum|       902|     952|\n",
      "|        Anesthesia|  pelvis(except hip)|      1112|    1190|\n",
      "|        Anesthesia|upper leg (except...|      1200|    1274|\n",
      "|        Anesthesia|knee and poplitea...|      1320|    1444|\n",
      "|        Anesthesia|lower leg (below ...|      1462|    1522|\n",
      "|        Anesthesia| shoulderandaxillary|      1610|    1682|\n",
      "|        Anesthesia| upper arm and elbow|      1710|    1782|\n",
      "|        Anesthesia|forearm, wrist an...|      1810|    1860|\n",
      "|        Anesthesia|radiological proc...|      1916|    1936|\n",
      "|        Anesthesia|burn excisions or...|      1951|    1953|\n",
      "|        Anesthesia|           obstetric|      1958|    1969|\n",
      "|        Anesthesia|    other procedures|      1990|    1999|\n",
      "|           Surgery|             general|     10000|   10022|\n",
      "+------------------+--------------------+----------+--------+\n",
      "only showing top 20 rows\n",
      "\n"
     ]
    }
   ],
   "source": [
    "df_pyspark.show()"
   ]
  },
  {
   "cell_type": "code",
   "execution_count": 8,
   "id": "a0839148-9760-4cc9-879e-74d4c988c7c5",
   "metadata": {},
   "outputs": [
    {
     "name": "stdout",
     "output_type": "stream",
     "text": [
      "+------------------+--------------------+----------+--------+\n",
      "|CPT Major Category|  CPT Minor Category|Start Code|End Code|\n",
      "+------------------+--------------------+----------+--------+\n",
      "|        Anesthesia|                head|       100|     222|\n",
      "|        Anesthesia|                neck|       300|     352|\n",
      "|        Anesthesia|              thorax|       400|     474|\n",
      "|        Anesthesia|       intrathoracic|       500|     580|\n",
      "|        Anesthesia| spineandspinal cord|       600|     670|\n",
      "|        Anesthesia|       upper abdomen|       700|     797|\n",
      "|        Anesthesia|       lower abdomen|       800|     882|\n",
      "|        Anesthesia|            perineum|       902|     952|\n",
      "|        Anesthesia|  pelvis(except hip)|      1112|    1190|\n",
      "|        Anesthesia|upper leg (except...|      1200|    1274|\n",
      "|        Anesthesia|knee and poplitea...|      1320|    1444|\n",
      "|        Anesthesia|lower leg (below ...|      1462|    1522|\n",
      "|        Anesthesia| shoulderandaxillary|      1610|    1682|\n",
      "|        Anesthesia| upper arm and elbow|      1710|    1782|\n",
      "|        Anesthesia|forearm, wrist an...|      1810|    1860|\n",
      "|        Anesthesia|radiological proc...|      1916|    1936|\n",
      "|        Anesthesia|burn excisions or...|      1951|    1953|\n",
      "|        Anesthesia|           obstetric|      1958|    1969|\n",
      "|        Anesthesia|    other procedures|      1990|    1999|\n",
      "|           Surgery|             general|     10000|   10022|\n",
      "+------------------+--------------------+----------+--------+\n",
      "only showing top 20 rows\n",
      "\n"
     ]
    }
   ],
   "source": [
    "df_pyspark.na.drop().show()"
   ]
  },
  {
   "cell_type": "code",
   "execution_count": 9,
   "id": "cacc620f-0aab-455b-aa2c-b61c77fef046",
   "metadata": {},
   "outputs": [
    {
     "name": "stdout",
     "output_type": "stream",
     "text": [
      "+------------------+--------------------+----------+--------+\n",
      "|CPT Major Category|  CPT Minor Category|Start Code|End Code|\n",
      "+------------------+--------------------+----------+--------+\n",
      "|        Anesthesia|                head|       100|     222|\n",
      "|        Anesthesia|                neck|       300|     352|\n",
      "|        Anesthesia|              thorax|       400|     474|\n",
      "|        Anesthesia|       intrathoracic|       500|     580|\n",
      "|        Anesthesia| spineandspinal cord|       600|     670|\n",
      "|        Anesthesia|       upper abdomen|       700|     797|\n",
      "|        Anesthesia|       lower abdomen|       800|     882|\n",
      "|        Anesthesia|            perineum|       902|     952|\n",
      "|        Anesthesia|  pelvis(except hip)|      1112|    1190|\n",
      "|        Anesthesia|upper leg (except...|      1200|    1274|\n",
      "|        Anesthesia|knee and poplitea...|      1320|    1444|\n",
      "|        Anesthesia|lower leg (below ...|      1462|    1522|\n",
      "|        Anesthesia| shoulderandaxillary|      1610|    1682|\n",
      "|        Anesthesia| upper arm and elbow|      1710|    1782|\n",
      "|        Anesthesia|forearm, wrist an...|      1810|    1860|\n",
      "|        Anesthesia|radiological proc...|      1916|    1936|\n",
      "|        Anesthesia|burn excisions or...|      1951|    1953|\n",
      "|        Anesthesia|           obstetric|      1958|    1969|\n",
      "|        Anesthesia|    other procedures|      1990|    1999|\n",
      "|           Surgery|             general|     10000|   10022|\n",
      "+------------------+--------------------+----------+--------+\n",
      "only showing top 20 rows\n",
      "\n"
     ]
    }
   ],
   "source": [
    "### Any == how\n",
    "df_pyspark.na.drop(how='all').show()"
   ]
  },
  {
   "cell_type": "code",
   "execution_count": 10,
   "id": "f0b4b85c-dcb9-4114-9689-244efcafc01a",
   "metadata": {},
   "outputs": [
    {
     "name": "stdout",
     "output_type": "stream",
     "text": [
      "+------------------+--------------------+----------+--------+\n",
      "|CPT Major Category|  CPT Minor Category|Start Code|End Code|\n",
      "+------------------+--------------------+----------+--------+\n",
      "|        Anesthesia|                head|       100|     222|\n",
      "|        Anesthesia|                neck|       300|     352|\n",
      "|        Anesthesia|              thorax|       400|     474|\n",
      "|        Anesthesia|       intrathoracic|       500|     580|\n",
      "|        Anesthesia| spineandspinal cord|       600|     670|\n",
      "|        Anesthesia|       upper abdomen|       700|     797|\n",
      "|        Anesthesia|       lower abdomen|       800|     882|\n",
      "|        Anesthesia|            perineum|       902|     952|\n",
      "|        Anesthesia|  pelvis(except hip)|      1112|    1190|\n",
      "|        Anesthesia|upper leg (except...|      1200|    1274|\n",
      "|        Anesthesia|knee and poplitea...|      1320|    1444|\n",
      "|        Anesthesia|lower leg (below ...|      1462|    1522|\n",
      "|        Anesthesia| shoulderandaxillary|      1610|    1682|\n",
      "|        Anesthesia| upper arm and elbow|      1710|    1782|\n",
      "|        Anesthesia|forearm, wrist an...|      1810|    1860|\n",
      "|        Anesthesia|radiological proc...|      1916|    1936|\n",
      "|        Anesthesia|burn excisions or...|      1951|    1953|\n",
      "|        Anesthesia|           obstetric|      1958|    1969|\n",
      "|        Anesthesia|    other procedures|      1990|    1999|\n",
      "|           Surgery|             general|     10000|   10022|\n",
      "+------------------+--------------------+----------+--------+\n",
      "only showing top 20 rows\n",
      "\n"
     ]
    }
   ],
   "source": [
    "### Any == how\n",
    "df_pyspark.na.drop(how='any').show()"
   ]
  },
  {
   "cell_type": "code",
   "execution_count": 11,
   "id": "81b2ca35-a018-42db-9bf5-e6f013f2e4b1",
   "metadata": {},
   "outputs": [
    {
     "name": "stdout",
     "output_type": "stream",
     "text": [
      "+------------------+--------------------+----------+--------+\n",
      "|CPT Major Category|  CPT Minor Category|Start Code|End Code|\n",
      "+------------------+--------------------+----------+--------+\n",
      "|        Anesthesia|                head|       100|     222|\n",
      "|        Anesthesia|                neck|       300|     352|\n",
      "|        Anesthesia|              thorax|       400|     474|\n",
      "|        Anesthesia|       intrathoracic|       500|     580|\n",
      "|        Anesthesia| spineandspinal cord|       600|     670|\n",
      "|        Anesthesia|       upper abdomen|       700|     797|\n",
      "|        Anesthesia|       lower abdomen|       800|     882|\n",
      "|        Anesthesia|            perineum|       902|     952|\n",
      "|        Anesthesia|  pelvis(except hip)|      1112|    1190|\n",
      "|        Anesthesia|upper leg (except...|      1200|    1274|\n",
      "|        Anesthesia|knee and poplitea...|      1320|    1444|\n",
      "|        Anesthesia|lower leg (below ...|      1462|    1522|\n",
      "|        Anesthesia| shoulderandaxillary|      1610|    1682|\n",
      "|        Anesthesia| upper arm and elbow|      1710|    1782|\n",
      "|        Anesthesia|forearm, wrist an...|      1810|    1860|\n",
      "|        Anesthesia|radiological proc...|      1916|    1936|\n",
      "|        Anesthesia|burn excisions or...|      1951|    1953|\n",
      "|        Anesthesia|           obstetric|      1958|    1969|\n",
      "|        Anesthesia|    other procedures|      1990|    1999|\n",
      "|           Surgery|             general|     10000|   10022|\n",
      "+------------------+--------------------+----------+--------+\n",
      "only showing top 20 rows\n",
      "\n"
     ]
    }
   ],
   "source": [
    "### Threshold\n",
    "df_pyspark.na.drop(how='any', thresh=2).show()"
   ]
  },
  {
   "cell_type": "code",
   "execution_count": 12,
   "id": "c9a1c6b5-9e97-4f8e-8c29-4c7fc0efa242",
   "metadata": {},
   "outputs": [
    {
     "name": "stdout",
     "output_type": "stream",
     "text": [
      "+------------------+--------------------+----------+--------+\n",
      "|CPT Major Category|  CPT Minor Category|Start Code|End Code|\n",
      "+------------------+--------------------+----------+--------+\n",
      "|        Anesthesia|                head|       100|     222|\n",
      "|        Anesthesia|                neck|       300|     352|\n",
      "|        Anesthesia|              thorax|       400|     474|\n",
      "|        Anesthesia|       intrathoracic|       500|     580|\n",
      "|        Anesthesia| spineandspinal cord|       600|     670|\n",
      "|        Anesthesia|       upper abdomen|       700|     797|\n",
      "|        Anesthesia|       lower abdomen|       800|     882|\n",
      "|        Anesthesia|            perineum|       902|     952|\n",
      "|        Anesthesia|  pelvis(except hip)|      1112|    1190|\n",
      "|        Anesthesia|upper leg (except...|      1200|    1274|\n",
      "|        Anesthesia|knee and poplitea...|      1320|    1444|\n",
      "|        Anesthesia|lower leg (below ...|      1462|    1522|\n",
      "|        Anesthesia| shoulderandaxillary|      1610|    1682|\n",
      "|        Anesthesia| upper arm and elbow|      1710|    1782|\n",
      "|        Anesthesia|forearm, wrist an...|      1810|    1860|\n",
      "|        Anesthesia|radiological proc...|      1916|    1936|\n",
      "|        Anesthesia|burn excisions or...|      1951|    1953|\n",
      "|        Anesthesia|           obstetric|      1958|    1969|\n",
      "|        Anesthesia|    other procedures|      1990|    1999|\n",
      "|           Surgery|             general|     10000|   10022|\n",
      "+------------------+--------------------+----------+--------+\n",
      "only showing top 20 rows\n",
      "\n"
     ]
    }
   ],
   "source": [
    "### Subset\n",
    "df_pyspark.na.drop(how='any', subset=['CPT Major Category']).show()"
   ]
  },
  {
   "cell_type": "code",
   "execution_count": 15,
   "id": "f7e3fa2d-1f09-4117-ad83-34a2c190fd4d",
   "metadata": {},
   "outputs": [
    {
     "name": "stdout",
     "output_type": "stream",
     "text": [
      "+------------------+--------------------+----------+--------+\n",
      "|CPT Major Category|  CPT Minor Category|Start Code|End Code|\n",
      "+------------------+--------------------+----------+--------+\n",
      "|        Anesthesia|                head|       100|     222|\n",
      "|        Anesthesia|                neck|       300|     352|\n",
      "|        Anesthesia|              thorax|       400|     474|\n",
      "|        Anesthesia|       intrathoracic|       500|     580|\n",
      "|        Anesthesia| spineandspinal cord|       600|     670|\n",
      "|        Anesthesia|       upper abdomen|       700|     797|\n",
      "|        Anesthesia|       lower abdomen|       800|     882|\n",
      "|        Anesthesia|            perineum|       902|     952|\n",
      "|        Anesthesia|  pelvis(except hip)|      1112|    1190|\n",
      "|        Anesthesia|upper leg (except...|      1200|    1274|\n",
      "|        Anesthesia|knee and poplitea...|      1320|    1444|\n",
      "|        Anesthesia|lower leg (below ...|      1462|    1522|\n",
      "|        Anesthesia| shoulderandaxillary|      1610|    1682|\n",
      "|        Anesthesia| upper arm and elbow|      1710|    1782|\n",
      "|        Anesthesia|forearm, wrist an...|      1810|    1860|\n",
      "|        Anesthesia|radiological proc...|      1916|    1936|\n",
      "|        Anesthesia|burn excisions or...|      1951|    1953|\n",
      "|        Anesthesia|           obstetric|      1958|    1969|\n",
      "|        Anesthesia|    other procedures|      1990|    1999|\n",
      "|           Surgery|             general|     10000|   10022|\n",
      "+------------------+--------------------+----------+--------+\n",
      "only showing top 20 rows\n",
      "\n"
     ]
    }
   ],
   "source": [
    "### Filling the Missing Value\n",
    "df_pyspark.na.fill('Missing Values', ['Start Code', \"CPT Major Category\"]).show()"
   ]
  },
  {
   "cell_type": "code",
   "execution_count": 16,
   "id": "68abed30-82c7-4d00-b43a-1d8e3a4f9929",
   "metadata": {},
   "outputs": [
    {
     "name": "stdout",
     "output_type": "stream",
     "text": [
      "+------------------+--------------------+----------+--------+\n",
      "|CPT Major Category|  CPT Minor Category|Start Code|End Code|\n",
      "+------------------+--------------------+----------+--------+\n",
      "|        Anesthesia|                head|       100|     222|\n",
      "|        Anesthesia|                neck|       300|     352|\n",
      "|        Anesthesia|              thorax|       400|     474|\n",
      "|        Anesthesia|       intrathoracic|       500|     580|\n",
      "|        Anesthesia| spineandspinal cord|       600|     670|\n",
      "|        Anesthesia|       upper abdomen|       700|     797|\n",
      "|        Anesthesia|       lower abdomen|       800|     882|\n",
      "|        Anesthesia|            perineum|       902|     952|\n",
      "|        Anesthesia|  pelvis(except hip)|      1112|    1190|\n",
      "|        Anesthesia|upper leg (except...|      1200|    1274|\n",
      "|        Anesthesia|knee and poplitea...|      1320|    1444|\n",
      "|        Anesthesia|lower leg (below ...|      1462|    1522|\n",
      "|        Anesthesia| shoulderandaxillary|      1610|    1682|\n",
      "|        Anesthesia| upper arm and elbow|      1710|    1782|\n",
      "|        Anesthesia|forearm, wrist an...|      1810|    1860|\n",
      "|        Anesthesia|radiological proc...|      1916|    1936|\n",
      "|        Anesthesia|burn excisions or...|      1951|    1953|\n",
      "|        Anesthesia|           obstetric|      1958|    1969|\n",
      "|        Anesthesia|    other procedures|      1990|    1999|\n",
      "|           Surgery|             general|     10000|   10022|\n",
      "+------------------+--------------------+----------+--------+\n",
      "only showing top 20 rows\n",
      "\n"
     ]
    }
   ],
   "source": [
    "df_pyspark.show()"
   ]
  },
  {
   "cell_type": "code",
   "execution_count": 19,
   "id": "176f3bc5-615b-4924-8d1d-6247dfd4fe36",
   "metadata": {},
   "outputs": [],
   "source": [
    "from pyspark.ml.feature import Imputer\n",
    "\n",
    "imputer = Imputer(inputCols = ['Start Code', 'End Code'],\n",
    "                  outputCols = [\"{}_imputed\".format(c) for c in ['Start Code', 'End Code']]).setStrategy('mean')"
   ]
  },
  {
   "cell_type": "code",
   "execution_count": 20,
   "id": "5d9e91a5-d66a-4ea4-9907-7ddf066ee0ff",
   "metadata": {},
   "outputs": [
    {
     "name": "stdout",
     "output_type": "stream",
     "text": [
      "+------------------+--------------------+----------+--------+------------------+----------------+\n",
      "|CPT Major Category|  CPT Minor Category|Start Code|End Code|Start Code_imputed|End Code_imputed|\n",
      "+------------------+--------------------+----------+--------+------------------+----------------+\n",
      "|        Anesthesia|                head|       100|     222|               100|             222|\n",
      "|        Anesthesia|                neck|       300|     352|               300|             352|\n",
      "|        Anesthesia|              thorax|       400|     474|               400|             474|\n",
      "|        Anesthesia|       intrathoracic|       500|     580|               500|             580|\n",
      "|        Anesthesia| spineandspinal cord|       600|     670|               600|             670|\n",
      "|        Anesthesia|       upper abdomen|       700|     797|               700|             797|\n",
      "|        Anesthesia|       lower abdomen|       800|     882|               800|             882|\n",
      "|        Anesthesia|            perineum|       902|     952|               902|             952|\n",
      "|        Anesthesia|  pelvis(except hip)|      1112|    1190|              1112|            1190|\n",
      "|        Anesthesia|upper leg (except...|      1200|    1274|              1200|            1274|\n",
      "|        Anesthesia|knee and poplitea...|      1320|    1444|              1320|            1444|\n",
      "|        Anesthesia|lower leg (below ...|      1462|    1522|              1462|            1522|\n",
      "|        Anesthesia| shoulderandaxillary|      1610|    1682|              1610|            1682|\n",
      "|        Anesthesia| upper arm and elbow|      1710|    1782|              1710|            1782|\n",
      "|        Anesthesia|forearm, wrist an...|      1810|    1860|              1810|            1860|\n",
      "|        Anesthesia|radiological proc...|      1916|    1936|              1916|            1936|\n",
      "|        Anesthesia|burn excisions or...|      1951|    1953|              1951|            1953|\n",
      "|        Anesthesia|           obstetric|      1958|    1969|              1958|            1969|\n",
      "|        Anesthesia|    other procedures|      1990|    1999|              1990|            1999|\n",
      "|           Surgery|             general|     10000|   10022|             10000|           10022|\n",
      "+------------------+--------------------+----------+--------+------------------+----------------+\n",
      "only showing top 20 rows\n",
      "\n"
     ]
    }
   ],
   "source": [
    "## Add imputation cols do df\n",
    "imputer.fit(df_pyspark).transform(df_pyspark).show()"
   ]
  },
  {
   "cell_type": "code",
   "execution_count": null,
   "id": "fd33810b-8e98-49c7-8700-8a5a7c568270",
   "metadata": {},
   "outputs": [],
   "source": []
  }
 ],
 "metadata": {
  "kernelspec": {
   "display_name": "Python 3 (ipykernel)",
   "language": "python",
   "name": "python3"
  },
  "language_info": {
   "codemirror_mode": {
    "name": "ipython",
    "version": 3
   },
   "file_extension": ".py",
   "mimetype": "text/x-python",
   "name": "python",
   "nbconvert_exporter": "python",
   "pygments_lexer": "ipython3",
   "version": "3.8.8"
  }
 },
 "nbformat": 4,
 "nbformat_minor": 5
}
