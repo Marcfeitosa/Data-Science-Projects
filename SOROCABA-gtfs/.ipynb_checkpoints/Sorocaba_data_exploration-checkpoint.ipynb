{
 "cells": [
  {
   "cell_type": "markdown",
   "id": "1fc0fe34-b524-477d-ab1d-ed0b988390de",
   "metadata": {},
   "source": [
    "# Importando as bibliotecas necessárias e os Data Frames"
   ]
  },
  {
   "cell_type": "code",
   "execution_count": 85,
   "id": "ede441c8-9f58-4b2d-a323-f00025278ba6",
   "metadata": {},
   "outputs": [
    {
     "name": "stdout",
     "output_type": "stream",
     "text": [
      "Import Complete!!\n"
     ]
    }
   ],
   "source": [
    "import polars as pl\n",
    "import pandas as pd\n",
    "import folium\n",
    "import ipywidgets as widgets\n",
    "from ipywidgets import interact\n",
    "import altair as alt\n",
    "#from sklearn.model_selection import train_test_split\n",
    "#from sklearn.linear_model import LinearRegression\n",
    "#from sklearn.metrics import mean_squared_error\n",
    "#from sklearn.preprocessing import StandardScaler\n",
    "#from sklearn.pipeline import make_pipeline\n",
    "#from sklearn.preprocessing import LabelEncoder\n",
    "#from sklearn.impute import SimpleImputer\n",
    "#import xgboost as xgb\n",
    "import matplotlib.pyplot as plt\n",
    "import seaborn as sns\n",
    "import matplotlib.dates as mdates\n",
    "from datetime import datetime, time\n",
    "import numpy as np\n",
    "from pandas_profiling import ProfileReport\n",
    "from IPython.display import display\n",
    "import plotly.graph_objs as go\n",
    "import dash\n",
    "import dash_core_components as dcc\n",
    "import dash_html_components as html\n",
    "from dash.dependencies import Input, Output\n",
    "from ydata_profiling import ProfileReport\n",
    "from dash import dcc, html\n",
    "#import ydataprocessing as dp\n",
    "import pandas_profiling\n",
    "\n",
    "\n",
    "# Para carregar o dado direto no pandas - Loading the dataset directly to pandas\n",
    "fare_attributes = pd.read_csv(r\"C:\\Users\\marcf\\OneDrive\\Documentos\\Ciencia-de-dados\\SOROCABA-gtfs\\fare_attributes.txt\")\n",
    "fare_rules = pd.read_csv(r\"C:\\Users\\marcf\\OneDrive\\Documentos\\Ciencia-de-dados\\SOROCABA-gtfs\\fare_rules.txt\")\n",
    "routes = pd.read_csv(r\"C:\\Users\\marcf\\OneDrive\\Documentos\\Ciencia-de-dados\\SOROCABA-gtfs\\routes.txt\")\n",
    "shapes = pd.read_csv(r\"C:\\Users\\marcf\\OneDrive\\Documentos\\Ciencia-de-dados\\SOROCABA-gtfs\\shapes.txt\")\n",
    "stop_times = pd.read_csv(r\"C:\\Users\\marcf\\OneDrive\\Documentos\\Ciencia-de-dados\\SOROCABA-gtfs\\stop_times.txt\")\n",
    "stops = pd.read_csv(r\"C:\\Users\\marcf\\OneDrive\\Documentos\\Ciencia-de-dados\\SOROCABA-gtfs\\stops.txt\")\n",
    "trips = pd.read_csv(r\"C:\\Users\\marcf\\OneDrive\\Documentos\\Ciencia-de-dados\\SOROCABA-gtfs\\trips.txt\")\n",
    "calendar_dates = pd.read_csv(r\"C:\\Users\\marcf\\OneDrive\\Documentos\\Ciencia-de-dados\\SOROCABA-gtfs\\calendar_dates.txt\")\n",
    "\n",
    "#Clear Bootstrap Logs\n",
    "from IPython.display import clear_output \n",
    "#clear_output()\n",
    "\n",
    "print(\"Import Complete!!\")"
   ]
  },
  {
   "cell_type": "markdown",
   "id": "e2133ccd-83a0-489a-9ff9-20b0b3267279",
   "metadata": {},
   "source": [
    "# Explorando os Data Frames"
   ]
  },
  {
   "cell_type": "markdown",
   "id": "e53a76ea-abd4-40f7-869d-a4fac2814b31",
   "metadata": {},
   "source": [
    "## Explorando o Data Frame 'fare_attributes'"
   ]
  },
  {
   "cell_type": "code",
   "execution_count": 86,
   "id": "e6860ffb-1de5-491c-840e-cf2e542c4a0f",
   "metadata": {},
   "outputs": [
    {
     "name": "stdout",
     "output_type": "stream",
     "text": [
      "O Data Frame tem 8 linhas e 7 colunas.\n"
     ]
    }
   ],
   "source": [
    "print(f'O Data Frame tem {fare_attributes.shape[0]} linhas e {fare_attributes.shape[1]} colunas.')"
   ]
  },
  {
   "cell_type": "code",
   "execution_count": 87,
   "id": "2bae5e79-49ae-4afd-9f11-57873e05d4d5",
   "metadata": {},
   "outputs": [
    {
     "data": {
      "text/html": [
       "<div>\n",
       "<style scoped>\n",
       "    .dataframe tbody tr th:only-of-type {\n",
       "        vertical-align: middle;\n",
       "    }\n",
       "\n",
       "    .dataframe tbody tr th {\n",
       "        vertical-align: top;\n",
       "    }\n",
       "\n",
       "    .dataframe thead th {\n",
       "        text-align: right;\n",
       "    }\n",
       "</style>\n",
       "<table border=\"1\" class=\"dataframe\">\n",
       "  <thead>\n",
       "    <tr style=\"text-align: right;\">\n",
       "      <th></th>\n",
       "      <th>fare_id</th>\n",
       "      <th>price</th>\n",
       "      <th>currency_type</th>\n",
       "      <th>payment_method</th>\n",
       "      <th>transfers</th>\n",
       "      <th>agency_id</th>\n",
       "      <th>transfer_duration</th>\n",
       "    </tr>\n",
       "  </thead>\n",
       "  <tbody>\n",
       "    <tr>\n",
       "      <th>0</th>\n",
       "      <td>21390</td>\n",
       "      <td>4.90</td>\n",
       "      <td>BRL</td>\n",
       "      <td>0</td>\n",
       "      <td>0</td>\n",
       "      <td>1049</td>\n",
       "      <td>NaN</td>\n",
       "    </tr>\n",
       "    <tr>\n",
       "      <th>1</th>\n",
       "      <td>21395</td>\n",
       "      <td>5.25</td>\n",
       "      <td>BRL</td>\n",
       "      <td>0</td>\n",
       "      <td>0</td>\n",
       "      <td>1049</td>\n",
       "      <td>NaN</td>\n",
       "    </tr>\n",
       "    <tr>\n",
       "      <th>2</th>\n",
       "      <td>21398</td>\n",
       "      <td>6.00</td>\n",
       "      <td>BRL</td>\n",
       "      <td>0</td>\n",
       "      <td>0</td>\n",
       "      <td>1049</td>\n",
       "      <td>NaN</td>\n",
       "    </tr>\n",
       "    <tr>\n",
       "      <th>3</th>\n",
       "      <td>21412</td>\n",
       "      <td>5.40</td>\n",
       "      <td>BRL</td>\n",
       "      <td>0</td>\n",
       "      <td>0</td>\n",
       "      <td>1049</td>\n",
       "      <td>NaN</td>\n",
       "    </tr>\n",
       "    <tr>\n",
       "      <th>4</th>\n",
       "      <td>21394</td>\n",
       "      <td>5.50</td>\n",
       "      <td>BRL</td>\n",
       "      <td>0</td>\n",
       "      <td>0</td>\n",
       "      <td>1049</td>\n",
       "      <td>NaN</td>\n",
       "    </tr>\n",
       "    <tr>\n",
       "      <th>5</th>\n",
       "      <td>21399</td>\n",
       "      <td>6.15</td>\n",
       "      <td>BRL</td>\n",
       "      <td>0</td>\n",
       "      <td>0</td>\n",
       "      <td>1049</td>\n",
       "      <td>NaN</td>\n",
       "    </tr>\n",
       "    <tr>\n",
       "      <th>6</th>\n",
       "      <td>21407</td>\n",
       "      <td>5.35</td>\n",
       "      <td>BRL</td>\n",
       "      <td>0</td>\n",
       "      <td>0</td>\n",
       "      <td>1049</td>\n",
       "      <td>NaN</td>\n",
       "    </tr>\n",
       "    <tr>\n",
       "      <th>7</th>\n",
       "      <td>21426</td>\n",
       "      <td>5.15</td>\n",
       "      <td>BRL</td>\n",
       "      <td>0</td>\n",
       "      <td>0</td>\n",
       "      <td>1049</td>\n",
       "      <td>NaN</td>\n",
       "    </tr>\n",
       "  </tbody>\n",
       "</table>\n",
       "</div>"
      ],
      "text/plain": [
       "   fare_id  price currency_type  payment_method  transfers  agency_id  \\\n",
       "0    21390   4.90           BRL               0          0       1049   \n",
       "1    21395   5.25           BRL               0          0       1049   \n",
       "2    21398   6.00           BRL               0          0       1049   \n",
       "3    21412   5.40           BRL               0          0       1049   \n",
       "4    21394   5.50           BRL               0          0       1049   \n",
       "5    21399   6.15           BRL               0          0       1049   \n",
       "6    21407   5.35           BRL               0          0       1049   \n",
       "7    21426   5.15           BRL               0          0       1049   \n",
       "\n",
       "   transfer_duration  \n",
       "0                NaN  \n",
       "1                NaN  \n",
       "2                NaN  \n",
       "3                NaN  \n",
       "4                NaN  \n",
       "5                NaN  \n",
       "6                NaN  \n",
       "7                NaN  "
      ]
     },
     "execution_count": 87,
     "metadata": {},
     "output_type": "execute_result"
    }
   ],
   "source": [
    "fare_attributes.head(10)"
   ]
  },
  {
   "cell_type": "code",
   "execution_count": 88,
   "id": "8a5934af-0bb9-4442-8d7a-ca3910c48058",
   "metadata": {},
   "outputs": [
    {
     "data": {
      "text/html": [
       "<div>\n",
       "<style scoped>\n",
       "    .dataframe tbody tr th:only-of-type {\n",
       "        vertical-align: middle;\n",
       "    }\n",
       "\n",
       "    .dataframe tbody tr th {\n",
       "        vertical-align: top;\n",
       "    }\n",
       "\n",
       "    .dataframe thead th {\n",
       "        text-align: right;\n",
       "    }\n",
       "</style>\n",
       "<table border=\"1\" class=\"dataframe\">\n",
       "  <thead>\n",
       "    <tr style=\"text-align: right;\">\n",
       "      <th></th>\n",
       "      <th>fare_id</th>\n",
       "      <th>price</th>\n",
       "      <th>payment_method</th>\n",
       "      <th>transfers</th>\n",
       "      <th>agency_id</th>\n",
       "      <th>transfer_duration</th>\n",
       "    </tr>\n",
       "  </thead>\n",
       "  <tbody>\n",
       "    <tr>\n",
       "      <th>count</th>\n",
       "      <td>8.000000</td>\n",
       "      <td>8.000000</td>\n",
       "      <td>8.0</td>\n",
       "      <td>8.0</td>\n",
       "      <td>8.0</td>\n",
       "      <td>0.0</td>\n",
       "    </tr>\n",
       "    <tr>\n",
       "      <th>mean</th>\n",
       "      <td>21402.625000</td>\n",
       "      <td>5.462500</td>\n",
       "      <td>0.0</td>\n",
       "      <td>0.0</td>\n",
       "      <td>1049.0</td>\n",
       "      <td>NaN</td>\n",
       "    </tr>\n",
       "    <tr>\n",
       "      <th>std</th>\n",
       "      <td>11.831405</td>\n",
       "      <td>0.420671</td>\n",
       "      <td>0.0</td>\n",
       "      <td>0.0</td>\n",
       "      <td>0.0</td>\n",
       "      <td>NaN</td>\n",
       "    </tr>\n",
       "    <tr>\n",
       "      <th>min</th>\n",
       "      <td>21390.000000</td>\n",
       "      <td>4.900000</td>\n",
       "      <td>0.0</td>\n",
       "      <td>0.0</td>\n",
       "      <td>1049.0</td>\n",
       "      <td>NaN</td>\n",
       "    </tr>\n",
       "    <tr>\n",
       "      <th>25%</th>\n",
       "      <td>21394.750000</td>\n",
       "      <td>5.225000</td>\n",
       "      <td>0.0</td>\n",
       "      <td>0.0</td>\n",
       "      <td>1049.0</td>\n",
       "      <td>NaN</td>\n",
       "    </tr>\n",
       "    <tr>\n",
       "      <th>50%</th>\n",
       "      <td>21398.500000</td>\n",
       "      <td>5.375000</td>\n",
       "      <td>0.0</td>\n",
       "      <td>0.0</td>\n",
       "      <td>1049.0</td>\n",
       "      <td>NaN</td>\n",
       "    </tr>\n",
       "    <tr>\n",
       "      <th>75%</th>\n",
       "      <td>21408.250000</td>\n",
       "      <td>5.625000</td>\n",
       "      <td>0.0</td>\n",
       "      <td>0.0</td>\n",
       "      <td>1049.0</td>\n",
       "      <td>NaN</td>\n",
       "    </tr>\n",
       "    <tr>\n",
       "      <th>max</th>\n",
       "      <td>21426.000000</td>\n",
       "      <td>6.150000</td>\n",
       "      <td>0.0</td>\n",
       "      <td>0.0</td>\n",
       "      <td>1049.0</td>\n",
       "      <td>NaN</td>\n",
       "    </tr>\n",
       "  </tbody>\n",
       "</table>\n",
       "</div>"
      ],
      "text/plain": [
       "            fare_id     price  payment_method  transfers  agency_id  \\\n",
       "count      8.000000  8.000000             8.0        8.0        8.0   \n",
       "mean   21402.625000  5.462500             0.0        0.0     1049.0   \n",
       "std       11.831405  0.420671             0.0        0.0        0.0   \n",
       "min    21390.000000  4.900000             0.0        0.0     1049.0   \n",
       "25%    21394.750000  5.225000             0.0        0.0     1049.0   \n",
       "50%    21398.500000  5.375000             0.0        0.0     1049.0   \n",
       "75%    21408.250000  5.625000             0.0        0.0     1049.0   \n",
       "max    21426.000000  6.150000             0.0        0.0     1049.0   \n",
       "\n",
       "       transfer_duration  \n",
       "count                0.0  \n",
       "mean                 NaN  \n",
       "std                  NaN  \n",
       "min                  NaN  \n",
       "25%                  NaN  \n",
       "50%                  NaN  \n",
       "75%                  NaN  \n",
       "max                  NaN  "
      ]
     },
     "execution_count": 88,
     "metadata": {},
     "output_type": "execute_result"
    }
   ],
   "source": [
    "fare_attributes.describe()"
   ]
  },
  {
   "cell_type": "code",
   "execution_count": 89,
   "id": "68bf189a-7bf5-4d20-9fd0-b4377af96127",
   "metadata": {},
   "outputs": [
    {
     "name": "stdout",
     "output_type": "stream",
     "text": [
      "<class 'pandas.core.frame.DataFrame'>\n",
      "RangeIndex: 8 entries, 0 to 7\n",
      "Data columns (total 7 columns):\n",
      " #   Column             Non-Null Count  Dtype  \n",
      "---  ------             --------------  -----  \n",
      " 0   fare_id            8 non-null      int64  \n",
      " 1   price              8 non-null      float64\n",
      " 2   currency_type      8 non-null      object \n",
      " 3   payment_method     8 non-null      int64  \n",
      " 4   transfers          8 non-null      int64  \n",
      " 5   agency_id          8 non-null      int64  \n",
      " 6   transfer_duration  0 non-null      float64\n",
      "dtypes: float64(2), int64(4), object(1)\n",
      "memory usage: 576.0+ bytes\n"
     ]
    }
   ],
   "source": [
    "fare_attributes.info()"
   ]
  },
  {
   "cell_type": "code",
   "execution_count": 90,
   "id": "fd9eff15-03ed-47b2-aaf3-dac92b86da8f",
   "metadata": {},
   "outputs": [],
   "source": [
    "fare_attributes = fare_attributes.drop('transfer_duration', axis=1)"
   ]
  },
  {
   "cell_type": "code",
   "execution_count": 91,
   "id": "f7c1c173-06bd-4ad5-8de0-2afe23fa1d23",
   "metadata": {},
   "outputs": [
    {
     "data": {
      "text/html": [
       "<div>\n",
       "<style scoped>\n",
       "    .dataframe tbody tr th:only-of-type {\n",
       "        vertical-align: middle;\n",
       "    }\n",
       "\n",
       "    .dataframe tbody tr th {\n",
       "        vertical-align: top;\n",
       "    }\n",
       "\n",
       "    .dataframe thead th {\n",
       "        text-align: right;\n",
       "    }\n",
       "</style>\n",
       "<table border=\"1\" class=\"dataframe\">\n",
       "  <thead>\n",
       "    <tr style=\"text-align: right;\">\n",
       "      <th></th>\n",
       "      <th>fare_id</th>\n",
       "      <th>price</th>\n",
       "      <th>currency_type</th>\n",
       "      <th>payment_method</th>\n",
       "      <th>transfers</th>\n",
       "      <th>agency_id</th>\n",
       "    </tr>\n",
       "  </thead>\n",
       "  <tbody>\n",
       "    <tr>\n",
       "      <th>0</th>\n",
       "      <td>21390</td>\n",
       "      <td>4.90</td>\n",
       "      <td>BRL</td>\n",
       "      <td>0</td>\n",
       "      <td>0</td>\n",
       "      <td>1049</td>\n",
       "    </tr>\n",
       "    <tr>\n",
       "      <th>1</th>\n",
       "      <td>21395</td>\n",
       "      <td>5.25</td>\n",
       "      <td>BRL</td>\n",
       "      <td>0</td>\n",
       "      <td>0</td>\n",
       "      <td>1049</td>\n",
       "    </tr>\n",
       "    <tr>\n",
       "      <th>2</th>\n",
       "      <td>21398</td>\n",
       "      <td>6.00</td>\n",
       "      <td>BRL</td>\n",
       "      <td>0</td>\n",
       "      <td>0</td>\n",
       "      <td>1049</td>\n",
       "    </tr>\n",
       "    <tr>\n",
       "      <th>3</th>\n",
       "      <td>21412</td>\n",
       "      <td>5.40</td>\n",
       "      <td>BRL</td>\n",
       "      <td>0</td>\n",
       "      <td>0</td>\n",
       "      <td>1049</td>\n",
       "    </tr>\n",
       "    <tr>\n",
       "      <th>4</th>\n",
       "      <td>21394</td>\n",
       "      <td>5.50</td>\n",
       "      <td>BRL</td>\n",
       "      <td>0</td>\n",
       "      <td>0</td>\n",
       "      <td>1049</td>\n",
       "    </tr>\n",
       "    <tr>\n",
       "      <th>5</th>\n",
       "      <td>21399</td>\n",
       "      <td>6.15</td>\n",
       "      <td>BRL</td>\n",
       "      <td>0</td>\n",
       "      <td>0</td>\n",
       "      <td>1049</td>\n",
       "    </tr>\n",
       "    <tr>\n",
       "      <th>6</th>\n",
       "      <td>21407</td>\n",
       "      <td>5.35</td>\n",
       "      <td>BRL</td>\n",
       "      <td>0</td>\n",
       "      <td>0</td>\n",
       "      <td>1049</td>\n",
       "    </tr>\n",
       "    <tr>\n",
       "      <th>7</th>\n",
       "      <td>21426</td>\n",
       "      <td>5.15</td>\n",
       "      <td>BRL</td>\n",
       "      <td>0</td>\n",
       "      <td>0</td>\n",
       "      <td>1049</td>\n",
       "    </tr>\n",
       "  </tbody>\n",
       "</table>\n",
       "</div>"
      ],
      "text/plain": [
       "   fare_id  price currency_type  payment_method  transfers  agency_id\n",
       "0    21390   4.90           BRL               0          0       1049\n",
       "1    21395   5.25           BRL               0          0       1049\n",
       "2    21398   6.00           BRL               0          0       1049\n",
       "3    21412   5.40           BRL               0          0       1049\n",
       "4    21394   5.50           BRL               0          0       1049\n",
       "5    21399   6.15           BRL               0          0       1049\n",
       "6    21407   5.35           BRL               0          0       1049\n",
       "7    21426   5.15           BRL               0          0       1049"
      ]
     },
     "execution_count": 91,
     "metadata": {},
     "output_type": "execute_result"
    }
   ],
   "source": [
    "fare_attributes"
   ]
  },
  {
   "cell_type": "code",
   "execution_count": 92,
   "id": "8f3ad93e-f9b6-40e0-86cb-3dd70cbb4f33",
   "metadata": {},
   "outputs": [
    {
     "name": "stdout",
     "output_type": "stream",
     "text": [
      "fare_id           0\n",
      "price             0\n",
      "currency_type     0\n",
      "payment_method    0\n",
      "transfers         0\n",
      "agency_id         0\n",
      "dtype: int64\n"
     ]
    }
   ],
   "source": [
    "valores_ausentes_fare_attributes = fare_attributes.isna()\n",
    "contagem = valores_ausentes_fare_attributes.sum()\n",
    "print(contagem)"
   ]
  },
  {
   "cell_type": "markdown",
   "id": "48fc1769-471d-4d17-94ef-38f32ed1508a",
   "metadata": {},
   "source": [
    "### <div style=\"background-color:#226C35; color:#FFFFFF; padding:10px\">Conclusões:</div>\n",
    "- Esse é um data frame meramente informativo apenas com identificações de tarifas e seus respectivos valores, vamos ter que cruzar esses dados com outros data frames para termos uma informação relevante\n",
    "- Mais na frente vamos cruzar esse Data Frame com o próximo, fare_rules. Primeiro vamos fazer a exploração dos seus dados"
   ]
  },
  {
   "cell_type": "markdown",
   "id": "419ffee3-8f56-47aa-b7b1-07cc838d2a8b",
   "metadata": {},
   "source": [
    "## Explorando o Data Frame 'fare_rules'"
   ]
  },
  {
   "cell_type": "code",
   "execution_count": 93,
   "id": "0a6ce015-4007-4657-9559-56fac7299a5c",
   "metadata": {},
   "outputs": [
    {
     "name": "stdout",
     "output_type": "stream",
     "text": [
      "O Data Frame tem 13 linhas e 2 colunas.\n"
     ]
    }
   ],
   "source": [
    "print(f'O Data Frame tem {fare_rules.shape[0]} linhas e {fare_rules.shape[1]} colunas.')"
   ]
  },
  {
   "cell_type": "code",
   "execution_count": 94,
   "id": "3b1588d1-d2bb-441e-a7f7-8cb776cc73c6",
   "metadata": {},
   "outputs": [
    {
     "data": {
      "text/html": [
       "<div>\n",
       "<style scoped>\n",
       "    .dataframe tbody tr th:only-of-type {\n",
       "        vertical-align: middle;\n",
       "    }\n",
       "\n",
       "    .dataframe tbody tr th {\n",
       "        vertical-align: top;\n",
       "    }\n",
       "\n",
       "    .dataframe thead th {\n",
       "        text-align: right;\n",
       "    }\n",
       "</style>\n",
       "<table border=\"1\" class=\"dataframe\">\n",
       "  <thead>\n",
       "    <tr style=\"text-align: right;\">\n",
       "      <th></th>\n",
       "      <th>fare_id</th>\n",
       "      <th>route_id</th>\n",
       "    </tr>\n",
       "  </thead>\n",
       "  <tbody>\n",
       "    <tr>\n",
       "      <th>0</th>\n",
       "      <td>21390</td>\n",
       "      <td>c73df358-1a6d-4ff2-adf4-b1f3a1477344</td>\n",
       "    </tr>\n",
       "    <tr>\n",
       "      <th>1</th>\n",
       "      <td>21395</td>\n",
       "      <td>72b3e29b-10df-4bce-854a-582d115a99a4</td>\n",
       "    </tr>\n",
       "    <tr>\n",
       "      <th>2</th>\n",
       "      <td>21398</td>\n",
       "      <td>134ccc43-722d-433d-9e56-7bd03d985403</td>\n",
       "    </tr>\n",
       "    <tr>\n",
       "      <th>3</th>\n",
       "      <td>21390</td>\n",
       "      <td>1cf3a839-8147-4730-b0b6-5c52c4030a7b</td>\n",
       "    </tr>\n",
       "    <tr>\n",
       "      <th>4</th>\n",
       "      <td>21412</td>\n",
       "      <td>0e6d74dd-a14e-40b3-ac59-720498612889</td>\n",
       "    </tr>\n",
       "    <tr>\n",
       "      <th>5</th>\n",
       "      <td>21395</td>\n",
       "      <td>81399e03-dcaa-4255-858d-d3e81e69157d</td>\n",
       "    </tr>\n",
       "    <tr>\n",
       "      <th>6</th>\n",
       "      <td>21412</td>\n",
       "      <td>5396e018-5cca-4291-8622-c50f2ac15b41</td>\n",
       "    </tr>\n",
       "    <tr>\n",
       "      <th>7</th>\n",
       "      <td>21390</td>\n",
       "      <td>142cbd21-198a-4b79-8bb6-755ef1eee5e7</td>\n",
       "    </tr>\n",
       "    <tr>\n",
       "      <th>8</th>\n",
       "      <td>21394</td>\n",
       "      <td>aa595240-5ef2-4e2d-a2f7-300976b1dcbf</td>\n",
       "    </tr>\n",
       "    <tr>\n",
       "      <th>9</th>\n",
       "      <td>21395</td>\n",
       "      <td>90588e02-a842-4427-b7b1-6321737e7972</td>\n",
       "    </tr>\n",
       "    <tr>\n",
       "      <th>10</th>\n",
       "      <td>21399</td>\n",
       "      <td>792b9359-d1d8-437b-a5ab-b6fb1b5864e6</td>\n",
       "    </tr>\n",
       "    <tr>\n",
       "      <th>11</th>\n",
       "      <td>21407</td>\n",
       "      <td>5a75f026-dc66-42a7-97d0-dc9d496fe642</td>\n",
       "    </tr>\n",
       "    <tr>\n",
       "      <th>12</th>\n",
       "      <td>21426</td>\n",
       "      <td>aec90850-be02-49f0-ab8b-be9e1b3cef20</td>\n",
       "    </tr>\n",
       "  </tbody>\n",
       "</table>\n",
       "</div>"
      ],
      "text/plain": [
       "    fare_id                              route_id\n",
       "0     21390  c73df358-1a6d-4ff2-adf4-b1f3a1477344\n",
       "1     21395  72b3e29b-10df-4bce-854a-582d115a99a4\n",
       "2     21398  134ccc43-722d-433d-9e56-7bd03d985403\n",
       "3     21390  1cf3a839-8147-4730-b0b6-5c52c4030a7b\n",
       "4     21412  0e6d74dd-a14e-40b3-ac59-720498612889\n",
       "5     21395  81399e03-dcaa-4255-858d-d3e81e69157d\n",
       "6     21412  5396e018-5cca-4291-8622-c50f2ac15b41\n",
       "7     21390  142cbd21-198a-4b79-8bb6-755ef1eee5e7\n",
       "8     21394  aa595240-5ef2-4e2d-a2f7-300976b1dcbf\n",
       "9     21395  90588e02-a842-4427-b7b1-6321737e7972\n",
       "10    21399  792b9359-d1d8-437b-a5ab-b6fb1b5864e6\n",
       "11    21407  5a75f026-dc66-42a7-97d0-dc9d496fe642\n",
       "12    21426  aec90850-be02-49f0-ab8b-be9e1b3cef20"
      ]
     },
     "execution_count": 94,
     "metadata": {},
     "output_type": "execute_result"
    }
   ],
   "source": [
    "fare_rules.head(13)"
   ]
  },
  {
   "cell_type": "markdown",
   "id": "9a66a0ba-cfa3-43af-bf01-7731647fc5dc",
   "metadata": {
    "tags": []
   },
   "source": [
    "### <div style=\"background-color:#226C35; color:#FFFFFF; padding:10px\">Conclusões:</div>\n",
    "- Esse é outro frame de referência o arquivo fare_rules contém informações sobre as regras de tarifas que se aplicam a viagens em uma rede de transporte público. Cada linha do arquivo corresponde a uma regra de tarifa que se aplica a uma ou mais viagens em uma ou mais rotas.\n",
    "- Vamos combiná-lo com o arquivo fare_attributes para vermos como as tarifas são distribuídas por rotas.\n",
    "- De antemão podemos verificar que o data frame pode não estar completo pois há muito mais rotas disponíveis no arquivo routes.txt que nesse há uma diferença de 110 linhas de ônibus (123 linhas no data frame routes e 13 linhas no data frame fare_rules)"
   ]
  },
  {
   "cell_type": "markdown",
   "id": "036a6bbd-0199-43e5-a790-f973847965ee",
   "metadata": {},
   "source": [
    "## Explorando o Data Frame 'routes'"
   ]
  },
  {
   "cell_type": "code",
   "execution_count": 95,
   "id": "bdebdc93-c486-41b0-933f-873a1932f247",
   "metadata": {},
   "outputs": [
    {
     "name": "stdout",
     "output_type": "stream",
     "text": [
      "O Data Frame tem 123 linhas e 8 colunas.\n"
     ]
    }
   ],
   "source": [
    "print(f'O Data Frame tem {routes.shape[0]} linhas e {routes.shape[1]} colunas.')"
   ]
  },
  {
   "cell_type": "code",
   "execution_count": 96,
   "id": "322a3101-585e-4778-be62-9bba1bcdfd63",
   "metadata": {},
   "outputs": [
    {
     "data": {
      "text/html": [
       "<div>\n",
       "<style scoped>\n",
       "    .dataframe tbody tr th:only-of-type {\n",
       "        vertical-align: middle;\n",
       "    }\n",
       "\n",
       "    .dataframe tbody tr th {\n",
       "        vertical-align: top;\n",
       "    }\n",
       "\n",
       "    .dataframe thead th {\n",
       "        text-align: right;\n",
       "    }\n",
       "</style>\n",
       "<table border=\"1\" class=\"dataframe\">\n",
       "  <thead>\n",
       "    <tr style=\"text-align: right;\">\n",
       "      <th></th>\n",
       "      <th>agency_id</th>\n",
       "      <th>route_desc</th>\n",
       "      <th>route_type</th>\n",
       "      <th>route_color</th>\n",
       "      <th>route_text_color</th>\n",
       "    </tr>\n",
       "  </thead>\n",
       "  <tbody>\n",
       "    <tr>\n",
       "      <th>count</th>\n",
       "      <td>123.0</td>\n",
       "      <td>0.0</td>\n",
       "      <td>123.0</td>\n",
       "      <td>0.0</td>\n",
       "      <td>0.0</td>\n",
       "    </tr>\n",
       "    <tr>\n",
       "      <th>mean</th>\n",
       "      <td>1049.0</td>\n",
       "      <td>NaN</td>\n",
       "      <td>3.0</td>\n",
       "      <td>NaN</td>\n",
       "      <td>NaN</td>\n",
       "    </tr>\n",
       "    <tr>\n",
       "      <th>std</th>\n",
       "      <td>0.0</td>\n",
       "      <td>NaN</td>\n",
       "      <td>0.0</td>\n",
       "      <td>NaN</td>\n",
       "      <td>NaN</td>\n",
       "    </tr>\n",
       "    <tr>\n",
       "      <th>min</th>\n",
       "      <td>1049.0</td>\n",
       "      <td>NaN</td>\n",
       "      <td>3.0</td>\n",
       "      <td>NaN</td>\n",
       "      <td>NaN</td>\n",
       "    </tr>\n",
       "    <tr>\n",
       "      <th>25%</th>\n",
       "      <td>1049.0</td>\n",
       "      <td>NaN</td>\n",
       "      <td>3.0</td>\n",
       "      <td>NaN</td>\n",
       "      <td>NaN</td>\n",
       "    </tr>\n",
       "    <tr>\n",
       "      <th>50%</th>\n",
       "      <td>1049.0</td>\n",
       "      <td>NaN</td>\n",
       "      <td>3.0</td>\n",
       "      <td>NaN</td>\n",
       "      <td>NaN</td>\n",
       "    </tr>\n",
       "    <tr>\n",
       "      <th>75%</th>\n",
       "      <td>1049.0</td>\n",
       "      <td>NaN</td>\n",
       "      <td>3.0</td>\n",
       "      <td>NaN</td>\n",
       "      <td>NaN</td>\n",
       "    </tr>\n",
       "    <tr>\n",
       "      <th>max</th>\n",
       "      <td>1049.0</td>\n",
       "      <td>NaN</td>\n",
       "      <td>3.0</td>\n",
       "      <td>NaN</td>\n",
       "      <td>NaN</td>\n",
       "    </tr>\n",
       "  </tbody>\n",
       "</table>\n",
       "</div>"
      ],
      "text/plain": [
       "       agency_id  route_desc  route_type  route_color  route_text_color\n",
       "count      123.0         0.0       123.0          0.0               0.0\n",
       "mean      1049.0         NaN         3.0          NaN               NaN\n",
       "std          0.0         NaN         0.0          NaN               NaN\n",
       "min       1049.0         NaN         3.0          NaN               NaN\n",
       "25%       1049.0         NaN         3.0          NaN               NaN\n",
       "50%       1049.0         NaN         3.0          NaN               NaN\n",
       "75%       1049.0         NaN         3.0          NaN               NaN\n",
       "max       1049.0         NaN         3.0          NaN               NaN"
      ]
     },
     "execution_count": 96,
     "metadata": {},
     "output_type": "execute_result"
    }
   ],
   "source": [
    "routes.describe()"
   ]
  },
  {
   "cell_type": "code",
   "execution_count": 97,
   "id": "a955ec95-cffb-43d5-8b26-1e54119eabad",
   "metadata": {},
   "outputs": [
    {
     "data": {
      "text/html": [
       "<div>\n",
       "<style scoped>\n",
       "    .dataframe tbody tr th:only-of-type {\n",
       "        vertical-align: middle;\n",
       "    }\n",
       "\n",
       "    .dataframe tbody tr th {\n",
       "        vertical-align: top;\n",
       "    }\n",
       "\n",
       "    .dataframe thead th {\n",
       "        text-align: right;\n",
       "    }\n",
       "</style>\n",
       "<table border=\"1\" class=\"dataframe\">\n",
       "  <thead>\n",
       "    <tr style=\"text-align: right;\">\n",
       "      <th></th>\n",
       "      <th>route_id</th>\n",
       "      <th>agency_id</th>\n",
       "      <th>route_short_name</th>\n",
       "      <th>route_long_name</th>\n",
       "      <th>route_desc</th>\n",
       "      <th>route_type</th>\n",
       "      <th>route_color</th>\n",
       "      <th>route_text_color</th>\n",
       "    </tr>\n",
       "  </thead>\n",
       "  <tbody>\n",
       "    <tr>\n",
       "      <th>0</th>\n",
       "      <td>9cf1742a-6bc8-4a32-9856-83b9a77b6554</td>\n",
       "      <td>1049</td>\n",
       "      <td>E130</td>\n",
       "      <td>São Camilo - Terminal Santo Antônio</td>\n",
       "      <td>NaN</td>\n",
       "      <td>3</td>\n",
       "      <td>NaN</td>\n",
       "      <td>NaN</td>\n",
       "    </tr>\n",
       "    <tr>\n",
       "      <th>1</th>\n",
       "      <td>7d9af57b-c92e-4f02-8f66-ce6fa6986219</td>\n",
       "      <td>1049</td>\n",
       "      <td>E120</td>\n",
       "      <td>Paineiras - Terminal Santo Antônio</td>\n",
       "      <td>NaN</td>\n",
       "      <td>3</td>\n",
       "      <td>NaN</td>\n",
       "      <td>NaN</td>\n",
       "    </tr>\n",
       "    <tr>\n",
       "      <th>2</th>\n",
       "      <td>e2a31ffe-1f93-4c87-a1fc-eb26c0838ac3</td>\n",
       "      <td>1049</td>\n",
       "      <td>A130</td>\n",
       "      <td>Estação Itavuvu - São Camilo</td>\n",
       "      <td>NaN</td>\n",
       "      <td>3</td>\n",
       "      <td>NaN</td>\n",
       "      <td>NaN</td>\n",
       "    </tr>\n",
       "    <tr>\n",
       "      <th>3</th>\n",
       "      <td>7b3ccb02-150e-4083-b8cd-be37e5a2252c</td>\n",
       "      <td>1049</td>\n",
       "      <td>E160</td>\n",
       "      <td>São Bento - Terminal Santo Antônio</td>\n",
       "      <td>NaN</td>\n",
       "      <td>3</td>\n",
       "      <td>NaN</td>\n",
       "      <td>NaN</td>\n",
       "    </tr>\n",
       "    <tr>\n",
       "      <th>4</th>\n",
       "      <td>af542db6-a91d-4240-8c89-fa8141272e7a</td>\n",
       "      <td>1049</td>\n",
       "      <td>A110</td>\n",
       "      <td>Terminal Vitória Régia - Vitória Régia Ii E Iii</td>\n",
       "      <td>NaN</td>\n",
       "      <td>3</td>\n",
       "      <td>NaN</td>\n",
       "      <td>NaN</td>\n",
       "    </tr>\n",
       "  </tbody>\n",
       "</table>\n",
       "</div>"
      ],
      "text/plain": [
       "                               route_id  agency_id route_short_name  \\\n",
       "0  9cf1742a-6bc8-4a32-9856-83b9a77b6554       1049             E130   \n",
       "1  7d9af57b-c92e-4f02-8f66-ce6fa6986219       1049             E120   \n",
       "2  e2a31ffe-1f93-4c87-a1fc-eb26c0838ac3       1049             A130   \n",
       "3  7b3ccb02-150e-4083-b8cd-be37e5a2252c       1049             E160   \n",
       "4  af542db6-a91d-4240-8c89-fa8141272e7a       1049             A110   \n",
       "\n",
       "                                   route_long_name  route_desc  route_type  \\\n",
       "0              São Camilo - Terminal Santo Antônio         NaN           3   \n",
       "1               Paineiras - Terminal Santo Antônio         NaN           3   \n",
       "2                     Estação Itavuvu - São Camilo         NaN           3   \n",
       "3               São Bento - Terminal Santo Antônio         NaN           3   \n",
       "4  Terminal Vitória Régia - Vitória Régia Ii E Iii         NaN           3   \n",
       "\n",
       "   route_color  route_text_color  \n",
       "0          NaN               NaN  \n",
       "1          NaN               NaN  \n",
       "2          NaN               NaN  \n",
       "3          NaN               NaN  \n",
       "4          NaN               NaN  "
      ]
     },
     "execution_count": 97,
     "metadata": {},
     "output_type": "execute_result"
    }
   ],
   "source": [
    "routes.head()"
   ]
  },
  {
   "cell_type": "code",
   "execution_count": 98,
   "id": "fb583309-fe2d-4a4f-ad8b-b00756cf8ed2",
   "metadata": {},
   "outputs": [],
   "source": [
    "routes = routes.drop(['route_desc','route_color','route_text_color'], axis=1)"
   ]
  },
  {
   "cell_type": "code",
   "execution_count": 99,
   "id": "45cac3c4-d83f-4766-9336-3a9e83f44ead",
   "metadata": {},
   "outputs": [
    {
     "name": "stdout",
     "output_type": "stream",
     "text": [
      "<class 'pandas.core.frame.DataFrame'>\n",
      "RangeIndex: 123 entries, 0 to 122\n",
      "Data columns (total 5 columns):\n",
      " #   Column            Non-Null Count  Dtype \n",
      "---  ------            --------------  ----- \n",
      " 0   route_id          123 non-null    object\n",
      " 1   agency_id         123 non-null    int64 \n",
      " 2   route_short_name  123 non-null    object\n",
      " 3   route_long_name   123 non-null    object\n",
      " 4   route_type        123 non-null    int64 \n",
      "dtypes: int64(2), object(3)\n",
      "memory usage: 4.9+ KB\n"
     ]
    }
   ],
   "source": [
    "routes.info()"
   ]
  },
  {
   "cell_type": "code",
   "execution_count": 100,
   "id": "8a63cc46-d87a-4500-ab8d-a04885262dca",
   "metadata": {},
   "outputs": [
    {
     "name": "stdout",
     "output_type": "stream",
     "text": [
      "route_id            0\n",
      "agency_id           0\n",
      "route_short_name    0\n",
      "route_long_name     0\n",
      "route_type          0\n",
      "dtype: int64\n"
     ]
    }
   ],
   "source": [
    "valores_ausentes_routes = routes.isna()\n",
    "contagem = valores_ausentes_routes.sum()\n",
    "print(contagem)"
   ]
  },
  {
   "cell_type": "markdown",
   "id": "92efa88a-abec-4612-a83a-facc579feeaf",
   "metadata": {},
   "source": [
    "### Gerando o relatório exploratório do 'routes' em HTML"
   ]
  },
  {
   "cell_type": "code",
   "execution_count": 101,
   "id": "526fff45-4349-44b7-93b2-df71e4f2f9e7",
   "metadata": {},
   "outputs": [
    {
     "data": {
      "application/vnd.jupyter.widget-view+json": {
       "model_id": "e8dc964ad7764e9aa05305ed1d5af21e",
       "version_major": 2,
       "version_minor": 0
      },
      "text/plain": [
       "Summarize dataset:   0%|          | 0/5 [00:00<?, ?it/s]"
      ]
     },
     "metadata": {},
     "output_type": "display_data"
    },
    {
     "data": {
      "application/vnd.jupyter.widget-view+json": {
       "model_id": "59ea566630514f9ea2ec7d0d135e955e",
       "version_major": 2,
       "version_minor": 0
      },
      "text/plain": [
       "Generate report structure:   0%|          | 0/1 [00:00<?, ?it/s]"
      ]
     },
     "metadata": {},
     "output_type": "display_data"
    },
    {
     "data": {
      "application/vnd.jupyter.widget-view+json": {
       "model_id": "837a89c8e9914181b08bb56d97ae1475",
       "version_major": 2,
       "version_minor": 0
      },
      "text/plain": [
       "Render HTML:   0%|          | 0/1 [00:00<?, ?it/s]"
      ]
     },
     "metadata": {},
     "output_type": "display_data"
    },
    {
     "data": {
      "application/vnd.jupyter.widget-view+json": {
       "model_id": "9f9bb2f2464843ada80b2f8c72dddc0d",
       "version_major": 2,
       "version_minor": 0
      },
      "text/plain": [
       "Export report to file:   0%|          | 0/1 [00:00<?, ?it/s]"
      ]
     },
     "metadata": {},
     "output_type": "display_data"
    }
   ],
   "source": [
    "relatorio_routes = ProfileReport(routes, title='Relatorio routes')\n",
    "relatorio_routes.to_file('routes.html')"
   ]
  },
  {
   "cell_type": "markdown",
   "id": "e64ad283-4cfb-47b5-98a7-8f182462f9ef",
   "metadata": {},
   "source": [
    "### <div style=\"background-color:#226C35; color:#FFFFFF; padding:10px\">Conclusões:</div>\n",
    "- Esse é outro frame de referência o arquivo routes contém todas as rotas disponíveis na cidade de Sorocaba. São 123 linhas de ônibus.\n",
    "- Não é possível combiná-lo com os arquivos anteriores pois esse arquivos possui muitas linhas de ônibus a mais.\n",
    "- Vamos usá-lo como referência para identificar com mais facilidade as rotas de outros data frames"
   ]
  },
  {
   "cell_type": "markdown",
   "id": "1a13dc4a-34e6-4073-91e0-9003b2ca40cf",
   "metadata": {},
   "source": [
    "## Explorando o Data Frame 'shapes'"
   ]
  },
  {
   "cell_type": "code",
   "execution_count": 102,
   "id": "cca65679-22ae-4e14-a413-89f396337e15",
   "metadata": {},
   "outputs": [
    {
     "name": "stdout",
     "output_type": "stream",
     "text": [
      "O Data Frame tem 101613 linhas e 4 colunas.\n"
     ]
    }
   ],
   "source": [
    "print(f'O Data Frame tem {shapes.shape[0]} linhas e {shapes.shape[1]} colunas.')"
   ]
  },
  {
   "cell_type": "code",
   "execution_count": 103,
   "id": "818b642a-6612-4976-a26c-c04b2f6c0e43",
   "metadata": {},
   "outputs": [
    {
     "data": {
      "text/html": [
       "<div>\n",
       "<style scoped>\n",
       "    .dataframe tbody tr th:only-of-type {\n",
       "        vertical-align: middle;\n",
       "    }\n",
       "\n",
       "    .dataframe tbody tr th {\n",
       "        vertical-align: top;\n",
       "    }\n",
       "\n",
       "    .dataframe thead th {\n",
       "        text-align: right;\n",
       "    }\n",
       "</style>\n",
       "<table border=\"1\" class=\"dataframe\">\n",
       "  <thead>\n",
       "    <tr style=\"text-align: right;\">\n",
       "      <th></th>\n",
       "      <th>shape_id</th>\n",
       "      <th>shape_pt_lat</th>\n",
       "      <th>shape_pt_lon</th>\n",
       "      <th>shape_pt_sequence</th>\n",
       "    </tr>\n",
       "  </thead>\n",
       "  <tbody>\n",
       "    <tr>\n",
       "      <th>0</th>\n",
       "      <td>368d3558-ce36-41fd-9f62-8389be0f833d</td>\n",
       "      <td>-23.45222</td>\n",
       "      <td>-47.50530</td>\n",
       "      <td>0</td>\n",
       "    </tr>\n",
       "    <tr>\n",
       "      <th>1</th>\n",
       "      <td>368d3558-ce36-41fd-9f62-8389be0f833d</td>\n",
       "      <td>-23.45262</td>\n",
       "      <td>-47.50570</td>\n",
       "      <td>1</td>\n",
       "    </tr>\n",
       "    <tr>\n",
       "      <th>2</th>\n",
       "      <td>368d3558-ce36-41fd-9f62-8389be0f833d</td>\n",
       "      <td>-23.45320</td>\n",
       "      <td>-47.50507</td>\n",
       "      <td>2</td>\n",
       "    </tr>\n",
       "    <tr>\n",
       "      <th>3</th>\n",
       "      <td>368d3558-ce36-41fd-9f62-8389be0f833d</td>\n",
       "      <td>-23.45288</td>\n",
       "      <td>-47.50475</td>\n",
       "      <td>3</td>\n",
       "    </tr>\n",
       "    <tr>\n",
       "      <th>4</th>\n",
       "      <td>368d3558-ce36-41fd-9f62-8389be0f833d</td>\n",
       "      <td>-23.45253</td>\n",
       "      <td>-47.50436</td>\n",
       "      <td>4</td>\n",
       "    </tr>\n",
       "  </tbody>\n",
       "</table>\n",
       "</div>"
      ],
      "text/plain": [
       "                               shape_id  shape_pt_lat  shape_pt_lon  \\\n",
       "0  368d3558-ce36-41fd-9f62-8389be0f833d     -23.45222     -47.50530   \n",
       "1  368d3558-ce36-41fd-9f62-8389be0f833d     -23.45262     -47.50570   \n",
       "2  368d3558-ce36-41fd-9f62-8389be0f833d     -23.45320     -47.50507   \n",
       "3  368d3558-ce36-41fd-9f62-8389be0f833d     -23.45288     -47.50475   \n",
       "4  368d3558-ce36-41fd-9f62-8389be0f833d     -23.45253     -47.50436   \n",
       "\n",
       "   shape_pt_sequence  \n",
       "0                  0  \n",
       "1                  1  \n",
       "2                  2  \n",
       "3                  3  \n",
       "4                  4  "
      ]
     },
     "execution_count": 103,
     "metadata": {},
     "output_type": "execute_result"
    }
   ],
   "source": [
    "shapes.head()"
   ]
  },
  {
   "cell_type": "code",
   "execution_count": 104,
   "id": "a8c220c9-aaf6-4c30-a5d6-a40ad99c12ce",
   "metadata": {},
   "outputs": [],
   "source": [
    "# Colocando o shapre_pt_sequence como índice\n",
    "\n",
    "shapes = shapes.set_index('shape_pt_sequence')"
   ]
  },
  {
   "cell_type": "code",
   "execution_count": 105,
   "id": "627c269d-f4ae-4e8f-86e3-6972d8a50652",
   "metadata": {},
   "outputs": [
    {
     "data": {
      "text/html": [
       "<div>\n",
       "<style scoped>\n",
       "    .dataframe tbody tr th:only-of-type {\n",
       "        vertical-align: middle;\n",
       "    }\n",
       "\n",
       "    .dataframe tbody tr th {\n",
       "        vertical-align: top;\n",
       "    }\n",
       "\n",
       "    .dataframe thead th {\n",
       "        text-align: right;\n",
       "    }\n",
       "</style>\n",
       "<table border=\"1\" class=\"dataframe\">\n",
       "  <thead>\n",
       "    <tr style=\"text-align: right;\">\n",
       "      <th></th>\n",
       "      <th>shape_id</th>\n",
       "      <th>shape_pt_lat</th>\n",
       "      <th>shape_pt_lon</th>\n",
       "    </tr>\n",
       "    <tr>\n",
       "      <th>shape_pt_sequence</th>\n",
       "      <th></th>\n",
       "      <th></th>\n",
       "      <th></th>\n",
       "    </tr>\n",
       "  </thead>\n",
       "  <tbody>\n",
       "    <tr>\n",
       "      <th>0</th>\n",
       "      <td>368d3558-ce36-41fd-9f62-8389be0f833d</td>\n",
       "      <td>-23.45222</td>\n",
       "      <td>-47.50530</td>\n",
       "    </tr>\n",
       "    <tr>\n",
       "      <th>1</th>\n",
       "      <td>368d3558-ce36-41fd-9f62-8389be0f833d</td>\n",
       "      <td>-23.45262</td>\n",
       "      <td>-47.50570</td>\n",
       "    </tr>\n",
       "    <tr>\n",
       "      <th>2</th>\n",
       "      <td>368d3558-ce36-41fd-9f62-8389be0f833d</td>\n",
       "      <td>-23.45320</td>\n",
       "      <td>-47.50507</td>\n",
       "    </tr>\n",
       "    <tr>\n",
       "      <th>3</th>\n",
       "      <td>368d3558-ce36-41fd-9f62-8389be0f833d</td>\n",
       "      <td>-23.45288</td>\n",
       "      <td>-47.50475</td>\n",
       "    </tr>\n",
       "    <tr>\n",
       "      <th>4</th>\n",
       "      <td>368d3558-ce36-41fd-9f62-8389be0f833d</td>\n",
       "      <td>-23.45253</td>\n",
       "      <td>-47.50436</td>\n",
       "    </tr>\n",
       "  </tbody>\n",
       "</table>\n",
       "</div>"
      ],
      "text/plain": [
       "                                               shape_id  shape_pt_lat  \\\n",
       "shape_pt_sequence                                                       \n",
       "0                  368d3558-ce36-41fd-9f62-8389be0f833d     -23.45222   \n",
       "1                  368d3558-ce36-41fd-9f62-8389be0f833d     -23.45262   \n",
       "2                  368d3558-ce36-41fd-9f62-8389be0f833d     -23.45320   \n",
       "3                  368d3558-ce36-41fd-9f62-8389be0f833d     -23.45288   \n",
       "4                  368d3558-ce36-41fd-9f62-8389be0f833d     -23.45253   \n",
       "\n",
       "                   shape_pt_lon  \n",
       "shape_pt_sequence                \n",
       "0                     -47.50530  \n",
       "1                     -47.50570  \n",
       "2                     -47.50507  \n",
       "3                     -47.50475  \n",
       "4                     -47.50436  "
      ]
     },
     "execution_count": 105,
     "metadata": {},
     "output_type": "execute_result"
    }
   ],
   "source": [
    "shapes.head()"
   ]
  },
  {
   "cell_type": "code",
   "execution_count": 106,
   "id": "12d38568-7402-40df-b5c4-0f24fff5d5af",
   "metadata": {},
   "outputs": [
    {
     "data": {
      "text/html": [
       "<div>\n",
       "<style scoped>\n",
       "    .dataframe tbody tr th:only-of-type {\n",
       "        vertical-align: middle;\n",
       "    }\n",
       "\n",
       "    .dataframe tbody tr th {\n",
       "        vertical-align: top;\n",
       "    }\n",
       "\n",
       "    .dataframe thead th {\n",
       "        text-align: right;\n",
       "    }\n",
       "</style>\n",
       "<table border=\"1\" class=\"dataframe\">\n",
       "  <thead>\n",
       "    <tr style=\"text-align: right;\">\n",
       "      <th></th>\n",
       "      <th>shape_pt_lat</th>\n",
       "      <th>shape_pt_lon</th>\n",
       "    </tr>\n",
       "  </thead>\n",
       "  <tbody>\n",
       "    <tr>\n",
       "      <th>count</th>\n",
       "      <td>101613.000000</td>\n",
       "      <td>101613.000000</td>\n",
       "    </tr>\n",
       "    <tr>\n",
       "      <th>mean</th>\n",
       "      <td>-23.478081</td>\n",
       "      <td>-47.449801</td>\n",
       "    </tr>\n",
       "    <tr>\n",
       "      <th>std</th>\n",
       "      <td>0.040143</td>\n",
       "      <td>0.047021</td>\n",
       "    </tr>\n",
       "    <tr>\n",
       "      <th>min</th>\n",
       "      <td>-23.583650</td>\n",
       "      <td>-47.563070</td>\n",
       "    </tr>\n",
       "    <tr>\n",
       "      <th>25%</th>\n",
       "      <td>-23.503910</td>\n",
       "      <td>-47.481910</td>\n",
       "    </tr>\n",
       "    <tr>\n",
       "      <th>50%</th>\n",
       "      <td>-23.484330</td>\n",
       "      <td>-47.456630</td>\n",
       "    </tr>\n",
       "    <tr>\n",
       "      <th>75%</th>\n",
       "      <td>-23.452790</td>\n",
       "      <td>-47.423640</td>\n",
       "    </tr>\n",
       "    <tr>\n",
       "      <th>max</th>\n",
       "      <td>-23.352900</td>\n",
       "      <td>-47.282760</td>\n",
       "    </tr>\n",
       "  </tbody>\n",
       "</table>\n",
       "</div>"
      ],
      "text/plain": [
       "        shape_pt_lat   shape_pt_lon\n",
       "count  101613.000000  101613.000000\n",
       "mean      -23.478081     -47.449801\n",
       "std         0.040143       0.047021\n",
       "min       -23.583650     -47.563070\n",
       "25%       -23.503910     -47.481910\n",
       "50%       -23.484330     -47.456630\n",
       "75%       -23.452790     -47.423640\n",
       "max       -23.352900     -47.282760"
      ]
     },
     "execution_count": 106,
     "metadata": {},
     "output_type": "execute_result"
    }
   ],
   "source": [
    "shapes.describe()"
   ]
  },
  {
   "cell_type": "code",
   "execution_count": 107,
   "id": "97a84b4a-9132-409e-ac25-d1ecaed20efc",
   "metadata": {},
   "outputs": [
    {
     "name": "stdout",
     "output_type": "stream",
     "text": [
      "<class 'pandas.core.frame.DataFrame'>\n",
      "Int64Index: 101613 entries, 0 to 84\n",
      "Data columns (total 3 columns):\n",
      " #   Column        Non-Null Count   Dtype  \n",
      "---  ------        --------------   -----  \n",
      " 0   shape_id      101613 non-null  object \n",
      " 1   shape_pt_lat  101613 non-null  float64\n",
      " 2   shape_pt_lon  101613 non-null  float64\n",
      "dtypes: float64(2), object(1)\n",
      "memory usage: 3.1+ MB\n"
     ]
    }
   ],
   "source": [
    "shapes.info()"
   ]
  },
  {
   "cell_type": "code",
   "execution_count": 108,
   "id": "0796e791-7635-4ef0-a9de-fe1b9eaeb4e9",
   "metadata": {},
   "outputs": [
    {
     "name": "stdout",
     "output_type": "stream",
     "text": [
      "O data frame possui 628 shape_id's.\n"
     ]
    }
   ],
   "source": [
    "# Contando quantos shape_id's existem nesse data frame.\n",
    "\n",
    "contagem_shape_id = shapes['shape_id'].value_counts()\n",
    "print(f\"O data frame possui {contagem_shape_id.shape[0]} shape_id's.\")"
   ]
  },
  {
   "cell_type": "markdown",
   "id": "024ad6e5-595c-48be-a8e4-742986a0ef88",
   "metadata": {},
   "source": [
    "### Gerando o relatório exploratório do 'shapes' em HTML"
   ]
  },
  {
   "cell_type": "code",
   "execution_count": 109,
   "id": "fecf1a14-9a9b-4067-8c01-5b09c7e28c1b",
   "metadata": {},
   "outputs": [
    {
     "data": {
      "application/vnd.jupyter.widget-view+json": {
       "model_id": "a71a0d26309546ab96dda672bf8a48da",
       "version_major": 2,
       "version_minor": 0
      },
      "text/plain": [
       "Summarize dataset:   0%|          | 0/5 [00:00<?, ?it/s]"
      ]
     },
     "metadata": {},
     "output_type": "display_data"
    },
    {
     "name": "stderr",
     "output_type": "stream",
     "text": [
      "C:\\Users\\marcf\\anaconda3\\lib\\site-packages\\ydata_profiling\\model\\pandas\\discretize_pandas.py:52: FutureWarning: In a future version, `df.iloc[:, i] = newvals` will attempt to set the values inplace instead of always setting a new array. To retain the old behavior, use either `df[df.columns[i]] = newvals` or, if columns are non-unique, `df.isetitem(i, newvals)`\n",
      "  discretized_df.loc[:, column] = self._discretize_column(\n"
     ]
    },
    {
     "data": {
      "application/vnd.jupyter.widget-view+json": {
       "model_id": "8e7d268c1f5e41cfae9e41350bb554db",
       "version_major": 2,
       "version_minor": 0
      },
      "text/plain": [
       "Generate report structure:   0%|          | 0/1 [00:00<?, ?it/s]"
      ]
     },
     "metadata": {},
     "output_type": "display_data"
    },
    {
     "data": {
      "application/vnd.jupyter.widget-view+json": {
       "model_id": "2d89a75af69340c9bad3ef0170495235",
       "version_major": 2,
       "version_minor": 0
      },
      "text/plain": [
       "Render HTML:   0%|          | 0/1 [00:00<?, ?it/s]"
      ]
     },
     "metadata": {},
     "output_type": "display_data"
    },
    {
     "data": {
      "application/vnd.jupyter.widget-view+json": {
       "model_id": "de855329430642bd962e069cda9e8fff",
       "version_major": 2,
       "version_minor": 0
      },
      "text/plain": [
       "Export report to file:   0%|          | 0/1 [00:00<?, ?it/s]"
      ]
     },
     "metadata": {},
     "output_type": "display_data"
    }
   ],
   "source": [
    "relatorio_shapes = ProfileReport(shapes, title='Relatorio shapes')\n",
    "relatorio_shapes.to_file('shapes.html')"
   ]
  },
  {
   "cell_type": "markdown",
   "id": "bd667272-074c-4222-9127-d1c819f5618d",
   "metadata": {},
   "source": [
    "### <div style=\"background-color:#226C35; color:#FFFFFF; padding:10px\">Conclusões:</div>\n",
    "\n",
    "- Esse data frame serve para explicitar todas shape_id's, que é um identificador único para cada trajeto (rota) que um veículo de transporte público segue. Cada trajeto pode ser composto por um ou mais segmentos de linhas retas (conhecidos como \"shapes\"), que são definidos por uma sequência de pares de coordenadas de latitude e longitude."
   ]
  },
  {
   "cell_type": "markdown",
   "id": "448f2bf8-9199-477f-9f27-ecce6418376e",
   "metadata": {},
   "source": [
    "## Explorando o Data Frame 'stop_times'"
   ]
  },
  {
   "cell_type": "code",
   "execution_count": 110,
   "id": "67a72bdf-e90a-4a41-8a45-3c435fa73a00",
   "metadata": {},
   "outputs": [
    {
     "name": "stdout",
     "output_type": "stream",
     "text": [
      "O Data Frame tem 1175854 linhas e 5 colunas.\n"
     ]
    }
   ],
   "source": [
    "print(f'O Data Frame tem {stop_times.shape[0]} linhas e {stop_times.shape[1]} colunas.')"
   ]
  },
  {
   "cell_type": "code",
   "execution_count": 111,
   "id": "9984099a-be0a-4e2d-be41-d46637dec5cc",
   "metadata": {},
   "outputs": [
    {
     "data": {
      "text/html": [
       "<div>\n",
       "<style scoped>\n",
       "    .dataframe tbody tr th:only-of-type {\n",
       "        vertical-align: middle;\n",
       "    }\n",
       "\n",
       "    .dataframe tbody tr th {\n",
       "        vertical-align: top;\n",
       "    }\n",
       "\n",
       "    .dataframe thead th {\n",
       "        text-align: right;\n",
       "    }\n",
       "</style>\n",
       "<table border=\"1\" class=\"dataframe\">\n",
       "  <thead>\n",
       "    <tr style=\"text-align: right;\">\n",
       "      <th></th>\n",
       "      <th>trip_id</th>\n",
       "      <th>arrival_time</th>\n",
       "      <th>departure_time</th>\n",
       "      <th>stop_id</th>\n",
       "      <th>stop_sequence</th>\n",
       "    </tr>\n",
       "  </thead>\n",
       "  <tbody>\n",
       "    <tr>\n",
       "      <th>0</th>\n",
       "      <td>368d3558-ce36-41fd-9f62-8389be0f833d_92960947</td>\n",
       "      <td>23:40:00</td>\n",
       "      <td>23:40:00</td>\n",
       "      <td>032d12a4-6609-11ed-98db-5adc55d213d0</td>\n",
       "      <td>1</td>\n",
       "    </tr>\n",
       "    <tr>\n",
       "      <th>1</th>\n",
       "      <td>368d3558-ce36-41fd-9f62-8389be0f833d_92960947</td>\n",
       "      <td>23:41:39</td>\n",
       "      <td>23:41:39</td>\n",
       "      <td>032dcd58-6609-11ed-98db-5adc55d213d0</td>\n",
       "      <td>2</td>\n",
       "    </tr>\n",
       "    <tr>\n",
       "      <th>2</th>\n",
       "      <td>368d3558-ce36-41fd-9f62-8389be0f833d_92960947</td>\n",
       "      <td>23:42:42</td>\n",
       "      <td>23:42:42</td>\n",
       "      <td>032e526c-6609-11ed-98db-5adc55d213d0</td>\n",
       "      <td>3</td>\n",
       "    </tr>\n",
       "    <tr>\n",
       "      <th>3</th>\n",
       "      <td>368d3558-ce36-41fd-9f62-8389be0f833d_92960947</td>\n",
       "      <td>23:43:56</td>\n",
       "      <td>23:43:56</td>\n",
       "      <td>032eba14-6609-11ed-98db-5adc55d213d0</td>\n",
       "      <td>4</td>\n",
       "    </tr>\n",
       "    <tr>\n",
       "      <th>4</th>\n",
       "      <td>368d3558-ce36-41fd-9f62-8389be0f833d_92960947</td>\n",
       "      <td>23:45:36</td>\n",
       "      <td>23:45:36</td>\n",
       "      <td>032f8569-6609-11ed-98db-5adc55d213d0</td>\n",
       "      <td>5</td>\n",
       "    </tr>\n",
       "  </tbody>\n",
       "</table>\n",
       "</div>"
      ],
      "text/plain": [
       "                                         trip_id arrival_time departure_time  \\\n",
       "0  368d3558-ce36-41fd-9f62-8389be0f833d_92960947     23:40:00       23:40:00   \n",
       "1  368d3558-ce36-41fd-9f62-8389be0f833d_92960947     23:41:39       23:41:39   \n",
       "2  368d3558-ce36-41fd-9f62-8389be0f833d_92960947     23:42:42       23:42:42   \n",
       "3  368d3558-ce36-41fd-9f62-8389be0f833d_92960947     23:43:56       23:43:56   \n",
       "4  368d3558-ce36-41fd-9f62-8389be0f833d_92960947     23:45:36       23:45:36   \n",
       "\n",
       "                                stop_id  stop_sequence  \n",
       "0  032d12a4-6609-11ed-98db-5adc55d213d0              1  \n",
       "1  032dcd58-6609-11ed-98db-5adc55d213d0              2  \n",
       "2  032e526c-6609-11ed-98db-5adc55d213d0              3  \n",
       "3  032eba14-6609-11ed-98db-5adc55d213d0              4  \n",
       "4  032f8569-6609-11ed-98db-5adc55d213d0              5  "
      ]
     },
     "execution_count": 111,
     "metadata": {},
     "output_type": "execute_result"
    }
   ],
   "source": [
    "stop_times.head()"
   ]
  },
  {
   "cell_type": "code",
   "execution_count": 112,
   "id": "193ea89c-e62c-4133-86f8-1e19e86c885c",
   "metadata": {},
   "outputs": [],
   "source": [
    "# Fazendo o replace de 24:00 por 00:00\n",
    "\n",
    "stop_times['arrival_time'] = stop_times['arrival_time'].str.replace('24:', '00:')\n",
    "stop_times['departure_time'] = stop_times['departure_time'].str.replace('24:', '00:')"
   ]
  },
  {
   "cell_type": "code",
   "execution_count": 113,
   "id": "ca8f788e-900c-4444-9e82-99c5e4f830e2",
   "metadata": {},
   "outputs": [],
   "source": [
    "# Transformando o as datas no data frame para o formato date time\n",
    "\n",
    "stop_times['arrival_time'] = pd.to_datetime(stop_times['arrival_time'], format='%H:%M:%S').dt.time\n",
    "stop_times['departure_time'] = pd.to_datetime(stop_times['departure_time'], format='%H:%M:%S').dt.time"
   ]
  },
  {
   "cell_type": "code",
   "execution_count": 114,
   "id": "60e568b0-5e36-4990-b098-feb00ebe7e0a",
   "metadata": {},
   "outputs": [
    {
     "name": "stdout",
     "output_type": "stream",
     "text": [
      "O data frame tem 46311 trip_id's.\n"
     ]
    }
   ],
   "source": [
    "# Contando a quantidade de trip_id's no data frame\n",
    "\n",
    "conta_trip_id = stop_times['trip_id'].value_counts()\n",
    "print(f\"O data frame tem {conta_trip_id.shape[0]} trip_id's.\")"
   ]
  },
  {
   "cell_type": "code",
   "execution_count": 115,
   "id": "5df75824-4153-410d-bfb3-743dba6e1b87",
   "metadata": {},
   "outputs": [
    {
     "name": "stdout",
     "output_type": "stream",
     "text": [
      "<class 'pandas.core.frame.DataFrame'>\n",
      "RangeIndex: 1175854 entries, 0 to 1175853\n",
      "Data columns (total 5 columns):\n",
      " #   Column          Non-Null Count    Dtype \n",
      "---  ------          --------------    ----- \n",
      " 0   trip_id         1175854 non-null  object\n",
      " 1   arrival_time    1175854 non-null  object\n",
      " 2   departure_time  1175854 non-null  object\n",
      " 3   stop_id         1175854 non-null  object\n",
      " 4   stop_sequence   1175854 non-null  int64 \n",
      "dtypes: int64(1), object(4)\n",
      "memory usage: 44.9+ MB\n"
     ]
    }
   ],
   "source": [
    "stop_times.info()"
   ]
  },
  {
   "cell_type": "markdown",
   "id": "555493bb-1f3e-432c-a0f3-adfd31809a3d",
   "metadata": {},
   "source": [
    "### Gráfico 1 - stop_times - Horários de chegada em cada parada para uma determinada trip_id:"
   ]
  },
  {
   "cell_type": "code",
   "execution_count": 125,
   "id": "5990055d-0886-42e9-9a70-e14dd3a7312c",
   "metadata": {},
   "outputs": [
    {
     "data": {
      "application/vnd.jupyter.widget-view+json": {
       "model_id": "7e2f049151c84f4f9f0ddf3239d1bdc2",
       "version_major": 2,
       "version_minor": 0
      },
      "text/plain": [
       "interactive(children=(Dropdown(description='trip_id', options=('368d3558-ce36-41fd-9f62-8389be0f833d_92960947'…"
      ]
     },
     "metadata": {},
     "output_type": "display_data"
    }
   ],
   "source": [
    "# Criando o dropdown com as opções de trip_id\n",
    "trip_id_options = list(trips['trip_id'])\n",
    "\n",
    "# Criando a função para plotar o gráfico\n",
    "def plot_trip_schedule(trip_id):\n",
    "    # Filtrando as informações da tabela de horários para o ID da viagem selecionada\n",
    "    trip_stop_times = stop_times[stop_times['trip_id'] == trip_id].sort_values('stop_sequence')\n",
    "\n",
    "    # Convertendo as strings de horários em objetos datetime\n",
    "    trip_stop_times['arrival_time'] = pd.to_datetime(trip_stop_times['arrival_time'].astype(str))\n",
    "    trip_stop_times['departure_time'] = pd.to_datetime(trip_stop_times['departure_time'].astype(str))\n",
    "\n",
    "    # Criando listas com os horários de chegada e partida de cada parada\n",
    "    arrival_times = [stop_time.arrival_time.strftime('%H:%M:%S') for stop_time in trip_stop_times.itertuples()]\n",
    "    departure_times = [stop_time.departure_time.strftime('%H:%M:%S') for stop_time in trip_stop_times.itertuples()]\n",
    "\n",
    "    # Criando o gráfico\n",
    "    plt.plot(arrival_times, 'o--', label='Chegada')\n",
    "    plt.plot(departure_times, 'o--', label='Partida')\n",
    "\n",
    "    # Definindo as legendas dos eixos\n",
    "    plt.xlabel('Horário')\n",
    "    plt.ylabel('Paradas')\n",
    "    plt.title(f'Horário de chegada e partida para a viagem {trip_id}')\n",
    "    plt.legend()\n",
    "    plt.show()\n",
    "\n",
    "\n",
    "# Criando o dropdown\n",
    "interact(plot_trip_schedule, trip_id=trip_id_options);"
   ]
  },
  {
   "cell_type": "markdown",
   "id": "27e856f7-451e-4595-803b-37937bc168d4",
   "metadata": {},
   "source": [
    "### Gráfico 2 - departure_times - Horários de partida em cada parada para uma determinada trip_id:"
   ]
  },
  {
   "cell_type": "code",
   "execution_count": 135,
   "id": "4b788cb6-2491-4e6b-8b8f-e743543b3de6",
   "metadata": {},
   "outputs": [
    {
     "data": {
      "application/vnd.jupyter.widget-view+json": {
       "model_id": "0c9f8db2e92d48a3a0555f9fbf3cd663",
       "version_major": 2,
       "version_minor": 0
      },
      "text/plain": [
       "interactive(children=(Dropdown(description='trip_id', options=('368d3558-ce36-41fd-9f62-8389be0f833d_92960947'…"
      ]
     },
     "metadata": {},
     "output_type": "display_data"
    }
   ],
   "source": [
    "# Criando o dropdown com as opções de trip_id\n",
    "trip_id_options = list(trips['trip_id'])\n",
    "\n",
    "#@interact(trip_id=trips_df['trip_id'])\n",
    "def plot_trip_schedule(trip_id):\n",
    "    # Filtrando as informações da tabela de horários para o ID da viagem selecionada\n",
    "    trip_stop_times = stop_times[stop_times['trip_id'] == trip_id].sort_values('stop_sequence')\n",
    "    \n",
    "    # Convertendo as strings de horários em objetos datetime\n",
    "    trip_stop_times['arrival_time'] = pd.to_datetime(trip_stop_times['arrival_time'].astype(str))\n",
    "    trip_stop_times['departure_time'] = pd.to_datetime(trip_stop_times['departure_time'].astype(str))\n",
    "    \n",
    "    # Extraindo as informações de chegada e partida de cada parada\n",
    "    stop_names = trip_stop_times['stop_id'].tolist()\n",
    "    arrival_times = [stop_time.arrival_time.strftime('%H:%M:%S') for stop_time in trip_stop_times.itertuples()]\n",
    "    departure_times = [stop_time.departure_time.strftime('%H:%M:%S') for stop_time in trip_stop_times.itertuples()]\n",
    "    \n",
    "    # Criando o gráfico\n",
    "    plt.figure(figsize=(12, 8))\n",
    "    plt.plot(arrival_times, stop_names, 'o--', label='Chegada')\n",
    "    plt.plot(departure_times, stop_names, 'o--', label='Partida')\n",
    "    \n",
    "    # Definindo as legendas dos eixos\n",
    "    plt.xlabel('Horário')\n",
    "    plt.xticks(rotation=45)\n",
    "    plt.ylabel('Parada')\n",
    "    \n",
    "    # Definindo o título do gráfico\n",
    "    plt.title('Horários de chegada e partida por parada para a viagem {}'.format(trip_id))\n",
    "    \n",
    "    # Exibindo a legenda\n",
    "    plt.legend()\n",
    "    \n",
    "    # Exibindo o gráfico\n",
    "    plt.show()\n",
    "    \n",
    "# Criando o dropdown\n",
    "interact(plot_trip_schedule, trip_id=trip_id_options);"
   ]
  },
  {
   "cell_type": "code",
   "execution_count": null,
   "id": "2862c138-7f28-48da-8bd9-6c4aea8b525a",
   "metadata": {},
   "outputs": [],
   "source": []
  },
  {
   "cell_type": "code",
   "execution_count": 59,
   "id": "2c3429a6-966e-47ae-a0f0-df86f9f23f98",
   "metadata": {},
   "outputs": [
    {
     "data": {
      "application/vnd.jupyter.widget-view+json": {
       "model_id": "beada0f0392a40b1856115b62d637c0b",
       "version_major": 2,
       "version_minor": 0
      },
      "text/plain": [
       "Summarize dataset:   0%|          | 0/5 [00:00<?, ?it/s]"
      ]
     },
     "metadata": {},
     "output_type": "display_data"
    },
    {
     "data": {
      "application/vnd.jupyter.widget-view+json": {
       "model_id": "ba7701cf91254e279471da0f4d3eb31d",
       "version_major": 2,
       "version_minor": 0
      },
      "text/plain": [
       "Generate report structure:   0%|          | 0/1 [00:00<?, ?it/s]"
      ]
     },
     "metadata": {},
     "output_type": "display_data"
    },
    {
     "data": {
      "application/vnd.jupyter.widget-view+json": {
       "model_id": "378039a4b3a94768b6925fee457b32ba",
       "version_major": 2,
       "version_minor": 0
      },
      "text/plain": [
       "Render HTML:   0%|          | 0/1 [00:00<?, ?it/s]"
      ]
     },
     "metadata": {},
     "output_type": "display_data"
    },
    {
     "data": {
      "application/vnd.jupyter.widget-view+json": {
       "model_id": "d19b450c72d0409da6ee0c8ae59e3eeb",
       "version_major": 2,
       "version_minor": 0
      },
      "text/plain": [
       "Export report to file:   0%|          | 0/1 [00:00<?, ?it/s]"
      ]
     },
     "metadata": {},
     "output_type": "display_data"
    }
   ],
   "source": [
    "#Gerando o relatório exploratório do 'shapes' em HTML\n",
    "\n",
    "relatorio_stop_times = ProfileReport(stop_times, title='Relatorio stop_times')\n",
    "relatorio_stop_times.to_file('stop_times.html')"
   ]
  },
  {
   "cell_type": "markdown",
   "id": "539b89f9-a4a1-458b-aae1-8643b5b03dd3",
   "metadata": {},
   "source": [
    "### <div style=\"background-color:#226C35; color:#FFFFFF; padding:10px\">Conclusões:</div>\n",
    "\n",
    "- Esse data frame também é interessante na coleta de dados temporais, nós conseguimos fazer uma coleta de dados de paradas dos ônibus.\n",
    "- Pudemos ver o tempo de parada de cada ônibus.\n",
    "- Vamos cruzar essas informações com outros data frames em um outro momento."
   ]
  },
  {
   "cell_type": "markdown",
   "id": "fbc37fc0-9080-4299-8318-19d31da375b6",
   "metadata": {},
   "source": [
    "## Explorando o Data Frame 'stops'"
   ]
  },
  {
   "cell_type": "code",
   "execution_count": 154,
   "id": "be2ecbee-0c09-47ea-8a27-29e08585eee2",
   "metadata": {},
   "outputs": [
    {
     "name": "stdout",
     "output_type": "stream",
     "text": [
      "O Data Frame tem 3512 linhas e 5 colunas.\n"
     ]
    }
   ],
   "source": [
    "print(f'O Data Frame tem {stops.shape[0]} linhas e {stops.shape[1]} colunas.')"
   ]
  },
  {
   "cell_type": "code",
   "execution_count": 32,
   "id": "8c6cd049-df5b-4b08-8231-97be051f4dd6",
   "metadata": {},
   "outputs": [
    {
     "data": {
      "text/html": [
       "<div>\n",
       "<style scoped>\n",
       "    .dataframe tbody tr th:only-of-type {\n",
       "        vertical-align: middle;\n",
       "    }\n",
       "\n",
       "    .dataframe tbody tr th {\n",
       "        vertical-align: top;\n",
       "    }\n",
       "\n",
       "    .dataframe thead th {\n",
       "        text-align: right;\n",
       "    }\n",
       "</style>\n",
       "<table border=\"1\" class=\"dataframe\">\n",
       "  <thead>\n",
       "    <tr style=\"text-align: right;\">\n",
       "      <th></th>\n",
       "      <th>stop_id</th>\n",
       "      <th>stop_code</th>\n",
       "      <th>stop_name</th>\n",
       "      <th>stop_desc</th>\n",
       "      <th>stop_lat</th>\n",
       "      <th>stop_lon</th>\n",
       "      <th>stop_url</th>\n",
       "      <th>location_type</th>\n",
       "      <th>parent_station</th>\n",
       "    </tr>\n",
       "  </thead>\n",
       "  <tbody>\n",
       "    <tr>\n",
       "      <th>0</th>\n",
       "      <td>032d12a4-6609-11ed-98db-5adc55d213d0</td>\n",
       "      <td>NaN</td>\n",
       "      <td>Rua Comendador Genésio Rodrigues Sorocaba - Sã...</td>\n",
       "      <td>NaN</td>\n",
       "      <td>-23.453080</td>\n",
       "      <td>-47.505257</td>\n",
       "      <td>NaN</td>\n",
       "      <td>0</td>\n",
       "      <td>NaN</td>\n",
       "    </tr>\n",
       "    <tr>\n",
       "      <th>1</th>\n",
       "      <td>032dcd58-6609-11ed-98db-5adc55d213d0</td>\n",
       "      <td>NaN</td>\n",
       "      <td>Estr. do Dinorah, 404 - Lot. Dinora Rosa, Soro...</td>\n",
       "      <td>NaN</td>\n",
       "      <td>-23.448650</td>\n",
       "      <td>-47.504444</td>\n",
       "      <td>NaN</td>\n",
       "      <td>0</td>\n",
       "      <td>NaN</td>\n",
       "    </tr>\n",
       "    <tr>\n",
       "      <th>2</th>\n",
       "      <td>032e526c-6609-11ed-98db-5adc55d213d0</td>\n",
       "      <td>NaN</td>\n",
       "      <td>Estr. do Dinorah, 97-109 - Lot. Dinora Rosa, S...</td>\n",
       "      <td>NaN</td>\n",
       "      <td>-23.445818</td>\n",
       "      <td>-47.504887</td>\n",
       "      <td>NaN</td>\n",
       "      <td>0</td>\n",
       "      <td>NaN</td>\n",
       "    </tr>\n",
       "    <tr>\n",
       "      <th>3</th>\n",
       "      <td>032eba14-6609-11ed-98db-5adc55d213d0</td>\n",
       "      <td>NaN</td>\n",
       "      <td>Avenida Vinícius de Moraes, 201</td>\n",
       "      <td>NaN</td>\n",
       "      <td>-23.442480</td>\n",
       "      <td>-47.505320</td>\n",
       "      <td>NaN</td>\n",
       "      <td>0</td>\n",
       "      <td>NaN</td>\n",
       "    </tr>\n",
       "    <tr>\n",
       "      <th>4</th>\n",
       "      <td>032f8569-6609-11ed-98db-5adc55d213d0</td>\n",
       "      <td>NaN</td>\n",
       "      <td>Av. Vinícius de Moraes, 501-549 - Parque São B...</td>\n",
       "      <td>NaN</td>\n",
       "      <td>-23.437971</td>\n",
       "      <td>-47.505177</td>\n",
       "      <td>NaN</td>\n",
       "      <td>0</td>\n",
       "      <td>NaN</td>\n",
       "    </tr>\n",
       "  </tbody>\n",
       "</table>\n",
       "</div>"
      ],
      "text/plain": [
       "                                stop_id  stop_code  \\\n",
       "0  032d12a4-6609-11ed-98db-5adc55d213d0        NaN   \n",
       "1  032dcd58-6609-11ed-98db-5adc55d213d0        NaN   \n",
       "2  032e526c-6609-11ed-98db-5adc55d213d0        NaN   \n",
       "3  032eba14-6609-11ed-98db-5adc55d213d0        NaN   \n",
       "4  032f8569-6609-11ed-98db-5adc55d213d0        NaN   \n",
       "\n",
       "                                           stop_name  stop_desc   stop_lat  \\\n",
       "0  Rua Comendador Genésio Rodrigues Sorocaba - Sã...        NaN -23.453080   \n",
       "1  Estr. do Dinorah, 404 - Lot. Dinora Rosa, Soro...        NaN -23.448650   \n",
       "2  Estr. do Dinorah, 97-109 - Lot. Dinora Rosa, S...        NaN -23.445818   \n",
       "3                    Avenida Vinícius de Moraes, 201        NaN -23.442480   \n",
       "4  Av. Vinícius de Moraes, 501-549 - Parque São B...        NaN -23.437971   \n",
       "\n",
       "    stop_lon  stop_url  location_type  parent_station  \n",
       "0 -47.505257       NaN              0             NaN  \n",
       "1 -47.504444       NaN              0             NaN  \n",
       "2 -47.504887       NaN              0             NaN  \n",
       "3 -47.505320       NaN              0             NaN  \n",
       "4 -47.505177       NaN              0             NaN  "
      ]
     },
     "execution_count": 32,
     "metadata": {},
     "output_type": "execute_result"
    }
   ],
   "source": [
    "stops.head()"
   ]
  },
  {
   "cell_type": "code",
   "execution_count": 34,
   "id": "812f95cc-b466-49c8-af60-80dda0c04f2d",
   "metadata": {},
   "outputs": [
    {
     "data": {
      "text/html": [
       "<div>\n",
       "<style scoped>\n",
       "    .dataframe tbody tr th:only-of-type {\n",
       "        vertical-align: middle;\n",
       "    }\n",
       "\n",
       "    .dataframe tbody tr th {\n",
       "        vertical-align: top;\n",
       "    }\n",
       "\n",
       "    .dataframe thead th {\n",
       "        text-align: right;\n",
       "    }\n",
       "</style>\n",
       "<table border=\"1\" class=\"dataframe\">\n",
       "  <thead>\n",
       "    <tr style=\"text-align: right;\">\n",
       "      <th></th>\n",
       "      <th>stop_code</th>\n",
       "      <th>stop_desc</th>\n",
       "      <th>stop_lat</th>\n",
       "      <th>stop_lon</th>\n",
       "      <th>stop_url</th>\n",
       "      <th>location_type</th>\n",
       "      <th>parent_station</th>\n",
       "    </tr>\n",
       "  </thead>\n",
       "  <tbody>\n",
       "    <tr>\n",
       "      <th>count</th>\n",
       "      <td>0.0</td>\n",
       "      <td>0.0</td>\n",
       "      <td>3512.000000</td>\n",
       "      <td>3512.000000</td>\n",
       "      <td>0.0</td>\n",
       "      <td>3512.0</td>\n",
       "      <td>0.0</td>\n",
       "    </tr>\n",
       "    <tr>\n",
       "      <th>mean</th>\n",
       "      <td>NaN</td>\n",
       "      <td>NaN</td>\n",
       "      <td>-23.476621</td>\n",
       "      <td>-47.455528</td>\n",
       "      <td>NaN</td>\n",
       "      <td>0.0</td>\n",
       "      <td>NaN</td>\n",
       "    </tr>\n",
       "    <tr>\n",
       "      <th>std</th>\n",
       "      <td>NaN</td>\n",
       "      <td>NaN</td>\n",
       "      <td>0.038127</td>\n",
       "      <td>0.050361</td>\n",
       "      <td>NaN</td>\n",
       "      <td>0.0</td>\n",
       "      <td>NaN</td>\n",
       "    </tr>\n",
       "    <tr>\n",
       "      <th>min</th>\n",
       "      <td>NaN</td>\n",
       "      <td>NaN</td>\n",
       "      <td>-23.583075</td>\n",
       "      <td>-47.563020</td>\n",
       "      <td>NaN</td>\n",
       "      <td>0.0</td>\n",
       "      <td>NaN</td>\n",
       "    </tr>\n",
       "    <tr>\n",
       "      <th>25%</th>\n",
       "      <td>NaN</td>\n",
       "      <td>NaN</td>\n",
       "      <td>-23.504027</td>\n",
       "      <td>-47.492478</td>\n",
       "      <td>NaN</td>\n",
       "      <td>0.0</td>\n",
       "      <td>NaN</td>\n",
       "    </tr>\n",
       "    <tr>\n",
       "      <th>50%</th>\n",
       "      <td>NaN</td>\n",
       "      <td>NaN</td>\n",
       "      <td>-23.480617</td>\n",
       "      <td>-47.464620</td>\n",
       "      <td>NaN</td>\n",
       "      <td>0.0</td>\n",
       "      <td>NaN</td>\n",
       "    </tr>\n",
       "    <tr>\n",
       "      <th>75%</th>\n",
       "      <td>NaN</td>\n",
       "      <td>NaN</td>\n",
       "      <td>-23.451412</td>\n",
       "      <td>-47.428943</td>\n",
       "      <td>NaN</td>\n",
       "      <td>0.0</td>\n",
       "      <td>NaN</td>\n",
       "    </tr>\n",
       "    <tr>\n",
       "      <th>max</th>\n",
       "      <td>NaN</td>\n",
       "      <td>NaN</td>\n",
       "      <td>-23.353216</td>\n",
       "      <td>-47.282970</td>\n",
       "      <td>NaN</td>\n",
       "      <td>0.0</td>\n",
       "      <td>NaN</td>\n",
       "    </tr>\n",
       "  </tbody>\n",
       "</table>\n",
       "</div>"
      ],
      "text/plain": [
       "       stop_code  stop_desc     stop_lat     stop_lon  stop_url  \\\n",
       "count        0.0        0.0  3512.000000  3512.000000       0.0   \n",
       "mean         NaN        NaN   -23.476621   -47.455528       NaN   \n",
       "std          NaN        NaN     0.038127     0.050361       NaN   \n",
       "min          NaN        NaN   -23.583075   -47.563020       NaN   \n",
       "25%          NaN        NaN   -23.504027   -47.492478       NaN   \n",
       "50%          NaN        NaN   -23.480617   -47.464620       NaN   \n",
       "75%          NaN        NaN   -23.451412   -47.428943       NaN   \n",
       "max          NaN        NaN   -23.353216   -47.282970       NaN   \n",
       "\n",
       "       location_type  parent_station  \n",
       "count         3512.0             0.0  \n",
       "mean             0.0             NaN  \n",
       "std              0.0             NaN  \n",
       "min              0.0             NaN  \n",
       "25%              0.0             NaN  \n",
       "50%              0.0             NaN  \n",
       "75%              0.0             NaN  \n",
       "max              0.0             NaN  "
      ]
     },
     "execution_count": 34,
     "metadata": {},
     "output_type": "execute_result"
    }
   ],
   "source": [
    "stops.describe()"
   ]
  },
  {
   "cell_type": "code",
   "execution_count": 52,
   "id": "b7bd9049-c7bc-4787-9b45-0b60c714effe",
   "metadata": {},
   "outputs": [
    {
     "name": "stdout",
     "output_type": "stream",
     "text": [
      "<class 'pandas.core.frame.DataFrame'>\n",
      "RangeIndex: 3512 entries, 0 to 3511\n",
      "Data columns (total 9 columns):\n",
      " #   Column          Non-Null Count  Dtype  \n",
      "---  ------          --------------  -----  \n",
      " 0   stop_id         3512 non-null   object \n",
      " 1   stop_code       0 non-null      float64\n",
      " 2   stop_name       3512 non-null   object \n",
      " 3   stop_desc       0 non-null      float64\n",
      " 4   stop_lat        3512 non-null   float64\n",
      " 5   stop_lon        3512 non-null   float64\n",
      " 6   stop_url        0 non-null      float64\n",
      " 7   location_type   3512 non-null   int64  \n",
      " 8   parent_station  0 non-null      float64\n",
      "dtypes: float64(6), int64(1), object(2)\n",
      "memory usage: 247.1+ KB\n"
     ]
    }
   ],
   "source": [
    "stops.info()"
   ]
  },
  {
   "cell_type": "code",
   "execution_count": 75,
   "id": "718b5a5b-070a-42ab-8479-fa77ce458f07",
   "metadata": {},
   "outputs": [],
   "source": [
    "stops = stops.drop(['stop_code','stop_desc','stop_url','parent_station'], axis=1)"
   ]
  },
  {
   "cell_type": "code",
   "execution_count": 76,
   "id": "f83f9110-c6c8-4f3f-a402-dcabd0623067",
   "metadata": {},
   "outputs": [
    {
     "data": {
      "application/vnd.jupyter.widget-view+json": {
       "model_id": "8a728031c926425989a88111e397bfe6",
       "version_major": 2,
       "version_minor": 0
      },
      "text/plain": [
       "Summarize dataset:   0%|          | 0/5 [00:00<?, ?it/s]"
      ]
     },
     "metadata": {},
     "output_type": "display_data"
    },
    {
     "data": {
      "application/vnd.jupyter.widget-view+json": {
       "model_id": "cc5cdbcbdce2492490706b280ab13645",
       "version_major": 2,
       "version_minor": 0
      },
      "text/plain": [
       "Generate report structure:   0%|          | 0/1 [00:00<?, ?it/s]"
      ]
     },
     "metadata": {},
     "output_type": "display_data"
    },
    {
     "data": {
      "application/vnd.jupyter.widget-view+json": {
       "model_id": "2cc59943d82544e5a195bfac84d1c280",
       "version_major": 2,
       "version_minor": 0
      },
      "text/plain": [
       "Render HTML:   0%|          | 0/1 [00:00<?, ?it/s]"
      ]
     },
     "metadata": {},
     "output_type": "display_data"
    },
    {
     "data": {
      "application/vnd.jupyter.widget-view+json": {
       "model_id": "340871f52f4d46f3a148a4b43a7f4140",
       "version_major": 2,
       "version_minor": 0
      },
      "text/plain": [
       "Export report to file:   0%|          | 0/1 [00:00<?, ?it/s]"
      ]
     },
     "metadata": {},
     "output_type": "display_data"
    }
   ],
   "source": [
    "#Gerando o relatório exploratório do 'stops' em HTML\n",
    "\n",
    "relatorio_stops = ProfileReport(stops, title='Relatorio stops')\n",
    "relatorio_stops.to_file('stops.html')"
   ]
  },
  {
   "cell_type": "markdown",
   "id": "474af371-ba1c-48e1-9f7e-0d3d1c2e5b03",
   "metadata": {},
   "source": [
    "## Explorando o Data Frame 'trips'"
   ]
  },
  {
   "cell_type": "code",
   "execution_count": 155,
   "id": "c6e28323-2de5-4ee8-bbef-a11fd1d5d76c",
   "metadata": {},
   "outputs": [
    {
     "name": "stdout",
     "output_type": "stream",
     "text": [
      "O Data Frame tem 46311 linhas e 6 colunas.\n"
     ]
    }
   ],
   "source": [
    "print(f'O Data Frame tem {trips.shape[0]} linhas e {trips.shape[1]} colunas.')"
   ]
  },
  {
   "cell_type": "code",
   "execution_count": 38,
   "id": "4c83bb23-7a14-4407-961f-374074e74a18",
   "metadata": {},
   "outputs": [
    {
     "data": {
      "text/html": [
       "<div>\n",
       "<style scoped>\n",
       "    .dataframe tbody tr th:only-of-type {\n",
       "        vertical-align: middle;\n",
       "    }\n",
       "\n",
       "    .dataframe tbody tr th {\n",
       "        vertical-align: top;\n",
       "    }\n",
       "\n",
       "    .dataframe thead th {\n",
       "        text-align: right;\n",
       "    }\n",
       "</style>\n",
       "<table border=\"1\" class=\"dataframe\">\n",
       "  <thead>\n",
       "    <tr style=\"text-align: right;\">\n",
       "      <th></th>\n",
       "      <th>route_id</th>\n",
       "      <th>service_id</th>\n",
       "      <th>trip_id</th>\n",
       "      <th>trip_headsign</th>\n",
       "      <th>direction_id</th>\n",
       "      <th>shape_id</th>\n",
       "    </tr>\n",
       "  </thead>\n",
       "  <tbody>\n",
       "    <tr>\n",
       "      <th>0</th>\n",
       "      <td>659c7774-8dd9-4651-a12e-914c4e24f3d0</td>\n",
       "      <td>1001-53153-20230429</td>\n",
       "      <td>368d3558-ce36-41fd-9f62-8389be0f833d_92960947</td>\n",
       "      <td>São Bento</td>\n",
       "      <td>0</td>\n",
       "      <td>368d3558-ce36-41fd-9f62-8389be0f833d</td>\n",
       "    </tr>\n",
       "    <tr>\n",
       "      <th>1</th>\n",
       "      <td>659c7774-8dd9-4651-a12e-914c4e24f3d0</td>\n",
       "      <td>1001-53153-20230427</td>\n",
       "      <td>368d3558-ce36-41fd-9f62-8389be0f833d_96538600</td>\n",
       "      <td>São Bento</td>\n",
       "      <td>0</td>\n",
       "      <td>368d3558-ce36-41fd-9f62-8389be0f833d</td>\n",
       "    </tr>\n",
       "    <tr>\n",
       "      <th>2</th>\n",
       "      <td>659c7774-8dd9-4651-a12e-914c4e24f3d0</td>\n",
       "      <td>1001-53153-20230427</td>\n",
       "      <td>368d3558-ce36-41fd-9f62-8389be0f833d_96538477</td>\n",
       "      <td>São Bento</td>\n",
       "      <td>0</td>\n",
       "      <td>368d3558-ce36-41fd-9f62-8389be0f833d</td>\n",
       "    </tr>\n",
       "    <tr>\n",
       "      <th>3</th>\n",
       "      <td>659c7774-8dd9-4651-a12e-914c4e24f3d0</td>\n",
       "      <td>1001-53153-20230430</td>\n",
       "      <td>368d3558-ce36-41fd-9f62-8389be0f833d_93997326</td>\n",
       "      <td>São Bento</td>\n",
       "      <td>0</td>\n",
       "      <td>368d3558-ce36-41fd-9f62-8389be0f833d</td>\n",
       "    </tr>\n",
       "    <tr>\n",
       "      <th>4</th>\n",
       "      <td>659c7774-8dd9-4651-a12e-914c4e24f3d0</td>\n",
       "      <td>1001-53153-20230426</td>\n",
       "      <td>368d3558-ce36-41fd-9f62-8389be0f833d_94321540</td>\n",
       "      <td>São Bento</td>\n",
       "      <td>0</td>\n",
       "      <td>368d3558-ce36-41fd-9f62-8389be0f833d</td>\n",
       "    </tr>\n",
       "  </tbody>\n",
       "</table>\n",
       "</div>"
      ],
      "text/plain": [
       "                               route_id           service_id  \\\n",
       "0  659c7774-8dd9-4651-a12e-914c4e24f3d0  1001-53153-20230429   \n",
       "1  659c7774-8dd9-4651-a12e-914c4e24f3d0  1001-53153-20230427   \n",
       "2  659c7774-8dd9-4651-a12e-914c4e24f3d0  1001-53153-20230427   \n",
       "3  659c7774-8dd9-4651-a12e-914c4e24f3d0  1001-53153-20230430   \n",
       "4  659c7774-8dd9-4651-a12e-914c4e24f3d0  1001-53153-20230426   \n",
       "\n",
       "                                         trip_id trip_headsign  direction_id  \\\n",
       "0  368d3558-ce36-41fd-9f62-8389be0f833d_92960947     São Bento             0   \n",
       "1  368d3558-ce36-41fd-9f62-8389be0f833d_96538600     São Bento             0   \n",
       "2  368d3558-ce36-41fd-9f62-8389be0f833d_96538477     São Bento             0   \n",
       "3  368d3558-ce36-41fd-9f62-8389be0f833d_93997326     São Bento             0   \n",
       "4  368d3558-ce36-41fd-9f62-8389be0f833d_94321540     São Bento             0   \n",
       "\n",
       "                               shape_id  \n",
       "0  368d3558-ce36-41fd-9f62-8389be0f833d  \n",
       "1  368d3558-ce36-41fd-9f62-8389be0f833d  \n",
       "2  368d3558-ce36-41fd-9f62-8389be0f833d  \n",
       "3  368d3558-ce36-41fd-9f62-8389be0f833d  \n",
       "4  368d3558-ce36-41fd-9f62-8389be0f833d  "
      ]
     },
     "execution_count": 38,
     "metadata": {},
     "output_type": "execute_result"
    }
   ],
   "source": [
    "trips.head()"
   ]
  },
  {
   "cell_type": "code",
   "execution_count": 39,
   "id": "ea40b87e-b745-44f3-acd8-afa785ab87b5",
   "metadata": {},
   "outputs": [
    {
     "data": {
      "text/html": [
       "<div>\n",
       "<style scoped>\n",
       "    .dataframe tbody tr th:only-of-type {\n",
       "        vertical-align: middle;\n",
       "    }\n",
       "\n",
       "    .dataframe tbody tr th {\n",
       "        vertical-align: top;\n",
       "    }\n",
       "\n",
       "    .dataframe thead th {\n",
       "        text-align: right;\n",
       "    }\n",
       "</style>\n",
       "<table border=\"1\" class=\"dataframe\">\n",
       "  <thead>\n",
       "    <tr style=\"text-align: right;\">\n",
       "      <th></th>\n",
       "      <th>direction_id</th>\n",
       "    </tr>\n",
       "  </thead>\n",
       "  <tbody>\n",
       "    <tr>\n",
       "      <th>count</th>\n",
       "      <td>46311.000000</td>\n",
       "    </tr>\n",
       "    <tr>\n",
       "      <th>mean</th>\n",
       "      <td>0.473494</td>\n",
       "    </tr>\n",
       "    <tr>\n",
       "      <th>std</th>\n",
       "      <td>0.499302</td>\n",
       "    </tr>\n",
       "    <tr>\n",
       "      <th>min</th>\n",
       "      <td>0.000000</td>\n",
       "    </tr>\n",
       "    <tr>\n",
       "      <th>25%</th>\n",
       "      <td>0.000000</td>\n",
       "    </tr>\n",
       "    <tr>\n",
       "      <th>50%</th>\n",
       "      <td>0.000000</td>\n",
       "    </tr>\n",
       "    <tr>\n",
       "      <th>75%</th>\n",
       "      <td>1.000000</td>\n",
       "    </tr>\n",
       "    <tr>\n",
       "      <th>max</th>\n",
       "      <td>1.000000</td>\n",
       "    </tr>\n",
       "  </tbody>\n",
       "</table>\n",
       "</div>"
      ],
      "text/plain": [
       "       direction_id\n",
       "count  46311.000000\n",
       "mean       0.473494\n",
       "std        0.499302\n",
       "min        0.000000\n",
       "25%        0.000000\n",
       "50%        0.000000\n",
       "75%        1.000000\n",
       "max        1.000000"
      ]
     },
     "execution_count": 39,
     "metadata": {},
     "output_type": "execute_result"
    }
   ],
   "source": [
    "trips.describe()"
   ]
  },
  {
   "cell_type": "code",
   "execution_count": 53,
   "id": "cd53911b-f34b-43cf-81f2-7739ed736a41",
   "metadata": {},
   "outputs": [
    {
     "name": "stdout",
     "output_type": "stream",
     "text": [
      "<class 'pandas.core.frame.DataFrame'>\n",
      "RangeIndex: 46311 entries, 0 to 46310\n",
      "Data columns (total 6 columns):\n",
      " #   Column         Non-Null Count  Dtype \n",
      "---  ------         --------------  ----- \n",
      " 0   route_id       46311 non-null  object\n",
      " 1   service_id     46311 non-null  object\n",
      " 2   trip_id        46311 non-null  object\n",
      " 3   trip_headsign  46311 non-null  object\n",
      " 4   direction_id   46311 non-null  int64 \n",
      " 5   shape_id       46311 non-null  object\n",
      "dtypes: int64(1), object(5)\n",
      "memory usage: 2.1+ MB\n"
     ]
    }
   ],
   "source": [
    "trips.info()"
   ]
  },
  {
   "cell_type": "code",
   "execution_count": 174,
   "id": "c58b6d68-c61d-4893-9af5-f690f76a3c98",
   "metadata": {},
   "outputs": [
    {
     "data": {
      "text/plain": [
       "(628,)"
      ]
     },
     "execution_count": 174,
     "metadata": {},
     "output_type": "execute_result"
    }
   ],
   "source": [
    "contagem_shape_id_2 = trips['shape_id'].value_counts()\n",
    "contagem_shape_id_2.shape"
   ]
  },
  {
   "cell_type": "code",
   "execution_count": 126,
   "id": "d0d6eaeb-5b9f-4686-9050-8cefe40b17d1",
   "metadata": {},
   "outputs": [
    {
     "data": {
      "image/png": "[encoded data removed]",
      "text/plain": [
       "<Figure size 1200x600 with 1 Axes>"
      ]
     },
     "metadata": {},
     "output_type": "display_data"
    }
   ],
   "source": [
    "#Plot exploratório\n",
    "\n",
    "trip_counts = trips.groupby('route_id')['shape_id'].nunique().sort_values(ascending=False)\n",
    "\n",
    "# plot the bar graph\n",
    "trip_counts.plot.bar(figsize=(12,6))\n",
    "plt.title('Number of trips per route')\n",
    "plt.xlabel('Route ID')\n",
    "plt.ylabel('Number of trips')\n",
    "plt.show()"
   ]
  },
  {
   "cell_type": "code",
   "execution_count": 60,
   "id": "f8aa8091-42d2-49f2-91f9-31f7b0bb8650",
   "metadata": {},
   "outputs": [
    {
     "data": {
      "application/vnd.jupyter.widget-view+json": {
       "model_id": "97fb64e2fca444c6a5ece80f20f121c9",
       "version_major": 2,
       "version_minor": 0
      },
      "text/plain": [
       "Summarize dataset:   0%|          | 0/5 [00:00<?, ?it/s]"
      ]
     },
     "metadata": {},
     "output_type": "display_data"
    },
    {
     "data": {
      "application/vnd.jupyter.widget-view+json": {
       "model_id": "599dc251338c44c2a1b5babf69b336a7",
       "version_major": 2,
       "version_minor": 0
      },
      "text/plain": [
       "Generate report structure:   0%|          | 0/1 [00:00<?, ?it/s]"
      ]
     },
     "metadata": {},
     "output_type": "display_data"
    },
    {
     "data": {
      "application/vnd.jupyter.widget-view+json": {
       "model_id": "e7c0757909ea46bba5c8d8f1a51702fe",
       "version_major": 2,
       "version_minor": 0
      },
      "text/plain": [
       "Render HTML:   0%|          | 0/1 [00:00<?, ?it/s]"
      ]
     },
     "metadata": {},
     "output_type": "display_data"
    },
    {
     "data": {
      "application/vnd.jupyter.widget-view+json": {
       "model_id": "d7f52263550a418199742f23bcdb73c0",
       "version_major": 2,
       "version_minor": 0
      },
      "text/plain": [
       "Export report to file:   0%|          | 0/1 [00:00<?, ?it/s]"
      ]
     },
     "metadata": {},
     "output_type": "display_data"
    }
   ],
   "source": [
    "#Gerando o relatório exploratório do 'trips' em HTML\n",
    "\n",
    "relatorio_trips = ProfileReport(trips, title='Relatorio trips')\n",
    "relatorio_trips.to_file('trips.html')"
   ]
  },
  {
   "cell_type": "markdown",
   "id": "faa4baa2-9cb0-4513-837a-f2d33d564500",
   "metadata": {},
   "source": [
    "## Explorando o Data Frame 'calendar_dates'"
   ]
  },
  {
   "cell_type": "code",
   "execution_count": 194,
   "id": "fd425ddd-753b-4779-9f4b-f9bff2bc1d80",
   "metadata": {},
   "outputs": [
    {
     "name": "stdout",
     "output_type": "stream",
     "text": [
      "O Data Frame tem 32740 linhas e 3 colunas.\n"
     ]
    }
   ],
   "source": [
    "print(f'O Data Frame tem {calendar_dates.shape[0]} linhas e {calendar_dates.shape[1]} colunas.')"
   ]
  },
  {
   "cell_type": "code",
   "execution_count": 195,
   "id": "96504989-c0c8-42a2-aa7f-d7530ef40a35",
   "metadata": {},
   "outputs": [
    {
     "data": {
      "text/html": [
       "<div>\n",
       "<style scoped>\n",
       "    .dataframe tbody tr th:only-of-type {\n",
       "        vertical-align: middle;\n",
       "    }\n",
       "\n",
       "    .dataframe tbody tr th {\n",
       "        vertical-align: top;\n",
       "    }\n",
       "\n",
       "    .dataframe thead th {\n",
       "        text-align: right;\n",
       "    }\n",
       "</style>\n",
       "<table border=\"1\" class=\"dataframe\">\n",
       "  <thead>\n",
       "    <tr style=\"text-align: right;\">\n",
       "      <th></th>\n",
       "      <th>service_id</th>\n",
       "      <th>date</th>\n",
       "      <th>exception_type</th>\n",
       "    </tr>\n",
       "  </thead>\n",
       "  <tbody>\n",
       "    <tr>\n",
       "      <th>0</th>\n",
       "      <td>1001-53153-20230429</td>\n",
       "      <td>2023-04-29</td>\n",
       "      <td>1</td>\n",
       "    </tr>\n",
       "    <tr>\n",
       "      <th>1</th>\n",
       "      <td>1001-53153-20230427</td>\n",
       "      <td>2023-04-27</td>\n",
       "      <td>1</td>\n",
       "    </tr>\n",
       "    <tr>\n",
       "      <th>2</th>\n",
       "      <td>1001-53153-20230430</td>\n",
       "      <td>2023-04-30</td>\n",
       "      <td>1</td>\n",
       "    </tr>\n",
       "    <tr>\n",
       "      <th>3</th>\n",
       "      <td>1001-53153-20230426</td>\n",
       "      <td>2023-04-26</td>\n",
       "      <td>1</td>\n",
       "    </tr>\n",
       "    <tr>\n",
       "      <th>4</th>\n",
       "      <td>1001-53153-20230428</td>\n",
       "      <td>2023-04-28</td>\n",
       "      <td>1</td>\n",
       "    </tr>\n",
       "  </tbody>\n",
       "</table>\n",
       "</div>"
      ],
      "text/plain": [
       "            service_id       date  exception_type\n",
       "0  1001-53153-20230429 2023-04-29               1\n",
       "1  1001-53153-20230427 2023-04-27               1\n",
       "2  1001-53153-20230430 2023-04-30               1\n",
       "3  1001-53153-20230426 2023-04-26               1\n",
       "4  1001-53153-20230428 2023-04-28               1"
      ]
     },
     "execution_count": 195,
     "metadata": {},
     "output_type": "execute_result"
    }
   ],
   "source": [
    "calendar_dates.head()"
   ]
  },
  {
   "cell_type": "code",
   "execution_count": 196,
   "id": "8b36b2b0-b367-4be6-997b-f926f97dd5d0",
   "metadata": {},
   "outputs": [],
   "source": [
    "calendar_dates['date'] = pd.to_datetime(calendar_dates['date'], format='%Y%m%d')"
   ]
  },
  {
   "cell_type": "code",
   "execution_count": 197,
   "id": "e278a66d-9f92-497d-bdda-6a7399c4fec1",
   "metadata": {},
   "outputs": [
    {
     "data": {
      "text/html": [
       "<div>\n",
       "<style scoped>\n",
       "    .dataframe tbody tr th:only-of-type {\n",
       "        vertical-align: middle;\n",
       "    }\n",
       "\n",
       "    .dataframe tbody tr th {\n",
       "        vertical-align: top;\n",
       "    }\n",
       "\n",
       "    .dataframe thead th {\n",
       "        text-align: right;\n",
       "    }\n",
       "</style>\n",
       "<table border=\"1\" class=\"dataframe\">\n",
       "  <thead>\n",
       "    <tr style=\"text-align: right;\">\n",
       "      <th></th>\n",
       "      <th>exception_type</th>\n",
       "    </tr>\n",
       "  </thead>\n",
       "  <tbody>\n",
       "    <tr>\n",
       "      <th>count</th>\n",
       "      <td>32740.0</td>\n",
       "    </tr>\n",
       "    <tr>\n",
       "      <th>mean</th>\n",
       "      <td>1.0</td>\n",
       "    </tr>\n",
       "    <tr>\n",
       "      <th>std</th>\n",
       "      <td>0.0</td>\n",
       "    </tr>\n",
       "    <tr>\n",
       "      <th>min</th>\n",
       "      <td>1.0</td>\n",
       "    </tr>\n",
       "    <tr>\n",
       "      <th>25%</th>\n",
       "      <td>1.0</td>\n",
       "    </tr>\n",
       "    <tr>\n",
       "      <th>50%</th>\n",
       "      <td>1.0</td>\n",
       "    </tr>\n",
       "    <tr>\n",
       "      <th>75%</th>\n",
       "      <td>1.0</td>\n",
       "    </tr>\n",
       "    <tr>\n",
       "      <th>max</th>\n",
       "      <td>1.0</td>\n",
       "    </tr>\n",
       "  </tbody>\n",
       "</table>\n",
       "</div>"
      ],
      "text/plain": [
       "       exception_type\n",
       "count         32740.0\n",
       "mean              1.0\n",
       "std               0.0\n",
       "min               1.0\n",
       "25%               1.0\n",
       "50%               1.0\n",
       "75%               1.0\n",
       "max               1.0"
      ]
     },
     "execution_count": 197,
     "metadata": {},
     "output_type": "execute_result"
    }
   ],
   "source": [
    "calendar_dates.describe()"
   ]
  },
  {
   "cell_type": "code",
   "execution_count": 200,
   "id": "2d9626a9-9bb5-4fc2-929c-a0ebe81ddcd1",
   "metadata": {},
   "outputs": [
    {
     "name": "stdout",
     "output_type": "stream",
     "text": [
      "<class 'pandas.core.frame.DataFrame'>\n",
      "RangeIndex: 32740 entries, 0 to 32739\n",
      "Data columns (total 3 columns):\n",
      " #   Column          Non-Null Count  Dtype         \n",
      "---  ------          --------------  -----         \n",
      " 0   service_id      32740 non-null  object        \n",
      " 1   date            32740 non-null  datetime64[ns]\n",
      " 2   exception_type  32740 non-null  int64         \n",
      "dtypes: datetime64[ns](1), int64(1), object(1)\n",
      "memory usage: 767.5+ KB\n"
     ]
    }
   ],
   "source": [
    "calendar_dates.info()"
   ]
  },
  {
   "cell_type": "code",
   "execution_count": 199,
   "id": "8214450a-a42c-452b-a715-e0f907148b2f",
   "metadata": {},
   "outputs": [
    {
     "data": {
      "image/png": "[encoded data removed]",
      "text/plain": [
       "<Figure size 1200x600 with 1 Axes>"
      ]
     },
     "metadata": {},
     "output_type": "display_data"
    }
   ],
   "source": [
    "#Plot exploratório\n",
    "date_counts = calendar_dates.groupby('date')['service_id'].nunique().sort_values(ascending=False)\n",
    "\n",
    "# plot the bar graph\n",
    "calendar_dates.plot.bar(figsize=(12,6))\n",
    "plt.title('Number of service_id per day')\n",
    "plt.xlabel('Date')\n",
    "plt.ylabel('Number of Service_id')\n",
    "plt.show()"
   ]
  },
  {
   "cell_type": "code",
   "execution_count": 201,
   "id": "e6a0f2b9-3b39-41e5-904f-87e53d48b39e",
   "metadata": {},
   "outputs": [
    {
     "data": {
      "application/vnd.jupyter.widget-view+json": {
       "model_id": "75f45a2e2654460b93b7e62f8d8c19f2",
       "version_major": 2,
       "version_minor": 0
      },
      "text/plain": [
       "Summarize dataset:   0%|          | 0/5 [00:00<?, ?it/s]"
      ]
     },
     "metadata": {},
     "output_type": "display_data"
    },
    {
     "data": {
      "application/vnd.jupyter.widget-view+json": {
       "model_id": "2aade413bfbb4b958e0747bf31893a16",
       "version_major": 2,
       "version_minor": 0
      },
      "text/plain": [
       "Generate report structure:   0%|          | 0/1 [00:00<?, ?it/s]"
      ]
     },
     "metadata": {},
     "output_type": "display_data"
    },
    {
     "data": {
      "application/vnd.jupyter.widget-view+json": {
       "model_id": "8d2d7a03454e4581a00f32e87f5e160c",
       "version_major": 2,
       "version_minor": 0
      },
      "text/plain": [
       "Render HTML:   0%|          | 0/1 [00:00<?, ?it/s]"
      ]
     },
     "metadata": {},
     "output_type": "display_data"
    },
    {
     "data": {
      "application/vnd.jupyter.widget-view+json": {
       "model_id": "81bc3d30acb04019808ea600b8b28a00",
       "version_major": 2,
       "version_minor": 0
      },
      "text/plain": [
       "Export report to file:   0%|          | 0/1 [00:00<?, ?it/s]"
      ]
     },
     "metadata": {},
     "output_type": "display_data"
    }
   ],
   "source": [
    "#Gerando o relatório exploratório do 'trips' em HTML\n",
    "\n",
    "relatorio_calendar_dates = ProfileReport(calendar_dates, title='Relatorio calendar_dates')\n",
    "relatorio_calendar_dates.to_file('calendar_dates.html')"
   ]
  },
  {
   "cell_type": "markdown",
   "id": "313518f4-8490-4cbc-8af2-f1e399133d53",
   "metadata": {},
   "source": [
    "## Criando e Explorando o Data Frame 'fare_df'\n",
    "* O dataframe fare_df é o merge entre os dataframes 'fare_attribute' e 'fare_rules'\n",
    "* Com esse dataframe pretendemos descobrir quais são as tarifas para alguns 'route_id'"
   ]
  },
  {
   "cell_type": "code",
   "execution_count": 79,
   "id": "c3166269-65e7-41d1-b29f-28c647b0835b",
   "metadata": {},
   "outputs": [
    {
     "data": {
      "text/html": [
       "<div>\n",
       "<style scoped>\n",
       "    .dataframe tbody tr th:only-of-type {\n",
       "        vertical-align: middle;\n",
       "    }\n",
       "\n",
       "    .dataframe tbody tr th {\n",
       "        vertical-align: top;\n",
       "    }\n",
       "\n",
       "    .dataframe thead th {\n",
       "        text-align: right;\n",
       "    }\n",
       "</style>\n",
       "<table border=\"1\" class=\"dataframe\">\n",
       "  <thead>\n",
       "    <tr style=\"text-align: right;\">\n",
       "      <th></th>\n",
       "      <th>fare_id</th>\n",
       "      <th>price</th>\n",
       "      <th>currency_type</th>\n",
       "      <th>payment_method</th>\n",
       "      <th>transfers</th>\n",
       "      <th>agency_id</th>\n",
       "      <th>route_id</th>\n",
       "    </tr>\n",
       "  </thead>\n",
       "  <tbody>\n",
       "    <tr>\n",
       "      <th>0</th>\n",
       "      <td>21390</td>\n",
       "      <td>4.90</td>\n",
       "      <td>BRL</td>\n",
       "      <td>0</td>\n",
       "      <td>0</td>\n",
       "      <td>1049</td>\n",
       "      <td>c73df358-1a6d-4ff2-adf4-b1f3a1477344</td>\n",
       "    </tr>\n",
       "    <tr>\n",
       "      <th>1</th>\n",
       "      <td>21390</td>\n",
       "      <td>4.90</td>\n",
       "      <td>BRL</td>\n",
       "      <td>0</td>\n",
       "      <td>0</td>\n",
       "      <td>1049</td>\n",
       "      <td>1cf3a839-8147-4730-b0b6-5c52c4030a7b</td>\n",
       "    </tr>\n",
       "    <tr>\n",
       "      <th>2</th>\n",
       "      <td>21390</td>\n",
       "      <td>4.90</td>\n",
       "      <td>BRL</td>\n",
       "      <td>0</td>\n",
       "      <td>0</td>\n",
       "      <td>1049</td>\n",
       "      <td>142cbd21-198a-4b79-8bb6-755ef1eee5e7</td>\n",
       "    </tr>\n",
       "    <tr>\n",
       "      <th>3</th>\n",
       "      <td>21395</td>\n",
       "      <td>5.25</td>\n",
       "      <td>BRL</td>\n",
       "      <td>0</td>\n",
       "      <td>0</td>\n",
       "      <td>1049</td>\n",
       "      <td>72b3e29b-10df-4bce-854a-582d115a99a4</td>\n",
       "    </tr>\n",
       "    <tr>\n",
       "      <th>4</th>\n",
       "      <td>21395</td>\n",
       "      <td>5.25</td>\n",
       "      <td>BRL</td>\n",
       "      <td>0</td>\n",
       "      <td>0</td>\n",
       "      <td>1049</td>\n",
       "      <td>81399e03-dcaa-4255-858d-d3e81e69157d</td>\n",
       "    </tr>\n",
       "    <tr>\n",
       "      <th>5</th>\n",
       "      <td>21395</td>\n",
       "      <td>5.25</td>\n",
       "      <td>BRL</td>\n",
       "      <td>0</td>\n",
       "      <td>0</td>\n",
       "      <td>1049</td>\n",
       "      <td>90588e02-a842-4427-b7b1-6321737e7972</td>\n",
       "    </tr>\n",
       "    <tr>\n",
       "      <th>6</th>\n",
       "      <td>21398</td>\n",
       "      <td>6.00</td>\n",
       "      <td>BRL</td>\n",
       "      <td>0</td>\n",
       "      <td>0</td>\n",
       "      <td>1049</td>\n",
       "      <td>134ccc43-722d-433d-9e56-7bd03d985403</td>\n",
       "    </tr>\n",
       "    <tr>\n",
       "      <th>7</th>\n",
       "      <td>21412</td>\n",
       "      <td>5.40</td>\n",
       "      <td>BRL</td>\n",
       "      <td>0</td>\n",
       "      <td>0</td>\n",
       "      <td>1049</td>\n",
       "      <td>0e6d74dd-a14e-40b3-ac59-720498612889</td>\n",
       "    </tr>\n",
       "    <tr>\n",
       "      <th>8</th>\n",
       "      <td>21412</td>\n",
       "      <td>5.40</td>\n",
       "      <td>BRL</td>\n",
       "      <td>0</td>\n",
       "      <td>0</td>\n",
       "      <td>1049</td>\n",
       "      <td>5396e018-5cca-4291-8622-c50f2ac15b41</td>\n",
       "    </tr>\n",
       "    <tr>\n",
       "      <th>9</th>\n",
       "      <td>21394</td>\n",
       "      <td>5.50</td>\n",
       "      <td>BRL</td>\n",
       "      <td>0</td>\n",
       "      <td>0</td>\n",
       "      <td>1049</td>\n",
       "      <td>aa595240-5ef2-4e2d-a2f7-300976b1dcbf</td>\n",
       "    </tr>\n",
       "    <tr>\n",
       "      <th>10</th>\n",
       "      <td>21399</td>\n",
       "      <td>6.15</td>\n",
       "      <td>BRL</td>\n",
       "      <td>0</td>\n",
       "      <td>0</td>\n",
       "      <td>1049</td>\n",
       "      <td>792b9359-d1d8-437b-a5ab-b6fb1b5864e6</td>\n",
       "    </tr>\n",
       "    <tr>\n",
       "      <th>11</th>\n",
       "      <td>21407</td>\n",
       "      <td>5.35</td>\n",
       "      <td>BRL</td>\n",
       "      <td>0</td>\n",
       "      <td>0</td>\n",
       "      <td>1049</td>\n",
       "      <td>5a75f026-dc66-42a7-97d0-dc9d496fe642</td>\n",
       "    </tr>\n",
       "    <tr>\n",
       "      <th>12</th>\n",
       "      <td>21426</td>\n",
       "      <td>5.15</td>\n",
       "      <td>BRL</td>\n",
       "      <td>0</td>\n",
       "      <td>0</td>\n",
       "      <td>1049</td>\n",
       "      <td>aec90850-be02-49f0-ab8b-be9e1b3cef20</td>\n",
       "    </tr>\n",
       "  </tbody>\n",
       "</table>\n",
       "</div>"
      ],
      "text/plain": [
       "    fare_id  price currency_type  payment_method  transfers  agency_id  \\\n",
       "0     21390   4.90           BRL               0          0       1049   \n",
       "1     21390   4.90           BRL               0          0       1049   \n",
       "2     21390   4.90           BRL               0          0       1049   \n",
       "3     21395   5.25           BRL               0          0       1049   \n",
       "4     21395   5.25           BRL               0          0       1049   \n",
       "5     21395   5.25           BRL               0          0       1049   \n",
       "6     21398   6.00           BRL               0          0       1049   \n",
       "7     21412   5.40           BRL               0          0       1049   \n",
       "8     21412   5.40           BRL               0          0       1049   \n",
       "9     21394   5.50           BRL               0          0       1049   \n",
       "10    21399   6.15           BRL               0          0       1049   \n",
       "11    21407   5.35           BRL               0          0       1049   \n",
       "12    21426   5.15           BRL               0          0       1049   \n",
       "\n",
       "                                route_id  \n",
       "0   c73df358-1a6d-4ff2-adf4-b1f3a1477344  \n",
       "1   1cf3a839-8147-4730-b0b6-5c52c4030a7b  \n",
       "2   142cbd21-198a-4b79-8bb6-755ef1eee5e7  \n",
       "3   72b3e29b-10df-4bce-854a-582d115a99a4  \n",
       "4   81399e03-dcaa-4255-858d-d3e81e69157d  \n",
       "5   90588e02-a842-4427-b7b1-6321737e7972  \n",
       "6   134ccc43-722d-433d-9e56-7bd03d985403  \n",
       "7   0e6d74dd-a14e-40b3-ac59-720498612889  \n",
       "8   5396e018-5cca-4291-8622-c50f2ac15b41  \n",
       "9   aa595240-5ef2-4e2d-a2f7-300976b1dcbf  \n",
       "10  792b9359-d1d8-437b-a5ab-b6fb1b5864e6  \n",
       "11  5a75f026-dc66-42a7-97d0-dc9d496fe642  \n",
       "12  aec90850-be02-49f0-ab8b-be9e1b3cef20  "
      ]
     },
     "execution_count": 79,
     "metadata": {},
     "output_type": "execute_result"
    }
   ],
   "source": [
    "# Unir fare_attributes e fare_rules\n",
    "\n",
    "fare_df = pd.merge(fare_attributes, fare_rules, on=\"fare_id\")\n",
    "fare_df"
   ]
  },
  {
   "cell_type": "code",
   "execution_count": 156,
   "id": "cdd92b17-8338-43f7-840f-e41f8d8d86ce",
   "metadata": {},
   "outputs": [
    {
     "name": "stdout",
     "output_type": "stream",
     "text": [
      "O Data Frame tem 13 linhas e 7 colunas.\n"
     ]
    }
   ],
   "source": [
    "print(f'O Data Frame tem {fare_df.shape[0]} linhas e {fare_df.shape[1]} colunas.')"
   ]
  },
  {
   "cell_type": "code",
   "execution_count": 157,
   "id": "76e90e1b-157f-4f65-bbdf-d8f71239827b",
   "metadata": {},
   "outputs": [
    {
     "data": {
      "text/html": [
       "<div>\n",
       "<style scoped>\n",
       "    .dataframe tbody tr th:only-of-type {\n",
       "        vertical-align: middle;\n",
       "    }\n",
       "\n",
       "    .dataframe tbody tr th {\n",
       "        vertical-align: top;\n",
       "    }\n",
       "\n",
       "    .dataframe thead th {\n",
       "        text-align: right;\n",
       "    }\n",
       "</style>\n",
       "<table border=\"1\" class=\"dataframe\">\n",
       "  <thead>\n",
       "    <tr style=\"text-align: right;\">\n",
       "      <th></th>\n",
       "      <th>fare_id</th>\n",
       "      <th>price</th>\n",
       "      <th>currency_type</th>\n",
       "      <th>payment_method</th>\n",
       "      <th>transfers</th>\n",
       "      <th>agency_id_x</th>\n",
       "      <th>route_id</th>\n",
       "      <th>agency_id_y</th>\n",
       "      <th>route_short_name</th>\n",
       "      <th>route_long_name</th>\n",
       "      <th>route_type</th>\n",
       "    </tr>\n",
       "  </thead>\n",
       "  <tbody>\n",
       "    <tr>\n",
       "      <th>0</th>\n",
       "      <td>21390</td>\n",
       "      <td>4.90</td>\n",
       "      <td>BRL</td>\n",
       "      <td>0</td>\n",
       "      <td>0</td>\n",
       "      <td>1049</td>\n",
       "      <td>c73df358-1a6d-4ff2-adf4-b1f3a1477344</td>\n",
       "      <td>1049</td>\n",
       "      <td>28</td>\n",
       "      <td>Mineirão</td>\n",
       "      <td>3</td>\n",
       "    </tr>\n",
       "    <tr>\n",
       "      <th>1</th>\n",
       "      <td>21390</td>\n",
       "      <td>4.90</td>\n",
       "      <td>BRL</td>\n",
       "      <td>0</td>\n",
       "      <td>0</td>\n",
       "      <td>1049</td>\n",
       "      <td>1cf3a839-8147-4730-b0b6-5c52c4030a7b</td>\n",
       "      <td>1049</td>\n",
       "      <td>20</td>\n",
       "      <td>Vila Carol</td>\n",
       "      <td>3</td>\n",
       "    </tr>\n",
       "    <tr>\n",
       "      <th>2</th>\n",
       "      <td>21390</td>\n",
       "      <td>4.90</td>\n",
       "      <td>BRL</td>\n",
       "      <td>0</td>\n",
       "      <td>0</td>\n",
       "      <td>1049</td>\n",
       "      <td>142cbd21-198a-4b79-8bb6-755ef1eee5e7</td>\n",
       "      <td>1049</td>\n",
       "      <td>45</td>\n",
       "      <td>Retiro São João</td>\n",
       "      <td>3</td>\n",
       "    </tr>\n",
       "    <tr>\n",
       "      <th>3</th>\n",
       "      <td>21395</td>\n",
       "      <td>5.25</td>\n",
       "      <td>BRL</td>\n",
       "      <td>0</td>\n",
       "      <td>0</td>\n",
       "      <td>1049</td>\n",
       "      <td>72b3e29b-10df-4bce-854a-582d115a99a4</td>\n",
       "      <td>1049</td>\n",
       "      <td>61</td>\n",
       "      <td>Iporanga</td>\n",
       "      <td>3</td>\n",
       "    </tr>\n",
       "    <tr>\n",
       "      <th>4</th>\n",
       "      <td>21395</td>\n",
       "      <td>5.25</td>\n",
       "      <td>BRL</td>\n",
       "      <td>0</td>\n",
       "      <td>0</td>\n",
       "      <td>1049</td>\n",
       "      <td>81399e03-dcaa-4255-858d-d3e81e69157d</td>\n",
       "      <td>1049</td>\n",
       "      <td>38</td>\n",
       "      <td>Aparecidinha Via Éden</td>\n",
       "      <td>3</td>\n",
       "    </tr>\n",
       "    <tr>\n",
       "      <th>5</th>\n",
       "      <td>21395</td>\n",
       "      <td>5.25</td>\n",
       "      <td>BRL</td>\n",
       "      <td>0</td>\n",
       "      <td>0</td>\n",
       "      <td>1049</td>\n",
       "      <td>90588e02-a842-4427-b7b1-6321737e7972</td>\n",
       "      <td>1049</td>\n",
       "      <td>56</td>\n",
       "      <td>Iguatemi</td>\n",
       "      <td>3</td>\n",
       "    </tr>\n",
       "    <tr>\n",
       "      <th>6</th>\n",
       "      <td>21398</td>\n",
       "      <td>6.00</td>\n",
       "      <td>BRL</td>\n",
       "      <td>0</td>\n",
       "      <td>0</td>\n",
       "      <td>1049</td>\n",
       "      <td>134ccc43-722d-433d-9e56-7bd03d985403</td>\n",
       "      <td>1049</td>\n",
       "      <td>08</td>\n",
       "      <td>Trujillo</td>\n",
       "      <td>3</td>\n",
       "    </tr>\n",
       "    <tr>\n",
       "      <th>7</th>\n",
       "      <td>21412</td>\n",
       "      <td>5.40</td>\n",
       "      <td>BRL</td>\n",
       "      <td>0</td>\n",
       "      <td>0</td>\n",
       "      <td>1049</td>\n",
       "      <td>0e6d74dd-a14e-40b3-ac59-720498612889</td>\n",
       "      <td>1049</td>\n",
       "      <td>64/3</td>\n",
       "      <td>P. Municipal Via Gal. Osório</td>\n",
       "      <td>3</td>\n",
       "    </tr>\n",
       "    <tr>\n",
       "      <th>8</th>\n",
       "      <td>21412</td>\n",
       "      <td>5.40</td>\n",
       "      <td>BRL</td>\n",
       "      <td>0</td>\n",
       "      <td>0</td>\n",
       "      <td>1049</td>\n",
       "      <td>5396e018-5cca-4291-8622-c50f2ac15b41</td>\n",
       "      <td>1049</td>\n",
       "      <td>03</td>\n",
       "      <td>Nova Esperança</td>\n",
       "      <td>3</td>\n",
       "    </tr>\n",
       "    <tr>\n",
       "      <th>9</th>\n",
       "      <td>21394</td>\n",
       "      <td>5.50</td>\n",
       "      <td>BRL</td>\n",
       "      <td>0</td>\n",
       "      <td>0</td>\n",
       "      <td>1049</td>\n",
       "      <td>aa595240-5ef2-4e2d-a2f7-300976b1dcbf</td>\n",
       "      <td>1049</td>\n",
       "      <td>55</td>\n",
       "      <td>Rodrigo</td>\n",
       "      <td>3</td>\n",
       "    </tr>\n",
       "    <tr>\n",
       "      <th>10</th>\n",
       "      <td>21399</td>\n",
       "      <td>6.15</td>\n",
       "      <td>BRL</td>\n",
       "      <td>0</td>\n",
       "      <td>0</td>\n",
       "      <td>1049</td>\n",
       "      <td>792b9359-d1d8-437b-a5ab-b6fb1b5864e6</td>\n",
       "      <td>1049</td>\n",
       "      <td>68</td>\n",
       "      <td>Sol Nascente</td>\n",
       "      <td>3</td>\n",
       "    </tr>\n",
       "    <tr>\n",
       "      <th>11</th>\n",
       "      <td>21407</td>\n",
       "      <td>5.35</td>\n",
       "      <td>BRL</td>\n",
       "      <td>0</td>\n",
       "      <td>0</td>\n",
       "      <td>1049</td>\n",
       "      <td>5a75f026-dc66-42a7-97d0-dc9d496fe642</td>\n",
       "      <td>1049</td>\n",
       "      <td>57</td>\n",
       "      <td>Guaiba</td>\n",
       "      <td>3</td>\n",
       "    </tr>\n",
       "    <tr>\n",
       "      <th>12</th>\n",
       "      <td>21426</td>\n",
       "      <td>5.15</td>\n",
       "      <td>BRL</td>\n",
       "      <td>0</td>\n",
       "      <td>0</td>\n",
       "      <td>1049</td>\n",
       "      <td>aec90850-be02-49f0-ab8b-be9e1b3cef20</td>\n",
       "      <td>1049</td>\n",
       "      <td>64/4</td>\n",
       "      <td>P. Municipal/m. Eugênia</td>\n",
       "      <td>3</td>\n",
       "    </tr>\n",
       "  </tbody>\n",
       "</table>\n",
       "</div>"
      ],
      "text/plain": [
       "    fare_id  price currency_type  payment_method  transfers  agency_id_x  \\\n",
       "0     21390   4.90           BRL               0          0         1049   \n",
       "1     21390   4.90           BRL               0          0         1049   \n",
       "2     21390   4.90           BRL               0          0         1049   \n",
       "3     21395   5.25           BRL               0          0         1049   \n",
       "4     21395   5.25           BRL               0          0         1049   \n",
       "5     21395   5.25           BRL               0          0         1049   \n",
       "6     21398   6.00           BRL               0          0         1049   \n",
       "7     21412   5.40           BRL               0          0         1049   \n",
       "8     21412   5.40           BRL               0          0         1049   \n",
       "9     21394   5.50           BRL               0          0         1049   \n",
       "10    21399   6.15           BRL               0          0         1049   \n",
       "11    21407   5.35           BRL               0          0         1049   \n",
       "12    21426   5.15           BRL               0          0         1049   \n",
       "\n",
       "                                route_id  agency_id_y route_short_name  \\\n",
       "0   c73df358-1a6d-4ff2-adf4-b1f3a1477344         1049               28   \n",
       "1   1cf3a839-8147-4730-b0b6-5c52c4030a7b         1049               20   \n",
       "2   142cbd21-198a-4b79-8bb6-755ef1eee5e7         1049               45   \n",
       "3   72b3e29b-10df-4bce-854a-582d115a99a4         1049               61   \n",
       "4   81399e03-dcaa-4255-858d-d3e81e69157d         1049               38   \n",
       "5   90588e02-a842-4427-b7b1-6321737e7972         1049               56   \n",
       "6   134ccc43-722d-433d-9e56-7bd03d985403         1049               08   \n",
       "7   0e6d74dd-a14e-40b3-ac59-720498612889         1049             64/3   \n",
       "8   5396e018-5cca-4291-8622-c50f2ac15b41         1049               03   \n",
       "9   aa595240-5ef2-4e2d-a2f7-300976b1dcbf         1049               55   \n",
       "10  792b9359-d1d8-437b-a5ab-b6fb1b5864e6         1049               68   \n",
       "11  5a75f026-dc66-42a7-97d0-dc9d496fe642         1049               57   \n",
       "12  aec90850-be02-49f0-ab8b-be9e1b3cef20         1049             64/4   \n",
       "\n",
       "                 route_long_name  route_type  \n",
       "0                       Mineirão           3  \n",
       "1                     Vila Carol           3  \n",
       "2                Retiro São João           3  \n",
       "3                       Iporanga           3  \n",
       "4          Aparecidinha Via Éden           3  \n",
       "5                       Iguatemi           3  \n",
       "6                       Trujillo           3  \n",
       "7   P. Municipal Via Gal. Osório           3  \n",
       "8                 Nova Esperança           3  \n",
       "9                        Rodrigo           3  \n",
       "10                  Sol Nascente           3  \n",
       "11                        Guaiba           3  \n",
       "12       P. Municipal/m. Eugênia           3  "
      ]
     },
     "execution_count": 157,
     "metadata": {},
     "output_type": "execute_result"
    }
   ],
   "source": [
    "df_fare_route = pd.merge(fare_df, routes, on=\"route_id\")\n",
    "df_fare_route"
   ]
  },
  {
   "cell_type": "markdown",
   "id": "73f4f702-d59d-4fcb-91d6-a0b33f8035ff",
   "metadata": {},
   "source": [
    "## Criando e Explorando o Data Frame 'shapes_trips'\n",
    "* O dataframe shapes_trips é o merge entre os dataframes 'shapes' e 'trips'\n",
    "* Com esse dataframe pretendemos descobrir quais são as rotas para alguns 'shape_id'"
   ]
  },
  {
   "cell_type": "code",
   "execution_count": 176,
   "id": "edcb498c-abf3-46f5-80ce-4b3ca05231d1",
   "metadata": {},
   "outputs": [
    {
     "data": {
      "text/html": [
       "<div>\n",
       "<style scoped>\n",
       "    .dataframe tbody tr th:only-of-type {\n",
       "        vertical-align: middle;\n",
       "    }\n",
       "\n",
       "    .dataframe tbody tr th {\n",
       "        vertical-align: top;\n",
       "    }\n",
       "\n",
       "    .dataframe thead th {\n",
       "        text-align: right;\n",
       "    }\n",
       "</style>\n",
       "<table border=\"1\" class=\"dataframe\">\n",
       "  <thead>\n",
       "    <tr style=\"text-align: right;\">\n",
       "      <th></th>\n",
       "      <th>shape_id</th>\n",
       "      <th>shape_pt_lat</th>\n",
       "      <th>shape_pt_lon</th>\n",
       "      <th>route_id</th>\n",
       "      <th>service_id</th>\n",
       "      <th>trip_id</th>\n",
       "      <th>trip_headsign</th>\n",
       "      <th>direction_id</th>\n",
       "    </tr>\n",
       "  </thead>\n",
       "  <tbody>\n",
       "    <tr>\n",
       "      <th>0</th>\n",
       "      <td>368d3558-ce36-41fd-9f62-8389be0f833d</td>\n",
       "      <td>-23.45222</td>\n",
       "      <td>-47.50530</td>\n",
       "      <td>659c7774-8dd9-4651-a12e-914c4e24f3d0</td>\n",
       "      <td>1001-53153-20230429</td>\n",
       "      <td>368d3558-ce36-41fd-9f62-8389be0f833d_92960947</td>\n",
       "      <td>São Bento</td>\n",
       "      <td>0</td>\n",
       "    </tr>\n",
       "    <tr>\n",
       "      <th>1</th>\n",
       "      <td>368d3558-ce36-41fd-9f62-8389be0f833d</td>\n",
       "      <td>-23.45222</td>\n",
       "      <td>-47.50530</td>\n",
       "      <td>659c7774-8dd9-4651-a12e-914c4e24f3d0</td>\n",
       "      <td>1001-53153-20230427</td>\n",
       "      <td>368d3558-ce36-41fd-9f62-8389be0f833d_96538600</td>\n",
       "      <td>São Bento</td>\n",
       "      <td>0</td>\n",
       "    </tr>\n",
       "    <tr>\n",
       "      <th>2</th>\n",
       "      <td>368d3558-ce36-41fd-9f62-8389be0f833d</td>\n",
       "      <td>-23.45222</td>\n",
       "      <td>-47.50530</td>\n",
       "      <td>659c7774-8dd9-4651-a12e-914c4e24f3d0</td>\n",
       "      <td>1001-53153-20230427</td>\n",
       "      <td>368d3558-ce36-41fd-9f62-8389be0f833d_96538477</td>\n",
       "      <td>São Bento</td>\n",
       "      <td>0</td>\n",
       "    </tr>\n",
       "    <tr>\n",
       "      <th>3</th>\n",
       "      <td>368d3558-ce36-41fd-9f62-8389be0f833d</td>\n",
       "      <td>-23.45222</td>\n",
       "      <td>-47.50530</td>\n",
       "      <td>659c7774-8dd9-4651-a12e-914c4e24f3d0</td>\n",
       "      <td>1001-53153-20230430</td>\n",
       "      <td>368d3558-ce36-41fd-9f62-8389be0f833d_93997326</td>\n",
       "      <td>São Bento</td>\n",
       "      <td>0</td>\n",
       "    </tr>\n",
       "    <tr>\n",
       "      <th>4</th>\n",
       "      <td>368d3558-ce36-41fd-9f62-8389be0f833d</td>\n",
       "      <td>-23.45222</td>\n",
       "      <td>-47.50530</td>\n",
       "      <td>659c7774-8dd9-4651-a12e-914c4e24f3d0</td>\n",
       "      <td>1001-53153-20230426</td>\n",
       "      <td>368d3558-ce36-41fd-9f62-8389be0f833d_94321540</td>\n",
       "      <td>São Bento</td>\n",
       "      <td>0</td>\n",
       "    </tr>\n",
       "    <tr>\n",
       "      <th>...</th>\n",
       "      <td>...</td>\n",
       "      <td>...</td>\n",
       "      <td>...</td>\n",
       "      <td>...</td>\n",
       "      <td>...</td>\n",
       "      <td>...</td>\n",
       "      <td>...</td>\n",
       "      <td>...</td>\n",
       "    </tr>\n",
       "    <tr>\n",
       "      <th>6599915</th>\n",
       "      <td>7d9407a6-77ec-49e1-96b9-316373428c3d</td>\n",
       "      <td>-23.41825</td>\n",
       "      <td>-47.43392</td>\n",
       "      <td>eefa8d6b-6e5a-4ae8-9f22-6909a2956985</td>\n",
       "      <td>1001-58563-20230426</td>\n",
       "      <td>7d9407a6-77ec-49e1-96b9-316373428c3d_95248696</td>\n",
       "      <td>Éden / Jd Itália / Jd dos Pássaros</td>\n",
       "      <td>0</td>\n",
       "    </tr>\n",
       "    <tr>\n",
       "      <th>6599916</th>\n",
       "      <td>7d9407a6-77ec-49e1-96b9-316373428c3d</td>\n",
       "      <td>-23.41825</td>\n",
       "      <td>-47.43392</td>\n",
       "      <td>eefa8d6b-6e5a-4ae8-9f22-6909a2956985</td>\n",
       "      <td>1001-58563-20230426</td>\n",
       "      <td>7d9407a6-77ec-49e1-96b9-316373428c3d_98369174</td>\n",
       "      <td>Éden / Jd Itália / Jd dos Pássaros</td>\n",
       "      <td>0</td>\n",
       "    </tr>\n",
       "    <tr>\n",
       "      <th>6599917</th>\n",
       "      <td>7d9407a6-77ec-49e1-96b9-316373428c3d</td>\n",
       "      <td>-23.41825</td>\n",
       "      <td>-47.43392</td>\n",
       "      <td>eefa8d6b-6e5a-4ae8-9f22-6909a2956985</td>\n",
       "      <td>1001-58563-20230426</td>\n",
       "      <td>7d9407a6-77ec-49e1-96b9-316373428c3d_116069849</td>\n",
       "      <td>Éden / Jd Itália / Jd dos Pássaros</td>\n",
       "      <td>0</td>\n",
       "    </tr>\n",
       "    <tr>\n",
       "      <th>6599918</th>\n",
       "      <td>7d9407a6-77ec-49e1-96b9-316373428c3d</td>\n",
       "      <td>-23.41825</td>\n",
       "      <td>-47.43392</td>\n",
       "      <td>eefa8d6b-6e5a-4ae8-9f22-6909a2956985</td>\n",
       "      <td>1001-58563-20230426</td>\n",
       "      <td>7d9407a6-77ec-49e1-96b9-316373428c3d_95248660</td>\n",
       "      <td>Éden / Jd Itália / Jd dos Pássaros</td>\n",
       "      <td>0</td>\n",
       "    </tr>\n",
       "    <tr>\n",
       "      <th>6599919</th>\n",
       "      <td>7d9407a6-77ec-49e1-96b9-316373428c3d</td>\n",
       "      <td>-23.41825</td>\n",
       "      <td>-47.43392</td>\n",
       "      <td>eefa8d6b-6e5a-4ae8-9f22-6909a2956985</td>\n",
       "      <td>1001-58563-20230426</td>\n",
       "      <td>7d9407a6-77ec-49e1-96b9-316373428c3d_95248680</td>\n",
       "      <td>Éden / Jd Itália / Jd dos Pássaros</td>\n",
       "      <td>0</td>\n",
       "    </tr>\n",
       "  </tbody>\n",
       "</table>\n",
       "<p>6599920 rows × 8 columns</p>\n",
       "</div>"
      ],
      "text/plain": [
       "                                     shape_id  shape_pt_lat  shape_pt_lon  \\\n",
       "0        368d3558-ce36-41fd-9f62-8389be0f833d     -23.45222     -47.50530   \n",
       "1        368d3558-ce36-41fd-9f62-8389be0f833d     -23.45222     -47.50530   \n",
       "2        368d3558-ce36-41fd-9f62-8389be0f833d     -23.45222     -47.50530   \n",
       "3        368d3558-ce36-41fd-9f62-8389be0f833d     -23.45222     -47.50530   \n",
       "4        368d3558-ce36-41fd-9f62-8389be0f833d     -23.45222     -47.50530   \n",
       "...                                       ...           ...           ...   \n",
       "6599915  7d9407a6-77ec-49e1-96b9-316373428c3d     -23.41825     -47.43392   \n",
       "6599916  7d9407a6-77ec-49e1-96b9-316373428c3d     -23.41825     -47.43392   \n",
       "6599917  7d9407a6-77ec-49e1-96b9-316373428c3d     -23.41825     -47.43392   \n",
       "6599918  7d9407a6-77ec-49e1-96b9-316373428c3d     -23.41825     -47.43392   \n",
       "6599919  7d9407a6-77ec-49e1-96b9-316373428c3d     -23.41825     -47.43392   \n",
       "\n",
       "                                     route_id           service_id  \\\n",
       "0        659c7774-8dd9-4651-a12e-914c4e24f3d0  1001-53153-20230429   \n",
       "1        659c7774-8dd9-4651-a12e-914c4e24f3d0  1001-53153-20230427   \n",
       "2        659c7774-8dd9-4651-a12e-914c4e24f3d0  1001-53153-20230427   \n",
       "3        659c7774-8dd9-4651-a12e-914c4e24f3d0  1001-53153-20230430   \n",
       "4        659c7774-8dd9-4651-a12e-914c4e24f3d0  1001-53153-20230426   \n",
       "...                                       ...                  ...   \n",
       "6599915  eefa8d6b-6e5a-4ae8-9f22-6909a2956985  1001-58563-20230426   \n",
       "6599916  eefa8d6b-6e5a-4ae8-9f22-6909a2956985  1001-58563-20230426   \n",
       "6599917  eefa8d6b-6e5a-4ae8-9f22-6909a2956985  1001-58563-20230426   \n",
       "6599918  eefa8d6b-6e5a-4ae8-9f22-6909a2956985  1001-58563-20230426   \n",
       "6599919  eefa8d6b-6e5a-4ae8-9f22-6909a2956985  1001-58563-20230426   \n",
       "\n",
       "                                                trip_id  \\\n",
       "0         368d3558-ce36-41fd-9f62-8389be0f833d_92960947   \n",
       "1         368d3558-ce36-41fd-9f62-8389be0f833d_96538600   \n",
       "2         368d3558-ce36-41fd-9f62-8389be0f833d_96538477   \n",
       "3         368d3558-ce36-41fd-9f62-8389be0f833d_93997326   \n",
       "4         368d3558-ce36-41fd-9f62-8389be0f833d_94321540   \n",
       "...                                                 ...   \n",
       "6599915   7d9407a6-77ec-49e1-96b9-316373428c3d_95248696   \n",
       "6599916   7d9407a6-77ec-49e1-96b9-316373428c3d_98369174   \n",
       "6599917  7d9407a6-77ec-49e1-96b9-316373428c3d_116069849   \n",
       "6599918   7d9407a6-77ec-49e1-96b9-316373428c3d_95248660   \n",
       "6599919   7d9407a6-77ec-49e1-96b9-316373428c3d_95248680   \n",
       "\n",
       "                              trip_headsign  direction_id  \n",
       "0                                 São Bento             0  \n",
       "1                                 São Bento             0  \n",
       "2                                 São Bento             0  \n",
       "3                                 São Bento             0  \n",
       "4                                 São Bento             0  \n",
       "...                                     ...           ...  \n",
       "6599915  Éden / Jd Itália / Jd dos Pássaros             0  \n",
       "6599916  Éden / Jd Itália / Jd dos Pássaros             0  \n",
       "6599917  Éden / Jd Itália / Jd dos Pássaros             0  \n",
       "6599918  Éden / Jd Itália / Jd dos Pássaros             0  \n",
       "6599919  Éden / Jd Itália / Jd dos Pássaros             0  \n",
       "\n",
       "[6599920 rows x 8 columns]"
      ]
     },
     "execution_count": 176,
     "metadata": {},
     "output_type": "execute_result"
    }
   ],
   "source": [
    "shapes_trips = pd.merge(shapes, trips, on=\"shape_id\")\n",
    "shapes_trips"
   ]
  },
  {
   "cell_type": "code",
   "execution_count": 202,
   "id": "62559b5f-b6fb-4d95-b15d-5a782e94b119",
   "metadata": {},
   "outputs": [
    {
     "name": "stdout",
     "output_type": "stream",
     "text": [
      "O Data Frame tem 6599920 linhas e 8 colunas.\n"
     ]
    }
   ],
   "source": [
    "print(f'O Data Frame tem {shapes_trips.shape[0]} linhas e {shapes_trips.shape[1]} colunas.')"
   ]
  },
  {
   "cell_type": "code",
   "execution_count": null,
   "id": "25057275-8b06-41ae-ae77-a29caff2ae58",
   "metadata": {},
   "outputs": [],
   "source": []
  }
 ],
 "metadata": {
  "kernelspec": {
   "display_name": "Python 3 (ipykernel)",
   "language": "python",
   "name": "python3"
  },
  "language_info": {
   "codemirror_mode": {
    "name": "ipython",
    "version": 3
   },
   "file_extension": ".py",
   "mimetype": "text/x-python",
   "name": "python",
   "nbconvert_exporter": "python",
   "pygments_lexer": "ipython3",
   "version": "3.8.8"
  }
 },
 "nbformat": 4,
 "nbformat_minor": 5
}
