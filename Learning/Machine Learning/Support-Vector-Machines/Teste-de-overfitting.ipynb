{
 "cells": [
  {
   "cell_type": "markdown",
   "id": "e5826a99",
   "metadata": {},
   "source": [
    "# Teste de Overfitting"
   ]
  },
  {
   "cell_type": "code",
   "execution_count": 45,
   "id": "3d577634",
   "metadata": {},
   "outputs": [],
   "source": [
    "# Utiliza a função train_test_split para separar o conjunto de treino e teste em 80/20\n",
    "from sklearn.model_selection import train_test_split\n",
    "import pandas as pd"
   ]
  },
  {
   "cell_type": "code",
   "execution_count": 63,
   "id": "2ef3e8a4",
   "metadata": {},
   "outputs": [],
   "source": [
    "dataset = pd.read_csv(r\"C:\\Users\\marcf\\OneDrive\\Documentos\\Ciencia de dados\\SVM-Materiais-Apoio\\data.csv\",\n",
    "                     sep=',')"
   ]
  },
  {
   "cell_type": "code",
   "execution_count": 64,
   "id": "5c1a856c",
   "metadata": {},
   "outputs": [],
   "source": [
    "classes = dataset['target']\n",
    "dataset.drop('target',axis=1, inplace=True)"
   ]
  },
  {
   "cell_type": "code",
   "execution_count": 65,
   "id": "353fbdd1",
   "metadata": {},
   "outputs": [
    {
     "data": {
      "text/plain": [
       "'Colunas retiradas'"
      ]
     },
     "execution_count": 65,
     "metadata": {},
     "output_type": "execute_result"
    }
   ],
   "source": [
    "def remove_features(lista_features):\n",
    "    for i in lista_features:\n",
    "        dataset.drop(i, axis=1, inplace=True)\n",
    "    return 'Colunas retiradas'\n",
    "\n",
    "remove_features(['id','song_title'])"
   ]
  },
  {
   "cell_type": "code",
   "execution_count": 66,
   "id": "69836877",
   "metadata": {},
   "outputs": [],
   "source": [
    "dataset = pd.get_dummies(dataset, columns=['artist'], prefix=['artist'])"
   ]
  },
  {
   "cell_type": "code",
   "execution_count": 67,
   "id": "e9238873",
   "metadata": {},
   "outputs": [
    {
     "data": {
      "text/html": [
       "<div>\n",
       "<style scoped>\n",
       "    .dataframe tbody tr th:only-of-type {\n",
       "        vertical-align: middle;\n",
       "    }\n",
       "\n",
       "    .dataframe tbody tr th {\n",
       "        vertical-align: top;\n",
       "    }\n",
       "\n",
       "    .dataframe thead th {\n",
       "        text-align: right;\n",
       "    }\n",
       "</style>\n",
       "<table border=\"1\" class=\"dataframe\">\n",
       "  <thead>\n",
       "    <tr style=\"text-align: right;\">\n",
       "      <th></th>\n",
       "      <th>acousticness</th>\n",
       "      <th>danceability</th>\n",
       "      <th>duration_ms</th>\n",
       "      <th>energy</th>\n",
       "      <th>instrumentalness</th>\n",
       "      <th>key</th>\n",
       "      <th>liveness</th>\n",
       "      <th>loudness</th>\n",
       "      <th>mode</th>\n",
       "      <th>speechiness</th>\n",
       "      <th>...</th>\n",
       "      <th>artist_alt-J</th>\n",
       "      <th>artist_deadmau5</th>\n",
       "      <th>artist_for KING &amp; COUNTRY</th>\n",
       "      <th>artist_one sonic society</th>\n",
       "      <th>artist_tUnE-yArDs</th>\n",
       "      <th>artist_tobyMac</th>\n",
       "      <th>artist_권나무 Kwon Tree</th>\n",
       "      <th>artist_도시총각 Dosichonggak</th>\n",
       "      <th>artist_카우칩스 The CowChips</th>\n",
       "      <th>artist_플랫핏 Flat Feet</th>\n",
       "    </tr>\n",
       "  </thead>\n",
       "  <tbody>\n",
       "    <tr>\n",
       "      <th>0</th>\n",
       "      <td>0.0102</td>\n",
       "      <td>0.833</td>\n",
       "      <td>204600</td>\n",
       "      <td>0.434</td>\n",
       "      <td>0.021900</td>\n",
       "      <td>2</td>\n",
       "      <td>0.1650</td>\n",
       "      <td>-8.795</td>\n",
       "      <td>1</td>\n",
       "      <td>0.4310</td>\n",
       "      <td>...</td>\n",
       "      <td>0</td>\n",
       "      <td>0</td>\n",
       "      <td>0</td>\n",
       "      <td>0</td>\n",
       "      <td>0</td>\n",
       "      <td>0</td>\n",
       "      <td>0</td>\n",
       "      <td>0</td>\n",
       "      <td>0</td>\n",
       "      <td>0</td>\n",
       "    </tr>\n",
       "    <tr>\n",
       "      <th>1</th>\n",
       "      <td>0.1990</td>\n",
       "      <td>0.743</td>\n",
       "      <td>326933</td>\n",
       "      <td>0.359</td>\n",
       "      <td>0.006110</td>\n",
       "      <td>1</td>\n",
       "      <td>0.1370</td>\n",
       "      <td>-10.401</td>\n",
       "      <td>1</td>\n",
       "      <td>0.0794</td>\n",
       "      <td>...</td>\n",
       "      <td>0</td>\n",
       "      <td>0</td>\n",
       "      <td>0</td>\n",
       "      <td>0</td>\n",
       "      <td>0</td>\n",
       "      <td>0</td>\n",
       "      <td>0</td>\n",
       "      <td>0</td>\n",
       "      <td>0</td>\n",
       "      <td>0</td>\n",
       "    </tr>\n",
       "    <tr>\n",
       "      <th>2</th>\n",
       "      <td>0.0344</td>\n",
       "      <td>0.838</td>\n",
       "      <td>185707</td>\n",
       "      <td>0.412</td>\n",
       "      <td>0.000234</td>\n",
       "      <td>2</td>\n",
       "      <td>0.1590</td>\n",
       "      <td>-7.148</td>\n",
       "      <td>1</td>\n",
       "      <td>0.2890</td>\n",
       "      <td>...</td>\n",
       "      <td>0</td>\n",
       "      <td>0</td>\n",
       "      <td>0</td>\n",
       "      <td>0</td>\n",
       "      <td>0</td>\n",
       "      <td>0</td>\n",
       "      <td>0</td>\n",
       "      <td>0</td>\n",
       "      <td>0</td>\n",
       "      <td>0</td>\n",
       "    </tr>\n",
       "    <tr>\n",
       "      <th>3</th>\n",
       "      <td>0.6040</td>\n",
       "      <td>0.494</td>\n",
       "      <td>199413</td>\n",
       "      <td>0.338</td>\n",
       "      <td>0.510000</td>\n",
       "      <td>5</td>\n",
       "      <td>0.0922</td>\n",
       "      <td>-15.236</td>\n",
       "      <td>1</td>\n",
       "      <td>0.0261</td>\n",
       "      <td>...</td>\n",
       "      <td>0</td>\n",
       "      <td>0</td>\n",
       "      <td>0</td>\n",
       "      <td>0</td>\n",
       "      <td>0</td>\n",
       "      <td>0</td>\n",
       "      <td>0</td>\n",
       "      <td>0</td>\n",
       "      <td>0</td>\n",
       "      <td>0</td>\n",
       "    </tr>\n",
       "    <tr>\n",
       "      <th>4</th>\n",
       "      <td>0.1800</td>\n",
       "      <td>0.678</td>\n",
       "      <td>392893</td>\n",
       "      <td>0.561</td>\n",
       "      <td>0.512000</td>\n",
       "      <td>5</td>\n",
       "      <td>0.4390</td>\n",
       "      <td>-11.648</td>\n",
       "      <td>0</td>\n",
       "      <td>0.0694</td>\n",
       "      <td>...</td>\n",
       "      <td>0</td>\n",
       "      <td>0</td>\n",
       "      <td>0</td>\n",
       "      <td>0</td>\n",
       "      <td>0</td>\n",
       "      <td>0</td>\n",
       "      <td>0</td>\n",
       "      <td>0</td>\n",
       "      <td>0</td>\n",
       "      <td>0</td>\n",
       "    </tr>\n",
       "  </tbody>\n",
       "</table>\n",
       "<p>5 rows × 1356 columns</p>\n",
       "</div>"
      ],
      "text/plain": [
       "   acousticness  danceability  duration_ms  energy  instrumentalness  key  \\\n",
       "0        0.0102         0.833       204600   0.434          0.021900    2   \n",
       "1        0.1990         0.743       326933   0.359          0.006110    1   \n",
       "2        0.0344         0.838       185707   0.412          0.000234    2   \n",
       "3        0.6040         0.494       199413   0.338          0.510000    5   \n",
       "4        0.1800         0.678       392893   0.561          0.512000    5   \n",
       "\n",
       "   liveness  loudness  mode  speechiness  ...  artist_alt-J  artist_deadmau5  \\\n",
       "0    0.1650    -8.795     1       0.4310  ...             0                0   \n",
       "1    0.1370   -10.401     1       0.0794  ...             0                0   \n",
       "2    0.1590    -7.148     1       0.2890  ...             0                0   \n",
       "3    0.0922   -15.236     1       0.0261  ...             0                0   \n",
       "4    0.4390   -11.648     0       0.0694  ...             0                0   \n",
       "\n",
       "   artist_for KING & COUNTRY  artist_one sonic society  artist_tUnE-yArDs  \\\n",
       "0                          0                         0                  0   \n",
       "1                          0                         0                  0   \n",
       "2                          0                         0                  0   \n",
       "3                          0                         0                  0   \n",
       "4                          0                         0                  0   \n",
       "\n",
       "   artist_tobyMac  artist_권나무 Kwon Tree  artist_도시총각 Dosichonggak  \\\n",
       "0               0                     0                         0   \n",
       "1               0                     0                         0   \n",
       "2               0                     0                         0   \n",
       "3               0                     0                         0   \n",
       "4               0                     0                         0   \n",
       "\n",
       "   artist_카우칩스 The CowChips  artist_플랫핏 Flat Feet  \n",
       "0                         0                     0  \n",
       "1                         0                     0  \n",
       "2                         0                     0  \n",
       "3                         0                     0  \n",
       "4                         0                     0  \n",
       "\n",
       "[5 rows x 1356 columns]"
      ]
     },
     "execution_count": 67,
     "metadata": {},
     "output_type": "execute_result"
    }
   ],
   "source": [
    "dataset.head()"
   ]
  },
  {
   "cell_type": "code",
   "execution_count": 68,
   "id": "c245b121",
   "metadata": {},
   "outputs": [
    {
     "data": {
      "text/plain": [
       "1356"
      ]
     },
     "execution_count": 68,
     "metadata": {},
     "output_type": "execute_result"
    }
   ],
   "source": [
    "len(dataset.columns)"
   ]
  },
  {
   "cell_type": "code",
   "execution_count": 69,
   "id": "5cda0522",
   "metadata": {},
   "outputs": [],
   "source": [
    "x_train, x_test, y_train, y_test = train_test_split(dataset, classes, test_size=0.2, random_state=123)"
   ]
  },
  {
   "cell_type": "code",
   "execution_count": 82,
   "id": "eec6cc85",
   "metadata": {},
   "outputs": [],
   "source": [
    "from sklearn.pipeline import Pipeline\n",
    "from sklearn.preprocessing import StandardScaler\n",
    "from sklearn.preprocessing import MinMaxScaler\n",
    "from sklearn import svm\n",
    "from sklearn import metrics"
   ]
  },
  {
   "cell_type": "code",
   "execution_count": 71,
   "id": "1b4a10ac",
   "metadata": {},
   "outputs": [],
   "source": [
    "# Scala os dados de treino e teste.\n",
    "\n",
    "scaler = StandardScaler().fit(x_train)\n",
    "x_train = scaler.transform(x_train)\n",
    "\n",
    "scaler2 = StandardScaler().fit(x_test)\n",
    "x_test = scaler2.transform(x_test)"
   ]
  },
  {
   "cell_type": "code",
   "execution_count": 73,
   "id": "6d6f92da",
   "metadata": {},
   "outputs": [
    {
     "data": {
      "text/plain": [
       "array([[-0.69763269, -0.19454789, -0.39893995, ..., -0.02490677,\n",
       "        -0.02490677, -0.02490677],\n",
       "       [-0.27629136,  0.29572571, -0.37444275, ..., -0.02490677,\n",
       "        -0.02490677, -0.02490677],\n",
       "       [-0.59953958,  1.11080557, -0.37620487, ..., -0.02490677,\n",
       "        -0.02490677, -0.02490677],\n",
       "       ...,\n",
       "       [ 1.2242284 , -1.26702139,  0.11359125, ..., -0.02490677,\n",
       "        -0.02490677, -0.02490677],\n",
       "       [ 2.00341861,  1.69913389, -0.30569532, ..., -0.02490677,\n",
       "        -0.02490677, -0.02490677],\n",
       "       [ 1.68711368, -0.89931619,  1.82133441, ..., -0.02490677,\n",
       "        -0.02490677, -0.02490677]])"
      ]
     },
     "execution_count": 73,
     "metadata": {},
     "output_type": "execute_result"
    }
   ],
   "source": [
    "x_train"
   ]
  },
  {
   "cell_type": "code",
   "execution_count": 76,
   "id": "a3a393de",
   "metadata": {},
   "outputs": [],
   "source": [
    "# Treina o algoritmo\n",
    "clf = svm.SVC()"
   ]
  },
  {
   "cell_type": "code",
   "execution_count": 79,
   "id": "67effe99",
   "metadata": {},
   "outputs": [
    {
     "data": {
      "text/plain": [
       "array([0, 1], dtype=int64)"
      ]
     },
     "execution_count": 79,
     "metadata": {},
     "output_type": "execute_result"
    }
   ],
   "source": [
    "clf.fit(x_train, y_train)"
   ]
  },
  {
   "cell_type": "code",
   "execution_count": 80,
   "id": "a1e3f1f4",
   "metadata": {},
   "outputs": [],
   "source": [
    "# Resultados de predição\n",
    "y_pred = clf.predict(x_test)"
   ]
  },
  {
   "cell_type": "code",
   "execution_count": 83,
   "id": "cd24167d",
   "metadata": {},
   "outputs": [
    {
     "data": {
      "text/plain": [
       "0.6732673267326733"
      ]
     },
     "execution_count": 83,
     "metadata": {},
     "output_type": "execute_result"
    }
   ],
   "source": [
    "# Imprime a acurácia\n",
    "metrics.accuracy_score(y_test,y_pred)"
   ]
  },
  {
   "cell_type": "markdown",
   "id": "2afee509",
   "metadata": {},
   "source": [
    "Com uma acurácia de 67% podemos constatar que o modelo de testes está dentro da normalidade, o modelo testes com uma porcentagem muito baixa quer dizer que o algorítmo não aprendeu o modelo para fazer os testes."
   ]
  },
  {
   "cell_type": "markdown",
   "id": "660506a1",
   "metadata": {},
   "source": [
    "##### Testando a classificação com o próprio teste"
   ]
  },
  {
   "cell_type": "code",
   "execution_count": 87,
   "id": "4cd459bb",
   "metadata": {},
   "outputs": [],
   "source": [
    "# Resultados de predição\n",
    "\n",
    "y_pred = clf.predict(x_train)"
   ]
  },
  {
   "cell_type": "code",
   "execution_count": 88,
   "id": "cf0e0f26",
   "metadata": {},
   "outputs": [
    {
     "data": {
      "text/plain": [
       "0.9851208927464352"
      ]
     },
     "execution_count": 88,
     "metadata": {},
     "output_type": "execute_result"
    }
   ],
   "source": [
    "# Imprime a Acurácia\n",
    "\n",
    "metrics.accuracy_score(y_train,y_pred)"
   ]
  },
  {
   "cell_type": "markdown",
   "id": "7aae7971",
   "metadata": {},
   "source": [
    "Com uma acurácia acima de 98%, como vemos aqui no modelo de treino, podemos constatar que o modelo está sofrendo de overfitting. O modelo aprendeu tão bem a classificar os dados que ele está praticamente acertando tudo. Com um modelo abaixo de 95%, o modelo está normal"
   ]
  },
  {
   "cell_type": "code",
   "execution_count": null,
   "id": "24f15601",
   "metadata": {},
   "outputs": [],
   "source": []
  }
 ],
 "metadata": {
  "kernelspec": {
   "display_name": "Python 3",
   "language": "python",
   "name": "python3"
  },
  "language_info": {
   "codemirror_mode": {
    "name": "ipython",
    "version": 3
   },
   "file_extension": ".py",
   "mimetype": "text/x-python",
   "name": "python",
   "nbconvert_exporter": "python",
   "pygments_lexer": "ipython3",
   "version": "3.8.8"
  }
 },
 "nbformat": 4,
 "nbformat_minor": 5
}
