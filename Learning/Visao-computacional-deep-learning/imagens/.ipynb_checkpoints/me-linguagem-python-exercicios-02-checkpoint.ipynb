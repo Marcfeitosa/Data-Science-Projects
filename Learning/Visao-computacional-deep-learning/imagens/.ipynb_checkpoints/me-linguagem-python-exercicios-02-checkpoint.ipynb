{
 "cells": [
  {
   "cell_type": "markdown",
   "metadata": {
    "colab_type": "text",
    "id": "UPLstzLNVDpY"
   },
   "source": [
    "# Mentoria Evolution - Exercícios Python "
   ]
  },
  {
   "cell_type": "markdown",
   "metadata": {
    "colab_type": "text",
    "id": "z_X19uXkVDpa"
   },
   "source": [
    "https://minerandodados.com.br"
   ]
  },
  {
   "cell_type": "markdown",
   "metadata": {
    "colab_type": "text",
    "id": "Vwr7asUXVDpb"
   },
   "source": [
    "* Para executar uma célula digite **Control + enter** ou clique em **Run**.\n",
    "* As celulas para rodar script Python devem ser do tipo code.\n",
    "* Crie células abaixo das celulas que foram escrito o enunciado das questões com as respostas."
   ]
  },
  {
   "cell_type": "markdown",
   "metadata": {
    "colab_type": "text",
    "id": "6PVti8DFVDpb"
   },
   "source": [
    "**Obs**: Caso de dúvidas, volte na aula anterior de Python. Não desista :)"
   ]
  },
  {
   "cell_type": "markdown",
   "metadata": {
    "colab_type": "text",
    "id": "Mp7r3rkCVDpc"
   },
   "source": [
    "## Exercícios de Fixação"
   ]
  },
  {
   "cell_type": "markdown",
   "metadata": {
    "colab_type": "text",
    "id": "JtEQMWGUVDpd"
   },
   "source": [
    "1) Responda: É possível ter elementos de tipos difentes em uma mesma lista? Exemplo: strings e números?"
   ]
  },
  {
   "cell_type": "code",
   "execution_count": 2,
   "metadata": {},
   "outputs": [],
   "source": [
    "resposta=\"sim\"\n"
   ]
  },
  {
   "cell_type": "markdown",
   "metadata": {
    "colab_type": "text",
    "id": "IVKrUTCQVDpe"
   },
   "source": [
    "2) Trabalhando com Listas, faça:\n",
    "- a) Cria uma lista de valores inteiros com o **nome** e **idades**.\n",
    "- b) Imprima apenas segundo elemento da lista.\n",
    "- c) Imprima a quantidade de elementos da lista.\n",
    "- d) Substitua o valor do segundo elemento da lista e imprima o resultado.\n",
    "- e) Imprima apenas os valores do segundo elemento em diante.\n",
    "- f) Remova qualquer elemento da lista e imprima o resultado.\n",
    "- g) Defina uma lista chamada salarios com os valores : **900,1200,1500,800,12587,10000**.\n",
    "- h) Verifique se contém o valor 10000 na lista de salarios.\n",
    "- i) Imprima o menor e maior valor da lista.\n",
    "- j) Adicione o valor 7000 a lista.\n",
    "- l) Extenda a lista com dois novos elementos utilizando apenas um método.\n",
    "- m) Imprima o índice do elemento de valor 800 da lista de salarios.\n",
    "- n) Faça uma ordenação dos valores da lista de salarios em ordem crescente e decrescente."
   ]
  },
  {
   "cell_type": "code",
   "execution_count": 3,
   "metadata": {},
   "outputs": [],
   "source": [
    "lista1=[\"Pedro\",8,\"Isabela\",5,\"Joao\",20,\"Maria\",40]"
   ]
  },
  {
   "cell_type": "code",
   "execution_count": 4,
   "metadata": {},
   "outputs": [
    {
     "name": "stdout",
     "output_type": "stream",
     "text": [
      "8\n"
     ]
    }
   ],
   "source": [
    "print(lista1[1])"
   ]
  },
  {
   "cell_type": "code",
   "execution_count": 5,
   "metadata": {},
   "outputs": [
    {
     "data": {
      "text/plain": [
       "8"
      ]
     },
     "execution_count": 5,
     "metadata": {},
     "output_type": "execute_result"
    }
   ],
   "source": [
    "len(lista1)"
   ]
  },
  {
   "cell_type": "code",
   "execution_count": 8,
   "metadata": {},
   "outputs": [],
   "source": [
    "lista1[1]=10"
   ]
  },
  {
   "cell_type": "code",
   "execution_count": 11,
   "metadata": {},
   "outputs": [
    {
     "name": "stdout",
     "output_type": "stream",
     "text": [
      "10\n"
     ]
    }
   ],
   "source": [
    "print(lista1[1])"
   ]
  },
  {
   "cell_type": "code",
   "execution_count": 12,
   "metadata": {},
   "outputs": [
    {
     "name": "stdout",
     "output_type": "stream",
     "text": [
      "['Isabela', 5, 'Joao', 20, 'Maria', 40]\n"
     ]
    }
   ],
   "source": [
    "print(lista1[2:])"
   ]
  },
  {
   "cell_type": "code",
   "execution_count": 17,
   "metadata": {},
   "outputs": [
    {
     "data": {
      "text/plain": [
       "8"
      ]
     },
     "execution_count": 17,
     "metadata": {},
     "output_type": "execute_result"
    }
   ],
   "source": [
    "len(lista1)"
   ]
  },
  {
   "cell_type": "code",
   "execution_count": 18,
   "metadata": {},
   "outputs": [],
   "source": [
    "lista1.remove(\"Maria\")"
   ]
  },
  {
   "cell_type": "code",
   "execution_count": 19,
   "metadata": {},
   "outputs": [
    {
     "name": "stdout",
     "output_type": "stream",
     "text": [
      "['Pedro', 10, 'Isabela', 5, 'Joao', 20, 40]\n"
     ]
    }
   ],
   "source": [
    "print(lista1[0:])"
   ]
  },
  {
   "cell_type": "raw",
   "metadata": {},
   "source": []
  },
  {
   "cell_type": "code",
   "execution_count": 20,
   "metadata": {},
   "outputs": [],
   "source": [
    "salarios=[900,1200,1500,800,12587,10000]"
   ]
  },
  {
   "cell_type": "code",
   "execution_count": 22,
   "metadata": {},
   "outputs": [
    {
     "data": {
      "text/plain": [
       "5"
      ]
     },
     "execution_count": 22,
     "metadata": {},
     "output_type": "execute_result"
    }
   ],
   "source": [
    "salarios.index(10000)"
   ]
  },
  {
   "cell_type": "code",
   "execution_count": 23,
   "metadata": {},
   "outputs": [
    {
     "data": {
      "text/plain": [
       "800"
      ]
     },
     "execution_count": 23,
     "metadata": {},
     "output_type": "execute_result"
    }
   ],
   "source": [
    "min(salarios)"
   ]
  },
  {
   "cell_type": "code",
   "execution_count": 24,
   "metadata": {},
   "outputs": [
    {
     "data": {
      "text/plain": [
       "12587"
      ]
     },
     "execution_count": 24,
     "metadata": {},
     "output_type": "execute_result"
    }
   ],
   "source": [
    "max(salarios)"
   ]
  },
  {
   "cell_type": "code",
   "execution_count": 25,
   "metadata": {},
   "outputs": [],
   "source": [
    "salarios.append(7000)"
   ]
  },
  {
   "cell_type": "code",
   "execution_count": 26,
   "metadata": {},
   "outputs": [
    {
     "name": "stdout",
     "output_type": "stream",
     "text": [
      "[900, 1200, 1500, 800, 12587, 10000, 7000]\n"
     ]
    }
   ],
   "source": [
    "print(salarios)"
   ]
  },
  {
   "cell_type": "code",
   "execution_count": 27,
   "metadata": {},
   "outputs": [],
   "source": [
    "salarios=salarios + [1600,8000]"
   ]
  },
  {
   "cell_type": "code",
   "execution_count": 28,
   "metadata": {},
   "outputs": [
    {
     "name": "stdout",
     "output_type": "stream",
     "text": [
      "[900, 1200, 1500, 800, 12587, 10000, 7000, 1600, 8000]\n"
     ]
    }
   ],
   "source": [
    "print(salarios)"
   ]
  },
  {
   "cell_type": "code",
   "execution_count": 29,
   "metadata": {},
   "outputs": [
    {
     "data": {
      "text/plain": [
       "3"
      ]
     },
     "execution_count": 29,
     "metadata": {},
     "output_type": "execute_result"
    }
   ],
   "source": [
    "salarios.index(800)"
   ]
  },
  {
   "cell_type": "code",
   "execution_count": 30,
   "metadata": {},
   "outputs": [],
   "source": [
    "salarios.sort()"
   ]
  },
  {
   "cell_type": "code",
   "execution_count": 31,
   "metadata": {},
   "outputs": [
    {
     "name": "stdout",
     "output_type": "stream",
     "text": [
      "[800, 900, 1200, 1500, 1600, 7000, 8000, 10000, 12587]\n"
     ]
    }
   ],
   "source": [
    "print(salarios)"
   ]
  },
  {
   "cell_type": "code",
   "execution_count": 35,
   "metadata": {},
   "outputs": [],
   "source": [
    "salarios.sort(reverse=True)"
   ]
  },
  {
   "cell_type": "code",
   "execution_count": 36,
   "metadata": {},
   "outputs": [
    {
     "name": "stdout",
     "output_type": "stream",
     "text": [
      "[12587, 10000, 8000, 7000, 1600, 1500, 1200, 900, 800]\n"
     ]
    }
   ],
   "source": [
    "print(salarios)"
   ]
  },
  {
   "cell_type": "markdown",
   "metadata": {
    "colab_type": "text",
    "id": "qKGzZTLAVDpf"
   },
   "source": [
    "3) Trabalhando com dicionários:\n",
    "- a) Crie um dicionário para armazenar o nome e a idade de pessoas, Exemplo:\n",
    "    pessoas = {'Rodrigo':30, 'Fulana':18}\n",
    "- b) Imprima a idade da pessoa \"Fulana\"\n",
    "- c) Imprima as Chaves do dicionario criado anteriormente.\n",
    "- d) Imprima os valores das chaves do dicionário\n",
    "- e) Busque a chave \"Felipe\" se ela não existe insira esta e o valor 30 (obs: use o método setdefault())"
   ]
  },
  {
   "cell_type": "code",
   "execution_count": 37,
   "metadata": {},
   "outputs": [],
   "source": [
    "pessoas={'Rodrigo':30,'Fulana':18}"
   ]
  },
  {
   "cell_type": "code",
   "execution_count": 38,
   "metadata": {},
   "outputs": [
    {
     "data": {
      "text/plain": [
       "18"
      ]
     },
     "execution_count": 38,
     "metadata": {},
     "output_type": "execute_result"
    }
   ],
   "source": [
    "pessoas['Fulana']"
   ]
  },
  {
   "cell_type": "code",
   "execution_count": 39,
   "metadata": {},
   "outputs": [
    {
     "data": {
      "text/plain": [
       "{'Rodrigo': 30, 'Fulana': 18}"
      ]
     },
     "execution_count": 39,
     "metadata": {},
     "output_type": "execute_result"
    }
   ],
   "source": [
    "pessoas"
   ]
  },
  {
   "cell_type": "code",
   "execution_count": 40,
   "metadata": {},
   "outputs": [
    {
     "data": {
      "text/plain": [
       "dict_values([30, 18])"
      ]
     },
     "execution_count": 40,
     "metadata": {},
     "output_type": "execute_result"
    }
   ],
   "source": [
    "pessoas.values()"
   ]
  },
  {
   "cell_type": "code",
   "execution_count": 42,
   "metadata": {},
   "outputs": [
    {
     "data": {
      "text/plain": [
       "30"
      ]
     },
     "execution_count": 42,
     "metadata": {},
     "output_type": "execute_result"
    }
   ],
   "source": [
    "pessoas.setdefault('Felipe',30)"
   ]
  },
  {
   "cell_type": "code",
   "execution_count": 43,
   "metadata": {},
   "outputs": [
    {
     "name": "stdout",
     "output_type": "stream",
     "text": [
      "{'Rodrigo': 30, 'Fulana': 18, 'Felipe': 30}\n"
     ]
    }
   ],
   "source": [
    "print(pessoas)"
   ]
  },
  {
   "cell_type": "markdown",
   "metadata": {
    "colab_type": "text",
    "id": "z9gifpJ3VDpg"
   },
   "source": [
    "4) Estruturas condicionais:\n",
    "- a) Verifique se 5 é maior que 1, se sim, imprima \"5 é maior que 1\"\n",
    "- b) crie as variávies x1 e y1, defina dois valores quaisquer para as duas variáveis. \n",
    "  Verifique se x1 é maior que y1. Se sim, imprima \"x1 é maior que y1\", senão imprima: \"y1 é maior que x1\"\n",
    "- c) Crie uma lista de valores como [2,3,4,5,6,7] e faça um loop para imprimir todos os valores na tela multiplicados por 2."
   ]
  },
  {
   "cell_type": "code",
   "execution_count": 45,
   "metadata": {},
   "outputs": [
    {
     "name": "stdout",
     "output_type": "stream",
     "text": [
      "O numero 5 é maior que 1\n"
     ]
    }
   ],
   "source": [
    "if 5>1:\n",
    "   print('O numero 5 é maior que 1')"
   ]
  },
  {
   "cell_type": "code",
   "execution_count": 46,
   "metadata": {},
   "outputs": [],
   "source": [
    "x1=10"
   ]
  },
  {
   "cell_type": "code",
   "execution_count": 47,
   "metadata": {},
   "outputs": [],
   "source": [
    "y1=8"
   ]
  },
  {
   "cell_type": "code",
   "execution_count": 50,
   "metadata": {},
   "outputs": [
    {
     "name": "stdout",
     "output_type": "stream",
     "text": [
      "x1 é maior que y1\n"
     ]
    }
   ],
   "source": [
    "x1=10\n",
    "y1=8\n",
    "if x1 > y1:\n",
    "   print('x1 é maior que y1')\n",
    "else:\n",
    "   print('y1 é maior que x1')"
   ]
  },
  {
   "cell_type": "code",
   "execution_count": 51,
   "metadata": {},
   "outputs": [
    {
     "name": "stdout",
     "output_type": "stream",
     "text": [
      "4\n",
      "6\n",
      "8\n",
      "10\n",
      "12\n",
      "14\n"
     ]
    }
   ],
   "source": [
    "for i in [2,3,4,5,6,7]:\n",
    "  print(i*2)"
   ]
  }
 ],
 "metadata": {
  "colab": {
   "collapsed_sections": [],
   "name": "me-linguagem-python-exercicios-02.ipynb",
   "provenance": [],
   "version": "0.3.2"
  },
  "kernelspec": {
   "display_name": "Python 3",
   "language": "python",
   "name": "python3"
  }
 },
 "nbformat": 4,
 "nbformat_minor": 1
}
