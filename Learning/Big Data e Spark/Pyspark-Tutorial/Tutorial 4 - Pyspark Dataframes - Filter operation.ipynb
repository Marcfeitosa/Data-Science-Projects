{
 "cells": [
  {
   "cell_type": "markdown",
   "id": "ff88b298-2444-4d5f-9e1c-29d3f9a9e4d5",
   "metadata": {},
   "source": [
    "# Pyspark Dataframes\n",
    "\n",
    "- Filter Operation\n",
    "- &,|,==\n",
    "- ~"
   ]
  },
  {
   "cell_type": "code",
   "execution_count": 1,
   "id": "70f4971f-2a73-4081-aa42-e62f3d852fba",
   "metadata": {},
   "outputs": [],
   "source": [
    "from pyspark.sql import SparkSession"
   ]
  },
  {
   "cell_type": "code",
   "execution_count": 2,
   "id": "345c9107-88e2-41f3-8003-e9f5ccfe4ade",
   "metadata": {},
   "outputs": [],
   "source": [
    "spark = SparkSession.builder.appName('dataframe').getOrCreate()"
   ]
  },
  {
   "cell_type": "code",
   "execution_count": 4,
   "id": "19fd0727-4ece-4eb3-ab37-c2d8c43c6751",
   "metadata": {},
   "outputs": [
    {
     "name": "stdout",
     "output_type": "stream",
     "text": [
      "+----+-------+-----+-----+\n",
      "|ASID| BORDER|HOUR1|HOUR2|\n",
      "+----+-------+-----+-----+\n",
      "|  21|GERMANY|    2|    3|\n",
      "|  32| FRANCE|    2|    3|\n",
      "|  99|  ITALY|    2|    3|\n",
      "|  77|    USA|    4|    5|\n",
      "|  66| CANADA|    4|    5|\n",
      "|  55| MEXICO|    4|    5|\n",
      "|  44|  INDIA|    6|    7|\n",
      "|  88|  CHINA|    6|    7|\n",
      "| 111|  JAPAN|    6|    7|\n",
      "+----+-------+-----+-----+\n",
      "\n"
     ]
    }
   ],
   "source": [
    "df_pyspark = spark.read.csv(r\"C:\\Users\\marcf\\OneDrive\\Documentos\\Ciencia-de-dados\\Master_Data_Analysis_with_Python_by_Ted_Petrou_20221019\\Jupyter Notebooks\\data\\tidy\\country_hour_price.csv\", header=True,inferSchema=True)\n",
    "df_pyspark.show()"
   ]
  },
  {
   "cell_type": "markdown",
   "id": "bd9bbccb-4b90-4736-9a30-0735f0f7e7fe",
   "metadata": {},
   "source": [
    "## Filter operations"
   ]
  },
  {
   "cell_type": "code",
   "execution_count": 6,
   "id": "91f431d9-3040-4d98-a0ce-2e83c3de396f",
   "metadata": {},
   "outputs": [
    {
     "name": "stdout",
     "output_type": "stream",
     "text": [
      "+----+------+-----+-----+\n",
      "|ASID|BORDER|HOUR1|HOUR2|\n",
      "+----+------+-----+-----+\n",
      "|  77|   USA|    4|    5|\n",
      "|  66|CANADA|    4|    5|\n",
      "|  55|MEXICO|    4|    5|\n",
      "|  44| INDIA|    6|    7|\n",
      "|  88| CHINA|    6|    7|\n",
      "| 111| JAPAN|    6|    7|\n",
      "+----+------+-----+-----+\n",
      "\n"
     ]
    }
   ],
   "source": [
    "# Hour2 greater than or equal to 5\n",
    "\n",
    "df_pyspark.filter(\"HOUR2>=5\").show()"
   ]
  },
  {
   "cell_type": "code",
   "execution_count": 7,
   "id": "8b6658be-c70f-40b2-aae8-9deb3dbdd578",
   "metadata": {},
   "outputs": [
    {
     "name": "stdout",
     "output_type": "stream",
     "text": [
      "+----+------+\n",
      "|ASID|BORDER|\n",
      "+----+------+\n",
      "|  77|   USA|\n",
      "|  66|CANADA|\n",
      "|  55|MEXICO|\n",
      "|  44| INDIA|\n",
      "|  88| CHINA|\n",
      "| 111| JAPAN|\n",
      "+----+------+\n",
      "\n"
     ]
    }
   ],
   "source": [
    "df_pyspark.filter(\"HOUR2>=5\").select(['ASID','BORDER']).show()"
   ]
  },
  {
   "cell_type": "code",
   "execution_count": 9,
   "id": "182bb2f9-9a32-49d4-b40d-7b1b6cb9196d",
   "metadata": {},
   "outputs": [
    {
     "name": "stdout",
     "output_type": "stream",
     "text": [
      "+----+-------+-----+-----+\n",
      "|ASID| BORDER|HOUR1|HOUR2|\n",
      "+----+-------+-----+-----+\n",
      "|  21|GERMANY|    2|    3|\n",
      "|  32| FRANCE|    2|    3|\n",
      "|  99|  ITALY|    2|    3|\n",
      "|  77|    USA|    4|    5|\n",
      "|  66| CANADA|    4|    5|\n",
      "|  55| MEXICO|    4|    5|\n",
      "+----+-------+-----+-----+\n",
      "\n"
     ]
    }
   ],
   "source": [
    "df_pyspark.filter(df_pyspark['HOUR2']<=5).show()"
   ]
  },
  {
   "cell_type": "code",
   "execution_count": 12,
   "id": "caecb600-d6e5-475e-b38d-a9c9956424ff",
   "metadata": {},
   "outputs": [
    {
     "name": "stdout",
     "output_type": "stream",
     "text": [
      "+----+------+-----+-----+\n",
      "|ASID|BORDER|HOUR1|HOUR2|\n",
      "+----+------+-----+-----+\n",
      "|  77|   USA|    4|    5|\n",
      "|  66|CANADA|    4|    5|\n",
      "|  55|MEXICO|    4|    5|\n",
      "+----+------+-----+-----+\n",
      "\n"
     ]
    }
   ],
   "source": [
    "df_pyspark.filter((df_pyspark['HOUR2']<=5) & (df_pyspark['HOUR2']>3)).show()"
   ]
  },
  {
   "cell_type": "code",
   "execution_count": 15,
   "id": "96c4b079-270f-4cac-bb15-e1ab9bd6bc80",
   "metadata": {},
   "outputs": [
    {
     "name": "stdout",
     "output_type": "stream",
     "text": [
      "+----+-------+-----+-----+\n",
      "|ASID| BORDER|HOUR1|HOUR2|\n",
      "+----+-------+-----+-----+\n",
      "|  21|GERMANY|    2|    3|\n",
      "|  32| FRANCE|    2|    3|\n",
      "|  99|  ITALY|    2|    3|\n",
      "|  77|    USA|    4|    5|\n",
      "|  66| CANADA|    4|    5|\n",
      "|  55| MEXICO|    4|    5|\n",
      "|  44|  INDIA|    6|    7|\n",
      "|  88|  CHINA|    6|    7|\n",
      "| 111|  JAPAN|    6|    7|\n",
      "+----+-------+-----+-----+\n",
      "\n"
     ]
    }
   ],
   "source": [
    "df_pyspark.filter((df_pyspark['HOUR1']<6) | (df_pyspark['HOUR1']>2)).show()"
   ]
  },
  {
   "cell_type": "code",
   "execution_count": 16,
   "id": "22706cba-8648-4def-a1b6-99ab81b36055",
   "metadata": {},
   "outputs": [
    {
     "name": "stdout",
     "output_type": "stream",
     "text": [
      "+----+------+-----+-----+\n",
      "|ASID|BORDER|HOUR1|HOUR2|\n",
      "+----+------+-----+-----+\n",
      "|  44| INDIA|    6|    7|\n",
      "|  88| CHINA|    6|    7|\n",
      "| 111| JAPAN|    6|    7|\n",
      "+----+------+-----+-----+\n",
      "\n"
     ]
    }
   ],
   "source": [
    "df_pyspark.filter(~(df_pyspark['HOUR1']<6)).show()"
   ]
  },
  {
   "cell_type": "code",
   "execution_count": null,
   "id": "09d78fd2-1184-41ad-a194-6b2bdb1938f4",
   "metadata": {},
   "outputs": [],
   "source": []
  }
 ],
 "metadata": {
  "kernelspec": {
   "display_name": "Python 3 (ipykernel)",
   "language": "python",
   "name": "python3"
  },
  "language_info": {
   "codemirror_mode": {
    "name": "ipython",
    "version": 3
   },
   "file_extension": ".py",
   "mimetype": "text/x-python",
   "name": "python",
   "nbconvert_exporter": "python",
   "pygments_lexer": "ipython3",
   "version": "3.8.8"
  }
 },
 "nbformat": 4,
 "nbformat_minor": 5
}
