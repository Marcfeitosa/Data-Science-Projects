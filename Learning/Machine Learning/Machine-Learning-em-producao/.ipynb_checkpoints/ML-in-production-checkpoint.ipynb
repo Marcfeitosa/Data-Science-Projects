{
 "cells": [
  {
   "cell_type": "markdown",
   "id": "7ca44e44-fa2b-4192-a32b-d32f1ab48184",
   "metadata": {},
   "source": [
    "# Machine Learning in Production"
   ]
  },
  {
   "cell_type": "markdown",
   "id": "ff8b8c81-d94c-46c5-aaa1-b77a33852409",
   "metadata": {},
   "source": [
    "## Persisting Objects in Disc"
   ]
  },
  {
   "cell_type": "code",
   "execution_count": 2,
   "id": "31e020b9-4661-4861-8f94-db4090c4c2b6",
   "metadata": {},
   "outputs": [],
   "source": [
    "import pickle\n",
    "import joblib\n",
    "import numpy as np\n",
    "import _pickle as cPickle"
   ]
  },
  {
   "cell_type": "markdown",
   "id": "75d9cd65-5bf7-4fd0-86c2-c171c183e972",
   "metadata": {},
   "source": [
    "### Creation of object from the top of thr list"
   ]
  },
  {
   "cell_type": "code",
   "execution_count": 4,
   "id": "11244876-c44a-416a-b433-fe4c6e991e76",
   "metadata": {},
   "outputs": [],
   "source": [
    "lista = [1500,1234,567,14]"
   ]
  },
  {
   "cell_type": "markdown",
   "id": "da2bdd30-a4aa-48ca-9916-8c4897dd42b5",
   "metadata": {},
   "source": [
    "### File creation in disc"
   ]
  },
  {
   "cell_type": "code",
   "execution_count": 5,
   "id": "084c739e-b333-4409-8668-877c295bad6e",
   "metadata": {},
   "outputs": [],
   "source": [
    "arquivo = open('lista.pkl','wb')"
   ]
  },
  {
   "cell_type": "markdown",
   "id": "2389a003-968d-45ad-b101-b131a0b896c0",
   "metadata": {},
   "source": [
    "### Persisting object in disc"
   ]
  },
  {
   "cell_type": "code",
   "execution_count": 7,
   "id": "9936ec00-7326-4cc4-890a-0ed7347f30ef",
   "metadata": {},
   "outputs": [],
   "source": [
    "pickle.dump(lista,arquivo)"
   ]
  },
  {
   "cell_type": "code",
   "execution_count": 8,
   "id": "6c37f29e-a349-4aec-a378-524cba00f531",
   "metadata": {},
   "outputs": [],
   "source": [
    "arquivo.close()"
   ]
  },
  {
   "cell_type": "code",
   "execution_count": 9,
   "id": "c48b1c6d-3d2c-4b84-9680-ffb446414e5d",
   "metadata": {},
   "outputs": [
    {
     "name": "stderr",
     "output_type": "stream",
     "text": [
      "'ls' nÆo ‚ reconhecido como um comando interno\n",
      "ou externo, um programa oper vel ou um arquivo em lotes.\n"
     ]
    }
   ],
   "source": [
    "!ls"
   ]
  },
  {
   "cell_type": "markdown",
   "id": "8cd9e348-e129-4d94-b988-235da427a91c",
   "metadata": {},
   "source": [
    "### Loading the object from a disc to memory"
   ]
  },
  {
   "cell_type": "code",
   "execution_count": 10,
   "id": "1580c59b-65b5-407f-bfb2-8827eba68c10",
   "metadata": {},
   "outputs": [],
   "source": [
    "arquivo2 = open('lista.pkl','rb')"
   ]
  },
  {
   "cell_type": "code",
   "execution_count": 11,
   "id": "a442d286-df10-4877-b29d-1adfae0edc7d",
   "metadata": {},
   "outputs": [],
   "source": [
    "lista2 = pickle.load(arquivo2)"
   ]
  },
  {
   "cell_type": "code",
   "execution_count": 12,
   "id": "017449c8-5ae7-4705-8812-e895d18a7445",
   "metadata": {},
   "outputs": [],
   "source": [
    "arquivo2.close()"
   ]
  },
  {
   "cell_type": "code",
   "execution_count": 13,
   "id": "6a7b8842-a11f-4824-9c11-cff378c851b4",
   "metadata": {},
   "outputs": [
    {
     "data": {
      "text/plain": [
       "[1500, 1234, 567, 14]"
      ]
     },
     "execution_count": 13,
     "metadata": {},
     "output_type": "execute_result"
    }
   ],
   "source": [
    "lista2"
   ]
  },
  {
   "cell_type": "markdown",
   "id": "d88c2e55-30c4-4d7d-9987-8cfe753dc21e",
   "metadata": {},
   "source": [
    "## Persisting objects using Numpy"
   ]
  },
  {
   "cell_type": "markdown",
   "id": "06b35e0b-908e-4cb8-8f64-49e9cf408645",
   "metadata": {},
   "source": [
    "### Definning the array"
   ]
  },
  {
   "cell_type": "code",
   "execution_count": 14,
   "id": "d5ebed45-de8c-481c-be87-6881a6cbf502",
   "metadata": {},
   "outputs": [],
   "source": [
    "x = np.arange(10)"
   ]
  },
  {
   "cell_type": "code",
   "execution_count": 15,
   "id": "a12312df-0e6a-4f0f-b85e-c68bcb0086da",
   "metadata": {},
   "outputs": [
    {
     "data": {
      "text/plain": [
       "array([0, 1, 2, 3, 4, 5, 6, 7, 8, 9])"
      ]
     },
     "execution_count": 15,
     "metadata": {},
     "output_type": "execute_result"
    }
   ],
   "source": [
    "x"
   ]
  },
  {
   "cell_type": "markdown",
   "id": "56f31808-f633-4614-ab4d-7e258758a86c",
   "metadata": {},
   "source": [
    "### Persisting array in disc"
   ]
  },
  {
   "cell_type": "code",
   "execution_count": 16,
   "id": "fd487e60-3a2b-4d95-8a06-dec96b051688",
   "metadata": {},
   "outputs": [],
   "source": [
    "np.save('array',x)"
   ]
  },
  {
   "cell_type": "markdown",
   "id": "944b267c-170f-42dc-9dc2-940a0f70b448",
   "metadata": {},
   "source": [
    "### Listing files in disc"
   ]
  },
  {
   "cell_type": "code",
   "execution_count": 17,
   "id": "41fbb5ed-d09d-4a8d-aa17-f4a35130cf2b",
   "metadata": {},
   "outputs": [
    {
     "name": "stderr",
     "output_type": "stream",
     "text": [
      "'ls' nÆo ‚ reconhecido como um comando interno\n",
      "ou externo, um programa oper vel ou um arquivo em lotes.\n"
     ]
    }
   ],
   "source": [
    "!ls"
   ]
  },
  {
   "cell_type": "markdown",
   "id": "f4d7e668-1790-468a-87a8-2e572dec175c",
   "metadata": {},
   "source": [
    "### Loading the object from disc to the memory"
   ]
  },
  {
   "cell_type": "code",
   "execution_count": 18,
   "id": "6d5b4618-6265-4e63-a57f-d21447e1d506",
   "metadata": {},
   "outputs": [],
   "source": [
    "x2 = np.load('array.npy')"
   ]
  },
  {
   "cell_type": "code",
   "execution_count": 19,
   "id": "9f2e99eb-130f-4f31-b16b-e3c3a1917de7",
   "metadata": {},
   "outputs": [
    {
     "data": {
      "text/plain": [
       "array([0, 1, 2, 3, 4, 5, 6, 7, 8, 9])"
      ]
     },
     "execution_count": 19,
     "metadata": {},
     "output_type": "execute_result"
    }
   ],
   "source": [
    "x2"
   ]
  },
  {
   "cell_type": "markdown",
   "id": "3bab7249-f49b-4e50-8ac0-12902bb64eb8",
   "metadata": {},
   "source": [
    "### Persisting the list previously created in disc"
   ]
  },
  {
   "cell_type": "code",
   "execution_count": 21,
   "id": "ec9bc7ca-7d9f-4733-8085-f28686408e2e",
   "metadata": {},
   "outputs": [],
   "source": [
    "np.save('lista2.npy',lista2)"
   ]
  },
  {
   "cell_type": "markdown",
   "id": "222401b5-ad84-469e-9f00-94df5dd7d627",
   "metadata": {},
   "source": [
    "### Loading the object from the disc to the memory"
   ]
  },
  {
   "cell_type": "code",
   "execution_count": 22,
   "id": "5252cb15-2a54-40c4-9db3-7e670931f389",
   "metadata": {},
   "outputs": [],
   "source": [
    "lista3 = np.load('lista2.npy')"
   ]
  },
  {
   "cell_type": "code",
   "execution_count": 23,
   "id": "7c5fcc88-0662-4aee-be3f-3baef88492d2",
   "metadata": {},
   "outputs": [
    {
     "data": {
      "text/plain": [
       "array([1500, 1234,  567,   14])"
      ]
     },
     "execution_count": 23,
     "metadata": {},
     "output_type": "execute_result"
    }
   ],
   "source": [
    "lista3"
   ]
  },
  {
   "cell_type": "markdown",
   "id": "23ad31c9-90db-4a1c-b40e-460fa9cce37d",
   "metadata": {},
   "source": [
    "### Verifying the type of object created"
   ]
  },
  {
   "cell_type": "code",
   "execution_count": 24,
   "id": "5ef4dec2-dd8c-4b47-8b53-e85bea2df105",
   "metadata": {},
   "outputs": [
    {
     "data": {
      "text/plain": [
       "numpy.ndarray"
      ]
     },
     "execution_count": 24,
     "metadata": {},
     "output_type": "execute_result"
    }
   ],
   "source": [
    "type(lista3)"
   ]
  },
  {
   "cell_type": "markdown",
   "id": "7d5e9b30-ff73-409e-8185-1eb636cbab51",
   "metadata": {},
   "source": [
    "## Persisting objects using Joblib"
   ]
  },
  {
   "cell_type": "markdown",
   "id": "9a42170e-918c-4bdd-aec8-9c4d90cc907e",
   "metadata": {},
   "source": [
    "### Persisting the created list previously in disc"
   ]
  },
  {
   "cell_type": "code",
   "execution_count": 25,
   "id": "704d3624-460f-49de-a10b-f5c213acaee9",
   "metadata": {},
   "outputs": [
    {
     "data": {
      "text/plain": [
       "['lista3.joblib']"
      ]
     },
     "execution_count": 25,
     "metadata": {},
     "output_type": "execute_result"
    }
   ],
   "source": [
    "joblib.dump(lista3,'lista3.joblib')"
   ]
  },
  {
   "cell_type": "markdown",
   "id": "1b331b33-89f4-43a6-93dc-22fca4d56ba6",
   "metadata": {},
   "source": [
    "### Persisting created list previously in disc using compression"
   ]
  },
  {
   "cell_type": "code",
   "execution_count": 27,
   "id": "4b37d8bb-0363-4b8d-8f7e-f2d5b301f37c",
   "metadata": {},
   "outputs": [
    {
     "data": {
      "text/plain": [
       "['lista3.gz']"
      ]
     },
     "execution_count": 27,
     "metadata": {},
     "output_type": "execute_result"
    }
   ],
   "source": [
    "joblib.dump(lista3,'lista3.gz',compress=True)"
   ]
  },
  {
   "cell_type": "markdown",
   "id": "36ca2b93-3821-4d15-baeb-0489e8444451",
   "metadata": {},
   "source": [
    "### Loading the object from the disc to memory"
   ]
  },
  {
   "cell_type": "code",
   "execution_count": 31,
   "id": "e970fbc5-5f9b-4834-9f34-b26e8ec7b736",
   "metadata": {},
   "outputs": [],
   "source": [
    "lista4 = joblib.load('lista3.gz')"
   ]
  },
  {
   "cell_type": "code",
   "execution_count": 32,
   "id": "977defb0-5828-4ee9-98b8-6535c1d5576d",
   "metadata": {},
   "outputs": [
    {
     "data": {
      "text/plain": [
       "array([1500, 1234,  567,   14])"
      ]
     },
     "execution_count": 32,
     "metadata": {},
     "output_type": "execute_result"
    }
   ],
   "source": [
    "lista4"
   ]
  },
  {
   "cell_type": "markdown",
   "id": "a86d1d77-0c7c-40f5-9d6e-e1d1ada91481",
   "metadata": {},
   "source": [
    "# Persisting the Machine Learnin model to disc"
   ]
  },
  {
   "cell_type": "code",
   "execution_count": 39,
   "id": "4d13b0f9-adc0-4d5d-9e92-b65f090f5de4",
   "metadata": {},
   "outputs": [],
   "source": [
    "# Libs\n",
    "\n",
    "import os\n",
    "import re\n",
    "import numpy as np\n",
    "import pandas as pd\n",
    "import warnings\n",
    "warnings.filterwarnings(\"ignore\")"
   ]
  },
  {
   "cell_type": "markdown",
   "id": "846e90f8-767f-4e2b-b7bf-f015427fe2da",
   "metadata": {},
   "source": [
    "## Carregando a base de dados"
   ]
  },
  {
   "cell_type": "code",
   "execution_count": 42,
   "id": "fd257802-d842-490e-be46-10b36ce40a8d",
   "metadata": {},
   "outputs": [],
   "source": [
    "data = pd.read_csv(r\"C:\\Users\\marcf\\OneDrive\\Documentos\\Ciencia de dados\\Machine-Learning-em-producao\\notebook-dataset\\loan.csv\")"
   ]
  },
  {
   "cell_type": "code",
   "execution_count": 43,
   "id": "0ff46df0-4dcf-4302-84db-b663b5524f21",
   "metadata": {},
   "outputs": [
    {
     "data": {
      "text/html": [
       "<div>\n",
       "<style scoped>\n",
       "    .dataframe tbody tr th:only-of-type {\n",
       "        vertical-align: middle;\n",
       "    }\n",
       "\n",
       "    .dataframe tbody tr th {\n",
       "        vertical-align: top;\n",
       "    }\n",
       "\n",
       "    .dataframe thead th {\n",
       "        text-align: right;\n",
       "    }\n",
       "</style>\n",
       "<table border=\"1\" class=\"dataframe\">\n",
       "  <thead>\n",
       "    <tr style=\"text-align: right;\">\n",
       "      <th></th>\n",
       "      <th>Loan_ID</th>\n",
       "      <th>Gender</th>\n",
       "      <th>Married</th>\n",
       "      <th>Dependents</th>\n",
       "      <th>Education</th>\n",
       "      <th>Self_Employed</th>\n",
       "      <th>ApplicantIncome</th>\n",
       "      <th>CoapplicantIncome</th>\n",
       "      <th>LoanAmount</th>\n",
       "      <th>Loan_Amount_Term</th>\n",
       "      <th>Credit_History</th>\n",
       "      <th>Property_Area</th>\n",
       "      <th>Loan_Status</th>\n",
       "    </tr>\n",
       "  </thead>\n",
       "  <tbody>\n",
       "    <tr>\n",
       "      <th>0</th>\n",
       "      <td>LP001002</td>\n",
       "      <td>Male</td>\n",
       "      <td>No</td>\n",
       "      <td>0</td>\n",
       "      <td>Graduate</td>\n",
       "      <td>No</td>\n",
       "      <td>5849</td>\n",
       "      <td>0.0</td>\n",
       "      <td>NaN</td>\n",
       "      <td>360.0</td>\n",
       "      <td>1.0</td>\n",
       "      <td>Urban</td>\n",
       "      <td>Y</td>\n",
       "    </tr>\n",
       "    <tr>\n",
       "      <th>1</th>\n",
       "      <td>LP001003</td>\n",
       "      <td>Male</td>\n",
       "      <td>Yes</td>\n",
       "      <td>1</td>\n",
       "      <td>Graduate</td>\n",
       "      <td>No</td>\n",
       "      <td>4583</td>\n",
       "      <td>1508.0</td>\n",
       "      <td>128.0</td>\n",
       "      <td>360.0</td>\n",
       "      <td>1.0</td>\n",
       "      <td>Rural</td>\n",
       "      <td>N</td>\n",
       "    </tr>\n",
       "    <tr>\n",
       "      <th>2</th>\n",
       "      <td>LP001005</td>\n",
       "      <td>Male</td>\n",
       "      <td>Yes</td>\n",
       "      <td>0</td>\n",
       "      <td>Graduate</td>\n",
       "      <td>Yes</td>\n",
       "      <td>3000</td>\n",
       "      <td>0.0</td>\n",
       "      <td>66.0</td>\n",
       "      <td>360.0</td>\n",
       "      <td>1.0</td>\n",
       "      <td>Urban</td>\n",
       "      <td>Y</td>\n",
       "    </tr>\n",
       "    <tr>\n",
       "      <th>3</th>\n",
       "      <td>LP001006</td>\n",
       "      <td>Male</td>\n",
       "      <td>Yes</td>\n",
       "      <td>0</td>\n",
       "      <td>Not Graduate</td>\n",
       "      <td>No</td>\n",
       "      <td>2583</td>\n",
       "      <td>2358.0</td>\n",
       "      <td>120.0</td>\n",
       "      <td>360.0</td>\n",
       "      <td>1.0</td>\n",
       "      <td>Urban</td>\n",
       "      <td>Y</td>\n",
       "    </tr>\n",
       "    <tr>\n",
       "      <th>4</th>\n",
       "      <td>LP001008</td>\n",
       "      <td>Male</td>\n",
       "      <td>No</td>\n",
       "      <td>0</td>\n",
       "      <td>Graduate</td>\n",
       "      <td>No</td>\n",
       "      <td>6000</td>\n",
       "      <td>0.0</td>\n",
       "      <td>141.0</td>\n",
       "      <td>360.0</td>\n",
       "      <td>1.0</td>\n",
       "      <td>Urban</td>\n",
       "      <td>Y</td>\n",
       "    </tr>\n",
       "  </tbody>\n",
       "</table>\n",
       "</div>"
      ],
      "text/plain": [
       "    Loan_ID Gender Married Dependents     Education Self_Employed  \\\n",
       "0  LP001002   Male      No          0      Graduate            No   \n",
       "1  LP001003   Male     Yes          1      Graduate            No   \n",
       "2  LP001005   Male     Yes          0      Graduate           Yes   \n",
       "3  LP001006   Male     Yes          0  Not Graduate            No   \n",
       "4  LP001008   Male      No          0      Graduate            No   \n",
       "\n",
       "   ApplicantIncome  CoapplicantIncome  LoanAmount  Loan_Amount_Term  \\\n",
       "0             5849                0.0         NaN             360.0   \n",
       "1             4583             1508.0       128.0             360.0   \n",
       "2             3000                0.0        66.0             360.0   \n",
       "3             2583             2358.0       120.0             360.0   \n",
       "4             6000                0.0       141.0             360.0   \n",
       "\n",
       "   Credit_History Property_Area Loan_Status  \n",
       "0             1.0         Urban           Y  \n",
       "1             1.0         Rural           N  \n",
       "2             1.0         Urban           Y  \n",
       "3             1.0         Urban           Y  \n",
       "4             1.0         Urban           Y  "
      ]
     },
     "execution_count": 43,
     "metadata": {},
     "output_type": "execute_result"
    }
   ],
   "source": [
    "data.head()"
   ]
  },
  {
   "cell_type": "code",
   "execution_count": 44,
   "id": "a8b7a9d9-c671-418f-9c75-7c8dbde3c383",
   "metadata": {},
   "outputs": [
    {
     "name": "stdout",
     "output_type": "stream",
     "text": [
      "<class 'pandas.core.frame.DataFrame'>\n",
      "RangeIndex: 614 entries, 0 to 613\n",
      "Data columns (total 13 columns):\n",
      " #   Column             Non-Null Count  Dtype  \n",
      "---  ------             --------------  -----  \n",
      " 0   Loan_ID            614 non-null    object \n",
      " 1   Gender             601 non-null    object \n",
      " 2   Married            611 non-null    object \n",
      " 3   Dependents         599 non-null    object \n",
      " 4   Education          614 non-null    object \n",
      " 5   Self_Employed      582 non-null    object \n",
      " 6   ApplicantIncome    614 non-null    int64  \n",
      " 7   CoapplicantIncome  614 non-null    float64\n",
      " 8   LoanAmount         592 non-null    float64\n",
      " 9   Loan_Amount_Term   600 non-null    float64\n",
      " 10  Credit_History     564 non-null    float64\n",
      " 11  Property_Area      614 non-null    object \n",
      " 12  Loan_Status        614 non-null    object \n",
      "dtypes: float64(4), int64(1), object(8)\n",
      "memory usage: 62.5+ KB\n"
     ]
    }
   ],
   "source": [
    "data.info()"
   ]
  },
  {
   "cell_type": "code",
   "execution_count": 45,
   "id": "f95d5327-1cf3-485b-ad4a-ccbe67b710dc",
   "metadata": {},
   "outputs": [
    {
     "data": {
      "text/plain": [
       "Y    422\n",
       "N    192\n",
       "Name: Loan_Status, dtype: int64"
      ]
     },
     "execution_count": 45,
     "metadata": {},
     "output_type": "execute_result"
    }
   ],
   "source": [
    "data.Loan_Status.value_counts()"
   ]
  },
  {
   "cell_type": "code",
   "execution_count": 46,
   "id": "380bb792-f90b-4375-8fe0-a936d7a20d0f",
   "metadata": {},
   "outputs": [],
   "source": [
    "data2 = data[data.Loan_Status=='Y'].sample(200)"
   ]
  },
  {
   "cell_type": "code",
   "execution_count": 47,
   "id": "b615f5ea-5211-4c44-a654-56d68ca3a30a",
   "metadata": {},
   "outputs": [],
   "source": [
    "data = data2.append(data[data.Loan_Status=='N'].sample(192))"
   ]
  },
  {
   "cell_type": "code",
   "execution_count": 48,
   "id": "4035385c-e04c-416e-9cea-a4abb4b2bae1",
   "metadata": {},
   "outputs": [
    {
     "data": {
      "text/plain": [
       "Y    200\n",
       "N    192\n",
       "Name: Loan_Status, dtype: int64"
      ]
     },
     "execution_count": 48,
     "metadata": {},
     "output_type": "execute_result"
    }
   ],
   "source": [
    "data.Loan_Status.value_counts()"
   ]
  },
  {
   "cell_type": "markdown",
   "id": "93253000-70be-471e-920c-7425f1d8dc10",
   "metadata": {},
   "source": [
    "### Checking missing values"
   ]
  },
  {
   "cell_type": "code",
   "execution_count": 50,
   "id": "5e3ecad1-e588-4b60-852c-b17fd7bd4e40",
   "metadata": {},
   "outputs": [
    {
     "data": {
      "text/plain": [
       "Loan_ID               0\n",
       "Gender                4\n",
       "Married               1\n",
       "Dependents            5\n",
       "Education             0\n",
       "Self_Employed        11\n",
       "ApplicantIncome       0\n",
       "CoapplicantIncome     0\n",
       "LoanAmount            2\n",
       "Loan_Amount_Term      5\n",
       "Credit_History       23\n",
       "Property_Area         0\n",
       "Loan_Status           0\n",
       "dtype: int64"
      ]
     },
     "execution_count": 50,
     "metadata": {},
     "output_type": "execute_result"
    }
   ],
   "source": [
    "data2.isnull().sum()"
   ]
  },
  {
   "cell_type": "markdown",
   "id": "cdf76ab2-3aab-4e39-969c-e94003bb3b0e",
   "metadata": {},
   "source": [
    "### Preechendo Missing Values:\n",
    "\n",
    "- `Dependents`: Assumindo o valor majoritário da coluna.\n",
    "- `Self_Employed`: Assumindo o valor majoritário da coluna.\n",
    "- `Loan_Amount_Term`: Preenchendo com o valor médio da coluna.\n",
    "- `Credit_History`: Assumindo o valor majoritário da coluna.\n",
    "- `Married`: Assumindo o valor majoritário da coluna.\n",
    "- `Gender`: Assumindo o valor majoritário da coluna."
   ]
  },
  {
   "cell_type": "code",
   "execution_count": 52,
   "id": "88218468-58de-4eef-9d5c-86ea001771bb",
   "metadata": {},
   "outputs": [],
   "source": [
    "data['Gender'] = data['Gender'].fillna('Male')"
   ]
  },
  {
   "cell_type": "code",
   "execution_count": 53,
   "id": "6ca19660-d8c4-4ba9-8f22-a60a737722d0",
   "metadata": {},
   "outputs": [],
   "source": [
    "data['Married'] = data['Married'].fillna('No')"
   ]
  },
  {
   "cell_type": "code",
   "execution_count": 54,
   "id": "c8cfcbca-b0ca-4a64-816f-f37057779a18",
   "metadata": {},
   "outputs": [],
   "source": [
    "data['Dependents'] = data['Dependents'].fillna('0')"
   ]
  },
  {
   "cell_type": "code",
   "execution_count": 55,
   "id": "c36764d8-6dca-4978-bf52-d621f7e4e4d1",
   "metadata": {},
   "outputs": [],
   "source": [
    "data['Self_Employed'] = data['Self_Employed'].fillna('No')"
   ]
  },
  {
   "cell_type": "code",
   "execution_count": 56,
   "id": "d6a8d8af-e35b-4bb7-92a1-e7729ec954fe",
   "metadata": {},
   "outputs": [],
   "source": [
    "data['LoanAmount'] = data['LoanAmount'].fillna(data['LoanAmount'].mean())"
   ]
  },
  {
   "cell_type": "code",
   "execution_count": 57,
   "id": "ad02a4cd-b997-4b23-9d38-65fd336c5241",
   "metadata": {},
   "outputs": [],
   "source": [
    "data['Credit_History'] = data['Credit_History'].fillna(1.0)"
   ]
  },
  {
   "cell_type": "code",
   "execution_count": 58,
   "id": "24add570-fa62-45c8-8c88-d0a95896d193",
   "metadata": {},
   "outputs": [],
   "source": [
    "data['Loan_Amount_Term'] = data['Loan_Amount_Term'].fillna(data['Loan_Amount_Term'].mean())"
   ]
  },
  {
   "cell_type": "code",
   "execution_count": 59,
   "id": "5e1c1ef2-cb85-48df-a9fd-cafe9610b2c5",
   "metadata": {},
   "outputs": [
    {
     "data": {
      "text/plain": [
       "1.0    309\n",
       "0.0     83\n",
       "Name: Credit_History, dtype: int64"
      ]
     },
     "execution_count": 59,
     "metadata": {},
     "output_type": "execute_result"
    }
   ],
   "source": [
    "data.Credit_History.value_counts()"
   ]
  },
  {
   "cell_type": "markdown",
   "id": "b411f7d7-63e8-46a3-8209-649feff2d8ac",
   "metadata": {},
   "source": [
    "### Checking missing values again"
   ]
  },
  {
   "cell_type": "code",
   "execution_count": 60,
   "id": "7bcf820b-c2da-4b48-80f7-ee5d92c4dae6",
   "metadata": {},
   "outputs": [
    {
     "data": {
      "text/plain": [
       "Loan_ID              0\n",
       "Gender               0\n",
       "Married              0\n",
       "Dependents           0\n",
       "Education            0\n",
       "Self_Employed        0\n",
       "ApplicantIncome      0\n",
       "CoapplicantIncome    0\n",
       "LoanAmount           0\n",
       "Loan_Amount_Term     0\n",
       "Credit_History       0\n",
       "Property_Area        0\n",
       "Loan_Status          0\n",
       "dtype: int64"
      ]
     },
     "execution_count": 60,
     "metadata": {},
     "output_type": "execute_result"
    }
   ],
   "source": [
    "data.isnull().sum()"
   ]
  },
  {
   "cell_type": "markdown",
   "id": "274e2b76-083f-46e3-94b6-15417b5208b6",
   "metadata": {},
   "source": [
    "### Trnasforming categoric data"
   ]
  },
  {
   "cell_type": "markdown",
   "id": "b3297e1f-1738-469f-87f7-be2ab47bce64",
   "metadata": {},
   "source": [
    "#### Várias colunas do dataframe são categóricas, precisamos transforma-las, são elas: `Gender`, `Married`, `Education`, `Self_Employed` & `Property_Area` columns."
   ]
  },
  {
   "cell_type": "code",
   "execution_count": 62,
   "id": "9c0dbf94-47b6-4f79-a49a-b56230cb3731",
   "metadata": {},
   "outputs": [],
   "source": [
    "from sklearn.preprocessing import LabelEncoder"
   ]
  },
  {
   "cell_type": "code",
   "execution_count": 63,
   "id": "3681e863-e435-40ba-ab9d-066f927e1af5",
   "metadata": {},
   "outputs": [],
   "source": [
    "gender_values = {'Female' : 0, 'Male' : 1} \n",
    "married_values = {'No' : 0, 'Yes' : 1}\n",
    "education_values = {'Graduate' : 0, 'Not Graduate' : 1}\n",
    "employed_values = {'No' : 0, 'Yes' : 1}\n",
    "dependent_values = {'3+': 3, '0': 0, '2': 2, '1': 1}\n",
    "loan_values = {'Y':1,'N':0}\n",
    "data.replace({'Gender': gender_values,\n",
    "                 'Married': married_values, \n",
    "                 'Education': education_values,\n",
    "                 'Self_Employed': employed_values, \n",
    "                 'Dependents': dependent_values,\n",
    "                 'Loan_Status': loan_values\n",
    "                }, inplace=True)"
   ]
  },
  {
   "cell_type": "code",
   "execution_count": 64,
   "id": "24ed1f86-bb16-4e6a-a959-b90f1f5cf375",
   "metadata": {},
   "outputs": [],
   "source": [
    "data.drop(['Loan_ID','CoapplicantIncome','Loan_Amount_Term','Credit_History','Property_Area'],axis=1,inplace=True)"
   ]
  },
  {
   "cell_type": "code",
   "execution_count": 65,
   "id": "e2f7398d-9749-45e4-95c5-ffe4c0bc0ab6",
   "metadata": {},
   "outputs": [
    {
     "data": {
      "text/html": [
       "<div>\n",
       "<style scoped>\n",
       "    .dataframe tbody tr th:only-of-type {\n",
       "        vertical-align: middle;\n",
       "    }\n",
       "\n",
       "    .dataframe tbody tr th {\n",
       "        vertical-align: top;\n",
       "    }\n",
       "\n",
       "    .dataframe thead th {\n",
       "        text-align: right;\n",
       "    }\n",
       "</style>\n",
       "<table border=\"1\" class=\"dataframe\">\n",
       "  <thead>\n",
       "    <tr style=\"text-align: right;\">\n",
       "      <th></th>\n",
       "      <th>Gender</th>\n",
       "      <th>Married</th>\n",
       "      <th>Dependents</th>\n",
       "      <th>Education</th>\n",
       "      <th>Self_Employed</th>\n",
       "      <th>ApplicantIncome</th>\n",
       "      <th>LoanAmount</th>\n",
       "      <th>Loan_Status</th>\n",
       "    </tr>\n",
       "  </thead>\n",
       "  <tbody>\n",
       "    <tr>\n",
       "      <th>611</th>\n",
       "      <td>1</td>\n",
       "      <td>1</td>\n",
       "      <td>1</td>\n",
       "      <td>0</td>\n",
       "      <td>0</td>\n",
       "      <td>8072</td>\n",
       "      <td>253.0</td>\n",
       "      <td>1</td>\n",
       "    </tr>\n",
       "    <tr>\n",
       "      <th>198</th>\n",
       "      <td>0</td>\n",
       "      <td>1</td>\n",
       "      <td>0</td>\n",
       "      <td>0</td>\n",
       "      <td>0</td>\n",
       "      <td>3416</td>\n",
       "      <td>113.0</td>\n",
       "      <td>1</td>\n",
       "    </tr>\n",
       "    <tr>\n",
       "      <th>159</th>\n",
       "      <td>1</td>\n",
       "      <td>1</td>\n",
       "      <td>0</td>\n",
       "      <td>0</td>\n",
       "      <td>0</td>\n",
       "      <td>4583</td>\n",
       "      <td>255.0</td>\n",
       "      <td>1</td>\n",
       "    </tr>\n",
       "    <tr>\n",
       "      <th>525</th>\n",
       "      <td>1</td>\n",
       "      <td>1</td>\n",
       "      <td>2</td>\n",
       "      <td>0</td>\n",
       "      <td>1</td>\n",
       "      <td>17500</td>\n",
       "      <td>400.0</td>\n",
       "      <td>1</td>\n",
       "    </tr>\n",
       "    <tr>\n",
       "      <th>335</th>\n",
       "      <td>1</td>\n",
       "      <td>1</td>\n",
       "      <td>0</td>\n",
       "      <td>0</td>\n",
       "      <td>1</td>\n",
       "      <td>5503</td>\n",
       "      <td>70.0</td>\n",
       "      <td>1</td>\n",
       "    </tr>\n",
       "  </tbody>\n",
       "</table>\n",
       "</div>"
      ],
      "text/plain": [
       "     Gender  Married  Dependents  Education  Self_Employed  ApplicantIncome  \\\n",
       "611       1        1           1          0              0             8072   \n",
       "198       0        1           0          0              0             3416   \n",
       "159       1        1           0          0              0             4583   \n",
       "525       1        1           2          0              1            17500   \n",
       "335       1        1           0          0              1             5503   \n",
       "\n",
       "     LoanAmount  Loan_Status  \n",
       "611       253.0            1  \n",
       "198       113.0            1  \n",
       "159       255.0            1  \n",
       "525       400.0            1  \n",
       "335        70.0            1  "
      ]
     },
     "execution_count": 65,
     "metadata": {},
     "output_type": "execute_result"
    }
   ],
   "source": [
    "data.head()"
   ]
  },
  {
   "cell_type": "code",
   "execution_count": 67,
   "id": "99d274bf-6687-44ba-8f90-43cecbed68bd",
   "metadata": {},
   "outputs": [],
   "source": [
    "from sklearn.datasets import load_iris\n",
    "from sklearn.model_selection import train_test_split\n",
    "from sklearn.preprocessing import StandardScaler\n",
    "from sklearn.pipeline import Pipeline\n",
    "from sklearn.model_selection import GridSearchCV\n",
    "from sklearn.metrics import accuracy_score\n",
    "from sklearn.ensemble import RandomForestClassifier\n",
    "from sklearn import svm\n",
    "from sklearn.neighbors import KNeighborsClassifier"
   ]
  },
  {
   "cell_type": "code",
   "execution_count": 68,
   "id": "c1ef8ed9-b8ae-4dda-85e1-a4cfe1d857a8",
   "metadata": {},
   "outputs": [],
   "source": [
    "pipe_random_forest = Pipeline([\n",
    "        ('scl', StandardScaler()),\n",
    "        \n",
    "        ('clf', RandomForestClassifier())\n",
    "        ]\n",
    ")"
   ]
  },
  {
   "cell_type": "code",
   "execution_count": 69,
   "id": "d442e3bd-e5cd-4360-9b40-53366713ac77",
   "metadata": {},
   "outputs": [],
   "source": [
    "pipe_svm = Pipeline([\n",
    "        ('scl', StandardScaler()),\n",
    "        ('clf', svm.SVC())\n",
    "        ]\n",
    ")"
   ]
  },
  {
   "cell_type": "code",
   "execution_count": 70,
   "id": "afed5e40-5e9e-48bb-888f-bec74a81b11e",
   "metadata": {},
   "outputs": [],
   "source": [
    "pipe_knn = Pipeline([\n",
    "        ('scl', StandardScaler()),\n",
    "        ('clf', KNeighborsClassifier())\n",
    "        ]\n",
    ")"
   ]
  },
  {
   "cell_type": "markdown",
   "id": "3365bbed-1439-4c6b-8d45-d2097d716184",
   "metadata": {},
   "source": [
    "### Grid Values"
   ]
  },
  {
   "cell_type": "code",
   "execution_count": 71,
   "id": "240702f5-3458-4469-a53e-5baa9884d0ce",
   "metadata": {},
   "outputs": [],
   "source": [
    "valores = [1, 2, 3, 4, 5, 6, 7, 8, 9, 10]"
   ]
  },
  {
   "cell_type": "code",
   "execution_count": 72,
   "id": "4b09a0cc-c935-477b-8fea-330ab41848ad",
   "metadata": {},
   "outputs": [],
   "source": [
    "grid_params_rf = [{\n",
    "    'clf__criterion': ['gini', 'entropy'],\n",
    "    'clf__min_samples_leaf': valores,\n",
    "    'clf__max_depth': valores,\n",
    "    'clf__min_samples_split': valores[1:]\n",
    "}]"
   ]
  },
  {
   "cell_type": "code",
   "execution_count": 73,
   "id": "b939e29f-9e6e-41bb-af2b-28e4dc4d8063",
   "metadata": {},
   "outputs": [],
   "source": [
    "grid_params_svm = [{\n",
    "    'clf__kernel': ['linear', 'rbf'], \n",
    "    'clf__C': valores\n",
    "}]"
   ]
  },
  {
   "cell_type": "code",
   "execution_count": 74,
   "id": "7f475e6c-d851-43ee-a44b-293e986e8b80",
   "metadata": {},
   "outputs": [],
   "source": [
    "grid_params_knn = [{\n",
    "    'clf__n_neighbors': valores,\n",
    "}]"
   ]
  },
  {
   "cell_type": "markdown",
   "id": "382b8b7a-829a-4376-8927-8ef72eec33f9",
   "metadata": {},
   "source": [
    "### Building GridSearch"
   ]
  },
  {
   "cell_type": "code",
   "execution_count": 75,
   "id": "12fcaa22-9e61-4add-84b2-f5ab36ad854f",
   "metadata": {},
   "outputs": [],
   "source": [
    "gs_rf = GridSearchCV(\n",
    "    estimator=pipe_random_forest,\n",
    "    param_grid=grid_params_rf,\n",
    "    scoring='accuracy',\n",
    "    cv=10 \n",
    ")"
   ]
  },
  {
   "cell_type": "code",
   "execution_count": 76,
   "id": "5ae842bb-5b5a-4dfb-a597-2a89622f74cf",
   "metadata": {},
   "outputs": [],
   "source": [
    "gs_svm = GridSearchCV(\n",
    "    estimator=pipe_svm,\n",
    "    param_grid=grid_params_svm,\n",
    "    scoring='accuracy',\n",
    "    cv=10,\n",
    ")"
   ]
  },
  {
   "cell_type": "code",
   "execution_count": 77,
   "id": "47b5b7d2-1b52-437a-bc96-8238948d66b0",
   "metadata": {},
   "outputs": [],
   "source": [
    "gs_knn = GridSearchCV(\n",
    "    estimator=pipe_knn,\n",
    "    param_grid=grid_params_knn,\n",
    "    scoring='accuracy',\n",
    "    cv=10,\n",
    ")"
   ]
  },
  {
   "cell_type": "code",
   "execution_count": 78,
   "id": "f5e00220-1709-4839-b99d-997a3542a253",
   "metadata": {},
   "outputs": [],
   "source": [
    "X_train = data.drop('Loan_Status',axis=1)\n",
    "y = data['Loan_Status']"
   ]
  },
  {
   "cell_type": "markdown",
   "id": "b267368a-eee9-4baf-b8ce-13da84145a59",
   "metadata": {},
   "source": [
    "#### Assigning GridSearch to Random Forest"
   ]
  },
  {
   "cell_type": "code",
   "execution_count": 79,
   "id": "f17ecb74-f27f-4c63-8c75-edf0c76dfbb9",
   "metadata": {},
   "outputs": [
    {
     "data": {
      "text/html": [
       "<style>#sk-container-id-1 {color: black;background-color: white;}#sk-container-id-1 pre{padding: 0;}#sk-container-id-1 div.sk-toggleable {background-color: white;}#sk-container-id-1 label.sk-toggleable__label {cursor: pointer;display: block;width: 100%;margin-bottom: 0;padding: 0.3em;box-sizing: border-box;text-align: center;}#sk-container-id-1 label.sk-toggleable__label-arrow:before {content: \"▸\";float: left;margin-right: 0.25em;color: #696969;}#sk-container-id-1 label.sk-toggleable__label-arrow:hover:before {color: black;}#sk-container-id-1 div.sk-estimator:hover label.sk-toggleable__label-arrow:before {color: black;}#sk-container-id-1 div.sk-toggleable__content {max-height: 0;max-width: 0;overflow: hidden;text-align: left;background-color: #f0f8ff;}#sk-container-id-1 div.sk-toggleable__content pre {margin: 0.2em;color: black;border-radius: 0.25em;background-color: #f0f8ff;}#sk-container-id-1 input.sk-toggleable__control:checked~div.sk-toggleable__content {max-height: 200px;max-width: 100%;overflow: auto;}#sk-container-id-1 input.sk-toggleable__control:checked~label.sk-toggleable__label-arrow:before {content: \"▾\";}#sk-container-id-1 div.sk-estimator input.sk-toggleable__control:checked~label.sk-toggleable__label {background-color: #d4ebff;}#sk-container-id-1 div.sk-label input.sk-toggleable__control:checked~label.sk-toggleable__label {background-color: #d4ebff;}#sk-container-id-1 input.sk-hidden--visually {border: 0;clip: rect(1px 1px 1px 1px);clip: rect(1px, 1px, 1px, 1px);height: 1px;margin: -1px;overflow: hidden;padding: 0;position: absolute;width: 1px;}#sk-container-id-1 div.sk-estimator {font-family: monospace;background-color: #f0f8ff;border: 1px dotted black;border-radius: 0.25em;box-sizing: border-box;margin-bottom: 0.5em;}#sk-container-id-1 div.sk-estimator:hover {background-color: #d4ebff;}#sk-container-id-1 div.sk-parallel-item::after {content: \"\";width: 100%;border-bottom: 1px solid gray;flex-grow: 1;}#sk-container-id-1 div.sk-label:hover label.sk-toggleable__label {background-color: #d4ebff;}#sk-container-id-1 div.sk-serial::before {content: \"\";position: absolute;border-left: 1px solid gray;box-sizing: border-box;top: 0;bottom: 0;left: 50%;z-index: 0;}#sk-container-id-1 div.sk-serial {display: flex;flex-direction: column;align-items: center;background-color: white;padding-right: 0.2em;padding-left: 0.2em;position: relative;}#sk-container-id-1 div.sk-item {position: relative;z-index: 1;}#sk-container-id-1 div.sk-parallel {display: flex;align-items: stretch;justify-content: center;background-color: white;position: relative;}#sk-container-id-1 div.sk-item::before, #sk-container-id-1 div.sk-parallel-item::before {content: \"\";position: absolute;border-left: 1px solid gray;box-sizing: border-box;top: 0;bottom: 0;left: 50%;z-index: -1;}#sk-container-id-1 div.sk-parallel-item {display: flex;flex-direction: column;z-index: 1;position: relative;background-color: white;}#sk-container-id-1 div.sk-parallel-item:first-child::after {align-self: flex-end;width: 50%;}#sk-container-id-1 div.sk-parallel-item:last-child::after {align-self: flex-start;width: 50%;}#sk-container-id-1 div.sk-parallel-item:only-child::after {width: 0;}#sk-container-id-1 div.sk-dashed-wrapped {border: 1px dashed gray;margin: 0 0.4em 0.5em 0.4em;box-sizing: border-box;padding-bottom: 0.4em;background-color: white;}#sk-container-id-1 div.sk-label label {font-family: monospace;font-weight: bold;display: inline-block;line-height: 1.2em;}#sk-container-id-1 div.sk-label-container {text-align: center;}#sk-container-id-1 div.sk-container {/* jupyter's `normalize.less` sets `[hidden] { display: none; }` but bootstrap.min.css set `[hidden] { display: none !important; }` so we also need the `!important` here to be able to override the default hidden behavior on the sphinx rendered scikit-learn.org. See: https://github.com/scikit-learn/scikit-learn/issues/21755 */display: inline-block !important;position: relative;}#sk-container-id-1 div.sk-text-repr-fallback {display: none;}</style><div id=\"sk-container-id-1\" class=\"sk-top-container\"><div class=\"sk-text-repr-fallback\"><pre>GridSearchCV(cv=10,\n",
       "             estimator=Pipeline(steps=[(&#x27;scl&#x27;, StandardScaler()),\n",
       "                                       (&#x27;clf&#x27;, RandomForestClassifier())]),\n",
       "             param_grid=[{&#x27;clf__criterion&#x27;: [&#x27;gini&#x27;, &#x27;entropy&#x27;],\n",
       "                          &#x27;clf__max_depth&#x27;: [1, 2, 3, 4, 5, 6, 7, 8, 9, 10],\n",
       "                          &#x27;clf__min_samples_leaf&#x27;: [1, 2, 3, 4, 5, 6, 7, 8, 9,\n",
       "                                                    10],\n",
       "                          &#x27;clf__min_samples_split&#x27;: [2, 3, 4, 5, 6, 7, 8, 9,\n",
       "                                                     10]}],\n",
       "             scoring=&#x27;accuracy&#x27;)</pre><b>In a Jupyter environment, please rerun this cell to show the HTML representation or trust the notebook. <br />On GitHub, the HTML representation is unable to render, please try loading this page with nbviewer.org.</b></div><div class=\"sk-container\" hidden><div class=\"sk-item sk-dashed-wrapped\"><div class=\"sk-label-container\"><div class=\"sk-label sk-toggleable\"><input class=\"sk-toggleable__control sk-hidden--visually\" id=\"sk-estimator-id-1\" type=\"checkbox\" ><label for=\"sk-estimator-id-1\" class=\"sk-toggleable__label sk-toggleable__label-arrow\">GridSearchCV</label><div class=\"sk-toggleable__content\"><pre>GridSearchCV(cv=10,\n",
       "             estimator=Pipeline(steps=[(&#x27;scl&#x27;, StandardScaler()),\n",
       "                                       (&#x27;clf&#x27;, RandomForestClassifier())]),\n",
       "             param_grid=[{&#x27;clf__criterion&#x27;: [&#x27;gini&#x27;, &#x27;entropy&#x27;],\n",
       "                          &#x27;clf__max_depth&#x27;: [1, 2, 3, 4, 5, 6, 7, 8, 9, 10],\n",
       "                          &#x27;clf__min_samples_leaf&#x27;: [1, 2, 3, 4, 5, 6, 7, 8, 9,\n",
       "                                                    10],\n",
       "                          &#x27;clf__min_samples_split&#x27;: [2, 3, 4, 5, 6, 7, 8, 9,\n",
       "                                                     10]}],\n",
       "             scoring=&#x27;accuracy&#x27;)</pre></div></div></div><div class=\"sk-parallel\"><div class=\"sk-parallel-item\"><div class=\"sk-item\"><div class=\"sk-label-container\"><div class=\"sk-label sk-toggleable\"><input class=\"sk-toggleable__control sk-hidden--visually\" id=\"sk-estimator-id-2\" type=\"checkbox\" ><label for=\"sk-estimator-id-2\" class=\"sk-toggleable__label sk-toggleable__label-arrow\">estimator: Pipeline</label><div class=\"sk-toggleable__content\"><pre>Pipeline(steps=[(&#x27;scl&#x27;, StandardScaler()), (&#x27;clf&#x27;, RandomForestClassifier())])</pre></div></div></div><div class=\"sk-serial\"><div class=\"sk-item\"><div class=\"sk-serial\"><div class=\"sk-item\"><div class=\"sk-estimator sk-toggleable\"><input class=\"sk-toggleable__control sk-hidden--visually\" id=\"sk-estimator-id-3\" type=\"checkbox\" ><label for=\"sk-estimator-id-3\" class=\"sk-toggleable__label sk-toggleable__label-arrow\">StandardScaler</label><div class=\"sk-toggleable__content\"><pre>StandardScaler()</pre></div></div></div><div class=\"sk-item\"><div class=\"sk-estimator sk-toggleable\"><input class=\"sk-toggleable__control sk-hidden--visually\" id=\"sk-estimator-id-4\" type=\"checkbox\" ><label for=\"sk-estimator-id-4\" class=\"sk-toggleable__label sk-toggleable__label-arrow\">RandomForestClassifier</label><div class=\"sk-toggleable__content\"><pre>RandomForestClassifier()</pre></div></div></div></div></div></div></div></div></div></div></div></div>"
      ],
      "text/plain": [
       "GridSearchCV(cv=10,\n",
       "             estimator=Pipeline(steps=[('scl', StandardScaler()),\n",
       "                                       ('clf', RandomForestClassifier())]),\n",
       "             param_grid=[{'clf__criterion': ['gini', 'entropy'],\n",
       "                          'clf__max_depth': [1, 2, 3, 4, 5, 6, 7, 8, 9, 10],\n",
       "                          'clf__min_samples_leaf': [1, 2, 3, 4, 5, 6, 7, 8, 9,\n",
       "                                                    10],\n",
       "                          'clf__min_samples_split': [2, 3, 4, 5, 6, 7, 8, 9,\n",
       "                                                     10]}],\n",
       "             scoring='accuracy')"
      ]
     },
     "execution_count": 79,
     "metadata": {},
     "output_type": "execute_result"
    }
   ],
   "source": [
    "gs_rf.fit(X_train,y)"
   ]
  },
  {
   "cell_type": "markdown",
   "id": "48ea9aa5-d85c-4869-a641-0c0cd5940f53",
   "metadata": {},
   "source": [
    "##### Best parameters and scoring"
   ]
  },
  {
   "cell_type": "code",
   "execution_count": 82,
   "id": "62694b17-eba9-40a5-bd13-6939140bf50f",
   "metadata": {},
   "outputs": [
    {
     "name": "stdout",
     "output_type": "stream",
     "text": [
      "Melhores parâmetros: {'clf__criterion': 'gini', 'clf__max_depth': 1, 'clf__min_samples_leaf': 8, 'clf__min_samples_split': 8}\n",
      "Melhores acurácia: 0.571\n"
     ]
    }
   ],
   "source": [
    "print('Melhores parâmetros: %s' % gs_rf.best_params_)\n",
    "print('Melhores acurácia: %.3f' % gs_rf.best_score_)"
   ]
  },
  {
   "cell_type": "markdown",
   "id": "2b82c3cf-ec9c-4a62-90ab-b35509ac9224",
   "metadata": {},
   "source": [
    "#### Assigning GridSearch to SVM"
   ]
  },
  {
   "cell_type": "code",
   "execution_count": 83,
   "id": "6f8623e3-a3f8-4109-90e3-03ef16a83e5a",
   "metadata": {},
   "outputs": [
    {
     "data": {
      "text/html": [
       "<style>#sk-container-id-2 {color: black;background-color: white;}#sk-container-id-2 pre{padding: 0;}#sk-container-id-2 div.sk-toggleable {background-color: white;}#sk-container-id-2 label.sk-toggleable__label {cursor: pointer;display: block;width: 100%;margin-bottom: 0;padding: 0.3em;box-sizing: border-box;text-align: center;}#sk-container-id-2 label.sk-toggleable__label-arrow:before {content: \"▸\";float: left;margin-right: 0.25em;color: #696969;}#sk-container-id-2 label.sk-toggleable__label-arrow:hover:before {color: black;}#sk-container-id-2 div.sk-estimator:hover label.sk-toggleable__label-arrow:before {color: black;}#sk-container-id-2 div.sk-toggleable__content {max-height: 0;max-width: 0;overflow: hidden;text-align: left;background-color: #f0f8ff;}#sk-container-id-2 div.sk-toggleable__content pre {margin: 0.2em;color: black;border-radius: 0.25em;background-color: #f0f8ff;}#sk-container-id-2 input.sk-toggleable__control:checked~div.sk-toggleable__content {max-height: 200px;max-width: 100%;overflow: auto;}#sk-container-id-2 input.sk-toggleable__control:checked~label.sk-toggleable__label-arrow:before {content: \"▾\";}#sk-container-id-2 div.sk-estimator input.sk-toggleable__control:checked~label.sk-toggleable__label {background-color: #d4ebff;}#sk-container-id-2 div.sk-label input.sk-toggleable__control:checked~label.sk-toggleable__label {background-color: #d4ebff;}#sk-container-id-2 input.sk-hidden--visually {border: 0;clip: rect(1px 1px 1px 1px);clip: rect(1px, 1px, 1px, 1px);height: 1px;margin: -1px;overflow: hidden;padding: 0;position: absolute;width: 1px;}#sk-container-id-2 div.sk-estimator {font-family: monospace;background-color: #f0f8ff;border: 1px dotted black;border-radius: 0.25em;box-sizing: border-box;margin-bottom: 0.5em;}#sk-container-id-2 div.sk-estimator:hover {background-color: #d4ebff;}#sk-container-id-2 div.sk-parallel-item::after {content: \"\";width: 100%;border-bottom: 1px solid gray;flex-grow: 1;}#sk-container-id-2 div.sk-label:hover label.sk-toggleable__label {background-color: #d4ebff;}#sk-container-id-2 div.sk-serial::before {content: \"\";position: absolute;border-left: 1px solid gray;box-sizing: border-box;top: 0;bottom: 0;left: 50%;z-index: 0;}#sk-container-id-2 div.sk-serial {display: flex;flex-direction: column;align-items: center;background-color: white;padding-right: 0.2em;padding-left: 0.2em;position: relative;}#sk-container-id-2 div.sk-item {position: relative;z-index: 1;}#sk-container-id-2 div.sk-parallel {display: flex;align-items: stretch;justify-content: center;background-color: white;position: relative;}#sk-container-id-2 div.sk-item::before, #sk-container-id-2 div.sk-parallel-item::before {content: \"\";position: absolute;border-left: 1px solid gray;box-sizing: border-box;top: 0;bottom: 0;left: 50%;z-index: -1;}#sk-container-id-2 div.sk-parallel-item {display: flex;flex-direction: column;z-index: 1;position: relative;background-color: white;}#sk-container-id-2 div.sk-parallel-item:first-child::after {align-self: flex-end;width: 50%;}#sk-container-id-2 div.sk-parallel-item:last-child::after {align-self: flex-start;width: 50%;}#sk-container-id-2 div.sk-parallel-item:only-child::after {width: 0;}#sk-container-id-2 div.sk-dashed-wrapped {border: 1px dashed gray;margin: 0 0.4em 0.5em 0.4em;box-sizing: border-box;padding-bottom: 0.4em;background-color: white;}#sk-container-id-2 div.sk-label label {font-family: monospace;font-weight: bold;display: inline-block;line-height: 1.2em;}#sk-container-id-2 div.sk-label-container {text-align: center;}#sk-container-id-2 div.sk-container {/* jupyter's `normalize.less` sets `[hidden] { display: none; }` but bootstrap.min.css set `[hidden] { display: none !important; }` so we also need the `!important` here to be able to override the default hidden behavior on the sphinx rendered scikit-learn.org. See: https://github.com/scikit-learn/scikit-learn/issues/21755 */display: inline-block !important;position: relative;}#sk-container-id-2 div.sk-text-repr-fallback {display: none;}</style><div id=\"sk-container-id-2\" class=\"sk-top-container\"><div class=\"sk-text-repr-fallback\"><pre>GridSearchCV(cv=10,\n",
       "             estimator=Pipeline(steps=[(&#x27;scl&#x27;, StandardScaler()),\n",
       "                                       (&#x27;clf&#x27;, SVC())]),\n",
       "             param_grid=[{&#x27;clf__C&#x27;: [1, 2, 3, 4, 5, 6, 7, 8, 9, 10],\n",
       "                          &#x27;clf__kernel&#x27;: [&#x27;linear&#x27;, &#x27;rbf&#x27;]}],\n",
       "             scoring=&#x27;accuracy&#x27;)</pre><b>In a Jupyter environment, please rerun this cell to show the HTML representation or trust the notebook. <br />On GitHub, the HTML representation is unable to render, please try loading this page with nbviewer.org.</b></div><div class=\"sk-container\" hidden><div class=\"sk-item sk-dashed-wrapped\"><div class=\"sk-label-container\"><div class=\"sk-label sk-toggleable\"><input class=\"sk-toggleable__control sk-hidden--visually\" id=\"sk-estimator-id-5\" type=\"checkbox\" ><label for=\"sk-estimator-id-5\" class=\"sk-toggleable__label sk-toggleable__label-arrow\">GridSearchCV</label><div class=\"sk-toggleable__content\"><pre>GridSearchCV(cv=10,\n",
       "             estimator=Pipeline(steps=[(&#x27;scl&#x27;, StandardScaler()),\n",
       "                                       (&#x27;clf&#x27;, SVC())]),\n",
       "             param_grid=[{&#x27;clf__C&#x27;: [1, 2, 3, 4, 5, 6, 7, 8, 9, 10],\n",
       "                          &#x27;clf__kernel&#x27;: [&#x27;linear&#x27;, &#x27;rbf&#x27;]}],\n",
       "             scoring=&#x27;accuracy&#x27;)</pre></div></div></div><div class=\"sk-parallel\"><div class=\"sk-parallel-item\"><div class=\"sk-item\"><div class=\"sk-label-container\"><div class=\"sk-label sk-toggleable\"><input class=\"sk-toggleable__control sk-hidden--visually\" id=\"sk-estimator-id-6\" type=\"checkbox\" ><label for=\"sk-estimator-id-6\" class=\"sk-toggleable__label sk-toggleable__label-arrow\">estimator: Pipeline</label><div class=\"sk-toggleable__content\"><pre>Pipeline(steps=[(&#x27;scl&#x27;, StandardScaler()), (&#x27;clf&#x27;, SVC())])</pre></div></div></div><div class=\"sk-serial\"><div class=\"sk-item\"><div class=\"sk-serial\"><div class=\"sk-item\"><div class=\"sk-estimator sk-toggleable\"><input class=\"sk-toggleable__control sk-hidden--visually\" id=\"sk-estimator-id-7\" type=\"checkbox\" ><label for=\"sk-estimator-id-7\" class=\"sk-toggleable__label sk-toggleable__label-arrow\">StandardScaler</label><div class=\"sk-toggleable__content\"><pre>StandardScaler()</pre></div></div></div><div class=\"sk-item\"><div class=\"sk-estimator sk-toggleable\"><input class=\"sk-toggleable__control sk-hidden--visually\" id=\"sk-estimator-id-8\" type=\"checkbox\" ><label for=\"sk-estimator-id-8\" class=\"sk-toggleable__label sk-toggleable__label-arrow\">SVC</label><div class=\"sk-toggleable__content\"><pre>SVC()</pre></div></div></div></div></div></div></div></div></div></div></div></div>"
      ],
      "text/plain": [
       "GridSearchCV(cv=10,\n",
       "             estimator=Pipeline(steps=[('scl', StandardScaler()),\n",
       "                                       ('clf', SVC())]),\n",
       "             param_grid=[{'clf__C': [1, 2, 3, 4, 5, 6, 7, 8, 9, 10],\n",
       "                          'clf__kernel': ['linear', 'rbf']}],\n",
       "             scoring='accuracy')"
      ]
     },
     "execution_count": 83,
     "metadata": {},
     "output_type": "execute_result"
    }
   ],
   "source": [
    "gs_svm.fit(X_train,y)"
   ]
  },
  {
   "cell_type": "markdown",
   "id": "44ac7851-d1c8-4773-a613-22fe45448b59",
   "metadata": {},
   "source": [
    "##### Best parameters and scoring"
   ]
  },
  {
   "cell_type": "code",
   "execution_count": 84,
   "id": "27e0f1f9-b625-4046-a4c0-05eaf2532884",
   "metadata": {},
   "outputs": [
    {
     "name": "stdout",
     "output_type": "stream",
     "text": [
      "Melhores parâmetros: {'clf__C': 1, 'clf__kernel': 'rbf'}\n",
      "Melhores acurácia: 0.497\n"
     ]
    }
   ],
   "source": [
    "print('Melhores parâmetros: %s' % gs_svm.best_params_)\n",
    "print('Melhores acurácia: %.3f' % gs_svm.best_score_)"
   ]
  },
  {
   "cell_type": "markdown",
   "id": "79fd5abb-c9cc-4d72-9bf6-0edf7cef7121",
   "metadata": {},
   "source": [
    "### Assigning GridSearch to KNN"
   ]
  },
  {
   "cell_type": "code",
   "execution_count": 85,
   "id": "7ead529c-c803-4f2b-b6fe-0b1fa44d8e72",
   "metadata": {},
   "outputs": [
    {
     "data": {
      "text/html": [
       "<style>#sk-container-id-3 {color: black;background-color: white;}#sk-container-id-3 pre{padding: 0;}#sk-container-id-3 div.sk-toggleable {background-color: white;}#sk-container-id-3 label.sk-toggleable__label {cursor: pointer;display: block;width: 100%;margin-bottom: 0;padding: 0.3em;box-sizing: border-box;text-align: center;}#sk-container-id-3 label.sk-toggleable__label-arrow:before {content: \"▸\";float: left;margin-right: 0.25em;color: #696969;}#sk-container-id-3 label.sk-toggleable__label-arrow:hover:before {color: black;}#sk-container-id-3 div.sk-estimator:hover label.sk-toggleable__label-arrow:before {color: black;}#sk-container-id-3 div.sk-toggleable__content {max-height: 0;max-width: 0;overflow: hidden;text-align: left;background-color: #f0f8ff;}#sk-container-id-3 div.sk-toggleable__content pre {margin: 0.2em;color: black;border-radius: 0.25em;background-color: #f0f8ff;}#sk-container-id-3 input.sk-toggleable__control:checked~div.sk-toggleable__content {max-height: 200px;max-width: 100%;overflow: auto;}#sk-container-id-3 input.sk-toggleable__control:checked~label.sk-toggleable__label-arrow:before {content: \"▾\";}#sk-container-id-3 div.sk-estimator input.sk-toggleable__control:checked~label.sk-toggleable__label {background-color: #d4ebff;}#sk-container-id-3 div.sk-label input.sk-toggleable__control:checked~label.sk-toggleable__label {background-color: #d4ebff;}#sk-container-id-3 input.sk-hidden--visually {border: 0;clip: rect(1px 1px 1px 1px);clip: rect(1px, 1px, 1px, 1px);height: 1px;margin: -1px;overflow: hidden;padding: 0;position: absolute;width: 1px;}#sk-container-id-3 div.sk-estimator {font-family: monospace;background-color: #f0f8ff;border: 1px dotted black;border-radius: 0.25em;box-sizing: border-box;margin-bottom: 0.5em;}#sk-container-id-3 div.sk-estimator:hover {background-color: #d4ebff;}#sk-container-id-3 div.sk-parallel-item::after {content: \"\";width: 100%;border-bottom: 1px solid gray;flex-grow: 1;}#sk-container-id-3 div.sk-label:hover label.sk-toggleable__label {background-color: #d4ebff;}#sk-container-id-3 div.sk-serial::before {content: \"\";position: absolute;border-left: 1px solid gray;box-sizing: border-box;top: 0;bottom: 0;left: 50%;z-index: 0;}#sk-container-id-3 div.sk-serial {display: flex;flex-direction: column;align-items: center;background-color: white;padding-right: 0.2em;padding-left: 0.2em;position: relative;}#sk-container-id-3 div.sk-item {position: relative;z-index: 1;}#sk-container-id-3 div.sk-parallel {display: flex;align-items: stretch;justify-content: center;background-color: white;position: relative;}#sk-container-id-3 div.sk-item::before, #sk-container-id-3 div.sk-parallel-item::before {content: \"\";position: absolute;border-left: 1px solid gray;box-sizing: border-box;top: 0;bottom: 0;left: 50%;z-index: -1;}#sk-container-id-3 div.sk-parallel-item {display: flex;flex-direction: column;z-index: 1;position: relative;background-color: white;}#sk-container-id-3 div.sk-parallel-item:first-child::after {align-self: flex-end;width: 50%;}#sk-container-id-3 div.sk-parallel-item:last-child::after {align-self: flex-start;width: 50%;}#sk-container-id-3 div.sk-parallel-item:only-child::after {width: 0;}#sk-container-id-3 div.sk-dashed-wrapped {border: 1px dashed gray;margin: 0 0.4em 0.5em 0.4em;box-sizing: border-box;padding-bottom: 0.4em;background-color: white;}#sk-container-id-3 div.sk-label label {font-family: monospace;font-weight: bold;display: inline-block;line-height: 1.2em;}#sk-container-id-3 div.sk-label-container {text-align: center;}#sk-container-id-3 div.sk-container {/* jupyter's `normalize.less` sets `[hidden] { display: none; }` but bootstrap.min.css set `[hidden] { display: none !important; }` so we also need the `!important` here to be able to override the default hidden behavior on the sphinx rendered scikit-learn.org. See: https://github.com/scikit-learn/scikit-learn/issues/21755 */display: inline-block !important;position: relative;}#sk-container-id-3 div.sk-text-repr-fallback {display: none;}</style><div id=\"sk-container-id-3\" class=\"sk-top-container\"><div class=\"sk-text-repr-fallback\"><pre>GridSearchCV(cv=10,\n",
       "             estimator=Pipeline(steps=[(&#x27;scl&#x27;, StandardScaler()),\n",
       "                                       (&#x27;clf&#x27;, KNeighborsClassifier())]),\n",
       "             param_grid=[{&#x27;clf__n_neighbors&#x27;: [1, 2, 3, 4, 5, 6, 7, 8, 9, 10]}],\n",
       "             scoring=&#x27;accuracy&#x27;)</pre><b>In a Jupyter environment, please rerun this cell to show the HTML representation or trust the notebook. <br />On GitHub, the HTML representation is unable to render, please try loading this page with nbviewer.org.</b></div><div class=\"sk-container\" hidden><div class=\"sk-item sk-dashed-wrapped\"><div class=\"sk-label-container\"><div class=\"sk-label sk-toggleable\"><input class=\"sk-toggleable__control sk-hidden--visually\" id=\"sk-estimator-id-9\" type=\"checkbox\" ><label for=\"sk-estimator-id-9\" class=\"sk-toggleable__label sk-toggleable__label-arrow\">GridSearchCV</label><div class=\"sk-toggleable__content\"><pre>GridSearchCV(cv=10,\n",
       "             estimator=Pipeline(steps=[(&#x27;scl&#x27;, StandardScaler()),\n",
       "                                       (&#x27;clf&#x27;, KNeighborsClassifier())]),\n",
       "             param_grid=[{&#x27;clf__n_neighbors&#x27;: [1, 2, 3, 4, 5, 6, 7, 8, 9, 10]}],\n",
       "             scoring=&#x27;accuracy&#x27;)</pre></div></div></div><div class=\"sk-parallel\"><div class=\"sk-parallel-item\"><div class=\"sk-item\"><div class=\"sk-label-container\"><div class=\"sk-label sk-toggleable\"><input class=\"sk-toggleable__control sk-hidden--visually\" id=\"sk-estimator-id-10\" type=\"checkbox\" ><label for=\"sk-estimator-id-10\" class=\"sk-toggleable__label sk-toggleable__label-arrow\">estimator: Pipeline</label><div class=\"sk-toggleable__content\"><pre>Pipeline(steps=[(&#x27;scl&#x27;, StandardScaler()), (&#x27;clf&#x27;, KNeighborsClassifier())])</pre></div></div></div><div class=\"sk-serial\"><div class=\"sk-item\"><div class=\"sk-serial\"><div class=\"sk-item\"><div class=\"sk-estimator sk-toggleable\"><input class=\"sk-toggleable__control sk-hidden--visually\" id=\"sk-estimator-id-11\" type=\"checkbox\" ><label for=\"sk-estimator-id-11\" class=\"sk-toggleable__label sk-toggleable__label-arrow\">StandardScaler</label><div class=\"sk-toggleable__content\"><pre>StandardScaler()</pre></div></div></div><div class=\"sk-item\"><div class=\"sk-estimator sk-toggleable\"><input class=\"sk-toggleable__control sk-hidden--visually\" id=\"sk-estimator-id-12\" type=\"checkbox\" ><label for=\"sk-estimator-id-12\" class=\"sk-toggleable__label sk-toggleable__label-arrow\">KNeighborsClassifier</label><div class=\"sk-toggleable__content\"><pre>KNeighborsClassifier()</pre></div></div></div></div></div></div></div></div></div></div></div></div>"
      ],
      "text/plain": [
       "GridSearchCV(cv=10,\n",
       "             estimator=Pipeline(steps=[('scl', StandardScaler()),\n",
       "                                       ('clf', KNeighborsClassifier())]),\n",
       "             param_grid=[{'clf__n_neighbors': [1, 2, 3, 4, 5, 6, 7, 8, 9, 10]}],\n",
       "             scoring='accuracy')"
      ]
     },
     "execution_count": 85,
     "metadata": {},
     "output_type": "execute_result"
    }
   ],
   "source": [
    "gs_knn.fit(X_train,y)"
   ]
  },
  {
   "cell_type": "markdown",
   "id": "eb25ea52-7aaa-46ec-8141-44d254a88364",
   "metadata": {},
   "source": [
    "##### Best parameters and scoring"
   ]
  },
  {
   "cell_type": "code",
   "execution_count": 86,
   "id": "a7321cca-d596-4f9f-a6f3-e7b391f1f878",
   "metadata": {},
   "outputs": [
    {
     "name": "stdout",
     "output_type": "stream",
     "text": [
      "Melhores parâmetros: {'clf__n_neighbors': 9}\n",
      "Melhores acurácia: 0.502\n"
     ]
    }
   ],
   "source": [
    "print('Melhores parâmetros: %s' % gs_knn.best_params_)\n",
    "print('Melhores acurácia: %.3f' % gs_knn.best_score_)"
   ]
  },
  {
   "cell_type": "markdown",
   "id": "78e8e8d7-0e62-4deb-83e9-138c1c36ad7b",
   "metadata": {},
   "source": [
    "### Validation Metrics"
   ]
  },
  {
   "cell_type": "code",
   "execution_count": 87,
   "id": "ce12cf69-d531-4f11-ab14-37dc6f963cee",
   "metadata": {},
   "outputs": [],
   "source": [
    "from sklearn import metrics\n",
    "from sklearn.model_selection import train_test_split"
   ]
  },
  {
   "cell_type": "code",
   "execution_count": 88,
   "id": "8d865fb4-4f73-4d47-9b1b-e70ebb892418",
   "metadata": {},
   "outputs": [],
   "source": [
    "X_treino, X_teste, y_treino, y_teste = train_test_split(X_train, y)"
   ]
  },
  {
   "cell_type": "code",
   "execution_count": 89,
   "id": "c4860c79-878c-45ff-b85c-735c2d3f5094",
   "metadata": {},
   "outputs": [
    {
     "name": "stdout",
     "output_type": "stream",
     "text": [
      "Predito   0   1  All\n",
      "Real                \n",
      "0        16  25   41\n",
      "1        12  45   57\n",
      "All      28  70   98 \n"
     ]
    }
   ],
   "source": [
    "print(pd.crosstab(y_teste, gs_rf.predict(X_teste), rownames=['Real'], colnames=['Predito'], margins=True), '')"
   ]
  },
  {
   "cell_type": "code",
   "execution_count": 90,
   "id": "41019733-627c-4278-8255-903a182cc9b9",
   "metadata": {},
   "outputs": [
    {
     "name": "stdout",
     "output_type": "stream",
     "text": [
      "              precision    recall  f1-score   support\n",
      "\n",
      "           0       0.57      0.39      0.46        41\n",
      "           1       0.64      0.79      0.71        57\n",
      "\n",
      "    accuracy                           0.62        98\n",
      "   macro avg       0.61      0.59      0.59        98\n",
      "weighted avg       0.61      0.62      0.61        98\n",
      "\n"
     ]
    }
   ],
   "source": [
    "print (metrics.classification_report(y_teste,gs_rf.predict(X_teste)))"
   ]
  },
  {
   "cell_type": "markdown",
   "id": "f2cd33a2-9cb2-43ec-821d-427ef0b43ac9",
   "metadata": {},
   "source": [
    "## Persisting the best model in disc"
   ]
  },
  {
   "cell_type": "code",
   "execution_count": 91,
   "id": "62b669ce-e55c-41e7-814d-7794239cd77f",
   "metadata": {},
   "outputs": [
    {
     "data": {
      "text/plain": [
       "['model.pkl']"
      ]
     },
     "execution_count": 91,
     "metadata": {},
     "output_type": "execute_result"
    }
   ],
   "source": [
    "joblib.dump(gs_rf,'model.pkl')"
   ]
  },
  {
   "cell_type": "markdown",
   "id": "9b64c3c3-5359-4a3d-a083-612e33ed18a2",
   "metadata": {},
   "source": [
    "## Loading the model from the disc to memory"
   ]
  },
  {
   "cell_type": "code",
   "execution_count": 92,
   "id": "4da5024a-60bc-49af-9f0c-35dbf54c3dae",
   "metadata": {},
   "outputs": [],
   "source": [
    "model = joblib.load('model.pkl')"
   ]
  },
  {
   "cell_type": "code",
   "execution_count": null,
   "id": "d871ffdb-ee53-4c21-b76c-906e3957de44",
   "metadata": {},
   "outputs": [],
   "source": []
  }
 ],
 "metadata": {
  "kernelspec": {
   "display_name": "Python 3",
   "language": "python",
   "name": "python3"
  },
  "language_info": {
   "codemirror_mode": {
    "name": "ipython",
    "version": 3
   },
   "file_extension": ".py",
   "mimetype": "text/x-python",
   "name": "python",
   "nbconvert_exporter": "python",
   "pygments_lexer": "ipython3",
   "version": "3.8.8"
  }
 },
 "nbformat": 4,
 "nbformat_minor": 5
}
