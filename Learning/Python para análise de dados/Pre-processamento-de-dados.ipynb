{
 "cells": [
  {
   "cell_type": "markdown",
   "id": "526c954e",
   "metadata": {},
   "source": [
    "# Pré-processamento de dados\n",
    "Tratamento de dados - detecção de anomalias"
   ]
  },
  {
   "cell_type": "code",
   "execution_count": 37,
   "id": "2e8e5a7a",
   "metadata": {},
   "outputs": [],
   "source": [
    "import numpy as np\n",
    "import seaborn as sns\n",
    "%matplotlib inline\n",
    "import pandas as pd"
   ]
  },
  {
   "cell_type": "markdown",
   "id": "329c982c",
   "metadata": {},
   "source": [
    "dataset para simulação de anomalias"
   ]
  },
  {
   "cell_type": "code",
   "execution_count": 3,
   "id": "a2f94ff7",
   "metadata": {},
   "outputs": [],
   "source": [
    "dados = [10, 386, 479, 627, 20, 523, 482, 483, 542, 699, 535, 617, 577, 471, 615, 583, 441, 562, 563, 527, \n",
    "       453, 530, 433, 541, 585, 704, 443, 569, 430, 637, 331, 511, 552, 496, 484, 566, 554, 472, 335, \n",
    "       440, 579, 341, 545, 615, 548, 604, 439, 556, 442, 461, 624, 611, 444, 578, 405, 487, 490, 496, 398, \n",
    "       512, 422, 455, 449, 432, 607, 679, 434, 597, 639, 565, 415, 486, 668, 414, 665, 763, 557, 304, 404, 454, \n",
    "       689, 610, 483, 441, 657, 590, 492, 476, 437, 483, 529, 363, 711, 543,30, 1300, 1350, 1400]"
   ]
  },
  {
   "cell_type": "code",
   "execution_count": 4,
   "id": "78a83f7b",
   "metadata": {},
   "outputs": [
    {
     "name": "stdout",
     "output_type": "stream",
     "text": [
      "[  10  386  479  627   20  523  482  483  542  699  535  617  577  471\n",
      "  615  583  441  562  563  527  453  530  433  541  585  704  443  569\n",
      "  430  637  331  511  552  496  484  566  554  472  335  440  579  341\n",
      "  545  615  548  604  439  556  442  461  624  611  444  578  405  487\n",
      "  490  496  398  512  422  455  449  432  607  679  434  597  639  565\n",
      "  415  486  668  414  665  763  557  304  404  454  689  610  483  441\n",
      "  657  590  492  476  437  483  529  363  711  543   30 1300 1350 1400]\n"
     ]
    }
   ],
   "source": [
    "dados = np.array(dados)\n",
    "print(dados)"
   ]
  },
  {
   "cell_type": "markdown",
   "id": "e83872c0",
   "metadata": {},
   "source": [
    "### Visualizando dados anômalos"
   ]
  },
  {
   "cell_type": "code",
   "execution_count": 8,
   "id": "9c4b69dd",
   "metadata": {},
   "outputs": [
    {
     "data": {
      "image/png": "[encoded data removed]",
      "text/plain": [
       "<Figure size 432x288 with 1 Axes>"
      ]
     },
     "metadata": {},
     "output_type": "display_data"
    }
   ],
   "source": [
    "sns.set(style='whitegrid', color_codes=True)\n",
    "sns.boxplot(data=dados);"
   ]
  },
  {
   "cell_type": "markdown",
   "id": "b5b4fb93",
   "metadata": {},
   "source": [
    "Verificando o valor da média"
   ]
  },
  {
   "cell_type": "code",
   "execution_count": 10,
   "id": "dc3c6310",
   "metadata": {},
   "outputs": [
    {
     "data": {
      "text/plain": [
       "530.3673469387755"
      ]
     },
     "execution_count": 10,
     "metadata": {},
     "output_type": "execute_result"
    }
   ],
   "source": [
    "np.mean(dados, axis=0)"
   ]
  },
  {
   "cell_type": "markdown",
   "id": "3eb638c9",
   "metadata": {},
   "source": [
    "Verificando o valor da mediana"
   ]
  },
  {
   "cell_type": "code",
   "execution_count": 27,
   "id": "08eb1234",
   "metadata": {},
   "outputs": [
    {
     "data": {
      "text/plain": [
       "517.5"
      ]
     },
     "execution_count": 27,
     "metadata": {},
     "output_type": "execute_result"
    }
   ],
   "source": [
    "np.median(dados, axis=0)"
   ]
  },
  {
   "cell_type": "markdown",
   "id": "af627483",
   "metadata": {},
   "source": [
    "Verificando o valor do desvio padrão"
   ]
  },
  {
   "cell_type": "code",
   "execution_count": 11,
   "id": "597379a5",
   "metadata": {},
   "outputs": [
    {
     "data": {
      "text/plain": [
       "192.51166875607043"
      ]
     },
     "execution_count": 11,
     "metadata": {},
     "output_type": "execute_result"
    }
   ],
   "source": [
    "np.std(dados, axis=0)"
   ]
  },
  {
   "cell_type": "markdown",
   "id": "982e4424",
   "metadata": {},
   "source": [
    "Fronteira de valor abaixo da média em duas vezes o desvio padrão"
   ]
  },
  {
   "cell_type": "code",
   "execution_count": 29,
   "id": "619ee35c",
   "metadata": {},
   "outputs": [],
   "source": [
    "mean = np.mean(dados, axis=0)\n",
    "sd = np.std(dados, axis=0)\n",
    "median = np.median(dados, axis=0)"
   ]
  },
  {
   "cell_type": "code",
   "execution_count": 14,
   "id": "87ce42cf",
   "metadata": {},
   "outputs": [
    {
     "data": {
      "text/plain": [
       "145.34400942663467"
      ]
     },
     "execution_count": 14,
     "metadata": {},
     "output_type": "execute_result"
    }
   ],
   "source": [
    "mean - 2 * sd"
   ]
  },
  {
   "cell_type": "markdown",
   "id": "e32ab11a",
   "metadata": {},
   "source": [
    "Fronteira de valor abaixo da média em duas vezes o desvio padrão (usando a mediana)"
   ]
  },
  {
   "cell_type": "code",
   "execution_count": 30,
   "id": "ba339d6a",
   "metadata": {},
   "outputs": [
    {
     "data": {
      "text/plain": [
       "328.6155572758476"
      ]
     },
     "execution_count": 30,
     "metadata": {},
     "output_type": "execute_result"
    }
   ],
   "source": [
    "median - 2 * sd"
   ]
  },
  {
   "cell_type": "markdown",
   "id": "600522b2",
   "metadata": {},
   "source": [
    "fronteira de valores acima da média em duas vezes o desvio padrão"
   ]
  },
  {
   "cell_type": "code",
   "execution_count": 16,
   "id": "bbb18262",
   "metadata": {},
   "outputs": [
    {
     "data": {
      "text/plain": [
       "915.3906844509164"
      ]
     },
     "execution_count": 16,
     "metadata": {},
     "output_type": "execute_result"
    }
   ],
   "source": [
    "mean + 2 * sd"
   ]
  },
  {
   "cell_type": "markdown",
   "id": "78e01028",
   "metadata": {},
   "source": [
    "Fronteira de valor acima da média em duas vezes o desvio padrão (usando a mediana)"
   ]
  },
  {
   "cell_type": "code",
   "execution_count": 31,
   "id": "a4d8698f",
   "metadata": {},
   "outputs": [
    {
     "data": {
      "text/plain": [
       "706.3844427241524"
      ]
     },
     "execution_count": 31,
     "metadata": {},
     "output_type": "execute_result"
    }
   ],
   "source": [
    "median + 2 * sd"
   ]
  },
  {
   "cell_type": "markdown",
   "id": "a9952fb6",
   "metadata": {},
   "source": [
    "Listando os valores abaixo da média em duas vezes o desvio padrão"
   ]
  },
  {
   "cell_type": "code",
   "execution_count": 17,
   "id": "0a2dccc8",
   "metadata": {},
   "outputs": [
    {
     "name": "stdout",
     "output_type": "stream",
     "text": [
      "10\n",
      "20\n",
      "30\n"
     ]
    }
   ],
   "source": [
    "for x in dados:\n",
    "    if (x < mean - 2 * sd):\n",
    "        print(x)"
   ]
  },
  {
   "cell_type": "markdown",
   "id": "f666e699",
   "metadata": {},
   "source": [
    "Listando os valores acima da média em duas vezes o desvio padrão"
   ]
  },
  {
   "cell_type": "code",
   "execution_count": 20,
   "id": "cbec3102",
   "metadata": {},
   "outputs": [
    {
     "name": "stdout",
     "output_type": "stream",
     "text": [
      "1300\n",
      "1350\n",
      "1400\n"
     ]
    }
   ],
   "source": [
    "for x in dados:\n",
    "    if (x > mean + 2 * sd):\n",
    "        print(x)"
   ]
  },
  {
   "cell_type": "markdown",
   "id": "9924c959",
   "metadata": {},
   "source": [
    "removendo os valores muito abaixo da média(10\n",
    "20\n",
    "30)"
   ]
  },
  {
   "cell_type": "code",
   "execution_count": 21,
   "id": "32b971ef",
   "metadata": {},
   "outputs": [
    {
     "name": "stdout",
     "output_type": "stream",
     "text": [
      "[386, 479, 627, 523, 482, 483, 542, 699, 535, 617, 577, 471, 615, 583, 441, 562, 563, 527, 453, 530, 433, 541, 585, 704, 443, 569, 430, 637, 331, 511, 552, 496, 484, 566, 554, 472, 335, 440, 579, 341, 545, 615, 548, 604, 439, 556, 442, 461, 624, 611, 444, 578, 405, 487, 490, 496, 398, 512, 422, 455, 449, 432, 607, 679, 434, 597, 639, 565, 415, 486, 668, 414, 665, 763, 557, 304, 404, 454, 689, 610, 483, 441, 657, 590, 492, 476, 437, 483, 529, 363, 711, 543, 1300, 1350, 1400]\n"
     ]
    }
   ],
   "source": [
    "dados = [x for x in dados if (x > mean - 2 * sd)]\n",
    "print(dados)"
   ]
  },
  {
   "cell_type": "markdown",
   "id": "507dff55",
   "metadata": {},
   "source": [
    "removendo os valores muito acima da média(1300\n",
    "1350\n",
    "1400)"
   ]
  },
  {
   "cell_type": "code",
   "execution_count": 23,
   "id": "110456f7",
   "metadata": {},
   "outputs": [
    {
     "name": "stdout",
     "output_type": "stream",
     "text": [
      "[386, 479, 627, 523, 482, 483, 542, 699, 535, 617, 577, 471, 615, 583, 441, 562, 563, 527, 453, 530, 433, 541, 585, 704, 443, 569, 430, 637, 331, 511, 552, 496, 484, 566, 554, 472, 335, 440, 579, 341, 545, 615, 548, 604, 439, 556, 442, 461, 624, 611, 444, 578, 405, 487, 490, 496, 398, 512, 422, 455, 449, 432, 607, 679, 434, 597, 639, 565, 415, 486, 668, 414, 665, 763, 557, 304, 404, 454, 689, 610, 483, 441, 657, 590, 492, 476, 437, 483, 529, 363, 711, 543]\n"
     ]
    }
   ],
   "source": [
    "dados = [x for x in dados if (x < mean + 2 * sd)]\n",
    "print(dados)"
   ]
  },
  {
   "cell_type": "markdown",
   "id": "402b4d17",
   "metadata": {},
   "source": [
    "Visualizando os valores novamente"
   ]
  },
  {
   "cell_type": "code",
   "execution_count": 26,
   "id": "3ab0c2de",
   "metadata": {},
   "outputs": [
    {
     "data": {
      "image/png": "[encoded data removed]",
      "text/plain": [
       "<Figure size 432x288 with 1 Axes>"
      ]
     },
     "metadata": {},
     "output_type": "display_data"
    }
   ],
   "source": [
    "sns.boxplot(data=dados);"
   ]
  },
  {
   "cell_type": "markdown",
   "id": "3e31599d",
   "metadata": {},
   "source": [
    "# Técnicas de processamento de Dados - Discretização\n",
    "\n",
    "Conjunto de dados exemplo"
   ]
  },
  {
   "cell_type": "code",
   "execution_count": 38,
   "id": "9fe86509",
   "metadata": {},
   "outputs": [],
   "source": [
    "altura = [1.50,1.57,1.62,1.70,1.85,1.90]"
   ]
  },
  {
   "cell_type": "markdown",
   "id": "fad6867e",
   "metadata": {},
   "source": [
    "Aplicando a discretização em 3 bins de tamanho igual e com os labels P, M e G"
   ]
  },
  {
   "cell_type": "code",
   "execution_count": 39,
   "id": "b9f9809d",
   "metadata": {},
   "outputs": [
    {
     "name": "stdout",
     "output_type": "stream",
     "text": [
      "['P', 'P', 'M', 'M', 'G', 'G']\n",
      "Categories (3, object): ['P' < 'M' < 'G']\n"
     ]
    }
   ],
   "source": [
    "altura = pd.qcut(altura,3,labels=['P','M','G'])\n",
    "print(altura)"
   ]
  },
  {
   "cell_type": "markdown",
   "id": "94f76afb",
   "metadata": {},
   "source": [
    "Verificando a quantidade de objetos em cada BIN"
   ]
  },
  {
   "cell_type": "code",
   "execution_count": 40,
   "id": "8dcaff33",
   "metadata": {},
   "outputs": [
    {
     "data": {
      "text/plain": [
       "P    2\n",
       "M    2\n",
       "G    2\n",
       "dtype: int64"
      ]
     },
     "execution_count": 40,
     "metadata": {},
     "output_type": "execute_result"
    }
   ],
   "source": [
    "altura.value_counts()"
   ]
  },
  {
   "cell_type": "markdown",
   "id": "994b231a",
   "metadata": {},
   "source": [
    "Lendo a base de dados"
   ]
  },
  {
   "cell_type": "code",
   "execution_count": 42,
   "id": "8400ef84",
   "metadata": {},
   "outputs": [],
   "source": [
    "dataset = pd.read_csv(r\"C:\\Users\\marcf\\OneDrive\\Documentos\\Ciencia de dados\\materiais-de-apoio-pandas - Curso Edu\\Materiais-de-apoio-Pre-processamento-de-Dados\\kc_house_data.csv\")"
   ]
  },
  {
   "cell_type": "markdown",
   "id": "a99bc757",
   "metadata": {},
   "source": [
    "Contando o número de pisos"
   ]
  },
  {
   "cell_type": "code",
   "execution_count": 43,
   "id": "89c1aaa6",
   "metadata": {},
   "outputs": [
    {
     "data": {
      "text/plain": [
       "1.0    10679\n",
       "2.0     8241\n",
       "1.5     1910\n",
       "3.0      613\n",
       "2.5      161\n",
       "3.5        8\n",
       "Name: floors, dtype: int64"
      ]
     },
     "execution_count": 43,
     "metadata": {},
     "output_type": "execute_result"
    }
   ],
   "source": [
    "dataset['floors'].value_counts()"
   ]
  },
  {
   "cell_type": "markdown",
   "id": "71eb71f5",
   "metadata": {},
   "source": [
    "Discretizando os valores do atributo floors e armazenando o resultado no atributo floors_labels"
   ]
  },
  {
   "cell_type": "code",
   "execution_count": 45,
   "id": "a9e7bc37",
   "metadata": {},
   "outputs": [],
   "source": [
    "dataset['floors_labels'] = pd.cut(\n",
    "                                    dataset['floors'],\n",
    "                                    5,\n",
    "                                    labels=['Muito-pequeno','Pequeno','Médio','Grande','Muito-Grande']\n",
    "                                  )"
   ]
  },
  {
   "cell_type": "markdown",
   "id": "38751b91",
   "metadata": {},
   "source": [
    "Verificando novo atributo"
   ]
  },
  {
   "cell_type": "code",
   "execution_count": 46,
   "id": "d1d1bd0f",
   "metadata": {},
   "outputs": [
    {
     "data": {
      "text/html": [
       "<div>\n",
       "<style scoped>\n",
       "    .dataframe tbody tr th:only-of-type {\n",
       "        vertical-align: middle;\n",
       "    }\n",
       "\n",
       "    .dataframe tbody tr th {\n",
       "        vertical-align: top;\n",
       "    }\n",
       "\n",
       "    .dataframe thead th {\n",
       "        text-align: right;\n",
       "    }\n",
       "</style>\n",
       "<table border=\"1\" class=\"dataframe\">\n",
       "  <thead>\n",
       "    <tr style=\"text-align: right;\">\n",
       "      <th></th>\n",
       "      <th>id</th>\n",
       "      <th>date</th>\n",
       "      <th>price</th>\n",
       "      <th>bedrooms</th>\n",
       "      <th>bathrooms</th>\n",
       "      <th>sqft_living</th>\n",
       "      <th>sqft_lot</th>\n",
       "      <th>floors</th>\n",
       "      <th>waterfront</th>\n",
       "      <th>view</th>\n",
       "      <th>...</th>\n",
       "      <th>sqft_above</th>\n",
       "      <th>sqft_basement</th>\n",
       "      <th>yr_built</th>\n",
       "      <th>yr_renovated</th>\n",
       "      <th>zipcode</th>\n",
       "      <th>lat</th>\n",
       "      <th>long</th>\n",
       "      <th>sqft_living15</th>\n",
       "      <th>sqft_lot15</th>\n",
       "      <th>floors_labels</th>\n",
       "    </tr>\n",
       "  </thead>\n",
       "  <tbody>\n",
       "    <tr>\n",
       "      <th>0</th>\n",
       "      <td>7129300520</td>\n",
       "      <td>20141013T000000</td>\n",
       "      <td>221900.0</td>\n",
       "      <td>3.0</td>\n",
       "      <td>1.00</td>\n",
       "      <td>1180</td>\n",
       "      <td>5650</td>\n",
       "      <td>1.0</td>\n",
       "      <td>0</td>\n",
       "      <td>0</td>\n",
       "      <td>...</td>\n",
       "      <td>1180</td>\n",
       "      <td>0</td>\n",
       "      <td>1955</td>\n",
       "      <td>0</td>\n",
       "      <td>98178</td>\n",
       "      <td>47.5112</td>\n",
       "      <td>-122.257</td>\n",
       "      <td>1340</td>\n",
       "      <td>5650</td>\n",
       "      <td>Muito-pequeno</td>\n",
       "    </tr>\n",
       "    <tr>\n",
       "      <th>1</th>\n",
       "      <td>6414100192</td>\n",
       "      <td>20141209T000000</td>\n",
       "      <td>538000.0</td>\n",
       "      <td>3.0</td>\n",
       "      <td>2.25</td>\n",
       "      <td>2570</td>\n",
       "      <td>7242</td>\n",
       "      <td>2.0</td>\n",
       "      <td>0</td>\n",
       "      <td>0</td>\n",
       "      <td>...</td>\n",
       "      <td>2170</td>\n",
       "      <td>400</td>\n",
       "      <td>1951</td>\n",
       "      <td>1991</td>\n",
       "      <td>98125</td>\n",
       "      <td>47.7210</td>\n",
       "      <td>-122.319</td>\n",
       "      <td>1690</td>\n",
       "      <td>7639</td>\n",
       "      <td>Pequeno</td>\n",
       "    </tr>\n",
       "    <tr>\n",
       "      <th>2</th>\n",
       "      <td>5631500400</td>\n",
       "      <td>20150225T000000</td>\n",
       "      <td>180000.0</td>\n",
       "      <td>2.0</td>\n",
       "      <td>1.00</td>\n",
       "      <td>770</td>\n",
       "      <td>10000</td>\n",
       "      <td>1.0</td>\n",
       "      <td>0</td>\n",
       "      <td>0</td>\n",
       "      <td>...</td>\n",
       "      <td>770</td>\n",
       "      <td>0</td>\n",
       "      <td>1933</td>\n",
       "      <td>0</td>\n",
       "      <td>98028</td>\n",
       "      <td>47.7379</td>\n",
       "      <td>-122.233</td>\n",
       "      <td>2720</td>\n",
       "      <td>8062</td>\n",
       "      <td>Muito-pequeno</td>\n",
       "    </tr>\n",
       "    <tr>\n",
       "      <th>3</th>\n",
       "      <td>2487200875</td>\n",
       "      <td>20141209T000000</td>\n",
       "      <td>604000.0</td>\n",
       "      <td>4.0</td>\n",
       "      <td>3.00</td>\n",
       "      <td>1960</td>\n",
       "      <td>5000</td>\n",
       "      <td>1.0</td>\n",
       "      <td>0</td>\n",
       "      <td>0</td>\n",
       "      <td>...</td>\n",
       "      <td>1050</td>\n",
       "      <td>910</td>\n",
       "      <td>1965</td>\n",
       "      <td>0</td>\n",
       "      <td>98136</td>\n",
       "      <td>47.5208</td>\n",
       "      <td>-122.393</td>\n",
       "      <td>1360</td>\n",
       "      <td>5000</td>\n",
       "      <td>Muito-pequeno</td>\n",
       "    </tr>\n",
       "    <tr>\n",
       "      <th>4</th>\n",
       "      <td>1954400510</td>\n",
       "      <td>20150218T000000</td>\n",
       "      <td>510000.0</td>\n",
       "      <td>3.0</td>\n",
       "      <td>2.00</td>\n",
       "      <td>1680</td>\n",
       "      <td>8080</td>\n",
       "      <td>1.0</td>\n",
       "      <td>0</td>\n",
       "      <td>0</td>\n",
       "      <td>...</td>\n",
       "      <td>1680</td>\n",
       "      <td>0</td>\n",
       "      <td>1987</td>\n",
       "      <td>0</td>\n",
       "      <td>98074</td>\n",
       "      <td>47.6168</td>\n",
       "      <td>-122.045</td>\n",
       "      <td>1800</td>\n",
       "      <td>7503</td>\n",
       "      <td>Muito-pequeno</td>\n",
       "    </tr>\n",
       "    <tr>\n",
       "      <th>5</th>\n",
       "      <td>7237550310</td>\n",
       "      <td>20140512T000000</td>\n",
       "      <td>1225000.0</td>\n",
       "      <td>4.0</td>\n",
       "      <td>4.50</td>\n",
       "      <td>5420</td>\n",
       "      <td>101930</td>\n",
       "      <td>1.0</td>\n",
       "      <td>0</td>\n",
       "      <td>0</td>\n",
       "      <td>...</td>\n",
       "      <td>3890</td>\n",
       "      <td>1530</td>\n",
       "      <td>2001</td>\n",
       "      <td>0</td>\n",
       "      <td>98053</td>\n",
       "      <td>47.6561</td>\n",
       "      <td>-122.005</td>\n",
       "      <td>4760</td>\n",
       "      <td>101930</td>\n",
       "      <td>Muito-pequeno</td>\n",
       "    </tr>\n",
       "    <tr>\n",
       "      <th>6</th>\n",
       "      <td>1321400060</td>\n",
       "      <td>20140627T000000</td>\n",
       "      <td>257500.0</td>\n",
       "      <td>3.0</td>\n",
       "      <td>2.25</td>\n",
       "      <td>1715</td>\n",
       "      <td>6819</td>\n",
       "      <td>2.0</td>\n",
       "      <td>0</td>\n",
       "      <td>0</td>\n",
       "      <td>...</td>\n",
       "      <td>1715</td>\n",
       "      <td>0</td>\n",
       "      <td>1995</td>\n",
       "      <td>0</td>\n",
       "      <td>98003</td>\n",
       "      <td>47.3097</td>\n",
       "      <td>-122.327</td>\n",
       "      <td>2238</td>\n",
       "      <td>6819</td>\n",
       "      <td>Pequeno</td>\n",
       "    </tr>\n",
       "    <tr>\n",
       "      <th>7</th>\n",
       "      <td>2008000270</td>\n",
       "      <td>20150115T000000</td>\n",
       "      <td>291850.0</td>\n",
       "      <td>3.0</td>\n",
       "      <td>1.50</td>\n",
       "      <td>1060</td>\n",
       "      <td>9711</td>\n",
       "      <td>1.0</td>\n",
       "      <td>0</td>\n",
       "      <td>0</td>\n",
       "      <td>...</td>\n",
       "      <td>1060</td>\n",
       "      <td>0</td>\n",
       "      <td>1963</td>\n",
       "      <td>0</td>\n",
       "      <td>98198</td>\n",
       "      <td>47.4095</td>\n",
       "      <td>-122.315</td>\n",
       "      <td>1650</td>\n",
       "      <td>9711</td>\n",
       "      <td>Muito-pequeno</td>\n",
       "    </tr>\n",
       "    <tr>\n",
       "      <th>8</th>\n",
       "      <td>2414600126</td>\n",
       "      <td>20150415T000000</td>\n",
       "      <td>229500.0</td>\n",
       "      <td>3.0</td>\n",
       "      <td>1.00</td>\n",
       "      <td>1780</td>\n",
       "      <td>7470</td>\n",
       "      <td>1.0</td>\n",
       "      <td>0</td>\n",
       "      <td>0</td>\n",
       "      <td>...</td>\n",
       "      <td>1050</td>\n",
       "      <td>730</td>\n",
       "      <td>1960</td>\n",
       "      <td>0</td>\n",
       "      <td>98146</td>\n",
       "      <td>47.5123</td>\n",
       "      <td>-122.337</td>\n",
       "      <td>1780</td>\n",
       "      <td>8113</td>\n",
       "      <td>Muito-pequeno</td>\n",
       "    </tr>\n",
       "    <tr>\n",
       "      <th>9</th>\n",
       "      <td>3793500160</td>\n",
       "      <td>20150312T000000</td>\n",
       "      <td>323000.0</td>\n",
       "      <td>3.0</td>\n",
       "      <td>2.50</td>\n",
       "      <td>1890</td>\n",
       "      <td>6560</td>\n",
       "      <td>2.0</td>\n",
       "      <td>0</td>\n",
       "      <td>0</td>\n",
       "      <td>...</td>\n",
       "      <td>1890</td>\n",
       "      <td>0</td>\n",
       "      <td>2003</td>\n",
       "      <td>0</td>\n",
       "      <td>98038</td>\n",
       "      <td>47.3684</td>\n",
       "      <td>-122.031</td>\n",
       "      <td>2390</td>\n",
       "      <td>7570</td>\n",
       "      <td>Pequeno</td>\n",
       "    </tr>\n",
       "  </tbody>\n",
       "</table>\n",
       "<p>10 rows × 22 columns</p>\n",
       "</div>"
      ],
      "text/plain": [
       "           id             date      price  bedrooms  bathrooms  sqft_living  \\\n",
       "0  7129300520  20141013T000000   221900.0       3.0       1.00         1180   \n",
       "1  6414100192  20141209T000000   538000.0       3.0       2.25         2570   \n",
       "2  5631500400  20150225T000000   180000.0       2.0       1.00          770   \n",
       "3  2487200875  20141209T000000   604000.0       4.0       3.00         1960   \n",
       "4  1954400510  20150218T000000   510000.0       3.0       2.00         1680   \n",
       "5  7237550310  20140512T000000  1225000.0       4.0       4.50         5420   \n",
       "6  1321400060  20140627T000000   257500.0       3.0       2.25         1715   \n",
       "7  2008000270  20150115T000000   291850.0       3.0       1.50         1060   \n",
       "8  2414600126  20150415T000000   229500.0       3.0       1.00         1780   \n",
       "9  3793500160  20150312T000000   323000.0       3.0       2.50         1890   \n",
       "\n",
       "   sqft_lot  floors  waterfront  view  ...  sqft_above  sqft_basement  \\\n",
       "0      5650     1.0           0     0  ...        1180              0   \n",
       "1      7242     2.0           0     0  ...        2170            400   \n",
       "2     10000     1.0           0     0  ...         770              0   \n",
       "3      5000     1.0           0     0  ...        1050            910   \n",
       "4      8080     1.0           0     0  ...        1680              0   \n",
       "5    101930     1.0           0     0  ...        3890           1530   \n",
       "6      6819     2.0           0     0  ...        1715              0   \n",
       "7      9711     1.0           0     0  ...        1060              0   \n",
       "8      7470     1.0           0     0  ...        1050            730   \n",
       "9      6560     2.0           0     0  ...        1890              0   \n",
       "\n",
       "   yr_built  yr_renovated  zipcode      lat     long  sqft_living15  \\\n",
       "0      1955             0    98178  47.5112 -122.257           1340   \n",
       "1      1951          1991    98125  47.7210 -122.319           1690   \n",
       "2      1933             0    98028  47.7379 -122.233           2720   \n",
       "3      1965             0    98136  47.5208 -122.393           1360   \n",
       "4      1987             0    98074  47.6168 -122.045           1800   \n",
       "5      2001             0    98053  47.6561 -122.005           4760   \n",
       "6      1995             0    98003  47.3097 -122.327           2238   \n",
       "7      1963             0    98198  47.4095 -122.315           1650   \n",
       "8      1960             0    98146  47.5123 -122.337           1780   \n",
       "9      2003             0    98038  47.3684 -122.031           2390   \n",
       "\n",
       "   sqft_lot15  floors_labels  \n",
       "0        5650  Muito-pequeno  \n",
       "1        7639        Pequeno  \n",
       "2        8062  Muito-pequeno  \n",
       "3        5000  Muito-pequeno  \n",
       "4        7503  Muito-pequeno  \n",
       "5      101930  Muito-pequeno  \n",
       "6        6819        Pequeno  \n",
       "7        9711  Muito-pequeno  \n",
       "8        8113  Muito-pequeno  \n",
       "9        7570        Pequeno  \n",
       "\n",
       "[10 rows x 22 columns]"
      ]
     },
     "execution_count": 46,
     "metadata": {},
     "output_type": "execute_result"
    }
   ],
   "source": [
    "dataset.head(10)"
   ]
  },
  {
   "cell_type": "code",
   "execution_count": 48,
   "id": "a126835b",
   "metadata": {},
   "outputs": [
    {
     "data": {
      "text/plain": [
       "['Muito-pequeno', 'Pequeno', NaN, 'Grande', 'Médio', 'Muito-Grande']\n",
       "Categories (5, object): ['Muito-pequeno' < 'Pequeno' < 'Médio' < 'Grande' < 'Muito-Grande']"
      ]
     },
     "execution_count": 48,
     "metadata": {},
     "output_type": "execute_result"
    }
   ],
   "source": [
    "dataset['floors_labels'].unique()"
   ]
  },
  {
   "cell_type": "markdown",
   "id": "840bab25",
   "metadata": {},
   "source": [
    "Contagem de valores em cada bin ou categoria"
   ]
  },
  {
   "cell_type": "code",
   "execution_count": 49,
   "id": "c54de8a9",
   "metadata": {},
   "outputs": [
    {
     "data": {
      "text/plain": [
       "Muito-pequeno    12589\n",
       "Pequeno           8241\n",
       "Grande             613\n",
       "Médio              161\n",
       "Muito-Grande         8\n",
       "Name: floors_labels, dtype: int64"
      ]
     },
     "execution_count": 49,
     "metadata": {},
     "output_type": "execute_result"
    }
   ],
   "source": [
    "dataset['floors_labels'].value_counts()"
   ]
  },
  {
   "cell_type": "markdown",
   "id": "5e872b4d",
   "metadata": {},
   "source": [
    "## Técnicas de processamentos de dados\n",
    "\n",
    "Norma L2 é definida como a raiz quadrada do somatório de todos os elementos do vetor ao quadrado\n",
    "\n",
    "Bibliotecas necessárias"
   ]
  },
  {
   "cell_type": "code",
   "execution_count": 51,
   "id": "ccbcacd1",
   "metadata": {},
   "outputs": [],
   "source": [
    "import warnings\n",
    "warnings.filterwarnings('ignore')\n",
    "from sklearn.preprocessing import Normalizer\n",
    "import numpy as np\n",
    "import seaborn as sns\n",
    "import matplotlib.pyplot as plt"
   ]
  },
  {
   "cell_type": "markdown",
   "id": "6dee2bdd",
   "metadata": {},
   "source": [
    "exemplo de dados"
   ]
  },
  {
   "cell_type": "code",
   "execution_count": 53,
   "id": "e5c2971f",
   "metadata": {},
   "outputs": [
    {
     "name": "stdout",
     "output_type": "stream",
     "text": [
      "[[-1, 2], [0.5, 6], [0, 10], [1, 18]]\n"
     ]
    }
   ],
   "source": [
    "data = [\n",
    "        [-1,2],\n",
    "        [0.5,6],\n",
    "        [0,10],\n",
    "        [1,18]\n",
    "        ]\n",
    "print(data)"
   ]
  },
  {
   "cell_type": "markdown",
   "id": "8a3c32d5",
   "metadata": {},
   "source": [
    "Valor da média"
   ]
  },
  {
   "cell_type": "code",
   "execution_count": 54,
   "id": "ae277bba",
   "metadata": {},
   "outputs": [
    {
     "name": "stdout",
     "output_type": "stream",
     "text": [
      "4.5625\n"
     ]
    }
   ],
   "source": [
    "print(np.mean(data))"
   ]
  },
  {
   "cell_type": "markdown",
   "id": "4f3a9beb",
   "metadata": {},
   "source": [
    "Visualizando a distribuição dos dados"
   ]
  },
  {
   "cell_type": "code",
   "execution_count": 56,
   "id": "b30b1891",
   "metadata": {},
   "outputs": [
    {
     "data": {
      "image/png": "[encoded data removed]",
      "text/plain": [
       "<Figure size 432x288 with 1 Axes>"
      ]
     },
     "metadata": {
      "needs_background": "light"
     },
     "output_type": "display_data"
    }
   ],
   "source": [
    "sns.distplot(np.array(data).reshape(-1))\n",
    "plt.show()"
   ]
  },
  {
   "cell_type": "markdown",
   "id": "bc982906",
   "metadata": {},
   "source": [
    "Instaciando o objeto Normalize"
   ]
  },
  {
   "cell_type": "code",
   "execution_count": 59,
   "id": "61fb6986",
   "metadata": {},
   "outputs": [],
   "source": [
    "normalizer = Normalizer().fit(data)"
   ]
  },
  {
   "cell_type": "markdown",
   "id": "c04a089c",
   "metadata": {},
   "source": [
    "Aplicando a normalização nos dados de exemplo utilizando a norma L2"
   ]
  },
  {
   "cell_type": "code",
   "execution_count": 61,
   "id": "e4765e36",
   "metadata": {},
   "outputs": [
    {
     "name": "stdout",
     "output_type": "stream",
     "text": [
      "[[-0.4472136   0.89442719]\n",
      " [ 0.08304548  0.99654576]\n",
      " [ 0.          1.        ]\n",
      " [ 0.05547002  0.99846035]]\n"
     ]
    }
   ],
   "source": [
    "data2 = normalizer.transform(data)\n",
    "print(data2)"
   ]
  },
  {
   "cell_type": "markdown",
   "id": "2efa765c",
   "metadata": {},
   "source": [
    "valor da média"
   ]
  },
  {
   "cell_type": "code",
   "execution_count": 62,
   "id": "49cdc6bb",
   "metadata": {},
   "outputs": [
    {
     "name": "stdout",
     "output_type": "stream",
     "text": [
      "0.4475919008033141\n"
     ]
    }
   ],
   "source": [
    "print(np.mean(data2))"
   ]
  },
  {
   "cell_type": "code",
   "execution_count": 63,
   "id": "977615fe",
   "metadata": {},
   "outputs": [
    {
     "data": {
      "image/png": "[encoded data removed]",
      "text/plain": [
       "<Figure size 432x288 with 1 Axes>"
      ]
     },
     "metadata": {
      "needs_background": "light"
     },
     "output_type": "display_data"
    }
   ],
   "source": [
    "sns.distplot(data2.reshape(-1))\n",
    "plt.show()"
   ]
  },
  {
   "cell_type": "markdown",
   "id": "c9db65db",
   "metadata": {},
   "source": [
    "## Técnicas de processamentos de dados - Standartization"
   ]
  },
  {
   "cell_type": "code",
   "execution_count": 94,
   "id": "0071ce82",
   "metadata": {},
   "outputs": [
    {
     "name": "stdout",
     "output_type": "stream",
     "text": [
      "[ -8.25601533  -6.75871275   9.31790561   7.18802526   0.93433835\n",
      "   7.28174256  -1.35679242  -2.94540927   6.70995031  19.0030818\n",
      "   5.09342501  -7.52931994  -1.23042763   8.59401053   5.19134998\n",
      "  17.88487304  13.93865426  -3.29839326   7.04192909  -5.58863328\n",
      "  11.70633143  17.77148906 -10.16294439   9.03285747  -3.54669355\n",
      "   5.00980943   5.12986126   0.73999772  18.18725609  -0.19909114\n",
      "  11.67505117  11.01316501  -4.26445337  -0.59736981  -4.44099687\n",
      "  -4.49833905   0.55666885  16.13705034   5.2928123    1.31948263\n",
      "   4.11221523 -10.22625195  -5.1586506   -4.8374205   -0.81456579\n",
      "  -5.68529885   9.34833108  -9.81357684   6.09451318  10.29203843]\n"
     ]
    }
   ],
   "source": [
    "data = np.random.normal(5,10,size=50,)\n",
    "print(data)"
   ]
  },
  {
   "cell_type": "code",
   "execution_count": 98,
   "id": "bd3f62c2",
   "metadata": {},
   "outputs": [
    {
     "data": {
      "image/png": "[encoded data removed]",
      "text/plain": [
       "<Figure size 432x288 with 1 Axes>"
      ]
     },
     "metadata": {
      "needs_background": "light"
     },
     "output_type": "display_data"
    }
   ],
   "source": [
    "sns.distplot(np.array(data).reshape(-1))\n",
    "plt.show()"
   ]
  },
  {
   "cell_type": "markdown",
   "id": "ddef7072",
   "metadata": {},
   "source": [
    "Bilbiotecas necessárias"
   ]
  },
  {
   "cell_type": "code",
   "execution_count": 91,
   "id": "fc3ea945",
   "metadata": {},
   "outputs": [],
   "source": [
    "from sklearn.preprocessing import MinMaxScaler"
   ]
  },
  {
   "cell_type": "markdown",
   "id": "cefc3bf3",
   "metadata": {},
   "source": [
    "instanciando o objeto scaler"
   ]
  },
  {
   "cell_type": "code",
   "execution_count": 104,
   "id": "040037a0",
   "metadata": {},
   "outputs": [],
   "source": [
    "data = np.array(data).reshape(-1,5)\n",
    "scaler = MinMaxScaler().fit(data)"
   ]
  },
  {
   "cell_type": "markdown",
   "id": "f73c451e",
   "metadata": {},
   "source": [
    "Transformando os dados com o objeto scaler"
   ]
  },
  {
   "cell_type": "code",
   "execution_count": 105,
   "id": "70180396",
   "metadata": {},
   "outputs": [
    {
     "name": "stdout",
     "output_type": "stream",
     "text": [
      "[[0.         0.12385068 0.74071688 0.52228511 0.26525078]\n",
      " [0.59438523 0.31679197 0.27443105 0.50152152 1.        ]\n",
      " [0.51067279 0.09632677 0.33963949 0.58334939 0.43835833]\n",
      " [1.         0.863102   0.2610096  0.51593991 0.        ]\n",
      " [0.76364454 1.         0.         0.60240924 0.08303364]\n",
      " [0.50747414 0.54847686 0.41456062 1.         0.21916089]\n",
      " [0.76244794 0.75861181 0.22427727 0.18415245 0.0466676 ]\n",
      " [0.14374708 0.38513539 1.         0.43997286 0.28091233]\n",
      " [0.47313735 0.         0.19027737 0.         0.19413317]\n",
      " [0.09834082 0.69914866 0.01328394 0.47479206 0.64577325]]\n"
     ]
    }
   ],
   "source": [
    "data_scaled = scaler.transform(data)\n",
    "print(data_scaled)"
   ]
  },
  {
   "cell_type": "code",
   "execution_count": 106,
   "id": "89f75d52",
   "metadata": {},
   "outputs": [
    {
     "data": {
      "image/png": "[encoded data removed]",
      "text/plain": [
       "<Figure size 432x288 with 1 Axes>"
      ]
     },
     "metadata": {
      "needs_background": "light"
     },
     "output_type": "display_data"
    }
   ],
   "source": [
    "sns.distplot(np.array(data).reshape(-1))\n",
    "plt.show()"
   ]
  },
  {
   "cell_type": "markdown",
   "id": "82336f08",
   "metadata": {},
   "source": [
    "## StandardScaler - Técnica de Pré-Processamento\n",
    "\n",
    "* Padroniza a escala dos dados sem interferir na sua forma\n",
    "* Mantém a escala dos dados mais fiel que a técnica MinMaxScale"
   ]
  },
  {
   "cell_type": "markdown",
   "id": "4fa485ef",
   "metadata": {},
   "source": [
    "Bibliotecas necessárias"
   ]
  },
  {
   "cell_type": "code",
   "execution_count": 108,
   "id": "b51a1f82",
   "metadata": {},
   "outputs": [],
   "source": [
    "from sklearn.preprocessing import StandardScaler"
   ]
  },
  {
   "cell_type": "markdown",
   "id": "8774a25c",
   "metadata": {},
   "source": [
    "instânciando o objeto scaler"
   ]
  },
  {
   "cell_type": "code",
   "execution_count": 111,
   "id": "4a396caf",
   "metadata": {},
   "outputs": [],
   "source": [
    "data = np.array(data).reshape(-1,5)\n",
    "scaler = StandardScaler().fit(data)"
   ]
  },
  {
   "cell_type": "markdown",
   "id": "53b17835",
   "metadata": {},
   "source": [
    "Transformando os dados com o objeto scaler"
   ]
  },
  {
   "cell_type": "code",
   "execution_count": 113,
   "id": "05f78fd8",
   "metadata": {},
   "outputs": [
    {
     "name": "stdout",
     "output_type": "stream",
     "text": [
      "[[ 1.74835958 -0.49022072 -1.05263759 -0.18564115 -0.70639315]\n",
      " [ 0.28252463 -0.32743001 -0.66652771  1.42023882  0.46798081]\n",
      " [-0.66380007  1.38026568 -0.66368945 -0.33774023 -1.49910092]\n",
      " [-0.96272394  0.45196649  0.30396091  0.63280495 -0.63874155]\n",
      " [-0.43112686 -0.05751255 -0.46992588 -2.19931377 -0.30074108]\n",
      " [-0.18587414  1.24545327 -1.41844669  0.95551913  1.56592863]\n",
      " [ 1.48582339 -2.08915303  1.86766063 -0.87750442  1.26834941]\n",
      " [ 0.75924113 -0.640416    0.05972104 -0.15968657 -0.91666853]\n",
      " [-1.47775264 -0.46962812  0.78573101 -0.17488061  1.20030437]\n",
      " [-0.55467108  0.99667499  1.25415373  0.92620385 -0.440918  ]]\n"
     ]
    }
   ],
   "source": [
    "data_scaled = scaler.transform(data)\n",
    "print(data_scaled)"
   ]
  },
  {
   "cell_type": "code",
   "execution_count": 114,
   "id": "5abba16b",
   "metadata": {},
   "outputs": [
    {
     "data": {
      "image/png": "[encoded data removed]",
      "text/plain": [
       "<Figure size 432x288 with 1 Axes>"
      ]
     },
     "metadata": {
      "needs_background": "light"
     },
     "output_type": "display_data"
    }
   ],
   "source": [
    "sns.distplot(np.array(data_scaled).reshape(-1))\n",
    "plt.show()"
   ]
  },
  {
   "cell_type": "code",
   "execution_count": null,
   "id": "3459b6c6",
   "metadata": {},
   "outputs": [],
   "source": []
  }
 ],
 "metadata": {
  "kernelspec": {
   "display_name": "Python 3",
   "language": "python",
   "name": "python3"
  },
  "language_info": {
   "codemirror_mode": {
    "name": "ipython",
    "version": 3
   },
   "file_extension": ".py",
   "mimetype": "text/x-python",
   "name": "python",
   "nbconvert_exporter": "python",
   "pygments_lexer": "ipython3",
   "version": "3.8.8"
  }
 },
 "nbformat": 4,
 "nbformat_minor": 5
}
