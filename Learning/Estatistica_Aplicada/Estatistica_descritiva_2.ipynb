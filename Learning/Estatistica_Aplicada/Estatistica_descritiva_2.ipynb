{
 "cells": [
  {
   "cell_type": "code",
   "execution_count": 44,
   "id": "acf5b854",
   "metadata": {},
   "outputs": [],
   "source": [
    "import numpy as np\n",
    "import pandas as pd\n",
    "from scipy import stats\n",
    "import seaborn as sns\n",
    "import matplotlib.pyplot as plt\n",
    "from scipy.stats.mstats import gmean,hmean\n",
    "from scipy.stats import kurtosis, skew\n",
    "%matplotlib inline"
   ]
  },
  {
   "cell_type": "markdown",
   "id": "8cc04ad3",
   "metadata": {},
   "source": [
    "## Medidas de dispersão"
   ]
  },
  {
   "cell_type": "code",
   "execution_count": 2,
   "id": "5afb0db4",
   "metadata": {},
   "outputs": [],
   "source": [
    "dados_dispersao = [10,20,30,40,50,60,70,80,90,100]"
   ]
  },
  {
   "cell_type": "markdown",
   "id": "66815d5d",
   "metadata": {},
   "source": [
    "Média"
   ]
  },
  {
   "cell_type": "code",
   "execution_count": 3,
   "id": "f6dce197",
   "metadata": {},
   "outputs": [
    {
     "data": {
      "text/plain": [
       "55.0"
      ]
     },
     "execution_count": 3,
     "metadata": {},
     "output_type": "execute_result"
    }
   ],
   "source": [
    "np.mean(dados_dispersao)"
   ]
  },
  {
   "cell_type": "markdown",
   "id": "472303bf",
   "metadata": {},
   "source": [
    "Variância"
   ]
  },
  {
   "cell_type": "code",
   "execution_count": 4,
   "id": "03e5a8f6",
   "metadata": {},
   "outputs": [
    {
     "data": {
      "text/plain": [
       "825.0"
      ]
     },
     "execution_count": 4,
     "metadata": {},
     "output_type": "execute_result"
    }
   ],
   "source": [
    "np.var(dados_dispersao)"
   ]
  },
  {
   "cell_type": "markdown",
   "id": "035cc23b",
   "metadata": {},
   "source": [
    "Desvio Padrão"
   ]
  },
  {
   "cell_type": "code",
   "execution_count": 5,
   "id": "8f5bd997",
   "metadata": {},
   "outputs": [
    {
     "data": {
      "text/plain": [
       "28.722813232690143"
      ]
     },
     "execution_count": 5,
     "metadata": {},
     "output_type": "execute_result"
    }
   ],
   "source": [
    "np.std(dados_dispersao)"
   ]
  },
  {
   "cell_type": "markdown",
   "id": "7b8eb2b5",
   "metadata": {},
   "source": [
    "Coeficiente de Variação"
   ]
  },
  {
   "cell_type": "code",
   "execution_count": 9,
   "id": "af3611df",
   "metadata": {},
   "outputs": [
    {
     "data": {
      "text/plain": [
       "0.5222329678670935"
      ]
     },
     "execution_count": 9,
     "metadata": {},
     "output_type": "execute_result"
    }
   ],
   "source": [
    "stats.variation(dados_dispersao)"
   ]
  },
  {
   "cell_type": "markdown",
   "id": "6a4bec71",
   "metadata": {},
   "source": [
    "Importante: Um coeficiente de variação menor que 25% é um bom indicativo de homogeneidade dos dados, ou seja, os dados não variam muito"
   ]
  },
  {
   "cell_type": "code",
   "execution_count": 11,
   "id": "6f163d59",
   "metadata": {},
   "outputs": [],
   "source": [
    "media=np.mean(dados_dispersao)\n",
    "desvio_padrao = np.std(dados_dispersao)"
   ]
  },
  {
   "cell_type": "code",
   "execution_count": 12,
   "id": "2c3ed8cd",
   "metadata": {},
   "outputs": [
    {
     "data": {
      "text/plain": [
       "0.5222329678670935"
      ]
     },
     "execution_count": 12,
     "metadata": {},
     "output_type": "execute_result"
    }
   ],
   "source": [
    "desvio_padrao/media"
   ]
  },
  {
   "cell_type": "markdown",
   "id": "6a51b877",
   "metadata": {},
   "source": [
    "Exemplo usando Pandas"
   ]
  },
  {
   "cell_type": "code",
   "execution_count": 15,
   "id": "33a316fa",
   "metadata": {},
   "outputs": [],
   "source": [
    "df = pd.read_csv(r\"C:\\Users\\marcf\\OneDrive\\Documentos\\Ciencia de dados\\materiais-de-apoio-pandas - Curso Edu\\Materiais de Apoio\\Materiais de apoio - Estatística Aplicada\\cars.csv\")"
   ]
  },
  {
   "cell_type": "code",
   "execution_count": 16,
   "id": "0174233d",
   "metadata": {},
   "outputs": [
    {
     "data": {
      "text/html": [
       "<div>\n",
       "<style scoped>\n",
       "    .dataframe tbody tr th:only-of-type {\n",
       "        vertical-align: middle;\n",
       "    }\n",
       "\n",
       "    .dataframe tbody tr th {\n",
       "        vertical-align: top;\n",
       "    }\n",
       "\n",
       "    .dataframe thead th {\n",
       "        text-align: right;\n",
       "    }\n",
       "</style>\n",
       "<table border=\"1\" class=\"dataframe\">\n",
       "  <thead>\n",
       "    <tr style=\"text-align: right;\">\n",
       "      <th></th>\n",
       "      <th>Make</th>\n",
       "      <th>Model</th>\n",
       "      <th>Type</th>\n",
       "      <th>Origin</th>\n",
       "      <th>DriveTrain</th>\n",
       "      <th>MSRP</th>\n",
       "      <th>Invoice</th>\n",
       "      <th>EngineSize</th>\n",
       "      <th>Cylinders</th>\n",
       "      <th>Horsepower</th>\n",
       "      <th>MPG_City</th>\n",
       "      <th>MPG_Highway</th>\n",
       "      <th>Weight</th>\n",
       "      <th>Wheelbase</th>\n",
       "      <th>Length</th>\n",
       "    </tr>\n",
       "  </thead>\n",
       "  <tbody>\n",
       "    <tr>\n",
       "      <th>0</th>\n",
       "      <td>Acura</td>\n",
       "      <td>MDX</td>\n",
       "      <td>SUV</td>\n",
       "      <td>Asia</td>\n",
       "      <td>All</td>\n",
       "      <td>$36,945</td>\n",
       "      <td>$33,337</td>\n",
       "      <td>3.5</td>\n",
       "      <td>6.0</td>\n",
       "      <td>265</td>\n",
       "      <td>17</td>\n",
       "      <td>23</td>\n",
       "      <td>4451</td>\n",
       "      <td>106</td>\n",
       "      <td>189</td>\n",
       "    </tr>\n",
       "    <tr>\n",
       "      <th>1</th>\n",
       "      <td>Acura</td>\n",
       "      <td>RSX Type S 2dr</td>\n",
       "      <td>Sedan</td>\n",
       "      <td>Asia</td>\n",
       "      <td>Front</td>\n",
       "      <td>$23,820</td>\n",
       "      <td>$21,761</td>\n",
       "      <td>2.0</td>\n",
       "      <td>4.0</td>\n",
       "      <td>200</td>\n",
       "      <td>24</td>\n",
       "      <td>31</td>\n",
       "      <td>2778</td>\n",
       "      <td>101</td>\n",
       "      <td>172</td>\n",
       "    </tr>\n",
       "    <tr>\n",
       "      <th>2</th>\n",
       "      <td>Acura</td>\n",
       "      <td>TSX 4dr</td>\n",
       "      <td>Sedan</td>\n",
       "      <td>Asia</td>\n",
       "      <td>Front</td>\n",
       "      <td>$26,990</td>\n",
       "      <td>$24,647</td>\n",
       "      <td>2.4</td>\n",
       "      <td>4.0</td>\n",
       "      <td>200</td>\n",
       "      <td>22</td>\n",
       "      <td>29</td>\n",
       "      <td>3230</td>\n",
       "      <td>105</td>\n",
       "      <td>183</td>\n",
       "    </tr>\n",
       "    <tr>\n",
       "      <th>3</th>\n",
       "      <td>Acura</td>\n",
       "      <td>TL 4dr</td>\n",
       "      <td>Sedan</td>\n",
       "      <td>Asia</td>\n",
       "      <td>Front</td>\n",
       "      <td>$33,195</td>\n",
       "      <td>$30,299</td>\n",
       "      <td>3.2</td>\n",
       "      <td>6.0</td>\n",
       "      <td>270</td>\n",
       "      <td>20</td>\n",
       "      <td>28</td>\n",
       "      <td>3575</td>\n",
       "      <td>108</td>\n",
       "      <td>186</td>\n",
       "    </tr>\n",
       "    <tr>\n",
       "      <th>4</th>\n",
       "      <td>Acura</td>\n",
       "      <td>3.5 RL 4dr</td>\n",
       "      <td>Sedan</td>\n",
       "      <td>Asia</td>\n",
       "      <td>Front</td>\n",
       "      <td>$43,755</td>\n",
       "      <td>$39,014</td>\n",
       "      <td>3.5</td>\n",
       "      <td>6.0</td>\n",
       "      <td>225</td>\n",
       "      <td>18</td>\n",
       "      <td>24</td>\n",
       "      <td>3880</td>\n",
       "      <td>115</td>\n",
       "      <td>197</td>\n",
       "    </tr>\n",
       "    <tr>\n",
       "      <th>5</th>\n",
       "      <td>Acura</td>\n",
       "      <td>3.5 RL w/Navigation 4dr</td>\n",
       "      <td>Sedan</td>\n",
       "      <td>Asia</td>\n",
       "      <td>Front</td>\n",
       "      <td>$46,100</td>\n",
       "      <td>$41,100</td>\n",
       "      <td>3.5</td>\n",
       "      <td>6.0</td>\n",
       "      <td>225</td>\n",
       "      <td>18</td>\n",
       "      <td>24</td>\n",
       "      <td>3893</td>\n",
       "      <td>115</td>\n",
       "      <td>197</td>\n",
       "    </tr>\n",
       "    <tr>\n",
       "      <th>6</th>\n",
       "      <td>Acura</td>\n",
       "      <td>NSX coupe 2dr manual S</td>\n",
       "      <td>Sports</td>\n",
       "      <td>Asia</td>\n",
       "      <td>Rear</td>\n",
       "      <td>$89,765</td>\n",
       "      <td>$79,978</td>\n",
       "      <td>3.2</td>\n",
       "      <td>6.0</td>\n",
       "      <td>290</td>\n",
       "      <td>17</td>\n",
       "      <td>24</td>\n",
       "      <td>3153</td>\n",
       "      <td>100</td>\n",
       "      <td>174</td>\n",
       "    </tr>\n",
       "    <tr>\n",
       "      <th>7</th>\n",
       "      <td>Audi</td>\n",
       "      <td>A4 1.8T 4dr</td>\n",
       "      <td>Sedan</td>\n",
       "      <td>Europe</td>\n",
       "      <td>Front</td>\n",
       "      <td>$25,940</td>\n",
       "      <td>$23,508</td>\n",
       "      <td>1.8</td>\n",
       "      <td>4.0</td>\n",
       "      <td>170</td>\n",
       "      <td>22</td>\n",
       "      <td>31</td>\n",
       "      <td>3252</td>\n",
       "      <td>104</td>\n",
       "      <td>179</td>\n",
       "    </tr>\n",
       "    <tr>\n",
       "      <th>8</th>\n",
       "      <td>Audi</td>\n",
       "      <td>A41.8T convertible 2dr</td>\n",
       "      <td>Sedan</td>\n",
       "      <td>Europe</td>\n",
       "      <td>Front</td>\n",
       "      <td>$35,940</td>\n",
       "      <td>$32,506</td>\n",
       "      <td>1.8</td>\n",
       "      <td>4.0</td>\n",
       "      <td>170</td>\n",
       "      <td>23</td>\n",
       "      <td>30</td>\n",
       "      <td>3638</td>\n",
       "      <td>105</td>\n",
       "      <td>180</td>\n",
       "    </tr>\n",
       "    <tr>\n",
       "      <th>9</th>\n",
       "      <td>Audi</td>\n",
       "      <td>A4 3.0 4dr</td>\n",
       "      <td>Sedan</td>\n",
       "      <td>Europe</td>\n",
       "      <td>Front</td>\n",
       "      <td>$31,840</td>\n",
       "      <td>$28,846</td>\n",
       "      <td>3.0</td>\n",
       "      <td>6.0</td>\n",
       "      <td>220</td>\n",
       "      <td>20</td>\n",
       "      <td>28</td>\n",
       "      <td>3462</td>\n",
       "      <td>104</td>\n",
       "      <td>179</td>\n",
       "    </tr>\n",
       "  </tbody>\n",
       "</table>\n",
       "</div>"
      ],
      "text/plain": [
       "    Make                    Model    Type  Origin DriveTrain     MSRP  \\\n",
       "0  Acura                      MDX     SUV    Asia        All  $36,945   \n",
       "1  Acura           RSX Type S 2dr   Sedan    Asia      Front  $23,820   \n",
       "2  Acura                  TSX 4dr   Sedan    Asia      Front  $26,990   \n",
       "3  Acura                   TL 4dr   Sedan    Asia      Front  $33,195   \n",
       "4  Acura               3.5 RL 4dr   Sedan    Asia      Front  $43,755   \n",
       "5  Acura  3.5 RL w/Navigation 4dr   Sedan    Asia      Front  $46,100   \n",
       "6  Acura   NSX coupe 2dr manual S  Sports    Asia       Rear  $89,765   \n",
       "7   Audi              A4 1.8T 4dr   Sedan  Europe      Front  $25,940   \n",
       "8   Audi   A41.8T convertible 2dr   Sedan  Europe      Front  $35,940   \n",
       "9   Audi               A4 3.0 4dr   Sedan  Europe      Front  $31,840   \n",
       "\n",
       "   Invoice  EngineSize  Cylinders  Horsepower  MPG_City  MPG_Highway  Weight  \\\n",
       "0  $33,337         3.5        6.0         265        17           23    4451   \n",
       "1  $21,761         2.0        4.0         200        24           31    2778   \n",
       "2  $24,647         2.4        4.0         200        22           29    3230   \n",
       "3  $30,299         3.2        6.0         270        20           28    3575   \n",
       "4  $39,014         3.5        6.0         225        18           24    3880   \n",
       "5  $41,100         3.5        6.0         225        18           24    3893   \n",
       "6  $79,978         3.2        6.0         290        17           24    3153   \n",
       "7  $23,508         1.8        4.0         170        22           31    3252   \n",
       "8  $32,506         1.8        4.0         170        23           30    3638   \n",
       "9  $28,846         3.0        6.0         220        20           28    3462   \n",
       "\n",
       "   Wheelbase  Length  \n",
       "0        106     189  \n",
       "1        101     172  \n",
       "2        105     183  \n",
       "3        108     186  \n",
       "4        115     197  \n",
       "5        115     197  \n",
       "6        100     174  \n",
       "7        104     179  \n",
       "8        105     180  \n",
       "9        104     179  "
      ]
     },
     "execution_count": 16,
     "metadata": {},
     "output_type": "execute_result"
    }
   ],
   "source": [
    "df.head(10)"
   ]
  },
  {
   "cell_type": "markdown",
   "id": "ba216173",
   "metadata": {},
   "source": [
    "Verificando as informações do conjunto de dados"
   ]
  },
  {
   "cell_type": "code",
   "execution_count": 17,
   "id": "a4909b26",
   "metadata": {},
   "outputs": [
    {
     "name": "stdout",
     "output_type": "stream",
     "text": [
      "<class 'pandas.core.frame.DataFrame'>\n",
      "RangeIndex: 428 entries, 0 to 427\n",
      "Data columns (total 15 columns):\n",
      " #   Column       Non-Null Count  Dtype  \n",
      "---  ------       --------------  -----  \n",
      " 0   Make         428 non-null    object \n",
      " 1   Model        428 non-null    object \n",
      " 2   Type         428 non-null    object \n",
      " 3   Origin       428 non-null    object \n",
      " 4   DriveTrain   428 non-null    object \n",
      " 5   MSRP         428 non-null    object \n",
      " 6   Invoice      428 non-null    object \n",
      " 7   EngineSize   428 non-null    float64\n",
      " 8   Cylinders    426 non-null    float64\n",
      " 9   Horsepower   428 non-null    int64  \n",
      " 10  MPG_City     428 non-null    int64  \n",
      " 11  MPG_Highway  428 non-null    int64  \n",
      " 12  Weight       428 non-null    int64  \n",
      " 13  Wheelbase    428 non-null    int64  \n",
      " 14  Length       428 non-null    int64  \n",
      "dtypes: float64(2), int64(6), object(7)\n",
      "memory usage: 50.3+ KB\n"
     ]
    }
   ],
   "source": [
    "df.info()"
   ]
  },
  {
   "cell_type": "markdown",
   "id": "f366f083",
   "metadata": {},
   "source": [
    "Limpando os dados do atributo MSRP"
   ]
  },
  {
   "cell_type": "code",
   "execution_count": 19,
   "id": "cb03046f",
   "metadata": {},
   "outputs": [],
   "source": [
    "df['MSRP'] = [x.replace('$','')for x in df[\"MSRP\"]]\n",
    "df['MSRP'] = [x.replace(',','')for x in df[\"MSRP\"]]"
   ]
  },
  {
   "cell_type": "markdown",
   "id": "a22e898e",
   "metadata": {},
   "source": [
    "Verificando os dados após limpeza"
   ]
  },
  {
   "cell_type": "code",
   "execution_count": 22,
   "id": "19f97e14",
   "metadata": {},
   "outputs": [
    {
     "data": {
      "text/plain": [
       "0    36945\n",
       "1    23820\n",
       "2    26990\n",
       "3    33195\n",
       "4    43755\n",
       "Name: MSRP, dtype: object"
      ]
     },
     "execution_count": 22,
     "metadata": {},
     "output_type": "execute_result"
    }
   ],
   "source": [
    "df[\"MSRP\"].head(5)"
   ]
  },
  {
   "cell_type": "code",
   "execution_count": 23,
   "id": "020778d9",
   "metadata": {},
   "outputs": [
    {
     "name": "stdout",
     "output_type": "stream",
     "text": [
      "<class 'pandas.core.frame.DataFrame'>\n",
      "RangeIndex: 428 entries, 0 to 427\n",
      "Data columns (total 15 columns):\n",
      " #   Column       Non-Null Count  Dtype  \n",
      "---  ------       --------------  -----  \n",
      " 0   Make         428 non-null    object \n",
      " 1   Model        428 non-null    object \n",
      " 2   Type         428 non-null    object \n",
      " 3   Origin       428 non-null    object \n",
      " 4   DriveTrain   428 non-null    object \n",
      " 5   MSRP         428 non-null    object \n",
      " 6   Invoice      428 non-null    object \n",
      " 7   EngineSize   428 non-null    float64\n",
      " 8   Cylinders    426 non-null    float64\n",
      " 9   Horsepower   428 non-null    int64  \n",
      " 10  MPG_City     428 non-null    int64  \n",
      " 11  MPG_Highway  428 non-null    int64  \n",
      " 12  Weight       428 non-null    int64  \n",
      " 13  Wheelbase    428 non-null    int64  \n",
      " 14  Length       428 non-null    int64  \n",
      "dtypes: float64(2), int64(6), object(7)\n",
      "memory usage: 50.3+ KB\n"
     ]
    }
   ],
   "source": [
    "df.info()"
   ]
  },
  {
   "cell_type": "markdown",
   "id": "42f6c08b",
   "metadata": {},
   "source": [
    "Transformando os dados para o formato numérico."
   ]
  },
  {
   "cell_type": "code",
   "execution_count": 25,
   "id": "0cd99a8d",
   "metadata": {},
   "outputs": [],
   "source": [
    "df['MSRP'] = pd.to_numeric(df['MSRP'],errors='coerce')"
   ]
  },
  {
   "cell_type": "code",
   "execution_count": 26,
   "id": "5d305f6a",
   "metadata": {},
   "outputs": [
    {
     "name": "stdout",
     "output_type": "stream",
     "text": [
      "<class 'pandas.core.frame.DataFrame'>\n",
      "RangeIndex: 428 entries, 0 to 427\n",
      "Data columns (total 15 columns):\n",
      " #   Column       Non-Null Count  Dtype  \n",
      "---  ------       --------------  -----  \n",
      " 0   Make         428 non-null    object \n",
      " 1   Model        428 non-null    object \n",
      " 2   Type         428 non-null    object \n",
      " 3   Origin       428 non-null    object \n",
      " 4   DriveTrain   428 non-null    object \n",
      " 5   MSRP         428 non-null    int64  \n",
      " 6   Invoice      428 non-null    object \n",
      " 7   EngineSize   428 non-null    float64\n",
      " 8   Cylinders    426 non-null    float64\n",
      " 9   Horsepower   428 non-null    int64  \n",
      " 10  MPG_City     428 non-null    int64  \n",
      " 11  MPG_Highway  428 non-null    int64  \n",
      " 12  Weight       428 non-null    int64  \n",
      " 13  Wheelbase    428 non-null    int64  \n",
      " 14  Length       428 non-null    int64  \n",
      "dtypes: float64(2), int64(7), object(6)\n",
      "memory usage: 50.3+ KB\n"
     ]
    }
   ],
   "source": [
    "df.info()"
   ]
  },
  {
   "cell_type": "code",
   "execution_count": 27,
   "id": "b0756f68",
   "metadata": {},
   "outputs": [
    {
     "data": {
      "text/html": [
       "<div>\n",
       "<style scoped>\n",
       "    .dataframe tbody tr th:only-of-type {\n",
       "        vertical-align: middle;\n",
       "    }\n",
       "\n",
       "    .dataframe tbody tr th {\n",
       "        vertical-align: top;\n",
       "    }\n",
       "\n",
       "    .dataframe thead th {\n",
       "        text-align: right;\n",
       "    }\n",
       "</style>\n",
       "<table border=\"1\" class=\"dataframe\">\n",
       "  <thead>\n",
       "    <tr style=\"text-align: right;\">\n",
       "      <th></th>\n",
       "      <th>MSRP</th>\n",
       "      <th>EngineSize</th>\n",
       "      <th>Cylinders</th>\n",
       "      <th>Horsepower</th>\n",
       "      <th>MPG_City</th>\n",
       "      <th>MPG_Highway</th>\n",
       "      <th>Weight</th>\n",
       "      <th>Wheelbase</th>\n",
       "      <th>Length</th>\n",
       "    </tr>\n",
       "  </thead>\n",
       "  <tbody>\n",
       "    <tr>\n",
       "      <th>count</th>\n",
       "      <td>428.000000</td>\n",
       "      <td>428.000000</td>\n",
       "      <td>426.000000</td>\n",
       "      <td>428.000000</td>\n",
       "      <td>428.000000</td>\n",
       "      <td>428.000000</td>\n",
       "      <td>428.000000</td>\n",
       "      <td>428.000000</td>\n",
       "      <td>428.000000</td>\n",
       "    </tr>\n",
       "    <tr>\n",
       "      <th>mean</th>\n",
       "      <td>32774.855140</td>\n",
       "      <td>3.196729</td>\n",
       "      <td>5.807512</td>\n",
       "      <td>215.885514</td>\n",
       "      <td>20.060748</td>\n",
       "      <td>26.843458</td>\n",
       "      <td>3577.953271</td>\n",
       "      <td>108.154206</td>\n",
       "      <td>186.362150</td>\n",
       "    </tr>\n",
       "    <tr>\n",
       "      <th>std</th>\n",
       "      <td>19431.716674</td>\n",
       "      <td>1.108595</td>\n",
       "      <td>1.558443</td>\n",
       "      <td>71.836032</td>\n",
       "      <td>5.238218</td>\n",
       "      <td>5.741201</td>\n",
       "      <td>758.983215</td>\n",
       "      <td>8.311813</td>\n",
       "      <td>14.357991</td>\n",
       "    </tr>\n",
       "    <tr>\n",
       "      <th>min</th>\n",
       "      <td>10280.000000</td>\n",
       "      <td>1.300000</td>\n",
       "      <td>3.000000</td>\n",
       "      <td>73.000000</td>\n",
       "      <td>10.000000</td>\n",
       "      <td>12.000000</td>\n",
       "      <td>1850.000000</td>\n",
       "      <td>89.000000</td>\n",
       "      <td>143.000000</td>\n",
       "    </tr>\n",
       "    <tr>\n",
       "      <th>25%</th>\n",
       "      <td>20334.250000</td>\n",
       "      <td>2.375000</td>\n",
       "      <td>4.000000</td>\n",
       "      <td>165.000000</td>\n",
       "      <td>17.000000</td>\n",
       "      <td>24.000000</td>\n",
       "      <td>3104.000000</td>\n",
       "      <td>103.000000</td>\n",
       "      <td>178.000000</td>\n",
       "    </tr>\n",
       "    <tr>\n",
       "      <th>50%</th>\n",
       "      <td>27635.000000</td>\n",
       "      <td>3.000000</td>\n",
       "      <td>6.000000</td>\n",
       "      <td>210.000000</td>\n",
       "      <td>19.000000</td>\n",
       "      <td>26.000000</td>\n",
       "      <td>3474.500000</td>\n",
       "      <td>107.000000</td>\n",
       "      <td>187.000000</td>\n",
       "    </tr>\n",
       "    <tr>\n",
       "      <th>75%</th>\n",
       "      <td>39205.000000</td>\n",
       "      <td>3.900000</td>\n",
       "      <td>6.000000</td>\n",
       "      <td>255.000000</td>\n",
       "      <td>21.250000</td>\n",
       "      <td>29.000000</td>\n",
       "      <td>3977.750000</td>\n",
       "      <td>112.000000</td>\n",
       "      <td>194.000000</td>\n",
       "    </tr>\n",
       "    <tr>\n",
       "      <th>max</th>\n",
       "      <td>192465.000000</td>\n",
       "      <td>8.300000</td>\n",
       "      <td>12.000000</td>\n",
       "      <td>500.000000</td>\n",
       "      <td>60.000000</td>\n",
       "      <td>66.000000</td>\n",
       "      <td>7190.000000</td>\n",
       "      <td>144.000000</td>\n",
       "      <td>238.000000</td>\n",
       "    </tr>\n",
       "  </tbody>\n",
       "</table>\n",
       "</div>"
      ],
      "text/plain": [
       "                MSRP  EngineSize   Cylinders  Horsepower    MPG_City  \\\n",
       "count     428.000000  428.000000  426.000000  428.000000  428.000000   \n",
       "mean    32774.855140    3.196729    5.807512  215.885514   20.060748   \n",
       "std     19431.716674    1.108595    1.558443   71.836032    5.238218   \n",
       "min     10280.000000    1.300000    3.000000   73.000000   10.000000   \n",
       "25%     20334.250000    2.375000    4.000000  165.000000   17.000000   \n",
       "50%     27635.000000    3.000000    6.000000  210.000000   19.000000   \n",
       "75%     39205.000000    3.900000    6.000000  255.000000   21.250000   \n",
       "max    192465.000000    8.300000   12.000000  500.000000   60.000000   \n",
       "\n",
       "       MPG_Highway       Weight   Wheelbase      Length  \n",
       "count   428.000000   428.000000  428.000000  428.000000  \n",
       "mean     26.843458  3577.953271  108.154206  186.362150  \n",
       "std       5.741201   758.983215    8.311813   14.357991  \n",
       "min      12.000000  1850.000000   89.000000  143.000000  \n",
       "25%      24.000000  3104.000000  103.000000  178.000000  \n",
       "50%      26.000000  3474.500000  107.000000  187.000000  \n",
       "75%      29.000000  3977.750000  112.000000  194.000000  \n",
       "max      66.000000  7190.000000  144.000000  238.000000  "
      ]
     },
     "execution_count": 27,
     "metadata": {},
     "output_type": "execute_result"
    }
   ],
   "source": [
    "df.describe()"
   ]
  },
  {
   "cell_type": "markdown",
   "id": "03edd310",
   "metadata": {},
   "source": [
    "Calculando a média aritmética de uma coluna"
   ]
  },
  {
   "cell_type": "code",
   "execution_count": 28,
   "id": "61b02a23",
   "metadata": {},
   "outputs": [
    {
     "data": {
      "text/plain": [
       "32774.85514018692"
      ]
     },
     "execution_count": 28,
     "metadata": {},
     "output_type": "execute_result"
    }
   ],
   "source": [
    "df['MSRP'].mean()"
   ]
  },
  {
   "cell_type": "code",
   "execution_count": 29,
   "id": "df5c8ca1",
   "metadata": {},
   "outputs": [],
   "source": [
    "msrp = df['MSRP']"
   ]
  },
  {
   "cell_type": "code",
   "execution_count": 33,
   "id": "a3ad7bf9",
   "metadata": {},
   "outputs": [
    {
     "data": {
      "text/plain": [
       "32774.85514018692"
      ]
     },
     "execution_count": 33,
     "metadata": {},
     "output_type": "execute_result"
    }
   ],
   "source": [
    "msrp.mean()"
   ]
  },
  {
   "cell_type": "markdown",
   "id": "afa98616",
   "metadata": {},
   "source": [
    "Média Geométrica"
   ]
  },
  {
   "cell_type": "code",
   "execution_count": 35,
   "id": "49d59855",
   "metadata": {},
   "outputs": [
    {
     "data": {
      "text/plain": [
       "28841.635198804073"
      ]
     },
     "execution_count": 35,
     "metadata": {},
     "output_type": "execute_result"
    }
   ],
   "source": [
    "gmean(msrp)"
   ]
  },
  {
   "cell_type": "markdown",
   "id": "e7cbc50b",
   "metadata": {},
   "source": [
    "Mediana"
   ]
  },
  {
   "cell_type": "code",
   "execution_count": 36,
   "id": "4156100a",
   "metadata": {},
   "outputs": [
    {
     "data": {
      "text/plain": [
       "27635.0"
      ]
     },
     "execution_count": 36,
     "metadata": {},
     "output_type": "execute_result"
    }
   ],
   "source": [
    "msrp.median()"
   ]
  },
  {
   "cell_type": "markdown",
   "id": "57f1307f",
   "metadata": {},
   "source": [
    "moda"
   ]
  },
  {
   "cell_type": "code",
   "execution_count": 37,
   "id": "3898404e",
   "metadata": {},
   "outputs": [
    {
     "data": {
      "text/plain": [
       "0     13270\n",
       "1     15389\n",
       "2     19635\n",
       "3     19860\n",
       "4     21055\n",
       "5     21595\n",
       "6     23495\n",
       "7     23895\n",
       "8     25700\n",
       "9     27490\n",
       "10    28495\n",
       "11    29995\n",
       "12    31545\n",
       "13    33995\n",
       "14    34495\n",
       "15    35940\n",
       "16    49995\n",
       "17    74995\n",
       "dtype: int64"
      ]
     },
     "execution_count": 37,
     "metadata": {},
     "output_type": "execute_result"
    }
   ],
   "source": [
    "msrp.mode()"
   ]
  },
  {
   "cell_type": "markdown",
   "id": "358d911e",
   "metadata": {},
   "source": [
    "Variação"
   ]
  },
  {
   "cell_type": "code",
   "execution_count": 38,
   "id": "cd2b4f61",
   "metadata": {},
   "outputs": [
    {
     "data": {
      "text/plain": [
       "377591612.88763136"
      ]
     },
     "execution_count": 38,
     "metadata": {},
     "output_type": "execute_result"
    }
   ],
   "source": [
    "msrp.var()"
   ]
  },
  {
   "cell_type": "markdown",
   "id": "fba4f3c0",
   "metadata": {},
   "source": [
    "Desvio Padrão"
   ]
  },
  {
   "cell_type": "code",
   "execution_count": 39,
   "id": "7e5090d9",
   "metadata": {},
   "outputs": [
    {
     "data": {
      "text/plain": [
       "19431.716673717518"
      ]
     },
     "execution_count": 39,
     "metadata": {},
     "output_type": "execute_result"
    }
   ],
   "source": [
    "msrp.std()"
   ]
  },
  {
   "cell_type": "markdown",
   "id": "850fcb96",
   "metadata": {},
   "source": [
    "Valor Máximo"
   ]
  },
  {
   "cell_type": "code",
   "execution_count": 40,
   "id": "aa13e653",
   "metadata": {},
   "outputs": [
    {
     "data": {
      "text/plain": [
       "192465"
      ]
     },
     "execution_count": 40,
     "metadata": {},
     "output_type": "execute_result"
    }
   ],
   "source": [
    "msrp.max()"
   ]
  },
  {
   "cell_type": "markdown",
   "id": "96ea962f",
   "metadata": {},
   "source": [
    "Valor Mínimo"
   ]
  },
  {
   "cell_type": "code",
   "execution_count": 41,
   "id": "183a4aca",
   "metadata": {},
   "outputs": [
    {
     "data": {
      "text/plain": [
       "10280"
      ]
     },
     "execution_count": 41,
     "metadata": {},
     "output_type": "execute_result"
    }
   ],
   "source": [
    "msrp.min()"
   ]
  },
  {
   "cell_type": "markdown",
   "id": "a6495f4b",
   "metadata": {},
   "source": [
    "Função para calcular estatísticas"
   ]
  },
  {
   "cell_type": "code",
   "execution_count": 54,
   "id": "d7e0c2cf",
   "metadata": {},
   "outputs": [],
   "source": [
    "def calcula_estatisticas(data):\n",
    "    mean = round(np.mean(data),2)\n",
    "    mode = round(stats.mode(data,)[0][0],2)\n",
    "    median = round(np.median(data),2)\n",
    "    var = round(np.var(data),2)\n",
    "    std = round(np.std(data),2)\n",
    "    coef_pearson = round(stats.skew(data),2)\n",
    "    coef_kurtosis = round(kurtosis(data),2)\n",
    "    msg = print('Media: {}\\nModa: {}\\nMediana: {}\\nVariância: {}\\nDesvio Padrão: {}\\nCoeficiente Pearson: {}\\nCoeficiente Kurtosis: {}'.format(mean,mode,median,var,std,coef_pearson,coef_kurtosis))\n",
    "    return msg"
   ]
  },
  {
   "cell_type": "markdown",
   "id": "43bce5e9",
   "metadata": {},
   "source": [
    "Amostra"
   ]
  },
  {
   "cell_type": "code",
   "execution_count": 48,
   "id": "8b3040e4",
   "metadata": {},
   "outputs": [],
   "source": [
    "s0 = [4,5,6,5,5,6,6,5,4,5,5,5]"
   ]
  },
  {
   "cell_type": "code",
   "execution_count": 55,
   "id": "91eb5dd8",
   "metadata": {},
   "outputs": [
    {
     "name": "stdout",
     "output_type": "stream",
     "text": [
      "Media: 5.08\n",
      "Moda: 5\n",
      "Mediana: 5.0\n",
      "Variância: 0.41\n",
      "Desvio Padrão: 0.64\n",
      "Coeficiente Pearson: -0.08\n",
      "Coeficiente Kurtosis: -0.58\n"
     ]
    }
   ],
   "source": [
    " calcula_estatisticas(s0)"
   ]
  },
  {
   "cell_type": "markdown",
   "id": "d92d0a36",
   "metadata": {},
   "source": [
    "Distribuição Simétrica - Média = Mediana"
   ]
  },
  {
   "cell_type": "code",
   "execution_count": 71,
   "id": "db1bc812",
   "metadata": {},
   "outputs": [
    {
     "name": "stderr",
     "output_type": "stream",
     "text": [
      "C:\\Users\\marcf\\anaconda3\\lib\\site-packages\\seaborn\\distributions.py:2557: FutureWarning: `distplot` is a deprecated function and will be removed in a future version. Please adapt your code to use either `displot` (a figure-level function with similar flexibility) or `kdeplot` (an axes-level function for kernel density plots).\n",
      "  warnings.warn(msg, FutureWarning)\n",
      "C:\\Users\\marcf\\anaconda3\\lib\\site-packages\\seaborn\\distributions.py:2056: FutureWarning: The `axis` variable is no longer used and will be removed. Instead, assign variables directly to `x` or `y`.\n",
      "  warnings.warn(msg, FutureWarning)\n"
     ]
    },
    {
     "data": {
      "image/png": "[encoded data removed]",
      "text/plain": [
       "<Figure size 864x288 with 1 Axes>"
      ]
     },
     "metadata": {
      "needs_background": "light"
     },
     "output_type": "display_data"
    }
   ],
   "source": [
    "fig = plt.figure(figsize=(12,4))\n",
    "ax = sns.distplot(s0,rug=True,kde=True,hist=False)\n",
    "\n",
    "ax.annotate('Mode', xy=(5, 0.4), xytext=(4.7, 0.6), arrowprops={'arrowstyle': '-'})\n",
    "ax.annotate('Median', xy=(5, 0.4), xytext=(5.3, 0.3), arrowprops={'arrowstyle': '-'})\n",
    "ax.annotate('Média', xy=(5, 0.4), xytext=(5.0, 0.5), arrowprops={'arrowstyle': '-'})\n",
    "plt.show()"
   ]
  },
  {
   "cell_type": "markdown",
   "id": "0aae36d9",
   "metadata": {},
   "source": [
    "Segunda amostra"
   ]
  },
  {
   "cell_type": "code",
   "execution_count": 72,
   "id": "e4b7e054",
   "metadata": {},
   "outputs": [],
   "source": [
    "s1 = [12,8.0,4,3,2,1,1]"
   ]
  },
  {
   "cell_type": "code",
   "execution_count": 73,
   "id": "d39ce605",
   "metadata": {},
   "outputs": [
    {
     "name": "stdout",
     "output_type": "stream",
     "text": [
      "Media: 4.43\n",
      "Moda: 1.0\n",
      "Mediana: 3.0\n",
      "Variância: 14.53\n",
      "Desvio Padrão: 3.81\n",
      "Coeficiente Pearson: 0.98\n",
      "Coeficiente Kurtosis: -0.45\n"
     ]
    }
   ],
   "source": [
    " calcula_estatisticas(s1)"
   ]
  },
  {
   "cell_type": "markdown",
   "id": "8aa0688f",
   "metadata": {},
   "source": [
    "Assimetria Positiva / à direitra - média > moda > mediana"
   ]
  },
  {
   "cell_type": "code",
   "execution_count": 78,
   "id": "7336ff0d",
   "metadata": {},
   "outputs": [
    {
     "name": "stderr",
     "output_type": "stream",
     "text": [
      "C:\\Users\\marcf\\anaconda3\\lib\\site-packages\\seaborn\\distributions.py:2557: FutureWarning: `distplot` is a deprecated function and will be removed in a future version. Please adapt your code to use either `displot` (a figure-level function with similar flexibility) or `kdeplot` (an axes-level function for kernel density plots).\n",
      "  warnings.warn(msg, FutureWarning)\n",
      "C:\\Users\\marcf\\anaconda3\\lib\\site-packages\\seaborn\\distributions.py:2056: FutureWarning: The `axis` variable is no longer used and will be removed. Instead, assign variables directly to `x` or `y`.\n",
      "  warnings.warn(msg, FutureWarning)\n"
     ]
    },
    {
     "data": {
      "image/png": "[encoded data removed]",
      "text/plain": [
       "<Figure size 864x288 with 1 Axes>"
      ]
     },
     "metadata": {
      "needs_background": "light"
     },
     "output_type": "display_data"
    }
   ],
   "source": [
    "fig = plt.figure(figsize=(12,4))\n",
    "ax = sns.distplot(s1,rug=True,kde=True,hist=False)\n",
    "\n",
    "ax.annotate('Mode', xy=(1, 0.01), xytext=(1, 0.02), arrowprops={'arrowstyle': '-'})\n",
    "ax.annotate('Median', xy=(3, 0.01), xytext=(3, 0.03), arrowprops={'arrowstyle': '-'})\n",
    "ax.annotate('Média', xy=(4.4, 0.01), xytext=(4.5, 0.02), arrowprops={'arrowstyle': '-'})\n",
    "plt.show()"
   ]
  },
  {
   "cell_type": "markdown",
   "id": "9d65b91e",
   "metadata": {},
   "source": [
    "Coeficiente de Pearson - Quando o valor é próximo de 1 a distribuição é assimétrica positiva"
   ]
  },
  {
   "cell_type": "code",
   "execution_count": 81,
   "id": "8617ea05",
   "metadata": {},
   "outputs": [],
   "source": [
    "# Terceira amostra\n",
    "s2 = [-3,-1,4,2.5,4,3]"
   ]
  },
  {
   "cell_type": "code",
   "execution_count": 82,
   "id": "ab32045e",
   "metadata": {},
   "outputs": [
    {
     "name": "stdout",
     "output_type": "stream",
     "text": [
      "Media: 1.58\n",
      "Moda: 4.0\n",
      "Mediana: 2.75\n",
      "Variância: 7.03\n",
      "Desvio Padrão: 2.65\n",
      "Coeficiente Pearson: -0.73\n",
      "Coeficiente Kurtosis: -1.12\n"
     ]
    }
   ],
   "source": [
    " calcula_estatisticas(s2)"
   ]
  },
  {
   "cell_type": "markdown",
   "id": "707d1d65",
   "metadata": {},
   "source": [
    "Assimétrica negativa / a esquerda - média < moda < mediana"
   ]
  },
  {
   "cell_type": "code",
   "execution_count": 83,
   "id": "1eec5acd",
   "metadata": {},
   "outputs": [
    {
     "name": "stderr",
     "output_type": "stream",
     "text": [
      "C:\\Users\\marcf\\anaconda3\\lib\\site-packages\\seaborn\\distributions.py:2557: FutureWarning: `distplot` is a deprecated function and will be removed in a future version. Please adapt your code to use either `displot` (a figure-level function with similar flexibility) or `kdeplot` (an axes-level function for kernel density plots).\n",
      "  warnings.warn(msg, FutureWarning)\n",
      "C:\\Users\\marcf\\anaconda3\\lib\\site-packages\\seaborn\\distributions.py:2056: FutureWarning: The `axis` variable is no longer used and will be removed. Instead, assign variables directly to `x` or `y`.\n",
      "  warnings.warn(msg, FutureWarning)\n"
     ]
    },
    {
     "data": {
      "image/png": "[encoded data removed]",
      "text/plain": [
       "<Figure size 864x288 with 1 Axes>"
      ]
     },
     "metadata": {
      "needs_background": "light"
     },
     "output_type": "display_data"
    }
   ],
   "source": [
    "fig = plt.figure(figsize=(12,4))\n",
    "ax = sns.distplot(s2,rug=True,kde=True,hist=False)\n",
    "\n",
    "ax.annotate('Mode', xy=(1, 0.01), xytext=(1, 0.02), arrowprops={'arrowstyle': '-'})\n",
    "ax.annotate('Median', xy=(3, 0.01), xytext=(3, 0.03), arrowprops={'arrowstyle': '-'})\n",
    "ax.annotate('Média', xy=(4.4, 0.01), xytext=(4.5, 0.02), arrowprops={'arrowstyle': '-'})\n",
    "plt.show()"
   ]
  },
  {
   "cell_type": "markdown",
   "id": "7a4664d8",
   "metadata": {},
   "source": [
    "Coeficiente de Pearson - O valor é próximo de -1, a distribuição é assimétrica negativa"
   ]
  },
  {
   "cell_type": "markdown",
   "id": "cc0795e5",
   "metadata": {},
   "source": [
    "## Gerando dados aleatórios"
   ]
  },
  {
   "cell_type": "markdown",
   "id": "382bf13b",
   "metadata": {},
   "source": [
    "Amostra seguindo uma distribuição normal"
   ]
  },
  {
   "cell_type": "code",
   "execution_count": 84,
   "id": "a7184f57",
   "metadata": {},
   "outputs": [],
   "source": [
    "sample_normal = np.random.normal(1,0.5,500)"
   ]
  },
  {
   "cell_type": "code",
   "execution_count": 86,
   "id": "6a5599c4",
   "metadata": {},
   "outputs": [
    {
     "data": {
      "text/plain": [
       "array([0.78772541, 0.44376622, 1.78478779, 1.41912844, 0.51315248,\n",
       "       0.88123756, 1.01088733, 0.33869975, 1.41192951, 1.2667168 ])"
      ]
     },
     "execution_count": 86,
     "metadata": {},
     "output_type": "execute_result"
    }
   ],
   "source": [
    "sample_normal[:10]"
   ]
  },
  {
   "cell_type": "code",
   "execution_count": 87,
   "id": "184cb350",
   "metadata": {},
   "outputs": [
    {
     "name": "stdout",
     "output_type": "stream",
     "text": [
      "Media: 1.02\n",
      "Moda: -0.19\n",
      "Mediana: 1.04\n",
      "Variância: 0.24\n",
      "Desvio Padrão: 0.49\n",
      "Coeficiente Pearson: 0.0\n",
      "Coeficiente Kurtosis: -0.41\n"
     ]
    }
   ],
   "source": [
    " calcula_estatisticas(sample_normal)"
   ]
  },
  {
   "cell_type": "markdown",
   "id": "d94e2185",
   "metadata": {},
   "source": [
    "Visualizando distribuição"
   ]
  },
  {
   "cell_type": "code",
   "execution_count": 91,
   "id": "02aa1502",
   "metadata": {},
   "outputs": [
    {
     "name": "stderr",
     "output_type": "stream",
     "text": [
      "C:\\Users\\marcf\\anaconda3\\lib\\site-packages\\seaborn\\distributions.py:2557: FutureWarning: `distplot` is a deprecated function and will be removed in a future version. Please adapt your code to use either `displot` (a figure-level function with similar flexibility) or `histplot` (an axes-level function for histograms).\n",
      "  warnings.warn(msg, FutureWarning)\n"
     ]
    },
    {
     "data": {
      "text/plain": [
       "<AxesSubplot:ylabel='Density'>"
      ]
     },
     "execution_count": 91,
     "metadata": {},
     "output_type": "execute_result"
    },
    {
     "data": {
      "image/png": "[encoded data removed]",
      "text/plain": [
       "<Figure size 864x288 with 1 Axes>"
      ]
     },
     "metadata": {
      "needs_background": "light"
     },
     "output_type": "display_data"
    }
   ],
   "source": [
    "fig = plt.figure(figsize=(12,4))\n",
    "sns.distplot(sample_normal)"
   ]
  },
  {
   "cell_type": "markdown",
   "id": "cebc75f3",
   "metadata": {},
   "source": [
    "Distribuição Simétrica, com o coeficiente de pearson próximo a zero\n",
    "\n",
    "exemplo:"
   ]
  },
  {
   "cell_type": "code",
   "execution_count": 92,
   "id": "12db5734",
   "metadata": {},
   "outputs": [],
   "source": [
    "exp = np.arange(2,len(sample_normal))"
   ]
  },
  {
   "cell_type": "markdown",
   "id": "f574b519",
   "metadata": {},
   "source": [
    "Verificando expoentes"
   ]
  },
  {
   "cell_type": "code",
   "execution_count": 93,
   "id": "757cc33c",
   "metadata": {},
   "outputs": [
    {
     "data": {
      "text/plain": [
       "array([ 2,  3,  4,  5,  6,  7,  8,  9, 10, 11])"
      ]
     },
     "execution_count": 93,
     "metadata": {},
     "output_type": "execute_result"
    }
   ],
   "source": [
    "exp[:10]"
   ]
  },
  {
   "cell_type": "markdown",
   "id": "94d95c89",
   "metadata": {},
   "source": [
    "Gerando uma distribuição assimétrica positiva"
   ]
  },
  {
   "cell_type": "code",
   "execution_count": 94,
   "id": "400535bb",
   "metadata": {},
   "outputs": [],
   "source": [
    "sample_assimetrica_positiva = []\n",
    "for s,e in zip(sample_normal,exp):\n",
    "    sample_assimetrica_positiva.append(s*e)"
   ]
  },
  {
   "cell_type": "code",
   "execution_count": 95,
   "id": "6ce76401",
   "metadata": {},
   "outputs": [
    {
     "name": "stdout",
     "output_type": "stream",
     "text": [
      "Media: 256.67\n",
      "Moda: -82.23\n",
      "Mediana: 204.23\n",
      "Variância: 42422.53\n",
      "Desvio Padrão: 205.97\n",
      "Coeficiente Pearson: 0.92\n",
      "Coeficiente Kurtosis: 0.35\n"
     ]
    }
   ],
   "source": [
    " calcula_estatisticas(sample_assimetrica_positiva)"
   ]
  },
  {
   "cell_type": "markdown",
   "id": "87edd8b6",
   "metadata": {},
   "source": [
    "Visualizando a distribuição"
   ]
  },
  {
   "cell_type": "code",
   "execution_count": 96,
   "id": "5f9455f1",
   "metadata": {},
   "outputs": [
    {
     "name": "stderr",
     "output_type": "stream",
     "text": [
      "C:\\Users\\marcf\\anaconda3\\lib\\site-packages\\seaborn\\distributions.py:2557: FutureWarning: `distplot` is a deprecated function and will be removed in a future version. Please adapt your code to use either `displot` (a figure-level function with similar flexibility) or `histplot` (an axes-level function for histograms).\n",
      "  warnings.warn(msg, FutureWarning)\n"
     ]
    },
    {
     "data": {
      "text/plain": [
       "<AxesSubplot:ylabel='Density'>"
      ]
     },
     "execution_count": 96,
     "metadata": {},
     "output_type": "execute_result"
    },
    {
     "data": {
      "image/png": "[encoded data removed]",
      "text/plain": [
       "<Figure size 432x288 with 1 Axes>"
      ]
     },
     "metadata": {
      "needs_background": "light"
     },
     "output_type": "display_data"
    }
   ],
   "source": [
    "sns.distplot(sample_assimetrica_positiva)"
   ]
  },
  {
   "cell_type": "markdown",
   "id": "826ce74e",
   "metadata": {},
   "source": [
    "Gerando uma distribuição assimétrica negativa"
   ]
  },
  {
   "cell_type": "code",
   "execution_count": 97,
   "id": "6b82fee6",
   "metadata": {},
   "outputs": [],
   "source": [
    "exp = (np.arange(2,len(sample_normal),2))*-1"
   ]
  },
  {
   "cell_type": "markdown",
   "id": "3230cee5",
   "metadata": {},
   "source": [
    "Verificando expoentes"
   ]
  },
  {
   "cell_type": "code",
   "execution_count": 98,
   "id": "6a949b04",
   "metadata": {},
   "outputs": [
    {
     "data": {
      "text/plain": [
       "array([ -2,  -4,  -6,  -8, -10, -12, -14, -16, -18, -20])"
      ]
     },
     "execution_count": 98,
     "metadata": {},
     "output_type": "execute_result"
    }
   ],
   "source": [
    "exp[:10]"
   ]
  },
  {
   "cell_type": "code",
   "execution_count": 99,
   "id": "3f7d263b",
   "metadata": {},
   "outputs": [],
   "source": [
    "sample_assimetrica_negativa = []\n",
    "for s,e in zip(sample_normal,exp):\n",
    "    sample_assimetrica_negativa.append(s*e)"
   ]
  },
  {
   "cell_type": "code",
   "execution_count": 100,
   "id": "76ece6d3",
   "metadata": {},
   "outputs": [
    {
     "name": "stdout",
     "output_type": "stream",
     "text": [
      "Media: -259.73\n",
      "Moda: -884.58\n",
      "Mediana: -209.39\n",
      "Variância: 42032.69\n",
      "Desvio Padrão: 205.02\n",
      "Coeficiente Pearson: -0.79\n",
      "Coeficiente Kurtosis: -0.12\n"
     ]
    }
   ],
   "source": [
    "calcula_estatisticas(sample_assimetrica_negativa)"
   ]
  },
  {
   "cell_type": "markdown",
   "id": "470321ab",
   "metadata": {},
   "source": [
    "Visualizando a distribuição"
   ]
  },
  {
   "cell_type": "code",
   "execution_count": 101,
   "id": "7f4a021a",
   "metadata": {},
   "outputs": [
    {
     "name": "stderr",
     "output_type": "stream",
     "text": [
      "C:\\Users\\marcf\\anaconda3\\lib\\site-packages\\seaborn\\distributions.py:2557: FutureWarning: `distplot` is a deprecated function and will be removed in a future version. Please adapt your code to use either `displot` (a figure-level function with similar flexibility) or `histplot` (an axes-level function for histograms).\n",
      "  warnings.warn(msg, FutureWarning)\n"
     ]
    },
    {
     "data": {
      "text/plain": [
       "<AxesSubplot:ylabel='Density'>"
      ]
     },
     "execution_count": 101,
     "metadata": {},
     "output_type": "execute_result"
    },
    {
     "data": {
      "image/png": "[encoded data removed]",
      "text/plain": [
       "<Figure size 432x288 with 1 Axes>"
      ]
     },
     "metadata": {
      "needs_background": "light"
     },
     "output_type": "display_data"
    }
   ],
   "source": [
    "sns.distplot(sample_assimetrica_negativa)"
   ]
  },
  {
   "cell_type": "markdown",
   "id": "12d1d099",
   "metadata": {},
   "source": [
    "Verificando graficamente as distribuições dos atributos do Dataframe"
   ]
  },
  {
   "cell_type": "code",
   "execution_count": 102,
   "id": "adbd3d73",
   "metadata": {},
   "outputs": [
    {
     "name": "stderr",
     "output_type": "stream",
     "text": [
      "C:\\Users\\marcf\\anaconda3\\lib\\site-packages\\seaborn\\distributions.py:2557: FutureWarning: `distplot` is a deprecated function and will be removed in a future version. Please adapt your code to use either `displot` (a figure-level function with similar flexibility) or `histplot` (an axes-level function for histograms).\n",
      "  warnings.warn(msg, FutureWarning)\n",
      "C:\\Users\\marcf\\anaconda3\\lib\\site-packages\\seaborn\\distributions.py:2557: FutureWarning: `distplot` is a deprecated function and will be removed in a future version. Please adapt your code to use either `displot` (a figure-level function with similar flexibility) or `histplot` (an axes-level function for histograms).\n",
      "  warnings.warn(msg, FutureWarning)\n",
      "C:\\Users\\marcf\\anaconda3\\lib\\site-packages\\seaborn\\distributions.py:2557: FutureWarning: `distplot` is a deprecated function and will be removed in a future version. Please adapt your code to use either `displot` (a figure-level function with similar flexibility) or `histplot` (an axes-level function for histograms).\n",
      "  warnings.warn(msg, FutureWarning)\n",
      "C:\\Users\\marcf\\anaconda3\\lib\\site-packages\\seaborn\\distributions.py:2557: FutureWarning: `distplot` is a deprecated function and will be removed in a future version. Please adapt your code to use either `displot` (a figure-level function with similar flexibility) or `histplot` (an axes-level function for histograms).\n",
      "  warnings.warn(msg, FutureWarning)\n",
      "C:\\Users\\marcf\\anaconda3\\lib\\site-packages\\seaborn\\distributions.py:2557: FutureWarning: `distplot` is a deprecated function and will be removed in a future version. Please adapt your code to use either `displot` (a figure-level function with similar flexibility) or `histplot` (an axes-level function for histograms).\n",
      "  warnings.warn(msg, FutureWarning)\n",
      "C:\\Users\\marcf\\anaconda3\\lib\\site-packages\\seaborn\\distributions.py:2557: FutureWarning: `distplot` is a deprecated function and will be removed in a future version. Please adapt your code to use either `displot` (a figure-level function with similar flexibility) or `histplot` (an axes-level function for histograms).\n",
      "  warnings.warn(msg, FutureWarning)\n",
      "C:\\Users\\marcf\\anaconda3\\lib\\site-packages\\seaborn\\distributions.py:2557: FutureWarning: `distplot` is a deprecated function and will be removed in a future version. Please adapt your code to use either `displot` (a figure-level function with similar flexibility) or `histplot` (an axes-level function for histograms).\n",
      "  warnings.warn(msg, FutureWarning)\n",
      "C:\\Users\\marcf\\anaconda3\\lib\\site-packages\\seaborn\\distributions.py:2557: FutureWarning: `distplot` is a deprecated function and will be removed in a future version. Please adapt your code to use either `displot` (a figure-level function with similar flexibility) or `histplot` (an axes-level function for histograms).\n",
      "  warnings.warn(msg, FutureWarning)\n",
      "C:\\Users\\marcf\\anaconda3\\lib\\site-packages\\seaborn\\distributions.py:2557: FutureWarning: `distplot` is a deprecated function and will be removed in a future version. Please adapt your code to use either `displot` (a figure-level function with similar flexibility) or `histplot` (an axes-level function for histograms).\n",
      "  warnings.warn(msg, FutureWarning)\n"
     ]
    },
    {
     "data": {
      "image/png": "[encoded data removed]",
      "text/plain": [
       "<Figure size 1152x864 with 9 Axes>"
      ]
     },
     "metadata": {
      "needs_background": "light"
     },
     "output_type": "display_data"
    }
   ],
   "source": [
    "fig, axes = plt.subplots(nrows=3, ncols=3,figsize=(16,12))\n",
    "for i, column in enumerate(df.select_dtypes(include=np.number).columns.tolist()):\n",
    "    sns.distplot(df[column],ax=axes[i//3,i%3])"
   ]
  },
  {
   "cell_type": "markdown",
   "id": "d565285c",
   "metadata": {},
   "source": [
    "Verificando a distribuição de probabilidade e a diferença entre a média e a mediana"
   ]
  },
  {
   "cell_type": "code",
   "execution_count": 104,
   "id": "6ba99163",
   "metadata": {},
   "outputs": [
    {
     "name": "stdout",
     "output_type": "stream",
     "text": [
      "Atributos: MSRP, Coeficiente de Variação: 59.29 %, Média: 32774.86, Mediana: 27635.0\n",
      "Atributos: EngineSize, Coeficiente de Variação: 34.64 %, Média: 3.2, Mediana: 3.0\n",
      "Atributos: Cylinders, Coeficiente de Variação: 26.82 %, Média: 5.81, Mediana: 6.0\n",
      "Atributos: Horsepower, Coeficiente de Variação: 33.27 %, Média: 215.89, Mediana: 210.0\n",
      "Atributos: MPG_City, Coeficiente de Variação: 26.11 %, Média: 20.06, Mediana: 19.0\n",
      "Atributos: MPG_Highway, Coeficiente de Variação: 21.39 %, Média: 26.84, Mediana: 26.0\n",
      "Atributos: Weight, Coeficiente de Variação: 21.21 %, Média: 3577.95, Mediana: 3474.5\n",
      "Atributos: Wheelbase, Coeficiente de Variação: 7.69 %, Média: 108.15, Mediana: 107.0\n",
      "Atributos: Length, Coeficiente de Variação: 7.7 %, Média: 186.36, Mediana: 187.0\n"
     ]
    }
   ],
   "source": [
    "for i, column in enumerate(df.select_dtypes(include=np.number).columns.tolist()):\n",
    "    media = round(df[column].mean(),2)\n",
    "    std = df[column].std()\n",
    "    cvar = round(std/media*100,2)\n",
    "    median = df[column].median()\n",
    "    print('Atributos: {}, Coeficiente de Variação: {} %, Média: {}, Mediana: {}'.format(column,cvar,media,median))"
   ]
  },
  {
   "cell_type": "code",
   "execution_count": null,
   "id": "998f6b9d",
   "metadata": {},
   "outputs": [],
   "source": []
  }
 ],
 "metadata": {
  "kernelspec": {
   "display_name": "Python 3",
   "language": "python",
   "name": "python3"
  },
  "language_info": {
   "codemirror_mode": {
    "name": "ipython",
    "version": 3
   },
   "file_extension": ".py",
   "mimetype": "text/x-python",
   "name": "python",
   "nbconvert_exporter": "python",
   "pygments_lexer": "ipython3",
   "version": "3.8.8"
  }
 },
 "nbformat": 4,
 "nbformat_minor": 5
}
