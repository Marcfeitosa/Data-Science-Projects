{
 "cells": [
  {
   "cell_type": "code",
   "execution_count": 1,
   "id": "f934f1b3-f5ae-4118-8426-e33ab277d6ca",
   "metadata": {},
   "outputs": [
    {
     "name": "stdout",
     "output_type": "stream",
     "text": [
      "Collecting pyspark\n",
      "  Downloading pyspark-3.3.2.tar.gz (281.4 MB)\n",
      "     -------------------------------------- 281.4/281.4 MB 3.7 MB/s eta 0:00:00\n",
      "  Preparing metadata (setup.py): started\n",
      "  Preparing metadata (setup.py): finished with status 'done'\n",
      "Collecting py4j==0.10.9.5\n",
      "  Downloading py4j-0.10.9.5-py2.py3-none-any.whl (199 kB)\n",
      "     ------------------------------------- 199.7/199.7 kB 11.8 MB/s eta 0:00:00\n",
      "Building wheels for collected packages: pyspark\n",
      "  Building wheel for pyspark (setup.py): started\n",
      "  Building wheel for pyspark (setup.py): finished with status 'done'\n",
      "  Created wheel for pyspark: filename=pyspark-3.3.2-py2.py3-none-any.whl size=281824045 sha256=e82f76049a555b396263835fee1e9a9af74a99f2d520730c433f72713ece751a\n",
      "  Stored in directory: c:\\users\\marcf\\appdata\\local\\pip\\cache\\wheels\\05\\fa\\3e\\2e840e7c1bb33325381b6b3b0e55a1c9c3e0485d2ca469229d\n",
      "Successfully built pyspark\n",
      "Installing collected packages: py4j, pyspark\n",
      "Successfully installed py4j-0.10.9.5 pyspark-3.3.2\n"
     ]
    },
    {
     "name": "stderr",
     "output_type": "stream",
     "text": [
      "WARNING: Ignoring invalid distribution -pencv-python (c:\\users\\marcf\\anaconda3\\lib\\site-packages)\n",
      "WARNING: Ignoring invalid distribution - (c:\\users\\marcf\\anaconda3\\lib\\site-packages)\n",
      "WARNING: Ignoring invalid distribution -pencv-python (c:\\users\\marcf\\anaconda3\\lib\\site-packages)\n",
      "WARNING: Ignoring invalid distribution - (c:\\users\\marcf\\anaconda3\\lib\\site-packages)\n",
      "WARNING: Ignoring invalid distribution -pencv-python (c:\\users\\marcf\\anaconda3\\lib\\site-packages)\n",
      "WARNING: Ignoring invalid distribution - (c:\\users\\marcf\\anaconda3\\lib\\site-packages)\n",
      "WARNING: Ignoring invalid distribution -pencv-python (c:\\users\\marcf\\anaconda3\\lib\\site-packages)\n",
      "WARNING: Ignoring invalid distribution - (c:\\users\\marcf\\anaconda3\\lib\\site-packages)\n",
      "WARNING: Ignoring invalid distribution -pencv-python (c:\\users\\marcf\\anaconda3\\lib\\site-packages)\n",
      "WARNING: Ignoring invalid distribution - (c:\\users\\marcf\\anaconda3\\lib\\site-packages)\n",
      "WARNING: Ignoring invalid distribution -pencv-python (c:\\users\\marcf\\anaconda3\\lib\\site-packages)\n",
      "WARNING: Ignoring invalid distribution - (c:\\users\\marcf\\anaconda3\\lib\\site-packages)\n",
      "WARNING: Ignoring invalid distribution -pencv-python (c:\\users\\marcf\\anaconda3\\lib\\site-packages)\n",
      "WARNING: Ignoring invalid distribution - (c:\\users\\marcf\\anaconda3\\lib\\site-packages)\n",
      "WARNING: Ignoring invalid distribution -pencv-python (c:\\users\\marcf\\anaconda3\\lib\\site-packages)\n",
      "WARNING: Ignoring invalid distribution - (c:\\users\\marcf\\anaconda3\\lib\\site-packages)\n"
     ]
    }
   ],
   "source": [
    "!pip install pyspark"
   ]
  },
  {
   "cell_type": "code",
   "execution_count": 1,
   "id": "991b8038-1639-4da0-8648-122da48d5495",
   "metadata": {},
   "outputs": [],
   "source": [
    "import pyspark\n",
    "import pandas as pd\n",
    "from pyspark.sql import SparkSession\n",
    "import os"
   ]
  },
  {
   "cell_type": "code",
   "execution_count": 2,
   "id": "cae7ca80-1b73-455e-bdc6-48c0ea5f584d",
   "metadata": {},
   "outputs": [],
   "source": [
    "os.environ['PYSPARK_DRIVER_PYTHON'] = 'jupyter'"
   ]
  },
  {
   "cell_type": "code",
   "execution_count": 3,
   "id": "189dfcac-23e8-429f-b7b3-f5e5f7aac8a4",
   "metadata": {},
   "outputs": [],
   "source": [
    "spark=SparkSession.builder.appName('Practice').getOrCreate()"
   ]
  },
  {
   "cell_type": "code",
   "execution_count": 4,
   "id": "208558c5-9c1f-4057-b3c8-1eb718732f93",
   "metadata": {},
   "outputs": [
    {
     "data": {
      "text/html": [
       "\n",
       "            <div>\n",
       "                <p><b>SparkSession - in-memory</b></p>\n",
       "                \n",
       "        <div>\n",
       "            <p><b>SparkContext</b></p>\n",
       "\n",
       "            <p><a href=\"http://192.168.99.1:4040\">Spark UI</a></p>\n",
       "\n",
       "            <dl>\n",
       "              <dt>Version</dt>\n",
       "                <dd><code>v3.3.2</code></dd>\n",
       "              <dt>Master</dt>\n",
       "                <dd><code>local[*]</code></dd>\n",
       "              <dt>AppName</dt>\n",
       "                <dd><code>Practice</code></dd>\n",
       "            </dl>\n",
       "        </div>\n",
       "        \n",
       "            </div>\n",
       "        "
      ],
      "text/plain": [
       "<pyspark.sql.session.SparkSession at 0x18c907cb130>"
      ]
     },
     "execution_count": 4,
     "metadata": {},
     "output_type": "execute_result"
    }
   ],
   "source": [
    "spark"
   ]
  },
  {
   "cell_type": "code",
   "execution_count": 8,
   "id": "9312fc15-0dab-412f-871f-3d6184d0a452",
   "metadata": {},
   "outputs": [],
   "source": [
    "df_pyspark=spark.read.csv(r\"C:\\Users\\marcf\\OneDrive\\Documentos\\Ciencia-de-dados\\Master_Data_Analysis_with_Python_by_Ted_Petrou_20221019\\Jupyter Notebooks\\data\\airbnb.csv\")"
   ]
  },
  {
   "cell_type": "code",
   "execution_count": 9,
   "id": "8240a7b5-f0a0-44c9-ada4-603936893c09",
   "metadata": {},
   "outputs": [
    {
     "name": "stdout",
     "output_type": "stream",
     "text": [
      "+-----+--------------------+---------------+------------+--------+-----+----------------+------------+------+---------+------------------+---------------+----------+-----------+-----------+--------+---------+--------------+--------------+\n",
      "|  _c0|                 _c1|            _c2|         _c3|     _c4|  _c5|             _c6|         _c7|   _c8|      _c9|              _c10|           _c11|      _c12|       _c13|       _c14|    _c15|     _c16|          _c17|          _c18|\n",
      "+-----+--------------------+---------------+------------+--------+-----+----------------+------------+------+---------+------------------+---------------+----------+-----------+-----------+--------+---------+--------------+--------------+\n",
      "|   id|        neighborhood|      room_type|accommodates|bedrooms|price|security_deposit|cleaning_fee|rating|superhost|     response_time|acceptance_rate|host_since|last_review|num_reviews|latitude|longitude|minimum_nights|maximum_nights|\n",
      "| 3686|  Historic Anacostia|   Private room|           1|     1.0|   55|              25|          25|   4.6|        0|a few days or more|            67%|2008-11-26| 2021-08-09|         76|38.86339|-76.98889|             2|           365|\n",
      "| 3943|            Edgewood|   Private room|           2|     1.0|   71|              50|           0|  4.81|        0|              null|           null|2008-12-12| 2021-09-11|        434|38.91195|-77.00456|             2|          1125|\n",
      "| 4529|    Eastland Gardens|   Private room|           4|     1.0|   54|              25|          50|  4.66|        0|within a few hours|           null|2008-12-30| 2019-07-05|        102|38.90585|-76.94469|            30|           180|\n",
      "| 4967|            Edgewood|   Private room|           1|     1.0|   99|              50|           0|  4.74|        1|    within an hour|            85%|2009-01-26| 2016-09-22|         31|38.91409|-76.99368|             2|           365|\n",
      "| 5589|    Kalorama Heights|Entire home/apt|           3|     1.0|   99|              50|           0|  4.54|        0|within a few hours|            11%|2009-01-13| 2020-03-05|         95|38.91887|-77.04008|             5|            24|\n",
      "| 7103|       Spring Valley|Entire home/apt|           2|     1.0|   68|               0|          25|   4.8|        0|    within an hour|            96%|2009-05-18| 2021-08-28|         91|38.91988|-77.09796|             6|           200|\n",
      "| 9097|    Kalorama Heights|   Private room|           1|     1.0|   42|              50|          25|  4.86|        0|within a few hours|            11%|2009-01-13| 2019-10-30|        112|38.91966|-77.04306|             2|             7|\n",
      "| 9641|       Dupont Circle|Entire home/apt|           4|     1.0|  195|             100|         100|  4.75|        0|      within a day|            34%|2009-08-17| 2021-09-07|        156|38.90927|-77.03471|             2|           180|\n",
      "|11785|   Cathedral Heights|Entire home/apt|           4|     1.0|  125|             100|         100|  4.59|        0|              null|           null|2009-08-16| 2021-08-01|        403|38.92622|-77.07591|             1|           365|\n",
      "|12442|   Cathedral Heights|   Private room|           2|     1.0|   60|              50|          25|  4.68|        0|              null|           null|2009-08-16| 2021-06-13|        100|38.92744|-77.07496|             1|           365|\n",
      "|13744|    Columbia Heights|Entire home/apt|           4|     1.0|  125|             100|         100|  4.89|        0|within a few hours|            50%|2009-11-13| 2021-08-25|         28|38.92836|-77.03136|             4|            14|\n",
      "|14218|   Cathedral Heights|   Private room|           2|     1.0|   61|              25|          25|  4.66|        0|              null|           null|2009-08-16| 2021-08-01|         95|38.92668|-77.07686|             1|           365|\n",
      "|14570|                Shaw|   Private room|           3|     1.0|   90|               0|          50|  4.86|        1|              null|           null|2009-11-22| 2019-07-29|        554|38.90595|-77.02564|             3|            30|\n",
      "|16684|       Union Station|Entire home/apt|           2|     1.0|   95|               0|          25|  4.91|        1|    within an hour|           100%|2009-12-21| 2021-05-22|        174|38.89866|-77.00179|            14|           365|\n",
      "|17131|   Cathedral Heights|   Private room|           2|     1.0|   60|               0|          25|  4.58|        0|              null|           null|2009-08-16| 2021-06-20|         85|38.92644|-77.07646|             1|           365|\n",
      "|22453|       Dupont Circle|    Shared room|           1|     1.0|   90|              25|           0|   4.8|        0|      within a day|            34%|2009-08-17| 2021-07-14|        102|38.90933|-77.03484|             2|             4|\n",
      "|24712|     Brightwood Park|Entire home/apt|          16|     4.0|  225|              50|          50|  4.24|        0|    within an hour|           100%|2010-03-29| 2021-09-08|        132|38.94771|-77.02368|             4|            90|\n",
      "|25243|Southwest Employm...|Entire home/apt|           8|     3.0|  379|              50|         100|  4.62|        0|              null|           null|2010-04-06| 2021-06-14|         26|38.88107|-77.01891|             1|            90|\n",
      "|32087|    Kalorama Heights|   Private room|           2|     1.0|  148|               0|           0|  4.85|        0|    within an hour|            98%|2010-06-04| 2020-03-04|         15|38.91766|-77.04598|             1|           365|\n",
      "+-----+--------------------+---------------+------------+--------+-----+----------------+------------+------+---------+------------------+---------------+----------+-----------+-----------+--------+---------+--------------+--------------+\n",
      "only showing top 20 rows\n",
      "\n"
     ]
    }
   ],
   "source": [
    "df_pyspark.show()"
   ]
  },
  {
   "cell_type": "code",
   "execution_count": null,
   "id": "ccbb13b6-5d37-4f3b-9fa8-2e0dca4f2ba8",
   "metadata": {},
   "outputs": [],
   "source": []
  }
 ],
 "metadata": {
  "kernelspec": {
   "display_name": "Python 3 (ipykernel)",
   "language": "python",
   "name": "python3"
  },
  "language_info": {
   "codemirror_mode": {
    "name": "ipython",
    "version": 3
   },
   "file_extension": ".py",
   "mimetype": "text/x-python",
   "name": "python",
   "nbconvert_exporter": "python",
   "pygments_lexer": "ipython3",
   "version": "3.8.8"
  }
 },
 "nbformat": 4,
 "nbformat_minor": 5
}
