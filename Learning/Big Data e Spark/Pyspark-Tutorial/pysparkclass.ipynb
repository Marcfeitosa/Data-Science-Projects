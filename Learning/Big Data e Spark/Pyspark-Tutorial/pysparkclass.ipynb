{
 "cells": [
  {
   "cell_type": "markdown",
   "id": "ddb08bba-315f-43b3-a2f6-0fdec69c6283",
   "metadata": {},
   "source": [
    "# Installing and exploring with Pyspark"
   ]
  },
  {
   "cell_type": "code",
   "execution_count": 2,
   "id": "f934f1b3-f5ae-4118-8426-e33ab277d6ca",
   "metadata": {},
   "outputs": [
    {
     "name": "stdout",
     "output_type": "stream",
     "text": [
      "Requirement already satisfied: pyspark in c:\\users\\marcf\\anaconda3\\lib\\site-packages (3.3.2)\n",
      "Requirement already satisfied: py4j==0.10.9.5 in c:\\users\\marcf\\anaconda3\\lib\\site-packages (from pyspark) (0.10.9.5)\n"
     ]
    },
    {
     "name": "stderr",
     "output_type": "stream",
     "text": [
      "WARNING: Ignoring invalid distribution -pencv-python (c:\\users\\marcf\\anaconda3\\lib\\site-packages)\n",
      "WARNING: Ignoring invalid distribution - (c:\\users\\marcf\\anaconda3\\lib\\site-packages)\n",
      "WARNING: Ignoring invalid distribution -pencv-python (c:\\users\\marcf\\anaconda3\\lib\\site-packages)\n",
      "WARNING: Ignoring invalid distribution - (c:\\users\\marcf\\anaconda3\\lib\\site-packages)\n",
      "WARNING: Ignoring invalid distribution -pencv-python (c:\\users\\marcf\\anaconda3\\lib\\site-packages)\n",
      "WARNING: Ignoring invalid distribution - (c:\\users\\marcf\\anaconda3\\lib\\site-packages)\n",
      "WARNING: Ignoring invalid distribution -pencv-python (c:\\users\\marcf\\anaconda3\\lib\\site-packages)\n",
      "WARNING: Ignoring invalid distribution - (c:\\users\\marcf\\anaconda3\\lib\\site-packages)\n",
      "WARNING: Ignoring invalid distribution -pencv-python (c:\\users\\marcf\\anaconda3\\lib\\site-packages)\n",
      "WARNING: Ignoring invalid distribution - (c:\\users\\marcf\\anaconda3\\lib\\site-packages)\n",
      "WARNING: Ignoring invalid distribution -pencv-python (c:\\users\\marcf\\anaconda3\\lib\\site-packages)\n",
      "WARNING: Ignoring invalid distribution - (c:\\users\\marcf\\anaconda3\\lib\\site-packages)\n"
     ]
    }
   ],
   "source": [
    "!pip install pyspark"
   ]
  },
  {
   "cell_type": "code",
   "execution_count": 3,
   "id": "991b8038-1639-4da0-8648-122da48d5495",
   "metadata": {},
   "outputs": [],
   "source": [
    "import pyspark\n",
    "import pandas as pd\n",
    "from pyspark.sql import SparkSession\n",
    "import os"
   ]
  },
  {
   "cell_type": "code",
   "execution_count": 4,
   "id": "cae7ca80-1b73-455e-bdc6-48c0ea5f584d",
   "metadata": {},
   "outputs": [],
   "source": [
    "os.environ['PYSPARK_DRIVER_PYTHON'] = 'jupyter'"
   ]
  },
  {
   "cell_type": "code",
   "execution_count": 5,
   "id": "189dfcac-23e8-429f-b7b3-f5e5f7aac8a4",
   "metadata": {},
   "outputs": [],
   "source": [
    "spark=SparkSession.builder.appName('Practice').getOrCreate()"
   ]
  },
  {
   "cell_type": "code",
   "execution_count": 6,
   "id": "208558c5-9c1f-4057-b3c8-1eb718732f93",
   "metadata": {},
   "outputs": [
    {
     "data": {
      "text/html": [
       "\n",
       "            <div>\n",
       "                <p><b>SparkSession - in-memory</b></p>\n",
       "                \n",
       "        <div>\n",
       "            <p><b>SparkContext</b></p>\n",
       "\n",
       "            <p><a href=\"http://192.168.99.1:4040\">Spark UI</a></p>\n",
       "\n",
       "            <dl>\n",
       "              <dt>Version</dt>\n",
       "                <dd><code>v3.3.2</code></dd>\n",
       "              <dt>Master</dt>\n",
       "                <dd><code>local[*]</code></dd>\n",
       "              <dt>AppName</dt>\n",
       "                <dd><code>Practice</code></dd>\n",
       "            </dl>\n",
       "        </div>\n",
       "        \n",
       "            </div>\n",
       "        "
      ],
      "text/plain": [
       "<pyspark.sql.session.SparkSession at 0x1c26cc6b160>"
      ]
     },
     "execution_count": 6,
     "metadata": {},
     "output_type": "execute_result"
    }
   ],
   "source": [
    "spark"
   ]
  },
  {
   "cell_type": "code",
   "execution_count": 7,
   "id": "9312fc15-0dab-412f-871f-3d6184d0a452",
   "metadata": {},
   "outputs": [],
   "source": [
    "df_pyspark=spark.read.csv(r\"C:\\Users\\marcf\\OneDrive\\Documentos\\Ciencia-de-dados\\Master_Data_Analysis_with_Python_by_Ted_Petrou_20221019\\Jupyter Notebooks\\data\\airbnb.csv\")"
   ]
  },
  {
   "cell_type": "code",
   "execution_count": 8,
   "id": "8240a7b5-f0a0-44c9-ada4-603936893c09",
   "metadata": {},
   "outputs": [
    {
     "name": "stdout",
     "output_type": "stream",
     "text": [
      "+-----+--------------------+---------------+------------+--------+-----+----------------+------------+------+---------+------------------+---------------+----------+-----------+-----------+--------+---------+--------------+--------------+\n",
      "|  _c0|                 _c1|            _c2|         _c3|     _c4|  _c5|             _c6|         _c7|   _c8|      _c9|              _c10|           _c11|      _c12|       _c13|       _c14|    _c15|     _c16|          _c17|          _c18|\n",
      "+-----+--------------------+---------------+------------+--------+-----+----------------+------------+------+---------+------------------+---------------+----------+-----------+-----------+--------+---------+--------------+--------------+\n",
      "|   id|        neighborhood|      room_type|accommodates|bedrooms|price|security_deposit|cleaning_fee|rating|superhost|     response_time|acceptance_rate|host_since|last_review|num_reviews|latitude|longitude|minimum_nights|maximum_nights|\n",
      "| 3686|  Historic Anacostia|   Private room|           1|     1.0|   55|              25|          25|   4.6|        0|a few days or more|            67%|2008-11-26| 2021-08-09|         76|38.86339|-76.98889|             2|           365|\n",
      "| 3943|            Edgewood|   Private room|           2|     1.0|   71|              50|           0|  4.81|        0|              null|           null|2008-12-12| 2021-09-11|        434|38.91195|-77.00456|             2|          1125|\n",
      "| 4529|    Eastland Gardens|   Private room|           4|     1.0|   54|              25|          50|  4.66|        0|within a few hours|           null|2008-12-30| 2019-07-05|        102|38.90585|-76.94469|            30|           180|\n",
      "| 4967|            Edgewood|   Private room|           1|     1.0|   99|              50|           0|  4.74|        1|    within an hour|            85%|2009-01-26| 2016-09-22|         31|38.91409|-76.99368|             2|           365|\n",
      "| 5589|    Kalorama Heights|Entire home/apt|           3|     1.0|   99|              50|           0|  4.54|        0|within a few hours|            11%|2009-01-13| 2020-03-05|         95|38.91887|-77.04008|             5|            24|\n",
      "| 7103|       Spring Valley|Entire home/apt|           2|     1.0|   68|               0|          25|   4.8|        0|    within an hour|            96%|2009-05-18| 2021-08-28|         91|38.91988|-77.09796|             6|           200|\n",
      "| 9097|    Kalorama Heights|   Private room|           1|     1.0|   42|              50|          25|  4.86|        0|within a few hours|            11%|2009-01-13| 2019-10-30|        112|38.91966|-77.04306|             2|             7|\n",
      "| 9641|       Dupont Circle|Entire home/apt|           4|     1.0|  195|             100|         100|  4.75|        0|      within a day|            34%|2009-08-17| 2021-09-07|        156|38.90927|-77.03471|             2|           180|\n",
      "|11785|   Cathedral Heights|Entire home/apt|           4|     1.0|  125|             100|         100|  4.59|        0|              null|           null|2009-08-16| 2021-08-01|        403|38.92622|-77.07591|             1|           365|\n",
      "|12442|   Cathedral Heights|   Private room|           2|     1.0|   60|              50|          25|  4.68|        0|              null|           null|2009-08-16| 2021-06-13|        100|38.92744|-77.07496|             1|           365|\n",
      "|13744|    Columbia Heights|Entire home/apt|           4|     1.0|  125|             100|         100|  4.89|        0|within a few hours|            50%|2009-11-13| 2021-08-25|         28|38.92836|-77.03136|             4|            14|\n",
      "|14218|   Cathedral Heights|   Private room|           2|     1.0|   61|              25|          25|  4.66|        0|              null|           null|2009-08-16| 2021-08-01|         95|38.92668|-77.07686|             1|           365|\n",
      "|14570|                Shaw|   Private room|           3|     1.0|   90|               0|          50|  4.86|        1|              null|           null|2009-11-22| 2019-07-29|        554|38.90595|-77.02564|             3|            30|\n",
      "|16684|       Union Station|Entire home/apt|           2|     1.0|   95|               0|          25|  4.91|        1|    within an hour|           100%|2009-12-21| 2021-05-22|        174|38.89866|-77.00179|            14|           365|\n",
      "|17131|   Cathedral Heights|   Private room|           2|     1.0|   60|               0|          25|  4.58|        0|              null|           null|2009-08-16| 2021-06-20|         85|38.92644|-77.07646|             1|           365|\n",
      "|22453|       Dupont Circle|    Shared room|           1|     1.0|   90|              25|           0|   4.8|        0|      within a day|            34%|2009-08-17| 2021-07-14|        102|38.90933|-77.03484|             2|             4|\n",
      "|24712|     Brightwood Park|Entire home/apt|          16|     4.0|  225|              50|          50|  4.24|        0|    within an hour|           100%|2010-03-29| 2021-09-08|        132|38.94771|-77.02368|             4|            90|\n",
      "|25243|Southwest Employm...|Entire home/apt|           8|     3.0|  379|              50|         100|  4.62|        0|              null|           null|2010-04-06| 2021-06-14|         26|38.88107|-77.01891|             1|            90|\n",
      "|32087|    Kalorama Heights|   Private room|           2|     1.0|  148|               0|           0|  4.85|        0|    within an hour|            98%|2010-06-04| 2020-03-04|         15|38.91766|-77.04598|             1|           365|\n",
      "+-----+--------------------+---------------+------------+--------+-----+----------------+------------+------+---------+------------------+---------------+----------+-----------+-----------+--------+---------+--------------+--------------+\n",
      "only showing top 20 rows\n",
      "\n"
     ]
    }
   ],
   "source": [
    "df_pyspark.show()"
   ]
  },
  {
   "cell_type": "code",
   "execution_count": 11,
   "id": "4672e6b8-e7b2-46f9-928c-eca70fcc3a25",
   "metadata": {},
   "outputs": [
    {
     "data": {
      "text/plain": [
       "DataFrame[id: string, neighborhood: string, room_type: string, accommodates: string, bedrooms: string, price: string, security_deposit: string, cleaning_fee: string, rating: string, superhost: string, response_time: string, acceptance_rate: string, host_since: string, last_review: string, num_reviews: string, latitude: string, longitude: string, minimum_nights: string, maximum_nights: string]"
      ]
     },
     "execution_count": 11,
     "metadata": {},
     "output_type": "execute_result"
    }
   ],
   "source": [
    "df_pyspark = spark.read.option('header', 'true').csv(r\"C:\\Users\\marcf\\OneDrive\\Documentos\\Ciencia-de-dados\\Master_Data_Analysis_with_Python_by_Ted_Petrou_20221019\\Jupyter Notebooks\\data\\airbnb.csv\")"
   ]
  },
  {
   "cell_type": "code",
   "execution_count": 12,
   "id": "7cf5322e-de76-42bc-807d-ddf7fecafed5",
   "metadata": {},
   "outputs": [
    {
     "data": {
      "text/plain": [
       "pyspark.sql.dataframe.DataFrame"
      ]
     },
     "execution_count": 12,
     "metadata": {},
     "output_type": "execute_result"
    }
   ],
   "source": [
    "type(df_pyspark)"
   ]
  },
  {
   "cell_type": "code",
   "execution_count": 13,
   "id": "4f904402-cb1d-46b7-880d-4802e8ed0381",
   "metadata": {},
   "outputs": [
    {
     "data": {
      "text/plain": [
       "[Row(_c0='id', _c1='neighborhood', _c2='room_type', _c3='accommodates', _c4='bedrooms', _c5='price', _c6='security_deposit', _c7='cleaning_fee', _c8='rating', _c9='superhost', _c10='response_time', _c11='acceptance_rate', _c12='host_since', _c13='last_review', _c14='num_reviews', _c15='latitude', _c16='longitude', _c17='minimum_nights', _c18='maximum_nights'),\n",
       " Row(_c0='3686', _c1='Historic Anacostia', _c2='Private room', _c3='1', _c4='1.0', _c5='55', _c6='25', _c7='25', _c8='4.6', _c9='0', _c10='a few days or more', _c11='67%', _c12='2008-11-26', _c13='2021-08-09', _c14='76', _c15='38.86339', _c16='-76.98889', _c17='2', _c18='365'),\n",
       " Row(_c0='3943', _c1='Edgewood', _c2='Private room', _c3='2', _c4='1.0', _c5='71', _c6='50', _c7='0', _c8='4.81', _c9='0', _c10=None, _c11=None, _c12='2008-12-12', _c13='2021-09-11', _c14='434', _c15='38.91195', _c16='-77.00456', _c17='2', _c18='1125')]"
      ]
     },
     "execution_count": 13,
     "metadata": {},
     "output_type": "execute_result"
    }
   ],
   "source": [
    "df_pyspark.head(3)"
   ]
  },
  {
   "cell_type": "code",
   "execution_count": 14,
   "id": "201c9f13-7bf1-437e-8372-3568ea00adf0",
   "metadata": {},
   "outputs": [
    {
     "data": {
      "text/plain": [
       "<bound method DataFrame.printSchema of DataFrame[_c0: string, _c1: string, _c2: string, _c3: string, _c4: string, _c5: string, _c6: string, _c7: string, _c8: string, _c9: string, _c10: string, _c11: string, _c12: string, _c13: string, _c14: string, _c15: string, _c16: string, _c17: string, _c18: string]>"
      ]
     },
     "execution_count": 14,
     "metadata": {},
     "output_type": "execute_result"
    }
   ],
   "source": [
    "df_pyspark.printSchema"
   ]
  },
  {
   "cell_type": "markdown",
   "id": "21867b81-0dc0-40eb-9725-0c8e6e8bb2a2",
   "metadata": {},
   "source": [
    "# Second Part\n",
    "- Pyspark Data frame\n",
    "- Reading the Dataset\n",
    "- CHecking the Datatypes of the Column(Schema)\n",
    "- Selecting Columns and indexing\n",
    "- Check Describe option similar do Pandas\n",
    "- Adding columns\n",
    "- Dropping columns\n",
    "- Rename Columns"
   ]
  },
  {
   "cell_type": "code",
   "execution_count": 2,
   "id": "f8ce3265-7711-4e72-9cb9-415c85a84e97",
   "metadata": {},
   "outputs": [],
   "source": [
    "from pyspark.sql import SparkSession"
   ]
  },
  {
   "cell_type": "code",
   "execution_count": 3,
   "id": "833e56e5-b71b-4467-a8b7-cfe475aa0c2c",
   "metadata": {},
   "outputs": [],
   "source": [
    "spark = SparkSession.builder.appName('Dataframe').getOrCreate()"
   ]
  },
  {
   "cell_type": "code",
   "execution_count": 4,
   "id": "7d7140a6-eefd-4a85-bcb7-793eb966ec82",
   "metadata": {},
   "outputs": [
    {
     "data": {
      "text/html": [
       "\n",
       "            <div>\n",
       "                <p><b>SparkSession - in-memory</b></p>\n",
       "                \n",
       "        <div>\n",
       "            <p><b>SparkContext</b></p>\n",
       "\n",
       "            <p><a href=\"http://192.168.99.1:4040\">Spark UI</a></p>\n",
       "\n",
       "            <dl>\n",
       "              <dt>Version</dt>\n",
       "                <dd><code>v3.3.2</code></dd>\n",
       "              <dt>Master</dt>\n",
       "                <dd><code>local[*]</code></dd>\n",
       "              <dt>AppName</dt>\n",
       "                <dd><code>Dataframe</code></dd>\n",
       "            </dl>\n",
       "        </div>\n",
       "        \n",
       "            </div>\n",
       "        "
      ],
      "text/plain": [
       "<pyspark.sql.session.SparkSession at 0x2b0d1decdf0>"
      ]
     },
     "execution_count": 4,
     "metadata": {},
     "output_type": "execute_result"
    }
   ],
   "source": [
    "spark"
   ]
  },
  {
   "cell_type": "code",
   "execution_count": 5,
   "id": "f401a942-f987-4a7f-b6c9-21f51a8af768",
   "metadata": {},
   "outputs": [
    {
     "name": "stdout",
     "output_type": "stream",
     "text": [
      "+----+--------------------+----+------+------+-----+\n",
      "| _c0|                 _c1| _c2|   _c3|   _c4|  _c5|\n",
      "+----+--------------------+----+------+------+-----+\n",
      "|Rank|                Team|Gold|Silver|Bronze|Total|\n",
      "|   1| United States (USA)|  39|    41|    33|  113|\n",
      "|   2|         China (CHN)|  38|    32|    18|   88|\n",
      "|   3|         Japan (JPN)|  27|    14|    17|   58|\n",
      "|   4| Great Britain (GBR)|  22|    21|    22|   65|\n",
      "|   5|           ROC (ROC)|  20|    28|    23|   71|\n",
      "|   6|     Australia (AUS)|  17|     7|    22|   46|\n",
      "|   7|   Netherlands (NED)|  10|    12|    14|   36|\n",
      "|   8|        France (FRA)|  10|    12|    11|   33|\n",
      "|   9|       Germany (GER)|  10|    11|    16|   37|\n",
      "|  10|         Italy (ITA)|  10|    10|    20|   40|\n",
      "|  11|        Canada (CAN)|   7|     6|    11|   24|\n",
      "|  12|        Brazil (BRA)|   7|     6|     8|   21|\n",
      "|  13|   New Zealand (NZL)|   7|     6|     7|   20|\n",
      "|  14|          Cuba (CUB)|   7|     3|     5|   15|\n",
      "|  15|       Hungary (HUN)|   6|     7|     7|   20|\n",
      "|  16|   South Korea (KOR)|   6|     4|    10|   20|\n",
      "|  17|        Poland (POL)|   4|     5|     5|   14|\n",
      "|  18|Czech Republic (CZE)|   4|     4|     3|   11|\n",
      "|  19|         Kenya (KEN)|   4|     4|     2|   10|\n",
      "+----+--------------------+----+------+------+-----+\n",
      "only showing top 20 rows\n",
      "\n"
     ]
    }
   ],
   "source": [
    "## Reading the dataset\n",
    "spark.read.option('headr', 'true').csv(r\"C:\\Users\\marcf\\OneDrive\\Documentos\\Ciencia-de-dados\\Master_Data_Analysis_with_Python_by_Ted_Petrou_20221019\\Jupyter Notebooks\\data\\olympics\\2020.csv\").show()"
   ]
  },
  {
   "cell_type": "code",
   "execution_count": 8,
   "id": "abeb8601-df2e-4134-9c2e-2e41ae6bfc78",
   "metadata": {},
   "outputs": [],
   "source": [
    "df_pyspark_olimpics = spark.read.option('headr', 'true').csv(r\"C:\\Users\\marcf\\OneDrive\\Documentos\\Ciencia-de-dados\\Master_Data_Analysis_with_Python_by_Ted_Petrou_20221019\\Jupyter Notebooks\\data\\olympics\\2020.csv\")"
   ]
  },
  {
   "cell_type": "code",
   "execution_count": 9,
   "id": "7f8ad4e4-71cc-4d35-ae79-4d4d26842d52",
   "metadata": {},
   "outputs": [
    {
     "name": "stdout",
     "output_type": "stream",
     "text": [
      "root\n",
      " |-- _c0: string (nullable = true)\n",
      " |-- _c1: string (nullable = true)\n",
      " |-- _c2: string (nullable = true)\n",
      " |-- _c3: string (nullable = true)\n",
      " |-- _c4: string (nullable = true)\n",
      " |-- _c5: string (nullable = true)\n",
      "\n"
     ]
    }
   ],
   "source": [
    "### Check the schema\n",
    "df_pyspark_olimpics.printSchema()"
   ]
  },
  {
   "cell_type": "code",
   "execution_count": 10,
   "id": "89ec4f4d-9c54-471d-9790-dafb1377c32d",
   "metadata": {},
   "outputs": [
    {
     "data": {
      "text/plain": [
       "DataFrame[_c0: string, _c1: string, _c2: string, _c3: string, _c4: string, _c5: string]"
      ]
     },
     "execution_count": 10,
     "metadata": {},
     "output_type": "execute_result"
    }
   ],
   "source": [
    "spark.read.option('headr', 'true').csv(r\"C:\\Users\\marcf\\OneDrive\\Documentos\\Ciencia-de-dados\\Master_Data_Analysis_with_Python_by_Ted_Petrou_20221019\\Jupyter Notebooks\\data\\olympics\\2020.csv\",inferSchema=True)"
   ]
  },
  {
   "cell_type": "code",
   "execution_count": 11,
   "id": "f843f12c-7d4d-45d2-be98-38019822197e",
   "metadata": {},
   "outputs": [
    {
     "name": "stdout",
     "output_type": "stream",
     "text": [
      "root\n",
      " |-- _c0: string (nullable = true)\n",
      " |-- _c1: string (nullable = true)\n",
      " |-- _c2: string (nullable = true)\n",
      " |-- _c3: string (nullable = true)\n",
      " |-- _c4: string (nullable = true)\n",
      " |-- _c5: string (nullable = true)\n",
      "\n"
     ]
    }
   ],
   "source": [
    "df_pyspark_olimpics.printSchema()"
   ]
  },
  {
   "cell_type": "code",
   "execution_count": 12,
   "id": "21f574a1-88f7-484e-9138-565e283889b9",
   "metadata": {},
   "outputs": [],
   "source": [
    "df_pyspark_olimpics = spark.read.csv(r\"C:\\Users\\marcf\\OneDrive\\Documentos\\Ciencia-de-dados\\Master_Data_Analysis_with_Python_by_Ted_Petrou_20221019\\Jupyter Notebooks\\data\\olympics\\2020.csv\",header=True,inferSchema=True)"
   ]
  },
  {
   "cell_type": "code",
   "execution_count": 13,
   "id": "27a63eb6-ff1b-4cda-ac11-decead553f5f",
   "metadata": {},
   "outputs": [
    {
     "name": "stdout",
     "output_type": "stream",
     "text": [
      "+----+--------------------+----+------+------+-----+\n",
      "|Rank|                Team|Gold|Silver|Bronze|Total|\n",
      "+----+--------------------+----+------+------+-----+\n",
      "|   1| United States (USA)|  39|    41|    33|  113|\n",
      "|   2|         China (CHN)|  38|    32|    18|   88|\n",
      "|   3|         Japan (JPN)|  27|    14|    17|   58|\n",
      "|   4| Great Britain (GBR)|  22|    21|    22|   65|\n",
      "|   5|           ROC (ROC)|  20|    28|    23|   71|\n",
      "|   6|     Australia (AUS)|  17|     7|    22|   46|\n",
      "|   7|   Netherlands (NED)|  10|    12|    14|   36|\n",
      "|   8|        France (FRA)|  10|    12|    11|   33|\n",
      "|   9|       Germany (GER)|  10|    11|    16|   37|\n",
      "|  10|         Italy (ITA)|  10|    10|    20|   40|\n",
      "|  11|        Canada (CAN)|   7|     6|    11|   24|\n",
      "|  12|        Brazil (BRA)|   7|     6|     8|   21|\n",
      "|  13|   New Zealand (NZL)|   7|     6|     7|   20|\n",
      "|  14|          Cuba (CUB)|   7|     3|     5|   15|\n",
      "|  15|       Hungary (HUN)|   6|     7|     7|   20|\n",
      "|  16|   South Korea (KOR)|   6|     4|    10|   20|\n",
      "|  17|        Poland (POL)|   4|     5|     5|   14|\n",
      "|  18|Czech Republic (CZE)|   4|     4|     3|   11|\n",
      "|  19|         Kenya (KEN)|   4|     4|     2|   10|\n",
      "|  20|        Norway (NOR)|   4|     2|     2|    8|\n",
      "+----+--------------------+----+------+------+-----+\n",
      "only showing top 20 rows\n",
      "\n"
     ]
    }
   ],
   "source": [
    "df_pyspark_olimpics.show()"
   ]
  },
  {
   "cell_type": "code",
   "execution_count": 14,
   "id": "e7f2b94d-de68-4f3e-ada6-6ec0ed2b1e09",
   "metadata": {},
   "outputs": [
    {
     "name": "stdout",
     "output_type": "stream",
     "text": [
      "root\n",
      " |-- Rank: integer (nullable = true)\n",
      " |-- Team: string (nullable = true)\n",
      " |-- Gold: integer (nullable = true)\n",
      " |-- Silver: integer (nullable = true)\n",
      " |-- Bronze: integer (nullable = true)\n",
      " |-- Total: integer (nullable = true)\n",
      "\n"
     ]
    }
   ],
   "source": [
    "### Check the schema\n",
    "df_pyspark_olimpics.printSchema()"
   ]
  },
  {
   "cell_type": "code",
   "execution_count": 15,
   "id": "984ef26b-931d-44a0-802b-cf9775e42fde",
   "metadata": {},
   "outputs": [
    {
     "data": {
      "text/plain": [
       "pyspark.sql.dataframe.DataFrame"
      ]
     },
     "execution_count": 15,
     "metadata": {},
     "output_type": "execute_result"
    }
   ],
   "source": [
    "type(df_pyspark_olimpics)"
   ]
  },
  {
   "cell_type": "code",
   "execution_count": 16,
   "id": "22879ccc-57e1-446c-9218-19eed61f006e",
   "metadata": {},
   "outputs": [
    {
     "data": {
      "text/plain": [
       "['Rank', 'Team', 'Gold', 'Silver', 'Bronze', 'Total']"
      ]
     },
     "execution_count": 16,
     "metadata": {},
     "output_type": "execute_result"
    }
   ],
   "source": [
    "df_pyspark_olimpics.columns"
   ]
  },
  {
   "cell_type": "code",
   "execution_count": 17,
   "id": "d5d1b8c5-f1c8-41c8-a18d-5965a854d7e9",
   "metadata": {},
   "outputs": [
    {
     "data": {
      "text/plain": [
       "[Row(Rank=1, Team='United States (USA)', Gold=39, Silver=41, Bronze=33, Total=113),\n",
       " Row(Rank=2, Team='China (CHN)', Gold=38, Silver=32, Bronze=18, Total=88),\n",
       " Row(Rank=3, Team='Japan (JPN)', Gold=27, Silver=14, Bronze=17, Total=58)]"
      ]
     },
     "execution_count": 17,
     "metadata": {},
     "output_type": "execute_result"
    }
   ],
   "source": [
    "df_pyspark_olimpics.head(3)"
   ]
  },
  {
   "cell_type": "code",
   "execution_count": 18,
   "id": "bae66fa6-b608-4207-9047-66940d4381b8",
   "metadata": {},
   "outputs": [
    {
     "name": "stdout",
     "output_type": "stream",
     "text": [
      "+----+--------------------+----+------+------+-----+\n",
      "|Rank|                Team|Gold|Silver|Bronze|Total|\n",
      "+----+--------------------+----+------+------+-----+\n",
      "|   1| United States (USA)|  39|    41|    33|  113|\n",
      "|   2|         China (CHN)|  38|    32|    18|   88|\n",
      "|   3|         Japan (JPN)|  27|    14|    17|   58|\n",
      "|   4| Great Britain (GBR)|  22|    21|    22|   65|\n",
      "|   5|           ROC (ROC)|  20|    28|    23|   71|\n",
      "|   6|     Australia (AUS)|  17|     7|    22|   46|\n",
      "|   7|   Netherlands (NED)|  10|    12|    14|   36|\n",
      "|   8|        France (FRA)|  10|    12|    11|   33|\n",
      "|   9|       Germany (GER)|  10|    11|    16|   37|\n",
      "|  10|         Italy (ITA)|  10|    10|    20|   40|\n",
      "|  11|        Canada (CAN)|   7|     6|    11|   24|\n",
      "|  12|        Brazil (BRA)|   7|     6|     8|   21|\n",
      "|  13|   New Zealand (NZL)|   7|     6|     7|   20|\n",
      "|  14|          Cuba (CUB)|   7|     3|     5|   15|\n",
      "|  15|       Hungary (HUN)|   6|     7|     7|   20|\n",
      "|  16|   South Korea (KOR)|   6|     4|    10|   20|\n",
      "|  17|        Poland (POL)|   4|     5|     5|   14|\n",
      "|  18|Czech Republic (CZE)|   4|     4|     3|   11|\n",
      "|  19|         Kenya (KEN)|   4|     4|     2|   10|\n",
      "|  20|        Norway (NOR)|   4|     2|     2|    8|\n",
      "+----+--------------------+----+------+------+-----+\n",
      "only showing top 20 rows\n",
      "\n"
     ]
    }
   ],
   "source": [
    "df_pyspark_olimpics.show()"
   ]
  },
  {
   "cell_type": "code",
   "execution_count": 19,
   "id": "bad69810-d655-4f6e-8f2f-6c877f2a7407",
   "metadata": {},
   "outputs": [
    {
     "data": {
      "text/plain": [
       "DataFrame[Team: string, Gold: int]"
      ]
     },
     "execution_count": 19,
     "metadata": {},
     "output_type": "execute_result"
    }
   ],
   "source": [
    "df_pyspark_olimpics.select(['Team','Gold'])"
   ]
  },
  {
   "cell_type": "code",
   "execution_count": 21,
   "id": "9b340598-c78e-4e58-a22a-32259d466e03",
   "metadata": {},
   "outputs": [
    {
     "name": "stdout",
     "output_type": "stream",
     "text": [
      "+--------------------+----+\n",
      "|                Team|Gold|\n",
      "+--------------------+----+\n",
      "| United States (USA)|  39|\n",
      "|         China (CHN)|  38|\n",
      "|         Japan (JPN)|  27|\n",
      "| Great Britain (GBR)|  22|\n",
      "|           ROC (ROC)|  20|\n",
      "|     Australia (AUS)|  17|\n",
      "|   Netherlands (NED)|  10|\n",
      "|        France (FRA)|  10|\n",
      "|       Germany (GER)|  10|\n",
      "|         Italy (ITA)|  10|\n",
      "|        Canada (CAN)|   7|\n",
      "|        Brazil (BRA)|   7|\n",
      "|   New Zealand (NZL)|   7|\n",
      "|          Cuba (CUB)|   7|\n",
      "|       Hungary (HUN)|   6|\n",
      "|   South Korea (KOR)|   6|\n",
      "|        Poland (POL)|   4|\n",
      "|Czech Republic (CZE)|   4|\n",
      "|         Kenya (KEN)|   4|\n",
      "|        Norway (NOR)|   4|\n",
      "+--------------------+----+\n",
      "only showing top 20 rows\n",
      "\n"
     ]
    }
   ],
   "source": [
    "df_pyspark_olimpics.select(['Team','Gold']).show()"
   ]
  },
  {
   "cell_type": "code",
   "execution_count": 24,
   "id": "250d6504-2fc1-4c20-adf1-f41a0ff77c2d",
   "metadata": {},
   "outputs": [
    {
     "data": {
      "text/plain": [
       "Column<'Team'>"
      ]
     },
     "execution_count": 24,
     "metadata": {},
     "output_type": "execute_result"
    }
   ],
   "source": [
    "df_pyspark_olimpics['Team']"
   ]
  },
  {
   "cell_type": "code",
   "execution_count": 25,
   "id": "26406cd0-10fc-4374-9572-fa852429271b",
   "metadata": {},
   "outputs": [
    {
     "data": {
      "text/plain": [
       "[('Rank', 'int'),\n",
       " ('Team', 'string'),\n",
       " ('Gold', 'int'),\n",
       " ('Silver', 'int'),\n",
       " ('Bronze', 'int'),\n",
       " ('Total', 'int')]"
      ]
     },
     "execution_count": 25,
     "metadata": {},
     "output_type": "execute_result"
    }
   ],
   "source": [
    "df_pyspark_olimpics.dtypes"
   ]
  },
  {
   "cell_type": "code",
   "execution_count": 26,
   "id": "f7f8e57b-37ec-446a-b730-310e2eb2eaab",
   "metadata": {},
   "outputs": [
    {
     "data": {
      "text/plain": [
       "DataFrame[summary: string, Rank: string, Team: string, Gold: string, Silver: string, Bronze: string, Total: string]"
      ]
     },
     "execution_count": 26,
     "metadata": {},
     "output_type": "execute_result"
    }
   ],
   "source": [
    "df_pyspark_olimpics.describe()"
   ]
  },
  {
   "cell_type": "code",
   "execution_count": 27,
   "id": "80934c61-4cd9-4f02-81b4-8d79bcbcacb8",
   "metadata": {},
   "outputs": [
    {
     "name": "stdout",
     "output_type": "stream",
     "text": [
      "+-------+------------------+---------------+------------------+------------------+-----------------+------------------+\n",
      "|summary|              Rank|           Team|              Gold|            Silver|           Bronze|             Total|\n",
      "+-------+------------------+---------------+------------------+------------------+-----------------+------------------+\n",
      "|  count|                93|             93|                93|                93|               93|                93|\n",
      "|   mean|46.333333333333336|           null|3.6559139784946235|3.6344086021505375| 4.32258064516129|11.612903225806452|\n",
      "| stddev| 26.21911571707763|           null| 7.022471111671374| 6.626338988947587|6.210372267639421|19.091332120411018|\n",
      "|    min|                 1|Argentina (ARG)|                 0|                 0|                0|                 1|\n",
      "|    max|                86|Venezuela (VEN)|                39|                41|               33|               113|\n",
      "+-------+------------------+---------------+------------------+------------------+-----------------+------------------+\n",
      "\n"
     ]
    }
   ],
   "source": [
    "df_pyspark_olimpics.describe().show()"
   ]
  },
  {
   "cell_type": "code",
   "execution_count": 28,
   "id": "cad8305d-bfdb-4233-b6bf-b91a94b6e48e",
   "metadata": {},
   "outputs": [
    {
     "name": "stdout",
     "output_type": "stream",
     "text": [
      "+----+--------------------+----+------+------+-----+------------------+\n",
      "|Rank|                Team|Gold|Silver|Bronze|Total|Quantity of sports|\n",
      "+----+--------------------+----+------+------+-----+------------------+\n",
      "|   1| United States (USA)|  39|    41|    33|  113|              90.4|\n",
      "|   2|         China (CHN)|  38|    32|    18|   88|              70.4|\n",
      "|   3|         Japan (JPN)|  27|    14|    17|   58|46.400000000000006|\n",
      "|   4| Great Britain (GBR)|  22|    21|    22|   65|              52.0|\n",
      "|   5|           ROC (ROC)|  20|    28|    23|   71|56.800000000000004|\n",
      "|   6|     Australia (AUS)|  17|     7|    22|   46|36.800000000000004|\n",
      "|   7|   Netherlands (NED)|  10|    12|    14|   36|              28.8|\n",
      "|   8|        France (FRA)|  10|    12|    11|   33|26.400000000000002|\n",
      "|   9|       Germany (GER)|  10|    11|    16|   37|              29.6|\n",
      "|  10|         Italy (ITA)|  10|    10|    20|   40|              32.0|\n",
      "|  11|        Canada (CAN)|   7|     6|    11|   24|19.200000000000003|\n",
      "|  12|        Brazil (BRA)|   7|     6|     8|   21|              16.8|\n",
      "|  13|   New Zealand (NZL)|   7|     6|     7|   20|              16.0|\n",
      "|  14|          Cuba (CUB)|   7|     3|     5|   15|              12.0|\n",
      "|  15|       Hungary (HUN)|   6|     7|     7|   20|              16.0|\n",
      "|  16|   South Korea (KOR)|   6|     4|    10|   20|              16.0|\n",
      "|  17|        Poland (POL)|   4|     5|     5|   14|11.200000000000001|\n",
      "|  18|Czech Republic (CZE)|   4|     4|     3|   11|               8.8|\n",
      "|  19|         Kenya (KEN)|   4|     4|     2|   10|               8.0|\n",
      "|  20|        Norway (NOR)|   4|     2|     2|    8|               6.4|\n",
      "+----+--------------------+----+------+------+-----+------------------+\n",
      "only showing top 20 rows\n",
      "\n"
     ]
    }
   ],
   "source": [
    "### Adding Columns in data frame\n",
    "df_pyspark_olimpics.withColumn('Quantity of sports',df_pyspark_olimpics['Total']*0.8).show()"
   ]
  },
  {
   "cell_type": "code",
   "execution_count": 29,
   "id": "9ea0f801-9aa8-43cf-908f-90b2d69e8123",
   "metadata": {},
   "outputs": [],
   "source": [
    "df_pyspark_olimpics = df_pyspark_olimpics.withColumn('Quantity of sports',df_pyspark_olimpics['Total']*0.8)"
   ]
  },
  {
   "cell_type": "code",
   "execution_count": 30,
   "id": "f7f64f1e-7439-4100-96ec-004293776f7c",
   "metadata": {},
   "outputs": [
    {
     "data": {
      "text/plain": [
       "DataFrame[Rank: int, Team: string, Gold: int, Silver: int, Bronze: int, Total: int, Quantity of sports: double]"
      ]
     },
     "execution_count": 30,
     "metadata": {},
     "output_type": "execute_result"
    }
   ],
   "source": [
    "df_pyspark_olimpics"
   ]
  },
  {
   "cell_type": "code",
   "execution_count": 31,
   "id": "9aa99563-0d42-4601-9b17-b5bae92ccf27",
   "metadata": {},
   "outputs": [
    {
     "name": "stdout",
     "output_type": "stream",
     "text": [
      "+----+--------------------+----+------+------+-----+------------------+\n",
      "|Rank|                Team|Gold|Silver|Bronze|Total|Quantity of sports|\n",
      "+----+--------------------+----+------+------+-----+------------------+\n",
      "|   1| United States (USA)|  39|    41|    33|  113|              90.4|\n",
      "|   2|         China (CHN)|  38|    32|    18|   88|              70.4|\n",
      "|   3|         Japan (JPN)|  27|    14|    17|   58|46.400000000000006|\n",
      "|   4| Great Britain (GBR)|  22|    21|    22|   65|              52.0|\n",
      "|   5|           ROC (ROC)|  20|    28|    23|   71|56.800000000000004|\n",
      "|   6|     Australia (AUS)|  17|     7|    22|   46|36.800000000000004|\n",
      "|   7|   Netherlands (NED)|  10|    12|    14|   36|              28.8|\n",
      "|   8|        France (FRA)|  10|    12|    11|   33|26.400000000000002|\n",
      "|   9|       Germany (GER)|  10|    11|    16|   37|              29.6|\n",
      "|  10|         Italy (ITA)|  10|    10|    20|   40|              32.0|\n",
      "|  11|        Canada (CAN)|   7|     6|    11|   24|19.200000000000003|\n",
      "|  12|        Brazil (BRA)|   7|     6|     8|   21|              16.8|\n",
      "|  13|   New Zealand (NZL)|   7|     6|     7|   20|              16.0|\n",
      "|  14|          Cuba (CUB)|   7|     3|     5|   15|              12.0|\n",
      "|  15|       Hungary (HUN)|   6|     7|     7|   20|              16.0|\n",
      "|  16|   South Korea (KOR)|   6|     4|    10|   20|              16.0|\n",
      "|  17|        Poland (POL)|   4|     5|     5|   14|11.200000000000001|\n",
      "|  18|Czech Republic (CZE)|   4|     4|     3|   11|               8.8|\n",
      "|  19|         Kenya (KEN)|   4|     4|     2|   10|               8.0|\n",
      "|  20|        Norway (NOR)|   4|     2|     2|    8|               6.4|\n",
      "+----+--------------------+----+------+------+-----+------------------+\n",
      "only showing top 20 rows\n",
      "\n"
     ]
    }
   ],
   "source": [
    "df_pyspark_olimpics.show()"
   ]
  },
  {
   "cell_type": "code",
   "execution_count": 32,
   "id": "8ade5e3a-a15f-4793-af38-aed46d468c8b",
   "metadata": {},
   "outputs": [
    {
     "name": "stdout",
     "output_type": "stream",
     "text": [
      "+----+--------------------+----+------+------+-----+\n",
      "|Rank|                Team|Gold|Silver|Bronze|Total|\n",
      "+----+--------------------+----+------+------+-----+\n",
      "|   1| United States (USA)|  39|    41|    33|  113|\n",
      "|   2|         China (CHN)|  38|    32|    18|   88|\n",
      "|   3|         Japan (JPN)|  27|    14|    17|   58|\n",
      "|   4| Great Britain (GBR)|  22|    21|    22|   65|\n",
      "|   5|           ROC (ROC)|  20|    28|    23|   71|\n",
      "|   6|     Australia (AUS)|  17|     7|    22|   46|\n",
      "|   7|   Netherlands (NED)|  10|    12|    14|   36|\n",
      "|   8|        France (FRA)|  10|    12|    11|   33|\n",
      "|   9|       Germany (GER)|  10|    11|    16|   37|\n",
      "|  10|         Italy (ITA)|  10|    10|    20|   40|\n",
      "|  11|        Canada (CAN)|   7|     6|    11|   24|\n",
      "|  12|        Brazil (BRA)|   7|     6|     8|   21|\n",
      "|  13|   New Zealand (NZL)|   7|     6|     7|   20|\n",
      "|  14|          Cuba (CUB)|   7|     3|     5|   15|\n",
      "|  15|       Hungary (HUN)|   6|     7|     7|   20|\n",
      "|  16|   South Korea (KOR)|   6|     4|    10|   20|\n",
      "|  17|        Poland (POL)|   4|     5|     5|   14|\n",
      "|  18|Czech Republic (CZE)|   4|     4|     3|   11|\n",
      "|  19|         Kenya (KEN)|   4|     4|     2|   10|\n",
      "|  20|        Norway (NOR)|   4|     2|     2|    8|\n",
      "+----+--------------------+----+------+------+-----+\n",
      "only showing top 20 rows\n",
      "\n"
     ]
    }
   ],
   "source": [
    "### Drop the columns\n",
    "df_pyspark_olimpics.drop('Quantity of sports').show()"
   ]
  },
  {
   "cell_type": "code",
   "execution_count": 33,
   "id": "5d63824f-78b0-4046-87f6-1d7a762bf2ed",
   "metadata": {},
   "outputs": [],
   "source": [
    "df_pyspark_olimpics = df_pyspark_olimpics.drop('Quantity of sports')"
   ]
  },
  {
   "cell_type": "code",
   "execution_count": 34,
   "id": "5394c1d1-3e7b-4fda-8aa9-65261bfb81b7",
   "metadata": {},
   "outputs": [
    {
     "name": "stdout",
     "output_type": "stream",
     "text": [
      "+----+--------------------+----+------+------+-----+\n",
      "|Rank|                Team|Gold|Silver|Bronze|Total|\n",
      "+----+--------------------+----+------+------+-----+\n",
      "|   1| United States (USA)|  39|    41|    33|  113|\n",
      "|   2|         China (CHN)|  38|    32|    18|   88|\n",
      "|   3|         Japan (JPN)|  27|    14|    17|   58|\n",
      "|   4| Great Britain (GBR)|  22|    21|    22|   65|\n",
      "|   5|           ROC (ROC)|  20|    28|    23|   71|\n",
      "|   6|     Australia (AUS)|  17|     7|    22|   46|\n",
      "|   7|   Netherlands (NED)|  10|    12|    14|   36|\n",
      "|   8|        France (FRA)|  10|    12|    11|   33|\n",
      "|   9|       Germany (GER)|  10|    11|    16|   37|\n",
      "|  10|         Italy (ITA)|  10|    10|    20|   40|\n",
      "|  11|        Canada (CAN)|   7|     6|    11|   24|\n",
      "|  12|        Brazil (BRA)|   7|     6|     8|   21|\n",
      "|  13|   New Zealand (NZL)|   7|     6|     7|   20|\n",
      "|  14|          Cuba (CUB)|   7|     3|     5|   15|\n",
      "|  15|       Hungary (HUN)|   6|     7|     7|   20|\n",
      "|  16|   South Korea (KOR)|   6|     4|    10|   20|\n",
      "|  17|        Poland (POL)|   4|     5|     5|   14|\n",
      "|  18|Czech Republic (CZE)|   4|     4|     3|   11|\n",
      "|  19|         Kenya (KEN)|   4|     4|     2|   10|\n",
      "|  20|        Norway (NOR)|   4|     2|     2|    8|\n",
      "+----+--------------------+----+------+------+-----+\n",
      "only showing top 20 rows\n",
      "\n"
     ]
    }
   ],
   "source": [
    "df_pyspark_olimpics.show()"
   ]
  },
  {
   "cell_type": "code",
   "execution_count": 36,
   "id": "150b73fc-b0d4-47ea-86d3-16f69425f086",
   "metadata": {},
   "outputs": [
    {
     "name": "stdout",
     "output_type": "stream",
     "text": [
      "+----+--------------------+----+------+------+-----+\n",
      "|Rank|             Country|Gold|Silver|Bronze|Total|\n",
      "+----+--------------------+----+------+------+-----+\n",
      "|   1| United States (USA)|  39|    41|    33|  113|\n",
      "|   2|         China (CHN)|  38|    32|    18|   88|\n",
      "|   3|         Japan (JPN)|  27|    14|    17|   58|\n",
      "|   4| Great Britain (GBR)|  22|    21|    22|   65|\n",
      "|   5|           ROC (ROC)|  20|    28|    23|   71|\n",
      "|   6|     Australia (AUS)|  17|     7|    22|   46|\n",
      "|   7|   Netherlands (NED)|  10|    12|    14|   36|\n",
      "|   8|        France (FRA)|  10|    12|    11|   33|\n",
      "|   9|       Germany (GER)|  10|    11|    16|   37|\n",
      "|  10|         Italy (ITA)|  10|    10|    20|   40|\n",
      "|  11|        Canada (CAN)|   7|     6|    11|   24|\n",
      "|  12|        Brazil (BRA)|   7|     6|     8|   21|\n",
      "|  13|   New Zealand (NZL)|   7|     6|     7|   20|\n",
      "|  14|          Cuba (CUB)|   7|     3|     5|   15|\n",
      "|  15|       Hungary (HUN)|   6|     7|     7|   20|\n",
      "|  16|   South Korea (KOR)|   6|     4|    10|   20|\n",
      "|  17|        Poland (POL)|   4|     5|     5|   14|\n",
      "|  18|Czech Republic (CZE)|   4|     4|     3|   11|\n",
      "|  19|         Kenya (KEN)|   4|     4|     2|   10|\n",
      "|  20|        Norway (NOR)|   4|     2|     2|    8|\n",
      "+----+--------------------+----+------+------+-----+\n",
      "only showing top 20 rows\n",
      "\n"
     ]
    }
   ],
   "source": [
    "### Rename the columns\n",
    "df_pyspark_olimpics.withColumnRenamed('Team', 'Country').show()"
   ]
  },
  {
   "cell_type": "code",
   "execution_count": null,
   "id": "fd325c9c-908a-42c5-871d-4db8e3bbb4c8",
   "metadata": {},
   "outputs": [],
   "source": []
  }
 ],
 "metadata": {
  "kernelspec": {
   "display_name": "Python 3 (ipykernel)",
   "language": "python",
   "name": "python3"
  },
  "language_info": {
   "codemirror_mode": {
    "name": "ipython",
    "version": 3
   },
   "file_extension": ".py",
   "mimetype": "text/x-python",
   "name": "python",
   "nbconvert_exporter": "python",
   "pygments_lexer": "ipython3",
   "version": "3.8.8"
  }
 },
 "nbformat": 4,
 "nbformat_minor": 5
}
