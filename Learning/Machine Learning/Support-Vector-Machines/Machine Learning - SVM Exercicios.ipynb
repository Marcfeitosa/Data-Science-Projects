{
 "cells": [
  {
   "cell_type": "markdown",
   "metadata": {},
   "source": [
    "# Data Science do Zero"
   ]
  },
  {
   "cell_type": "markdown",
   "metadata": {},
   "source": [
    "# Exercícios de Machine Learning - SVM"
   ]
  },
  {
   "cell_type": "markdown",
   "metadata": {},
   "source": [
    "1) Explique o que é conjuntos de **treino** e conjuntos de **teste** e porque esses conjuntos recebem esse nome."
   ]
  },
  {
   "cell_type": "markdown",
   "metadata": {},
   "source": [
    "Resposta: São separações de partes para o dataset destinadas ao treino do modelo de machine learning e ao teste do modelo."
   ]
  },
  {
   "cell_type": "markdown",
   "metadata": {},
   "source": [
    "## Complete os códigos abaixo"
   ]
  },
  {
   "cell_type": "markdown",
   "metadata": {},
   "source": [
    "2) Leia o arquivo de dados usando o pandas e defina o nome do dataframe como **df_spotify**"
   ]
  },
  {
   "cell_type": "code",
   "execution_count": 2,
   "metadata": {},
   "outputs": [],
   "source": [
    "import pandas as pd"
   ]
  },
  {
   "cell_type": "code",
   "execution_count": 3,
   "metadata": {},
   "outputs": [],
   "source": [
    "df_spotify = pd.read_csv(r\"C:\\Users\\marcf\\OneDrive\\Documentos\\Ciencia de dados\\SVM-Materiais-Apoio\\data.csv\",\n",
    "                     sep=',')"
   ]
  },
  {
   "cell_type": "markdown",
   "metadata": {},
   "source": [
    "3) Remova as colunas 'id' e 'song_title' de forma que alteração modifique o dataframe em **memória**"
   ]
  },
  {
   "cell_type": "code",
   "execution_count": 6,
   "metadata": {},
   "outputs": [],
   "source": [
    "def remove_features(lista_features):\n",
    "    for i in lista_features:\n",
    "        df_spotify.drop(i, axis=1, inplace=True)\n",
    "    return 'Colunas retiradas'"
   ]
  },
  {
   "cell_type": "code",
   "execution_count": 7,
   "metadata": {},
   "outputs": [
    {
     "data": {
      "text/plain": [
       "'Colunas retiradas'"
      ]
     },
     "execution_count": 7,
     "metadata": {},
     "output_type": "execute_result"
    }
   ],
   "source": [
    "remove_features(['id','song_title'])"
   ]
  },
  {
   "cell_type": "markdown",
   "metadata": {},
   "source": [
    "4) Aplique o Label Encoder nos dados:"
   ]
  },
  {
   "cell_type": "code",
   "execution_count": 8,
   "metadata": {},
   "outputs": [],
   "source": [
    "from sklearn.preprocessing import LabelEncoder\n",
    "enc = LabelEncoder()\n",
    "inteiros = enc.fit_transform(df_spotify['artist'])\n",
    "df_spotify['artist_inteiros'] = inteiros\n",
    "df_spotify.drop('artist', axis=1, inplace=True)"
   ]
  },
  {
   "cell_type": "markdown",
   "metadata": {},
   "source": [
    "5) Explique o que corresponde cada **variável** abaixo apos execução do seguinte comando: \n",
    "    \n",
    "X_train, X_test, y_train, y_test = train_test_split(df_spotify, classes)\n",
    "    \n",
    "X_train = Conjunto de dados para o treino do algorítmo no eixo x\n",
    "\n",
    "X_test = Conjunto de dados para o teste do algorítmo no enxo x\n",
    "\n",
    "y_train = Conjunto de dados para o treino do algorítmo no eixo y\n",
    "\n",
    "y_test = Conjunto de dados para o teste do algorítmo no enxo y"
   ]
  },
  {
   "cell_type": "markdown",
   "metadata": {},
   "source": [
    "6) Crie uma variável chamada **classes** e atribua os dados da coluna **target**. Em seguida remova a coluna target de forma definitiva do dataframe em memória."
   ]
  },
  {
   "cell_type": "code",
   "execution_count": 9,
   "metadata": {},
   "outputs": [],
   "source": [
    "classes = classes = df_spotify['target']\n",
    "df_spotify.drop('target',axis=1, inplace=True)"
   ]
  },
  {
   "cell_type": "markdown",
   "metadata": {},
   "source": [
    "7) Separe os dados para validar o algoritmo"
   ]
  },
  {
   "cell_type": "code",
   "execution_count": 13,
   "metadata": {},
   "outputs": [],
   "source": [
    "from sklearn.model_selection import train_test_split\n",
    "X_train, X_test, y_train, y_test = train_test_split(df_spotify, classes)\n",
    "from sklearn import svm"
   ]
  },
  {
   "cell_type": "markdown",
   "metadata": {},
   "source": [
    "8) Instancia um objeto chamado **classificador_svm**"
   ]
  },
  {
   "cell_type": "code",
   "execution_count": 14,
   "metadata": {},
   "outputs": [],
   "source": [
    "classificador_svm = svm.SVC()"
   ]
  },
  {
   "cell_type": "markdown",
   "metadata": {},
   "source": [
    "9) Treine seu algoritmo e gere um Modelo, explique de forma simples o que é um **modelo**"
   ]
  },
  {
   "cell_type": "code",
   "execution_count": 16,
   "metadata": {},
   "outputs": [
    {
     "data": {
      "text/plain": [
       "SVC()"
      ]
     },
     "execution_count": 16,
     "metadata": {},
     "output_type": "execute_result"
    }
   ],
   "source": [
    "classificador_svm.fit(X_train,y_train)"
   ]
  },
  {
   "cell_type": "markdown",
   "metadata": {},
   "source": [
    "Explicação: o modelo vai classificar parte do nosso dataset para treinos, considerando os eixos x e y. e separar a outra parte para testar o modelo"
   ]
  },
  {
   "cell_type": "markdown",
   "metadata": {},
   "source": [
    "10) Valide seu modelo imprimindo o valor de acurácia:"
   ]
  },
  {
   "cell_type": "code",
   "execution_count": 18,
   "metadata": {},
   "outputs": [
    {
     "data": {
      "text/plain": [
       "0.5582010582010583"
      ]
     },
     "execution_count": 18,
     "metadata": {},
     "output_type": "execute_result"
    }
   ],
   "source": [
    "classificador_svm.score(X_train,y_train)"
   ]
  },
  {
   "cell_type": "markdown",
   "metadata": {},
   "source": [
    "11) Execute uma **Validação Cruzada** com 10 folds para validar seu modelo e explique de forma resumida porque a validação cruzada é importante."
   ]
  },
  {
   "cell_type": "code",
   "execution_count": 20,
   "metadata": {},
   "outputs": [],
   "source": [
    "from sklearn.model_selection import cross_val_predict\n",
    "resultados = cross_val_predict(classificador_svm, df_spotify, classes, cv=10)"
   ]
  },
  {
   "cell_type": "markdown",
   "metadata": {},
   "source": [
    "Explicação:"
   ]
  },
  {
   "cell_type": "markdown",
   "metadata": {},
   "source": [
    "12) Imprima a acurácia do modelo apos a validação cruzada"
   ]
  },
  {
   "cell_type": "code",
   "execution_count": 22,
   "metadata": {},
   "outputs": [
    {
     "name": "stdout",
     "output_type": "stream",
     "text": [
      "0.5582548339117501\n"
     ]
    }
   ],
   "source": [
    "from sklearn import metrics\n",
    "print (metrics.accuracy_score(classes,resultados))"
   ]
  },
  {
   "cell_type": "markdown",
   "metadata": {},
   "source": [
    "13) Crie um pipeline chamado **MD_01** com as seguintes configurações:\n",
    "\n",
    "    a) Standardscaler como a primeira etapa.\n",
    "    b) Classificador SVM com Kernel RBF,  C=100 , gamma= 0.01.\n",
    "\n",
    "Edite as células abaixo."
   ]
  },
  {
   "cell_type": "code",
   "execution_count": 23,
   "metadata": {},
   "outputs": [],
   "source": [
    "# Importe as bibliotecas de Pipelines e Pré-processadores\n",
    "\n",
    "from sklearn.pipeline import Pipeline\n",
    "from sklearn.preprocessing import StandardScaler\n",
    "from sklearn.preprocessing import MinMaxScaler"
   ]
  },
  {
   "cell_type": "code",
   "execution_count": 24,
   "metadata": {},
   "outputs": [],
   "source": [
    "# Criando Pipeline\n",
    "\n",
    "MD_01 = Pipeline([\n",
    "    ('scaler', StandardScaler()),\n",
    "    ('classificador', svm.SVC(kernel='rbf',C=100 , gamma= 0.01))\n",
    "])"
   ]
  },
  {
   "cell_type": "markdown",
   "metadata": {},
   "source": [
    "14) Teste o desempenho do seu modelo (pipeline) com a função acurácia"
   ]
  },
  {
   "cell_type": "code",
   "execution_count": 26,
   "metadata": {},
   "outputs": [
    {
     "data": {
      "text/plain": [
       "0.7208725830441249"
      ]
     },
     "execution_count": 26,
     "metadata": {},
     "output_type": "execute_result"
    }
   ],
   "source": [
    "# Teste o modelo usando o pipeline(criado anteriormente)\n",
    "\n",
    "def Acuracia(classificador_svm,x,y):\n",
    "    resultados = cross_val_predict(classificador_svm, x, y, cv=10)\n",
    "    return metrics.accuracy_score(y, resultados)\n",
    "\n",
    "Acuracia(MD_01,df_spotify,classes)"
   ]
  },
  {
   "cell_type": "markdown",
   "metadata": {},
   "source": [
    "15) Crie outros pipelines e refaça todos os passos anteriores para validar outros modelos como:\n",
    "    * Kernel linear\n",
    "    * Kernel poly\n",
    "    * Kernel Rbf (outros valores de C e gamma)"
   ]
  },
  {
   "cell_type": "code",
   "execution_count": 27,
   "metadata": {},
   "outputs": [
    {
     "data": {
      "text/plain": [
       "0.624194348041646"
      ]
     },
     "execution_count": 27,
     "metadata": {},
     "output_type": "execute_result"
    }
   ],
   "source": [
    "MD_02 = Pipeline([\n",
    "    ('scaler', StandardScaler()),\n",
    "    ('classificador', svm.SVC(kernel='linear',C=100 , gamma= 0.01))\n",
    "])\n",
    "\n",
    "Acuracia(MD_02,df_spotify,classes)"
   ]
  },
  {
   "cell_type": "code",
   "execution_count": 28,
   "metadata": {},
   "outputs": [
    {
     "data": {
      "text/plain": [
       "0.6460089241447695"
      ]
     },
     "execution_count": 28,
     "metadata": {},
     "output_type": "execute_result"
    }
   ],
   "source": [
    "MD_03 = Pipeline([\n",
    "    ('scaler', StandardScaler()),\n",
    "    ('classificador', svm.SVC(kernel='poly',C=100 , gamma= 0.01))\n",
    "])\n",
    "\n",
    "Acuracia(MD_03,df_spotify,classes)"
   ]
  },
  {
   "cell_type": "code",
   "execution_count": 32,
   "metadata": {},
   "outputs": [
    {
     "data": {
      "text/plain": [
       "0.7149231531978185"
      ]
     },
     "execution_count": 32,
     "metadata": {},
     "output_type": "execute_result"
    }
   ],
   "source": [
    "MD_04 = Pipeline([\n",
    "    ('scaler',StandardScaler()),\n",
    "    ('classificador', svm.SVC())\n",
    "])\n",
    "\n",
    "Acuracia(MD_04,df_spotify,classes)"
   ]
  },
  {
   "cell_type": "code",
   "execution_count": 34,
   "metadata": {},
   "outputs": [
    {
     "data": {
      "text/plain": [
       "0.6757560733763014"
      ]
     },
     "execution_count": 34,
     "metadata": {},
     "output_type": "execute_result"
    }
   ],
   "source": [
    "MD_05 = Pipeline([\n",
    "    ('min_max_scaler', MinMaxScaler()),\n",
    "    ('classificador',svm.SVC())\n",
    "])\n",
    "\n",
    "Acuracia(MD_05,df_spotify,classes) "
   ]
  },
  {
   "cell_type": "code",
   "execution_count": 48,
   "metadata": {},
   "outputs": [
    {
     "data": {
      "text/plain": [
       "0.624194348041646"
      ]
     },
     "execution_count": 48,
     "metadata": {},
     "output_type": "execute_result"
    }
   ],
   "source": [
    "# Variação MD_02 -> MD testes\n",
    "import random\n",
    "\n",
    "MD_teste = Pipeline([\n",
    "    ('scaler', StandardScaler()),\n",
    "    ('classificador', svm.SVC(kernel='linear',C=random.randint(50, 100) , gamma= random.uniform(0.01, 1)))\n",
    "])\n",
    "\n",
    "Acuracia(MD_teste,df_spotify,classes)"
   ]
  },
  {
   "cell_type": "markdown",
   "metadata": {},
   "source": [
    "Ficou com alguma dúvida?\n",
    "\n",
    "Envie um e-mail para ** *contato@minerandodados.com.br* ** ou comente na área de membros."
   ]
  }
 ],
 "metadata": {
  "kernelspec": {
   "display_name": "Python 3",
   "language": "python",
   "name": "python3"
  },
  "language_info": {
   "codemirror_mode": {
    "name": "ipython",
    "version": 3
   },
   "file_extension": ".py",
   "mimetype": "text/x-python",
   "name": "python",
   "nbconvert_exporter": "python",
   "pygments_lexer": "ipython3",
   "version": "3.10.2"
  },
  "vscode": {
   "interpreter": {
    "hash": "8e2c452b310d59c1aa663b03b46e062ac1a755fd84c63e833b943d781dfe4742"
   }
  }
 },
 "nbformat": 4,
 "nbformat_minor": 2
}
