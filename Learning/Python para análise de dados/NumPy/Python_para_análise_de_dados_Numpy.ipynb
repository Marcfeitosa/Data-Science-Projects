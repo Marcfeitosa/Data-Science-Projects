{
  "nbformat": 4,
  "nbformat_minor": 0,
  "metadata": {
    "colab": {
      "provenance": [],
      "authorship_tag": "ABX9TyNcyaiMiv8JBYmhdcS1ptdU",
      "include_colab_link": true
    },
    "kernelspec": {
      "name": "python3",
      "display_name": "Python 3"
    },
    "language_info": {
      "name": "python"
    }
  },
  "cells": [
    {
      "cell_type": "markdown",
      "metadata": {
        "id": "view-in-github",
        "colab_type": "text"
      },
      "source": [
        "<a href=\"https://colab.research.google.com/github/Marcfeitosa/Data-Science-Projects/blob/main/Python_para_an%C3%A1lise_de_dados_Numpy.ipynb\" target=\"_parent\"><img src=\"https://colab.research.google.com/assets/colab-badge.svg\" alt=\"Open In Colab\"/></a>"
      ]
    },
    {
      "cell_type": "code",
      "execution_count": null,
      "metadata": {
        "id": "GqCHdypSfGK2"
      },
      "outputs": [],
      "source": [
        "#importando a bilbioteca numpy\n",
        "import numpy as np"
      ]
    },
    {
      "cell_type": "code",
      "source": [
        "# Criano um array de 1 dimensão\n",
        "one_dim = np.array([1,2,3,4])"
      ],
      "metadata": {
        "id": "pkqBbgsWfVuz"
      },
      "execution_count": null,
      "outputs": []
    },
    {
      "cell_type": "code",
      "source": [
        "type(one_dim)"
      ],
      "metadata": {
        "colab": {
          "base_uri": "https://localhost:8080/"
        },
        "id": "-xxnFSbpkPJX",
        "outputId": "6d6b0112-1fef-43e9-d1e0-eff057e553ef"
      },
      "execution_count": null,
      "outputs": [
        {
          "output_type": "execute_result",
          "data": {
            "text/plain": [
              "numpy.ndarray"
            ]
          },
          "metadata": {},
          "execution_count": 13
        }
      ]
    },
    {
      "cell_type": "code",
      "source": [
        "# Imprimindo um array\n",
        "one_dim.ndim"
      ],
      "metadata": {
        "colab": {
          "base_uri": "https://localhost:8080/"
        },
        "id": "QKBA9wn6ff5t",
        "outputId": "b541e2dc-786c-4b06-c984-6b792a44c781"
      },
      "execution_count": null,
      "outputs": [
        {
          "output_type": "execute_result",
          "data": {
            "text/plain": [
              "1"
            ]
          },
          "metadata": {},
          "execution_count": 6
        }
      ]
    },
    {
      "cell_type": "code",
      "source": [
        "# Criando um array de 2 dimensões.\n",
        "two_dim = np.array([(1,2,3), (4,5,6)])"
      ],
      "metadata": {
        "id": "0YO8I371fmx8"
      },
      "execution_count": null,
      "outputs": []
    },
    {
      "cell_type": "code",
      "source": [
        "two_dim"
      ],
      "metadata": {
        "colab": {
          "base_uri": "https://localhost:8080/"
        },
        "id": "V2kSYaDjf5af",
        "outputId": "53307888-5e25-4206-ded0-9cc4c7fe8988"
      },
      "execution_count": null,
      "outputs": [
        {
          "output_type": "execute_result",
          "data": {
            "text/plain": [
              "array([[1, 2, 3],\n",
              "       [4, 5, 6]])"
            ]
          },
          "metadata": {},
          "execution_count": 8
        }
      ]
    },
    {
      "cell_type": "code",
      "source": [
        "#Cria um arrau de números aleatórios.\n",
        "# Um array de 5 linhas e duas dimensões.\n",
        "np.random.random((5,2))"
      ],
      "metadata": {
        "colab": {
          "base_uri": "https://localhost:8080/"
        },
        "id": "I3Z3u9PIf68W",
        "outputId": "17bfa6e4-1c4b-4d89-a01d-154418cdf7f3"
      },
      "execution_count": null,
      "outputs": [
        {
          "output_type": "execute_result",
          "data": {
            "text/plain": [
              "array([[0.10654109, 0.20565609],\n",
              "       [0.06041236, 0.57045303],\n",
              "       [0.8112946 , 0.60896359],\n",
              "       [0.36090107, 0.11040882],\n",
              "       [0.67229151, 0.48829919]])"
            ]
          },
          "metadata": {},
          "execution_count": 10
        }
      ]
    },
    {
      "cell_type": "code",
      "source": [
        "#Cria um array com valores esparsos iniciando com o valor 10, menor que 50 e incrementando d 5 em 5\n",
        "np.arange(10,50,5)"
      ],
      "metadata": {
        "colab": {
          "base_uri": "https://localhost:8080/"
        },
        "id": "Og0BHkXBgD7o",
        "outputId": "d2d630e1-067c-4cf8-95cb-729b760bb31b"
      },
      "execution_count": null,
      "outputs": [
        {
          "output_type": "execute_result",
          "data": {
            "text/plain": [
              "array([10, 15, 20, 25, 30, 35, 40, 45])"
            ]
          },
          "metadata": {},
          "execution_count": 14
        }
      ]
    },
    {
      "cell_type": "code",
      "source": [
        "#Cria um array linear de 0 a 2 de no máximo 9 elementos.\n",
        "np.linspace(0,2,9)"
      ],
      "metadata": {
        "colab": {
          "base_uri": "https://localhost:8080/"
        },
        "id": "-iwrfmYAqBpF",
        "outputId": "a191b378-dfd5-4429-f209-7a17e9bc1afd"
      },
      "execution_count": null,
      "outputs": [
        {
          "output_type": "execute_result",
          "data": {
            "text/plain": [
              "array([0.  , 0.25, 0.5 , 0.75, 1.  , 1.25, 1.5 , 1.75, 2.  ])"
            ]
          },
          "metadata": {},
          "execution_count": 15
        }
      ]
    },
    {
      "cell_type": "code",
      "source": [
        "#Cria um array de valores zero.\n",
        "#Cria um array com 3 linhas e 4 dimensões.\n",
        "np.zeros((3,4))"
      ],
      "metadata": {
        "colab": {
          "base_uri": "https://localhost:8080/"
        },
        "id": "FhNvRYBsqSyy",
        "outputId": "e3c36659-450a-4787-ff18-853703849a61"
      },
      "execution_count": null,
      "outputs": [
        {
          "output_type": "execute_result",
          "data": {
            "text/plain": [
              "array([[0., 0., 0., 0.],\n",
              "       [0., 0., 0., 0.],\n",
              "       [0., 0., 0., 0.]])"
            ]
          },
          "metadata": {},
          "execution_count": 16
        }
      ]
    },
    {
      "cell_type": "markdown",
      "source": [
        "##Numpy Arrays Vs Listas\n",
        "\n",
        "\n",
        "*   Arrays Numpy permitem fazemos operações em arrays inteiros de forma rápida\n",
        "*   Listas não permitem operações em todos os elementos da lista\n",
        "*   Para operações em todos os elementos é preciso iterar sobre toa a lista.\n",
        "*   Listas em Python armazenam diferentes tipos de objetos\n",
        "*   Arrays Numpy considera todos os elementos de tipos distintos como strings\n"
      ],
      "metadata": {
        "id": "VWtzMq4Vqer7"
      }
    },
    {
      "cell_type": "code",
      "source": [
        "#Criando uma lista em Python.\n",
        "lista = [1,2,3]"
      ],
      "metadata": {
        "id": "36E93TJyqb8x"
      },
      "execution_count": null,
      "outputs": []
    },
    {
      "cell_type": "code",
      "source": [
        "lista"
      ],
      "metadata": {
        "colab": {
          "base_uri": "https://localhost:8080/"
        },
        "id": "MoaX8khAsXKr",
        "outputId": "fc6c3a7f-4bab-49c8-d59f-038e0cd0f297"
      },
      "execution_count": null,
      "outputs": [
        {
          "output_type": "execute_result",
          "data": {
            "text/plain": [
              "array([1, 2, 3])"
            ]
          },
          "metadata": {},
          "execution_count": 24
        }
      ]
    },
    {
      "cell_type": "code",
      "source": [
        "# Multiplica valores da lista por 2.\n",
        "lista * 2"
      ],
      "metadata": {
        "colab": {
          "base_uri": "https://localhost:8080/"
        },
        "id": "EPbz9S1DrQ8-",
        "outputId": "a2523a74-ba36-4c4a-8655-3896de68aadd"
      },
      "execution_count": null,
      "outputs": [
        {
          "output_type": "execute_result",
          "data": {
            "text/plain": [
              "[1, 2, 3, 1, 2, 3]"
            ]
          },
          "metadata": {},
          "execution_count": 18
        }
      ]
    },
    {
      "cell_type": "code",
      "source": [
        "#Transformando a variável lista em um array Numpy\n",
        "lista = np.array(lista)"
      ],
      "metadata": {
        "id": "xdsmhyu8rW8Y"
      },
      "execution_count": null,
      "outputs": []
    },
    {
      "cell_type": "code",
      "source": [
        "lista"
      ],
      "metadata": {
        "colab": {
          "base_uri": "https://localhost:8080/"
        },
        "id": "b7aVgYMMswrt",
        "outputId": "fbe105ec-512f-4cc3-a0c6-a83d00992897"
      },
      "execution_count": null,
      "outputs": [
        {
          "output_type": "execute_result",
          "data": {
            "text/plain": [
              "array([1, 2, 3])"
            ]
          },
          "metadata": {},
          "execution_count": 26
        }
      ]
    },
    {
      "cell_type": "code",
      "source": [
        "type(lista)"
      ],
      "metadata": {
        "colab": {
          "base_uri": "https://localhost:8080/"
        },
        "id": "tOTZ-akSrbj-",
        "outputId": "0a677a98-f6f8-4da1-8d3b-e986730288eb"
      },
      "execution_count": null,
      "outputs": [
        {
          "output_type": "execute_result",
          "data": {
            "text/plain": [
              "numpy.ndarray"
            ]
          },
          "metadata": {},
          "execution_count": 20
        }
      ]
    },
    {
      "cell_type": "code",
      "source": [
        "#multiplicando cada elemento po 2\n",
        "lista * 2"
      ],
      "metadata": {
        "colab": {
          "base_uri": "https://localhost:8080/"
        },
        "id": "fjt1TmT0rd98",
        "outputId": "5d60a8f3-b33d-4ff4-8b88-2f7032cbfe16"
      },
      "execution_count": null,
      "outputs": [
        {
          "output_type": "execute_result",
          "data": {
            "text/plain": [
              "array([2, 4, 6])"
            ]
          },
          "metadata": {},
          "execution_count": 21
        }
      ]
    },
    {
      "cell_type": "code",
      "source": [
        "#calcular IMC de pessoas\n",
        "\n",
        "pesos = [67,81,120,90]\n",
        "alturas = [1.68, 1.70, 1.75, 1.85]"
      ],
      "metadata": {
        "id": "kfWJlePTrto_"
      },
      "execution_count": null,
      "outputs": []
    },
    {
      "cell_type": "code",
      "source": [
        "#transformando as listas em arrays Numpy\n",
        "\n",
        "pesos = np.array(pesos)\n",
        "alturas = np.array(alturas)"
      ],
      "metadata": {
        "id": "9bUvB5AbtMQE"
      },
      "execution_count": null,
      "outputs": []
    },
    {
      "cell_type": "code",
      "source": [
        "#Faz o cálculo usando as listas\n",
        "pesos / alturas ** 2"
      ],
      "metadata": {
        "colab": {
          "base_uri": "https://localhost:8080/"
        },
        "id": "lzTSkfzAsEnl",
        "outputId": "6d50fa9d-fe29-4eff-f125-6d27c82797a4"
      },
      "execution_count": null,
      "outputs": [
        {
          "output_type": "execute_result",
          "data": {
            "text/plain": [
              "array([23.73866213, 28.02768166, 39.18367347, 26.29656684])"
            ]
          },
          "metadata": {},
          "execution_count": 29
        }
      ]
    },
    {
      "cell_type": "code",
      "source": [
        "# arraus Numpy armazenam elementos como Strings quando estes não são inteiros ou float\n",
        "a = np.array([1,3,'casa',True])"
      ],
      "metadata": {
        "id": "Z-1_Gx7vtYf0"
      },
      "execution_count": null,
      "outputs": []
    },
    {
      "cell_type": "code",
      "source": [
        "a"
      ],
      "metadata": {
        "colab": {
          "base_uri": "https://localhost:8080/"
        },
        "id": "eRbo3OVotry9",
        "outputId": "49c6c7f9-f181-4396-be4b-fa4a03bfc111"
      },
      "execution_count": null,
      "outputs": [
        {
          "output_type": "execute_result",
          "data": {
            "text/plain": [
              "array(['1', '3', 'casa', 'True'], dtype='<U21')"
            ]
          },
          "metadata": {},
          "execution_count": 31
        }
      ]
    },
    {
      "cell_type": "code",
      "source": [
        "a * 2"
      ],
      "metadata": {
        "colab": {
          "base_uri": "https://localhost:8080/",
          "height": 165
        },
        "id": "4f3N-NXMtsXX",
        "outputId": "0f62c203-c16c-4de8-bfc3-a5b757d1d4f5"
      },
      "execution_count": null,
      "outputs": [
        {
          "output_type": "error",
          "ename": "UFuncTypeError",
          "evalue": "ignored",
          "traceback": [
            "\u001b[0;31m---------------------------------------------------------------------------\u001b[0m",
            "\u001b[0;31mUFuncTypeError\u001b[0m                            Traceback (most recent call last)",
            "\u001b[0;32m<ipython-input-33-6fafc0d5b9c5>\u001b[0m in \u001b[0;36m<module>\u001b[0;34m\u001b[0m\n\u001b[0;32m----> 1\u001b[0;31m \u001b[0ma\u001b[0m \u001b[0;34m*\u001b[0m\u001b[0;36m2\u001b[0m\u001b[0;34m\u001b[0m\u001b[0;34m\u001b[0m\u001b[0m\n\u001b[0m",
            "\u001b[0;31mUFuncTypeError\u001b[0m: ufunc 'multiply' did not contain a loop with signature matching types (dtype('<U21'), dtype('int64')) -> None"
          ]
        }
      ]
    },
    {
      "cell_type": "markdown",
      "source": [
        "## Métodos e Atributos"
      ],
      "metadata": {
        "id": "O4y9OS0tuInd"
      }
    },
    {
      "cell_type": "code",
      "source": [
        "# Métodos disponívels (digite o . pressione tab)\n",
        "two_dim."
      ],
      "metadata": {
        "id": "zAGywCLktuGj"
      },
      "execution_count": null,
      "outputs": []
    },
    {
      "cell_type": "code",
      "source": [
        "two_dim"
      ],
      "metadata": {
        "colab": {
          "base_uri": "https://localhost:8080/"
        },
        "id": "9cnKnf5xul4Z",
        "outputId": "909ef45a-8885-452b-a6c0-915cfc522e28"
      },
      "execution_count": null,
      "outputs": [
        {
          "output_type": "execute_result",
          "data": {
            "text/plain": [
              "array([[1, 2, 3],\n",
              "       [4, 5, 6]])"
            ]
          },
          "metadata": {},
          "execution_count": 34
        }
      ]
    },
    {
      "cell_type": "code",
      "source": [
        "two_dim.shape"
      ],
      "metadata": {
        "colab": {
          "base_uri": "https://localhost:8080/"
        },
        "id": "Rg-uFpYeunZZ",
        "outputId": "851bdd26-d7d0-43c0-f5a1-0e4289f07811"
      },
      "execution_count": null,
      "outputs": [
        {
          "output_type": "execute_result",
          "data": {
            "text/plain": [
              "(2, 3)"
            ]
          },
          "metadata": {},
          "execution_count": 35
        }
      ]
    },
    {
      "cell_type": "code",
      "source": [
        "two_dim.ndim"
      ],
      "metadata": {
        "colab": {
          "base_uri": "https://localhost:8080/"
        },
        "id": "P4HnEqeOusRJ",
        "outputId": "f4d43f06-b97f-4bd8-b31c-b2369818e427"
      },
      "execution_count": null,
      "outputs": [
        {
          "output_type": "execute_result",
          "data": {
            "text/plain": [
              "2"
            ]
          },
          "metadata": {},
          "execution_count": 36
        }
      ]
    },
    {
      "cell_type": "code",
      "source": [
        "two_dim.max()"
      ],
      "metadata": {
        "colab": {
          "base_uri": "https://localhost:8080/"
        },
        "id": "zSHkRCcGuuXS",
        "outputId": "904f9f21-1b9e-40e2-cd89-fd6d8ab4640d"
      },
      "execution_count": null,
      "outputs": [
        {
          "output_type": "execute_result",
          "data": {
            "text/plain": [
              "6"
            ]
          },
          "metadata": {},
          "execution_count": 37
        }
      ]
    },
    {
      "cell_type": "code",
      "source": [
        "two_dim.min()"
      ],
      "metadata": {
        "colab": {
          "base_uri": "https://localhost:8080/"
        },
        "id": "61WRtBbpuw91",
        "outputId": "30a6f9fe-e39b-4247-aa3e-474a669b7473"
      },
      "execution_count": null,
      "outputs": [
        {
          "output_type": "execute_result",
          "data": {
            "text/plain": [
              "1"
            ]
          },
          "metadata": {},
          "execution_count": 38
        }
      ]
    },
    {
      "cell_type": "code",
      "source": [
        "two_dim.mean()"
      ],
      "metadata": {
        "colab": {
          "base_uri": "https://localhost:8080/"
        },
        "id": "rrAq_rWquy5e",
        "outputId": "dd846180-044b-4458-99de-c892212cfe80"
      },
      "execution_count": null,
      "outputs": [
        {
          "output_type": "execute_result",
          "data": {
            "text/plain": [
              "3.5"
            ]
          },
          "metadata": {},
          "execution_count": 39
        }
      ]
    },
    {
      "cell_type": "code",
      "source": [
        "# Imprime o desvio padrão\n",
        "\n",
        "two_dim.std()"
      ],
      "metadata": {
        "colab": {
          "base_uri": "https://localhost:8080/"
        },
        "id": "zxf5CdSHu1au",
        "outputId": "28f7b22f-d57a-4a0b-e79c-a2b052f29dc9"
      },
      "execution_count": null,
      "outputs": [
        {
          "output_type": "execute_result",
          "data": {
            "text/plain": [
              "1.707825127659933"
            ]
          },
          "metadata": {},
          "execution_count": 40
        }
      ]
    },
    {
      "cell_type": "code",
      "source": [
        "two_dim.dtype"
      ],
      "metadata": {
        "colab": {
          "base_uri": "https://localhost:8080/"
        },
        "id": "IB1F7QISu_Ka",
        "outputId": "d5d7398a-94a3-47ba-c04a-6270c7f42a47"
      },
      "execution_count": null,
      "outputs": [
        {
          "output_type": "execute_result",
          "data": {
            "text/plain": [
              "dtype('int64')"
            ]
          },
          "metadata": {},
          "execution_count": 42
        }
      ]
    },
    {
      "cell_type": "code",
      "source": [
        "two_dim.size"
      ],
      "metadata": {
        "colab": {
          "base_uri": "https://localhost:8080/"
        },
        "id": "oyC_dDJNvDOt",
        "outputId": "395736c8-9984-473f-94a4-1c476dcb92d1"
      },
      "execution_count": null,
      "outputs": [
        {
          "output_type": "execute_result",
          "data": {
            "text/plain": [
              "6"
            ]
          },
          "metadata": {},
          "execution_count": 43
        }
      ]
    },
    {
      "cell_type": "code",
      "source": [
        "# Mostra a quantidade de itens em bites\n",
        "two_dim.itemsize"
      ],
      "metadata": {
        "colab": {
          "base_uri": "https://localhost:8080/"
        },
        "id": "VE_gedP9vKEX",
        "outputId": "bbba06e1-de19-4460-fec1-d0307831acd2"
      },
      "execution_count": null,
      "outputs": [
        {
          "output_type": "execute_result",
          "data": {
            "text/plain": [
              "8"
            ]
          },
          "metadata": {},
          "execution_count": 44
        }
      ]
    },
    {
      "cell_type": "code",
      "source": [
        "# Somando todos os elementos do array\n",
        "two_dim.sum()"
      ],
      "metadata": {
        "colab": {
          "base_uri": "https://localhost:8080/"
        },
        "id": "SKw2XEffvMkG",
        "outputId": "0b09875d-3964-4e42-b04a-cd14e3f94ee3"
      },
      "execution_count": null,
      "outputs": [
        {
          "output_type": "execute_result",
          "data": {
            "text/plain": [
              "21"
            ]
          },
          "metadata": {},
          "execution_count": 45
        }
      ]
    },
    {
      "cell_type": "markdown",
      "source": [
        "## Transformando Arrays"
      ],
      "metadata": {
        "id": "X3e8fnFLvU8L"
      }
    },
    {
      "cell_type": "code",
      "source": [
        "two_dim"
      ],
      "metadata": {
        "colab": {
          "base_uri": "https://localhost:8080/"
        },
        "id": "jY4NHF8vvRMb",
        "outputId": "aae9c1eb-9a49-4b52-b6ff-6902b13339a5"
      },
      "execution_count": null,
      "outputs": [
        {
          "output_type": "execute_result",
          "data": {
            "text/plain": [
              "array([[1, 2, 3],\n",
              "       [4, 5, 6]])"
            ]
          },
          "metadata": {},
          "execution_count": 46
        }
      ]
    },
    {
      "cell_type": "code",
      "source": [
        "# Gera a transposta da Matriz (linha -> coluna)\n",
        "two_dim.T"
      ],
      "metadata": {
        "colab": {
          "base_uri": "https://localhost:8080/"
        },
        "id": "pmSxMjHPv0tQ",
        "outputId": "77c89231-5780-4b2d-926d-cd9c77b90877"
      },
      "execution_count": null,
      "outputs": [
        {
          "output_type": "execute_result",
          "data": {
            "text/plain": [
              "array([[1, 4],\n",
              "       [2, 5],\n",
              "       [3, 6]])"
            ]
          },
          "metadata": {},
          "execution_count": 48
        }
      ]
    },
    {
      "cell_type": "code",
      "source": [
        "# Transforma em uma matriz de uma linha.\n",
        "# É muito comum em bilbiotecas como Scikit-learn e Keras\n",
        "two_dim.reshape(-1)"
      ],
      "metadata": {
        "colab": {
          "base_uri": "https://localhost:8080/"
        },
        "id": "Vx8JNQvsv7oP",
        "outputId": "e915fe66-e2c0-4bb1-e443-85bda38df62a"
      },
      "execution_count": null,
      "outputs": [
        {
          "output_type": "execute_result",
          "data": {
            "text/plain": [
              "array([1, 2, 3, 4, 5, 6])"
            ]
          },
          "metadata": {},
          "execution_count": 49
        }
      ]
    },
    {
      "cell_type": "code",
      "source": [
        "tree = np.random.random((5,3))"
      ],
      "metadata": {
        "id": "qq3xUGfCwQRG"
      },
      "execution_count": null,
      "outputs": []
    },
    {
      "cell_type": "code",
      "source": [
        "tree.shape"
      ],
      "metadata": {
        "colab": {
          "base_uri": "https://localhost:8080/"
        },
        "id": "2MCIuprUwbTu",
        "outputId": "3b18775a-2914-42b9-cb3f-4205de716d87"
      },
      "execution_count": null,
      "outputs": [
        {
          "output_type": "execute_result",
          "data": {
            "text/plain": [
              "(5, 3)"
            ]
          },
          "metadata": {},
          "execution_count": 51
        }
      ]
    },
    {
      "cell_type": "code",
      "source": [
        "# Transforma em uma matriz com 3 linhas e 5 colunas"
      ],
      "metadata": {
        "id": "OctfBB9xwc8u"
      },
      "execution_count": null,
      "outputs": []
    },
    {
      "cell_type": "code",
      "source": [
        "tree.reshape(3,5)"
      ],
      "metadata": {
        "colab": {
          "base_uri": "https://localhost:8080/"
        },
        "id": "8RBHMqduwgxb",
        "outputId": "281fd7a1-1813-4e33-e5f6-15908caf0998"
      },
      "execution_count": null,
      "outputs": [
        {
          "output_type": "execute_result",
          "data": {
            "text/plain": [
              "array([[0.51255175, 0.47622013, 0.85326859, 0.36106956, 0.91291428],\n",
              "       [0.41218476, 0.46162412, 0.42588981, 0.07434782, 0.55124538],\n",
              "       [0.46482471, 0.43802625, 0.57007955, 0.49889969, 0.51148943]])"
            ]
          },
          "metadata": {},
          "execution_count": 54
        }
      ]
    },
    {
      "cell_type": "code",
      "source": [
        "tree.reshape(-1).shape"
      ],
      "metadata": {
        "colab": {
          "base_uri": "https://localhost:8080/"
        },
        "id": "AUE5qyCwwi2E",
        "outputId": "73f22f4d-6144-4e6b-cd54-0e1d6a081444"
      },
      "execution_count": null,
      "outputs": [
        {
          "output_type": "execute_result",
          "data": {
            "text/plain": [
              "(15,)"
            ]
          },
          "metadata": {},
          "execution_count": 55
        }
      ]
    },
    {
      "cell_type": "code",
      "source": [
        "t=tree.reshape(1,15)\n",
        "t.shape"
      ],
      "metadata": {
        "colab": {
          "base_uri": "https://localhost:8080/"
        },
        "id": "x0crj-5iwphl",
        "outputId": "04b67ea5-4901-4e7b-ee84-3ee5d87be3fd"
      },
      "execution_count": null,
      "outputs": [
        {
          "output_type": "execute_result",
          "data": {
            "text/plain": [
              "(1, 15)"
            ]
          },
          "metadata": {},
          "execution_count": 57
        }
      ]
    },
    {
      "cell_type": "code",
      "source": [
        "t=tree.reshape(1,15)\n",
        "t"
      ],
      "metadata": {
        "colab": {
          "base_uri": "https://localhost:8080/"
        },
        "id": "wal2ietZxnxV",
        "outputId": "2dc82bdb-06de-4d41-8e20-11e4a736526b"
      },
      "execution_count": null,
      "outputs": [
        {
          "output_type": "execute_result",
          "data": {
            "text/plain": [
              "array([[0.51255175, 0.47622013, 0.85326859, 0.36106956, 0.91291428,\n",
              "        0.41218476, 0.46162412, 0.42588981, 0.07434782, 0.55124538,\n",
              "        0.46482471, 0.43802625, 0.57007955, 0.49889969, 0.51148943]])"
            ]
          },
          "metadata": {},
          "execution_count": 60
        }
      ]
    },
    {
      "cell_type": "code",
      "source": [
        "tree.reshape(-1)"
      ],
      "metadata": {
        "colab": {
          "base_uri": "https://localhost:8080/"
        },
        "id": "2KVcVSdax3ZN",
        "outputId": "65bc32f3-33e4-47e6-ecd7-6770b831350e"
      },
      "execution_count": null,
      "outputs": [
        {
          "output_type": "execute_result",
          "data": {
            "text/plain": [
              "array([0.51255175, 0.47622013, 0.85326859, 0.36106956, 0.91291428,\n",
              "       0.41218476, 0.46162412, 0.42588981, 0.07434782, 0.55124538,\n",
              "       0.46482471, 0.43802625, 0.57007955, 0.49889969, 0.51148943])"
            ]
          },
          "metadata": {},
          "execution_count": 62
        }
      ]
    },
    {
      "cell_type": "code",
      "source": [
        "two_dim"
      ],
      "metadata": {
        "colab": {
          "base_uri": "https://localhost:8080/"
        },
        "id": "FW8nTCvtxqrH",
        "outputId": "3abaeb34-4cc5-4039-fc1c-0a27f3f4fea7"
      },
      "execution_count": null,
      "outputs": [
        {
          "output_type": "execute_result",
          "data": {
            "text/plain": [
              "array([10,  1,  2,  3,  4,  5,  6])"
            ]
          },
          "metadata": {},
          "execution_count": 63
        }
      ]
    },
    {
      "cell_type": "code",
      "source": [
        "#Adicionando elementos a um array\n",
        "two_dim = np.insert(two_dim,0,10)"
      ],
      "metadata": {
        "id": "xyF0YNh0wvj7"
      },
      "execution_count": null,
      "outputs": []
    },
    {
      "cell_type": "code",
      "source": [
        "#Transforma em um array de uma linha.\n",
        "two_dim"
      ],
      "metadata": {
        "colab": {
          "base_uri": "https://localhost:8080/"
        },
        "id": "8D348GHKw4w3",
        "outputId": "2525ec2c-d036-4447-b114-4cdd7ff52bbd"
      },
      "execution_count": null,
      "outputs": [
        {
          "output_type": "execute_result",
          "data": {
            "text/plain": [
              "array([10,  1,  2,  3,  4,  5,  6])"
            ]
          },
          "metadata": {},
          "execution_count": 59
        }
      ]
    },
    {
      "cell_type": "code",
      "source": [
        "# Apagando o elemento da primeira posição do array\n",
        "two_dim = np.delete(two_dim,[0])"
      ],
      "metadata": {
        "id": "FAcU7G3KyOzR"
      },
      "execution_count": null,
      "outputs": []
    },
    {
      "cell_type": "code",
      "source": [
        "two_dim"
      ],
      "metadata": {
        "colab": {
          "base_uri": "https://localhost:8080/"
        },
        "id": "RvLa-rBMyaxt",
        "outputId": "2b2d2d79-21cc-46a8-c46e-7cf8b24b6fb6"
      },
      "execution_count": null,
      "outputs": [
        {
          "output_type": "execute_result",
          "data": {
            "text/plain": [
              "array([1, 2, 3, 4, 5, 6])"
            ]
          },
          "metadata": {},
          "execution_count": 65
        }
      ]
    },
    {
      "cell_type": "code",
      "source": [
        "# Gerando um arquivo TXT a partir de um array\n",
        "\n",
        "np.savetxt('dataset_array.txt',two_dim, delimiter=',')"
      ],
      "metadata": {
        "id": "vFOSW5NCw-ud"
      },
      "execution_count": null,
      "outputs": []
    },
    {
      "cell_type": "markdown",
      "source": [
        "#Acesando Dimensões no Array"
      ],
      "metadata": {
        "id": "PDvbZiSFz0pr"
      }
    },
    {
      "cell_type": "code",
      "source": [
        "# Gera um array aleatório de 10 linhas e 2 colunas\n",
        "# formato linha, coluna\n",
        "my_array = np.random.random([10,2])"
      ],
      "metadata": {
        "id": "A2bQmrozz7N6"
      },
      "execution_count": null,
      "outputs": []
    },
    {
      "cell_type": "code",
      "source": [
        "my_array"
      ],
      "metadata": {
        "colab": {
          "base_uri": "https://localhost:8080/"
        },
        "id": "rZ4NmTcP0Lwp",
        "outputId": "925b5d35-fac8-4985-e536-67c9a8380c64"
      },
      "execution_count": null,
      "outputs": [
        {
          "output_type": "execute_result",
          "data": {
            "text/plain": [
              "array([[0.66262994, 0.04502982],\n",
              "       [0.31991077, 0.88142963],\n",
              "       [0.06660147, 0.98032439],\n",
              "       [0.66031139, 0.8410686 ],\n",
              "       [0.28012098, 0.95188981],\n",
              "       [0.20741093, 0.46729239],\n",
              "       [0.72842947, 0.65422307],\n",
              "       [0.47324511, 0.30950075],\n",
              "       [0.5253363 , 0.76142683],\n",
              "       [0.99557049, 0.03669946]])"
            ]
          },
          "metadata": {},
          "execution_count": 70
        }
      ]
    },
    {
      "cell_type": "code",
      "source": [
        "# Imprimindo o primeiro elemento (1 linha)\n",
        "my_array[0]"
      ],
      "metadata": {
        "colab": {
          "base_uri": "https://localhost:8080/"
        },
        "id": "AkK1pPXI0cl0",
        "outputId": "f1de41c2-4bc9-4f3c-c3a0-49c9a0fb136f"
      },
      "execution_count": null,
      "outputs": [
        {
          "output_type": "execute_result",
          "data": {
            "text/plain": [
              "array([0.66262994, 0.04502982])"
            ]
          },
          "metadata": {},
          "execution_count": 71
        }
      ]
    },
    {
      "cell_type": "code",
      "source": [
        "#Imprimindo o primeiro elemento da coluna 0 (1ª coluna)\n",
        "\n",
        "my_array[0][0]"
      ],
      "metadata": {
        "colab": {
          "base_uri": "https://localhost:8080/"
        },
        "id": "dh_Cn4ch0Nf8",
        "outputId": "ebf6b244-f09d-46d0-bdbc-2fa9aa18ee7a"
      },
      "execution_count": null,
      "outputs": [
        {
          "output_type": "execute_result",
          "data": {
            "text/plain": [
              "0.6626299441815777"
            ]
          },
          "metadata": {},
          "execution_count": 72
        }
      ]
    },
    {
      "cell_type": "code",
      "source": [
        "# Iimprimindo o elemento da coluna 1\n",
        "my_array[0][1]"
      ],
      "metadata": {
        "colab": {
          "base_uri": "https://localhost:8080/"
        },
        "id": "GcAi2YzM1AzL",
        "outputId": "c6f47f05-3e41-4833-a866-8848e416438a"
      },
      "execution_count": null,
      "outputs": [
        {
          "output_type": "execute_result",
          "data": {
            "text/plain": [
              "0.04502981809636808"
            ]
          },
          "metadata": {},
          "execution_count": 74
        }
      ]
    },
    {
      "cell_type": "code",
      "source": [
        "# imprimindo o segundo elemento da coluna 1\n",
        "my_array[1][1]"
      ],
      "metadata": {
        "colab": {
          "base_uri": "https://localhost:8080/"
        },
        "id": "-OUJkF7j1N5O",
        "outputId": "f4e576db-702c-4cdf-de4c-e52a01a7acef"
      },
      "execution_count": null,
      "outputs": [
        {
          "output_type": "execute_result",
          "data": {
            "text/plain": [
              "0.8814296338633933"
            ]
          },
          "metadata": {},
          "execution_count": 75
        }
      ]
    },
    {
      "cell_type": "code",
      "source": [
        "#Imprimindo o segundo elemento da coluna escrito com vírgula.\n",
        "# O primeiro valor especifica a linha e o segundo valor especifica a coluna.\n",
        "my_array[1,1]"
      ],
      "metadata": {
        "colab": {
          "base_uri": "https://localhost:8080/"
        },
        "id": "7kRzJgch0m1f",
        "outputId": "0e68c962-095f-44c9-f13f-1d975b377c09"
      },
      "execution_count": null,
      "outputs": [
        {
          "output_type": "execute_result",
          "data": {
            "text/plain": [
              "0.8814296338633933"
            ]
          },
          "metadata": {},
          "execution_count": 76
        }
      ]
    },
    {
      "cell_type": "code",
      "source": [
        "# Imprimindo até 3 valores da coluna 1\n",
        "my_array[:3,1]"
      ],
      "metadata": {
        "colab": {
          "base_uri": "https://localhost:8080/"
        },
        "id": "3x561dsO14_M",
        "outputId": "dcc76172-443a-4253-aaf3-863676abcbf5"
      },
      "execution_count": null,
      "outputs": [
        {
          "output_type": "execute_result",
          "data": {
            "text/plain": [
              "array([0.04502982, 0.88142963, 0.98032439])"
            ]
          },
          "metadata": {},
          "execution_count": 77
        }
      ]
    },
    {
      "cell_type": "code",
      "source": [
        "# Imprimindo todas as linhas da coluna 2 * 10\n",
        "my_array[:,1] * 10"
      ],
      "metadata": {
        "colab": {
          "base_uri": "https://localhost:8080/"
        },
        "id": "2t0WjvYj2C-l",
        "outputId": "218bddd0-126f-47fa-899a-dc62ecd22665"
      },
      "execution_count": null,
      "outputs": [
        {
          "output_type": "execute_result",
          "data": {
            "text/plain": [
              "array([0.45029818, 8.81429634, 9.80324393, 8.41068604, 9.51889805,\n",
              "       4.67292385, 6.54223072, 3.09500752, 7.61426828, 0.36699457])"
            ]
          },
          "metadata": {},
          "execution_count": 79
        }
      ]
    },
    {
      "cell_type": "code",
      "source": [
        "# Comparação retorna indices\n",
        "my_array > 0.50"
      ],
      "metadata": {
        "colab": {
          "base_uri": "https://localhost:8080/"
        },
        "id": "mRkQvTPp2QwI",
        "outputId": "1c073760-d415-4208-cd4d-052fae45cb5c"
      },
      "execution_count": null,
      "outputs": [
        {
          "output_type": "execute_result",
          "data": {
            "text/plain": [
              "array([[ True, False],\n",
              "       [False,  True],\n",
              "       [False,  True],\n",
              "       [ True,  True],\n",
              "       [False,  True],\n",
              "       [False, False],\n",
              "       [ True,  True],\n",
              "       [False, False],\n",
              "       [ True,  True],\n",
              "       [ True, False]])"
            ]
          },
          "metadata": {},
          "execution_count": 80
        }
      ]
    },
    {
      "cell_type": "code",
      "source": [
        "# Acessando os valores por indices\n",
        "my_array[my_array > 0.50]"
      ],
      "metadata": {
        "colab": {
          "base_uri": "https://localhost:8080/"
        },
        "id": "SP1m5y3c2aT-",
        "outputId": "c8ffebd6-850a-4809-e6e4-a8e185934143"
      },
      "execution_count": null,
      "outputs": [
        {
          "output_type": "execute_result",
          "data": {
            "text/plain": [
              "array([0.66262994, 0.88142963, 0.98032439, 0.66031139, 0.8410686 ,\n",
              "       0.95188981, 0.72842947, 0.65422307, 0.5253363 , 0.76142683,\n",
              "       0.99557049])"
            ]
          },
          "metadata": {},
          "execution_count": 81
        }
      ]
    },
    {
      "cell_type": "markdown",
      "source": [
        "##Carregar Arrays Numpy a partir de arquivos de Texto"
      ],
      "metadata": {
        "id": "F4wuDHJg2j24"
      }
    },
    {
      "cell_type": "code",
      "source": [
        "from google.colab import drive\n",
        "drive.mount('/content/drive')"
      ],
      "metadata": {
        "colab": {
          "base_uri": "https://localhost:8080/"
        },
        "id": "Y6fLdSnY3d6n",
        "outputId": "c8d3f14e-5ee4-4914-d8ac-d29f188e4eec"
      },
      "execution_count": null,
      "outputs": [
        {
          "output_type": "stream",
          "name": "stdout",
          "text": [
            "Mounted at /content/drive\n"
          ]
        }
      ]
    },
    {
      "cell_type": "code",
      "source": [
        "# Lendo um arquivo do tipo .txt (arquivo já criado acima, para puxar esse arquivo é só rodá-lo outra vez)\n",
        "dataset = np.loadtxt('/content/dataset_array.txt', delimiter=',')"
      ],
      "metadata": {
        "id": "OFqJ6WYQ2ixA"
      },
      "execution_count": null,
      "outputs": []
    },
    {
      "cell_type": "code",
      "source": [
        "dataset.shape"
      ],
      "metadata": {
        "colab": {
          "base_uri": "https://localhost:8080/"
        },
        "id": "DcfyUOIs3b15",
        "outputId": "9577051d-4299-47ed-8c3d-b23d5849f3cc"
      },
      "execution_count": null,
      "outputs": [
        {
          "output_type": "execute_result",
          "data": {
            "text/plain": [
              "(6,)"
            ]
          },
          "metadata": {},
          "execution_count": 86
        }
      ]
    },
    {
      "cell_type": "code",
      "source": [
        "dataset"
      ],
      "metadata": {
        "colab": {
          "base_uri": "https://localhost:8080/"
        },
        "id": "Wkozas-c5kSs",
        "outputId": "f0cd9752-ca1c-4f78-df86-140e0a301659"
      },
      "execution_count": null,
      "outputs": [
        {
          "output_type": "execute_result",
          "data": {
            "text/plain": [
              "array([1., 2., 3., 4., 5., 6.])"
            ]
          },
          "metadata": {},
          "execution_count": 94
        }
      ]
    },
    {
      "cell_type": "code",
      "source": [
        "# Carregando um arquivo dividido em 3 arrays\n",
        "a,b,c = np.loadtxt('/content/dataset_valores.csv', skiprows=1, unpack=True)"
      ],
      "metadata": {
        "id": "esR4Wxny4NfJ"
      },
      "execution_count": null,
      "outputs": []
    },
    {
      "cell_type": "code",
      "source": [
        "# Array a\n",
        "a"
      ],
      "metadata": {
        "colab": {
          "base_uri": "https://localhost:8080/"
        },
        "id": "22SQ9QpL4eEP",
        "outputId": "3353a848-ffb0-475d-f875-e2bbae976f1e"
      },
      "execution_count": null,
      "outputs": [
        {
          "output_type": "execute_result",
          "data": {
            "text/plain": [
              "array([0.4839, 0.1292, 0.1781, 0.7676, 0.5993])"
            ]
          },
          "metadata": {},
          "execution_count": 107
        }
      ]
    },
    {
      "cell_type": "code",
      "source": [
        "# Array b\n",
        "b"
      ],
      "metadata": {
        "colab": {
          "base_uri": "https://localhost:8080/"
        },
        "id": "7lb8yLZc4uR7",
        "outputId": "c168bc56-ce19-4e0f-b896-16d61b508ac5"
      },
      "execution_count": null,
      "outputs": [
        {
          "output_type": "execute_result",
          "data": {
            "text/plain": [
              "array([0.4536, 0.6875, 0.3049, 0.5801, 0.4357])"
            ]
          },
          "metadata": {},
          "execution_count": 108
        }
      ]
    },
    {
      "cell_type": "code",
      "source": [
        "# Array c\n",
        "c"
      ],
      "metadata": {
        "colab": {
          "base_uri": "https://localhost:8080/"
        },
        "id": "VFE47oCD4wCd",
        "outputId": "805a7356-963b-4e7d-802c-d46426f25dc7"
      },
      "execution_count": null,
      "outputs": [
        {
          "output_type": "execute_result",
          "data": {
            "text/plain": [
              "array([0.3561, 0.6565, 0.8928, 0.2038, 0.741 ])"
            ]
          },
          "metadata": {},
          "execution_count": 109
        }
      ]
    },
    {
      "cell_type": "code",
      "source": [
        "# Carrega o arquivo ignorando as 2 primeiras linhas e preenchendo os valores vazios por 0\n",
        "# Obs: os valores string também são convertidos!!\n",
        "# para dar certo no Colab os valores precisam ser alterados no arquivo txt e salvos no formato .csv\n",
        "\n",
        "dataset = np.genfromtxt('/content/dataset_valores_vazio.csv', skip_header=1, filling_values=0)"
      ],
      "metadata": {
        "id": "BwYnK2iD4yX-"
      },
      "execution_count": null,
      "outputs": []
    },
    {
      "cell_type": "code",
      "source": [
        "#Imprimendo o dataset\n",
        "dataset"
      ],
      "metadata": {
        "colab": {
          "base_uri": "https://localhost:8080/"
        },
        "id": "Kg7g6PQm77XE",
        "outputId": "6e439d2b-c946-459c-8a20-a9d94118ac57"
      },
      "execution_count": null,
      "outputs": [
        {
          "output_type": "execute_result",
          "data": {
            "text/plain": [
              "array([[0.4839, 0.4536, 0.3561],\n",
              "       [0.1292, 0.6875, 0.    ],\n",
              "       [0.1781, 0.3049, 0.8928],\n",
              "       [0.    , 0.5801, 0.2038],\n",
              "       [0.5993, 0.4357, 0.741 ]])"
            ]
          },
          "metadata": {},
          "execution_count": 122
        }
      ]
    },
    {
      "cell_type": "code",
      "source": [],
      "metadata": {
        "id": "DHvZT0XV9nLk"
      },
      "execution_count": null,
      "outputs": []
    }
  ]
}