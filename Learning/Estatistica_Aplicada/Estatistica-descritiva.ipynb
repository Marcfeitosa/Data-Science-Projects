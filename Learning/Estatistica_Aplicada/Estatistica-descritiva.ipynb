{
 "cells": [
  {
   "cell_type": "code",
   "execution_count": 6,
   "id": "4eeaecfe",
   "metadata": {},
   "outputs": [
    {
     "name": "stdout",
     "output_type": "stream",
     "text": [
      "Requirement already satisfied: cycler in c:\\users\\marcf\\anaconda3\\lib\\site-packages (0.10.0)\n",
      "Requirement already satisfied: six in c:\\users\\marcf\\anaconda3\\lib\\site-packages (from cycler) (1.15.0)\n"
     ]
    }
   ],
   "source": [
    "!pip install cycler"
   ]
  },
  {
   "cell_type": "code",
   "execution_count": 81,
   "id": "26ada188",
   "metadata": {},
   "outputs": [],
   "source": [
    "import numpy as np\n",
    "import matplotlib.pyplot as plt\n",
    "from cycler import cycler\n",
    "from scipy.stats.mstats import gmean,hmean\n",
    "from scipy import stats"
   ]
  },
  {
   "cell_type": "code",
   "execution_count": 9,
   "id": "f3aac1ce",
   "metadata": {},
   "outputs": [],
   "source": [
    "dados = [1,2,5,3,4]"
   ]
  },
  {
   "cell_type": "code",
   "execution_count": null,
   "id": "2c06028f",
   "metadata": {},
   "outputs": [],
   "source": [
    "Média Artimética"
   ]
  },
  {
   "cell_type": "code",
   "execution_count": 10,
   "id": "5628ef5b",
   "metadata": {},
   "outputs": [
    {
     "data": {
      "text/plain": [
       "3.0"
      ]
     },
     "execution_count": 10,
     "metadata": {},
     "output_type": "execute_result"
    }
   ],
   "source": [
    "np.mean(dados)"
   ]
  },
  {
   "cell_type": "markdown",
   "id": "9a2713cf",
   "metadata": {},
   "source": [
    "Média Geomátrica"
   ]
  },
  {
   "cell_type": "code",
   "execution_count": 11,
   "id": "e6ad668b",
   "metadata": {},
   "outputs": [
    {
     "data": {
      "text/plain": [
       "2.6051710846973517"
      ]
     },
     "execution_count": 11,
     "metadata": {},
     "output_type": "execute_result"
    }
   ],
   "source": [
    "gmean(dados)"
   ]
  },
  {
   "cell_type": "markdown",
   "id": "5e83b327",
   "metadata": {},
   "source": [
    "Média Harmônica"
   ]
  },
  {
   "cell_type": "code",
   "execution_count": 12,
   "id": "3c80f0e9",
   "metadata": {},
   "outputs": [
    {
     "data": {
      "text/plain": [
       "2.18978102189781"
      ]
     },
     "execution_count": 12,
     "metadata": {},
     "output_type": "execute_result"
    }
   ],
   "source": [
    "hmean(dados)"
   ]
  },
  {
   "cell_type": "markdown",
   "id": "bb18e428",
   "metadata": {},
   "source": [
    "# Quando usar cada uma das médias?"
   ]
  },
  {
   "cell_type": "markdown",
   "id": "aaa25361",
   "metadata": {},
   "source": [
    "Funções para plotar gráficos"
   ]
  },
  {
   "cell_type": "code",
   "execution_count": 110,
   "id": "321704ea",
   "metadata": {},
   "outputs": [],
   "source": [
    "def plot_lines(dados, valor_central):\n",
    "  if valor_central in dados:\n",
    "    posicao_central = dados.index(valor_central)+1\n",
    "  else:\n",
    "    dados.append(valor_central)\n",
    "    dados.sort()\n",
    "    posicao_central = dados.index(valor_central)+1\n",
    "  \n",
    "  posicoes = np.arange(1,len(dados)+1,1)\n",
    "  plt.figure(figsize=(8,6))\n",
    "  plt.plot(posicoes,dados,'o-', color='red',ms=15)\n",
    "  plt.plot(posicao_central, valor_central, 'o-',color='blue',ms=15)\n",
    "  plt.show()"
   ]
  },
  {
   "cell_type": "code",
   "execution_count": 111,
   "id": "3ed9add7",
   "metadata": {},
   "outputs": [],
   "source": [
    "def plot_line_means(dados, mean, gmean,hmean):\n",
    "  posicoes_centrais=[]\n",
    "  y=[]\n",
    "  x = dados\n",
    "  \n",
    "  for m in [mean,gmean,hmean]:\n",
    "    x.append(m)\n",
    "  \n",
    "  x.sort()\n",
    "  for m in [mean,gmean,hmean]:\n",
    "    if m in x:\n",
    "      posicoes_centrais.append(x.index(m)+1)\n",
    "  \n",
    "  print(\"Dados: {}\".format(x))\n",
    "  print(\"Media aritmética: {}, Média Geométrica: {}, Média Harmonica: {}\".format(mean,gmean,hmean))\n",
    "  \n",
    "  y = np.arange(1,len(x)+1,1)\n",
    "  \n",
    "  plt.figure(figsize=(8,6))\n",
    "  plt.rc('axes', prop_cycle=(cycler('color', ['r', 'g', 'b'])))\n",
    "  plt.plot(y,x,'o-', color='black',ms=15)\n",
    "  medias = ['MA','MG','MH'] \n",
    "  i=0\n",
    "  for posicao_central,valor_central in zip(posicoes_centrais,[mean,gmean,hmean]):\n",
    "    plt.plot(posicao_central, valor_central, 'o-',ms=15)\n",
    "    plt.text(x=posicao_central+0.2, y=valor_central+0.2, s=medias[i], alpha=0.7, color='#334f8d')\n",
    "    i+=1\n",
    "\n",
    "  plt.show()"
   ]
  },
  {
   "cell_type": "code",
   "execution_count": 112,
   "id": "0cda6a51",
   "metadata": {},
   "outputs": [],
   "source": [
    "def plot_lines_horizontal(dados,valor_central):\n",
    "  plt.figure(figsize=(10,6))\n",
    "  y = 0\n",
    "  plt.hlines(y, min(dados), max(dados))\n",
    "  for n in dados:\n",
    "    if n == valor_central:\n",
    "      plt.plot(n,y, 'o', ms = 15, color='blue')\n",
    "      continue  \n",
    "    plt.plot(n,y, 'o', ms = 15, color = 'red')"
   ]
  },
  {
   "cell_type": "markdown",
   "id": "069c9c3d",
   "metadata": {},
   "source": [
    "### Considere os cenários\n",
    "\n",
    "Exemplo de dados gerados a partir de uma **operação de adição**, a soma do valor 3 em cada elemento do vetor (relacionamento linear)"
   ]
  },
  {
   "cell_type": "code",
   "execution_count": 21,
   "id": "721d402f",
   "metadata": {},
   "outputs": [],
   "source": [
    "dados_linear = [1, 4, 7, 10, 13, 16, 19]"
   ]
  },
  {
   "cell_type": "markdown",
   "id": "f86049f9",
   "metadata": {},
   "source": [
    "Calculando a média artimética"
   ]
  },
  {
   "cell_type": "code",
   "execution_count": 22,
   "id": "a5e78361",
   "metadata": {},
   "outputs": [],
   "source": [
    "media = int(np.mean(dados_linear))"
   ]
  },
  {
   "cell_type": "code",
   "execution_count": 23,
   "id": "87c005e1",
   "metadata": {},
   "outputs": [
    {
     "name": "stdout",
     "output_type": "stream",
     "text": [
      "Valor da média aritmética dos dados: 10\n"
     ]
    }
   ],
   "source": [
    "print(\"Valor da média aritmética dos dados: {}\".format(media))"
   ]
  },
  {
   "cell_type": "markdown",
   "id": "69cbbd5d",
   "metadata": {},
   "source": [
    "Plotando os dados e seu valor central"
   ]
  },
  {
   "cell_type": "code",
   "execution_count": 42,
   "id": "1958b98c",
   "metadata": {},
   "outputs": [],
   "source": [
    "plot_lines(dados_linear,media)"
   ]
  },
  {
   "cell_type": "code",
   "execution_count": 83,
   "id": "a3c04119",
   "metadata": {},
   "outputs": [
    {
     "ename": "NameError",
     "evalue": "name 'plot_lines_horizontal' is not defined",
     "output_type": "error",
     "traceback": [
      "\u001b[1;31m---------------------------------------------------------------------------\u001b[0m",
      "\u001b[1;31mNameError\u001b[0m                                 Traceback (most recent call last)",
      "\u001b[1;32m<ipython-input-83-06f0daf76dad>\u001b[0m in \u001b[0;36m<module>\u001b[1;34m\u001b[0m\n\u001b[1;32m----> 1\u001b[1;33m \u001b[0mplot_lines_horizontal\u001b[0m\u001b[1;33m(\u001b[0m\u001b[0mdados_linear\u001b[0m\u001b[1;33m,\u001b[0m\u001b[0mmedia\u001b[0m\u001b[1;33m)\u001b[0m\u001b[1;33m\u001b[0m\u001b[1;33m\u001b[0m\u001b[0m\n\u001b[0m",
      "\u001b[1;31mNameError\u001b[0m: name 'plot_lines_horizontal' is not defined"
     ]
    }
   ],
   "source": [
    "plot_lines_horizontal(dados_linear,media)"
   ]
  },
  {
   "cell_type": "markdown",
   "id": "63c7d4f8",
   "metadata": {},
   "source": [
    "Exemplo de dados gerados a partir de uma **operação de multiplicação**, a cada multiplicação de cada elemento pelo valor de 3(relacionamento exponencial)"
   ]
  },
  {
   "cell_type": "code",
   "execution_count": 43,
   "id": "6f0a0ee8",
   "metadata": {},
   "outputs": [],
   "source": [
    "dados_exponencial = [1,3,9,27,81,243,729]"
   ]
  },
  {
   "cell_type": "markdown",
   "id": "8fe8d798",
   "metadata": {},
   "source": [
    "Calculando a média aritmética\n",
    "(1+3+9+27+81+243+729) / 7 = 156,1\n"
   ]
  },
  {
   "cell_type": "code",
   "execution_count": 44,
   "id": "fd72dc8c",
   "metadata": {},
   "outputs": [],
   "source": [
    "media = int(np.mean(dados_exponencial))"
   ]
  },
  {
   "cell_type": "code",
   "execution_count": 45,
   "id": "227fdb44",
   "metadata": {},
   "outputs": [
    {
     "name": "stdout",
     "output_type": "stream",
     "text": [
      "Valor da média artimética dos dados: 156\n"
     ]
    }
   ],
   "source": [
    "print(\"Valor da média artimética dos dados: {}\".format(media))"
   ]
  },
  {
   "cell_type": "code",
   "execution_count": 46,
   "id": "a0387b74",
   "metadata": {},
   "outputs": [],
   "source": [
    "plot_lines(dados_exponencial,media)"
   ]
  },
  {
   "cell_type": "markdown",
   "id": "d5c7aadf",
   "metadata": {},
   "source": [
    "### Considerando agora a aplicação da média geométrica"
   ]
  },
  {
   "cell_type": "markdown",
   "id": "3fa7423c",
   "metadata": {},
   "source": [
    "Expecificando os mesmos dados com um relacionamento exponencial"
   ]
  },
  {
   "cell_type": "markdown",
   "id": "a9eaaf62",
   "metadata": {},
   "source": [
    "Calculando a média Geométrica (1x3x9x27x81x243x729) = 10,460,353,203\n",
    "Raiz 7ª de 10,460,353,203 = 33"
   ]
  },
  {
   "cell_type": "code",
   "execution_count": 53,
   "id": "716b131b",
   "metadata": {},
   "outputs": [],
   "source": [
    "media_geo = int(gmean(dados_exponencial))"
   ]
  },
  {
   "cell_type": "code",
   "execution_count": 54,
   "id": "43d2a193",
   "metadata": {},
   "outputs": [
    {
     "name": "stdout",
     "output_type": "stream",
     "text": [
      "Valor da média geométrica dos dados: 33\n"
     ]
    }
   ],
   "source": [
    "print(\"Valor da média geométrica dos dados: {}\".format(media_geo))"
   ]
  },
  {
   "cell_type": "code",
   "execution_count": 56,
   "id": "5b3d3fca",
   "metadata": {},
   "outputs": [],
   "source": [
    "plot_lines(dados_exponencial,media_geo)"
   ]
  },
  {
   "cell_type": "markdown",
   "id": "a30287c5",
   "metadata": {},
   "source": [
    "Considerações importantes:\n",
    "* A **média aritmética** produz um resultado interessante quando temos um **relacionamento aditivo** entre os números da amostra.\n",
    "* Este relacionamento é chamado linear pois, ao exibir graficamente os valores tendem a seguir uma linha ascendente ou descendente.\n",
    "* Já a **média geométrica** é mais apropriada quando temos uma amostra com um **relacionamento multiplicativo** ou exponencial\n",
    "* A diferença entre as é que enquanto a média artitmética faz a soma de todos os elementos e depois a divisão, a média geométrica atua com a **multiplicação** entre os elementos e depois reescala através da raiz os valores para a mesma unidade da amostra."
   ]
  },
  {
   "cell_type": "markdown",
   "id": "bf5cff1c",
   "metadata": {},
   "source": [
    "## Comparando as médidas em um cenário real.\n",
    "Verificando os valores de avaliações de dois cafés\n",
    "\n",
    "Hard Rock café Gramado vs Hard Rock café Curitiba\n",
    "\n",
    "**Hard Rock Café Gramado**\n",
    "* Avaliações no TripAdvisor: 3,5\n",
    "* Índice de Satisfação dos Clientes: 89%\n",
    "\n",
    "**Hard Rock Café Curitiba**\n",
    "* Avaliações no TripAdvisor: 4,5\n",
    "* Índice de Satisfação dos Clientes: 75%\n",
    "\n",
    "Aplicação de verificar o estabelecimento com a melhor avaliação em diferentes escalas."
   ]
  },
  {
   "cell_type": "markdown",
   "id": "8c4ea6e0",
   "metadata": {},
   "source": [
    "Calculando a média aritmética"
   ]
  },
  {
   "cell_type": "code",
   "execution_count": 58,
   "id": "23227fec",
   "metadata": {},
   "outputs": [],
   "source": [
    "aval_gramado, aval_curitiba = 3.5, 4.5\n",
    "indice_gramado, indice_curitiba = 89, 75"
   ]
  },
  {
   "cell_type": "code",
   "execution_count": 59,
   "id": "d64792a9",
   "metadata": {},
   "outputs": [
    {
     "name": "stdout",
     "output_type": "stream",
     "text": [
      "Média para Gramado: 46.25\n"
     ]
    }
   ],
   "source": [
    "print(\"Média para Gramado: {}\".format(np.mean([aval_gramado, indice_gramado])))"
   ]
  },
  {
   "cell_type": "code",
   "execution_count": 60,
   "id": "aae6364b",
   "metadata": {},
   "outputs": [
    {
     "name": "stdout",
     "output_type": "stream",
     "text": [
      "Média para Gramado: 39.75\n"
     ]
    }
   ],
   "source": [
    "print(\"Média para Curitiba: {}\".format(np.mean([aval_curitiba, indice_curitiba])))"
   ]
  },
  {
   "cell_type": "markdown",
   "id": "70615ecd",
   "metadata": {},
   "source": [
    "Considerando a média aritmética o Hard Rock Café de Gramado é o estabelecimento melhor avaliado\n",
    "\n",
    "Agora vamos considerar a possibilidade de fazer um reescala desses dados de avaliação do TripAdvisor."
   ]
  },
  {
   "cell_type": "code",
   "execution_count": 62,
   "id": "c7716734",
   "metadata": {},
   "outputs": [
    {
     "name": "stdout",
     "output_type": "stream",
     "text": [
      "Valores reescalados: 70.0, 90.0\n"
     ]
    }
   ],
   "source": [
    "print(\"Valores reescalados: {}, {}\".format(aval_gramado*20,aval_curitiba*20))"
   ]
  },
  {
   "cell_type": "markdown",
   "id": "d8d00963",
   "metadata": {},
   "source": [
    "Calculando a média aritmética"
   ]
  },
  {
   "cell_type": "code",
   "execution_count": 63,
   "id": "b6e7c098",
   "metadata": {},
   "outputs": [
    {
     "name": "stdout",
     "output_type": "stream",
     "text": [
      "Média para Gramado: 79.5\n",
      "Média para Gramado: 82.5\n"
     ]
    }
   ],
   "source": [
    "print(\"Média para Gramado: {}\".format(np.mean([aval_gramado*20, indice_gramado])))\n",
    "print(\"Média para Gramado: {}\".format(np.mean([aval_curitiba*20, indice_curitiba])))"
   ]
  },
  {
   "cell_type": "markdown",
   "id": "925395b9",
   "metadata": {},
   "source": [
    "Considerando o mesmo cenário agora utilizando a média geométrica"
   ]
  },
  {
   "cell_type": "code",
   "execution_count": 65,
   "id": "6f3279f7",
   "metadata": {},
   "outputs": [
    {
     "name": "stdout",
     "output_type": "stream",
     "text": [
      "Média para Gramado: 17.64936259472279\n",
      "Média para Gramado: 18.371173070873837\n"
     ]
    }
   ],
   "source": [
    "print(\"Média para Gramado: {}\".format(gmean([aval_gramado, indice_gramado])))\n",
    "print(\"Média para Gramado: {}\".format(gmean([aval_curitiba, indice_curitiba])))"
   ]
  },
  {
   "cell_type": "markdown",
   "id": "8bcedbaa",
   "metadata": {},
   "source": [
    "#### Considerações \n",
    "* Os valores alterados para a mesma escala nos deral **resultados diferentes** mais próximos da realidade.\n",
    "* Utilizando a média geométrica já nos entrega o resultado \"correto\" pois considera o **relacionamento multiplicativo** entre os dados da amostra.\n",
    "* É importante notar que aplicando a média geométrica para os dados em **diferentes escalas** o retorno não está na mesma unidade da amostra."
   ]
  },
  {
   "cell_type": "markdown",
   "id": "3bb0a52f",
   "metadata": {},
   "source": [
    "### Média Harmônica"
   ]
  },
  {
   "cell_type": "markdown",
   "id": "10115762",
   "metadata": {},
   "source": [
    "Percurso Total da Viagem 10Km\n",
    "* CAMINHO DE IDA = 30KM/H\n",
    "* CAMINHO DE IDA = 10KM/H\n",
    "\n",
    "**Qual a velocidade média da viagem?**\n",
    "\n",
    "Usando a média aritmética"
   ]
  },
  {
   "cell_type": "code",
   "execution_count": 67,
   "id": "11bbb6aa",
   "metadata": {},
   "outputs": [
    {
     "data": {
      "text/plain": [
       "20.0"
      ]
     },
     "execution_count": 67,
     "metadata": {},
     "output_type": "execute_result"
    }
   ],
   "source": [
    "np.mean([30,10])"
   ]
  },
  {
   "cell_type": "markdown",
   "id": "4d9c71ff",
   "metadata": {},
   "source": [
    "**VIAGEM DE IDA - 5KM À 30KM/H**\n",
    "* 30KM por 60 minutos = 1 km a cada 2 minutos = 1/2 km por minuto.\n",
    "* 5KM a 1/2 km por minuto = 10 minutos.\n",
    "\n",
    "**VIAGEM DE VOLTA - 5KM À 10KM/H**\n",
    "* 10KM por 60 minutos = 1 km a cada 2 minutos = 1/6 km por minuto.\n",
    "* 5KM a 1/2 km por minuto = 30 minutos.\n",
    "\n",
    "Tempo total da Viagem = 40 minutos\n",
    "\n",
    "proporção da viagem de ida em relação ao tempo total da viagem."
   ]
  },
  {
   "cell_type": "code",
   "execution_count": 69,
   "id": "b30b182a",
   "metadata": {},
   "outputs": [
    {
     "name": "stdout",
     "output_type": "stream",
     "text": [
      "Proporção de tempo da viagem de ida em relação ao tempo total da viagem: 25.0%\n",
      "Proporção de tempo da viagem de ida em relação ao tempo total da viagem: 75.0%\n"
     ]
    }
   ],
   "source": [
    "print(\"Proporção de tempo da viagem de ida em relação ao tempo total da viagem: {}%\".format((10/40)*100))\n",
    "print(\"Proporção de tempo da viagem de ida em relação ao tempo total da viagem: {}%\".format((30/40)*100))"
   ]
  },
  {
   "cell_type": "markdown",
   "id": "7f09e838",
   "metadata": {},
   "source": [
    "Calculando a Média Aritmética Ponderada"
   ]
  },
  {
   "cell_type": "code",
   "execution_count": 72,
   "id": "f78883f3",
   "metadata": {},
   "outputs": [
    {
     "data": {
      "text/plain": [
       "15.0"
      ]
     },
     "execution_count": 72,
     "metadata": {},
     "output_type": "execute_result"
    }
   ],
   "source": [
    "np.average([30,10], weights=[.25,.75])"
   ]
  },
  {
   "cell_type": "code",
   "execution_count": 73,
   "id": "e602539f",
   "metadata": {},
   "outputs": [
    {
     "data": {
      "text/plain": [
       "15.0"
      ]
     },
     "execution_count": 73,
     "metadata": {},
     "output_type": "execute_result"
    }
   ],
   "source": [
    "hmean([30,10])"
   ]
  },
  {
   "cell_type": "markdown",
   "id": "3fe3e7b4",
   "metadata": {},
   "source": [
    "As médias seguem um relacionamento ordinal: **média harmônica < média geométrica < a média aritmética.**\n",
    "\n",
    "Considerando os dados com o relacionamento aditivo.\n",
    "\n"
   ]
  },
  {
   "cell_type": "code",
   "execution_count": 74,
   "id": "d1da6706",
   "metadata": {},
   "outputs": [],
   "source": [
    "dados = [1,4,7,10,13,16,19]"
   ]
  },
  {
   "cell_type": "code",
   "execution_count": 75,
   "id": "0e0ec226",
   "metadata": {},
   "outputs": [],
   "source": [
    "media_aritimetica,media_geometrica,media_hamonica = round(np.mean(dados),2),round(gmean(dados),2),round(hmean(dados),2)"
   ]
  },
  {
   "cell_type": "code",
   "execution_count": 76,
   "id": "bafc6ff7",
   "metadata": {},
   "outputs": [
    {
     "data": {
      "text/plain": [
       "(10.0, 7.3, 4.15)"
      ]
     },
     "execution_count": 76,
     "metadata": {},
     "output_type": "execute_result"
    }
   ],
   "source": [
    "media_aritimetica,media_geometrica,media_hamonica"
   ]
  },
  {
   "cell_type": "code",
   "execution_count": 113,
   "id": "5eea323c",
   "metadata": {},
   "outputs": [
    {
     "name": "stdout",
     "output_type": "stream",
     "text": [
      "Dados: [4, 4, 4, 4.67, 5, 5, 6, 8, 27.0, 156.14]\n",
      "Media aritmética: 156.14, Média Geométrica: 27.0, Média Harmonica: 4.67\n"
     ]
    },
    {
     "data": {
      "image/png": "[encoded data removed]",
      "text/plain": [
       "<Figure size 576x432 with 1 Axes>"
      ]
     },
     "metadata": {
      "needs_background": "light"
     },
     "output_type": "display_data"
    }
   ],
   "source": [
    "plot_line_means(dados,media_aritimetica,media_geometrica,media_hamonica)"
   ]
  },
  {
   "cell_type": "markdown",
   "id": "6a7f590d",
   "metadata": {},
   "source": [
    "Considerando os dados com o relacionamento multiplicativo."
   ]
  },
  {
   "cell_type": "code",
   "execution_count": 85,
   "id": "46eff971",
   "metadata": {},
   "outputs": [],
   "source": [
    "dados = [1,3,9,27,81,243,729]"
   ]
  },
  {
   "cell_type": "code",
   "execution_count": 86,
   "id": "2a745885",
   "metadata": {},
   "outputs": [],
   "source": [
    "media_aritimetica,media_geometrica,media_hamonica = round(np.mean(dados),2),round(gmean(dados),2),round(hmean(dados),2)"
   ]
  },
  {
   "cell_type": "code",
   "execution_count": 87,
   "id": "2a10a869",
   "metadata": {},
   "outputs": [
    {
     "data": {
      "text/plain": [
       "(156.14, 27.0, 4.67)"
      ]
     },
     "execution_count": 87,
     "metadata": {},
     "output_type": "execute_result"
    }
   ],
   "source": [
    "media_aritimetica,media_geometrica,media_hamonica"
   ]
  },
  {
   "cell_type": "markdown",
   "id": "f087e2eb",
   "metadata": {},
   "source": [
    "Graficamente"
   ]
  },
  {
   "cell_type": "code",
   "execution_count": 114,
   "id": "b6aaee86",
   "metadata": {},
   "outputs": [
    {
     "name": "stdout",
     "output_type": "stream",
     "text": [
      "Dados: [4, 4, 4, 4.67, 4.67, 5, 5, 6, 8, 27.0, 27.0, 156.14, 156.14]\n",
      "Media aritmética: 156.14, Média Geométrica: 27.0, Média Harmonica: 4.67\n"
     ]
    },
    {
     "data": {
      "image/png": "[encoded data removed]",
      "text/plain": [
       "<Figure size 576x432 with 1 Axes>"
      ]
     },
     "metadata": {
      "needs_background": "light"
     },
     "output_type": "display_data"
    }
   ],
   "source": [
    "plot_line_means(dados,media_aritimetica,media_geometrica,media_hamonica)"
   ]
  },
  {
   "cell_type": "markdown",
   "id": "167d193c",
   "metadata": {},
   "source": [
    "Moda - Valores mais frequentes da distribuição"
   ]
  },
  {
   "cell_type": "code",
   "execution_count": 89,
   "id": "aa93c083",
   "metadata": {},
   "outputs": [],
   "source": [
    "dados = [4,5,4,6,5,8,4]"
   ]
  },
  {
   "cell_type": "code",
   "execution_count": 90,
   "id": "1ffee9ab",
   "metadata": {},
   "outputs": [
    {
     "data": {
      "text/plain": [
       "ModeResult(mode=array([4]), count=array([3]))"
      ]
     },
     "execution_count": 90,
     "metadata": {},
     "output_type": "execute_result"
    }
   ],
   "source": [
    "stats.mode(dados)"
   ]
  },
  {
   "cell_type": "code",
   "execution_count": 91,
   "id": "93b9cda0",
   "metadata": {},
   "outputs": [],
   "source": [
    "dados_bimodal = [4,5,4,6,5,8,4,4,5,5]"
   ]
  },
  {
   "cell_type": "code",
   "execution_count": 92,
   "id": "b6be0aee",
   "metadata": {},
   "outputs": [],
   "source": [
    "from collections import Counter"
   ]
  },
  {
   "cell_type": "code",
   "execution_count": 93,
   "id": "b0d18648",
   "metadata": {},
   "outputs": [],
   "source": [
    "def calcula_moda(dados):\n",
    "    number_counts = Counter(dados)\n",
    "    print(number_counts)\n",
    "    modes = [val for val,count in number_counts.items()\n",
    "             if count == max(number_counts.values())]\n",
    "    return modes"
   ]
  },
  {
   "cell_type": "code",
   "execution_count": 94,
   "id": "79a9969a",
   "metadata": {},
   "outputs": [
    {
     "name": "stdout",
     "output_type": "stream",
     "text": [
      "Counter({4: 4, 5: 4, 6: 1, 8: 1})\n"
     ]
    },
    {
     "data": {
      "text/plain": [
       "[4, 5]"
      ]
     },
     "execution_count": 94,
     "metadata": {},
     "output_type": "execute_result"
    }
   ],
   "source": [
    "calcula_moda(dados_bimodal)"
   ]
  },
  {
   "cell_type": "code",
   "execution_count": 95,
   "id": "0678f7e9",
   "metadata": {},
   "outputs": [],
   "source": [
    "dados_amodal=[1,2,3,4,5]"
   ]
  },
  {
   "cell_type": "code",
   "execution_count": 96,
   "id": "31174415",
   "metadata": {},
   "outputs": [
    {
     "name": "stdout",
     "output_type": "stream",
     "text": [
      "Counter({1: 1, 2: 1, 3: 1, 4: 1, 5: 1})\n"
     ]
    },
    {
     "data": {
      "text/plain": [
       "[1, 2, 3, 4, 5]"
      ]
     },
     "execution_count": 96,
     "metadata": {},
     "output_type": "execute_result"
    }
   ],
   "source": [
    "calcula_moda(dados_amodal)"
   ]
  },
  {
   "cell_type": "markdown",
   "id": "f896617a",
   "metadata": {},
   "source": [
    "Mediana - É o valor da variável que divide os dados ordenados em duas partes iguais, freqüência."
   ]
  },
  {
   "cell_type": "code",
   "execution_count": 98,
   "id": "e47ead39",
   "metadata": {},
   "outputs": [],
   "source": [
    "dados_mediana7 = [7,1,5,2,3,1,6]"
   ]
  },
  {
   "cell_type": "code",
   "execution_count": 99,
   "id": "b9fe5ab1",
   "metadata": {},
   "outputs": [
    {
     "data": {
      "text/plain": [
       "array([1, 1, 2, 3, 5, 6, 7])"
      ]
     },
     "execution_count": 99,
     "metadata": {},
     "output_type": "execute_result"
    }
   ],
   "source": [
    "np.sort(dados_mediana7)"
   ]
  },
  {
   "cell_type": "code",
   "execution_count": 100,
   "id": "84878085",
   "metadata": {},
   "outputs": [
    {
     "data": {
      "text/plain": [
       "3.0"
      ]
     },
     "execution_count": 100,
     "metadata": {},
     "output_type": "execute_result"
    }
   ],
   "source": [
    "np.median(dados_mediana7)"
   ]
  },
  {
   "cell_type": "code",
   "execution_count": 101,
   "id": "c030ab6a",
   "metadata": {},
   "outputs": [],
   "source": [
    "dados_mediana8 = [1,2,1,1,4,5,3,6]"
   ]
  },
  {
   "cell_type": "code",
   "execution_count": 102,
   "id": "96033a3c",
   "metadata": {},
   "outputs": [
    {
     "data": {
      "text/plain": [
       "array([1, 1, 1, 2, 3, 4, 5, 6])"
      ]
     },
     "execution_count": 102,
     "metadata": {},
     "output_type": "execute_result"
    }
   ],
   "source": [
    "np.sort(dados_mediana8)"
   ]
  },
  {
   "cell_type": "code",
   "execution_count": 103,
   "id": "6890ff9c",
   "metadata": {},
   "outputs": [
    {
     "data": {
      "text/plain": [
       "2.5"
      ]
     },
     "execution_count": 103,
     "metadata": {},
     "output_type": "execute_result"
    }
   ],
   "source": [
    "np.median(dados_mediana8)"
   ]
  },
  {
   "cell_type": "markdown",
   "id": "68aff940",
   "metadata": {},
   "source": [
    "Medidas Separatrizes"
   ]
  },
  {
   "cell_type": "code",
   "execution_count": 104,
   "id": "0a0062ea",
   "metadata": {},
   "outputs": [],
   "source": [
    "notas = [13,25,69,72,33,41,28,17,65]"
   ]
  },
  {
   "cell_type": "code",
   "execution_count": 105,
   "id": "6e7f2c84",
   "metadata": {},
   "outputs": [
    {
     "data": {
      "text/plain": [
       "array([13, 17, 25, 28, 33, 41, 65, 69, 72])"
      ]
     },
     "execution_count": 105,
     "metadata": {},
     "output_type": "execute_result"
    }
   ],
   "source": [
    "np.sort(notas)"
   ]
  },
  {
   "cell_type": "markdown",
   "id": "7e00f84f",
   "metadata": {},
   "source": [
    "Q1 - Primeiro Quartil"
   ]
  },
  {
   "cell_type": "code",
   "execution_count": 115,
   "id": "59760103",
   "metadata": {},
   "outputs": [
    {
     "data": {
      "text/plain": [
       "25.0"
      ]
     },
     "execution_count": 115,
     "metadata": {},
     "output_type": "execute_result"
    }
   ],
   "source": [
    "np.quantile(notas,.25)"
   ]
  },
  {
   "cell_type": "markdown",
   "id": "66b175cc",
   "metadata": {},
   "source": [
    "Q2 - Segundo Quartil"
   ]
  },
  {
   "cell_type": "code",
   "execution_count": 116,
   "id": "d5729c42",
   "metadata": {},
   "outputs": [
    {
     "data": {
      "text/plain": [
       "33.0"
      ]
     },
     "execution_count": 116,
     "metadata": {},
     "output_type": "execute_result"
    }
   ],
   "source": [
    "np.quantile(notas,.50)"
   ]
  },
  {
   "cell_type": "markdown",
   "id": "e22e4055",
   "metadata": {},
   "source": [
    "Comparando com o valor da mediana"
   ]
  },
  {
   "cell_type": "code",
   "execution_count": 117,
   "id": "dd69362a",
   "metadata": {},
   "outputs": [
    {
     "data": {
      "text/plain": [
       "33.0"
      ]
     },
     "execution_count": 117,
     "metadata": {},
     "output_type": "execute_result"
    }
   ],
   "source": [
    "np.median(notas)"
   ]
  },
  {
   "cell_type": "markdown",
   "id": "d2c3bcfd",
   "metadata": {},
   "source": [
    "Q3 - Terceiro Quartil"
   ]
  },
  {
   "cell_type": "code",
   "execution_count": 118,
   "id": "312490b4",
   "metadata": {},
   "outputs": [
    {
     "data": {
      "text/plain": [
       "65.0"
      ]
     },
     "execution_count": 118,
     "metadata": {},
     "output_type": "execute_result"
    }
   ],
   "source": [
    "np.quantile(notas,.75)"
   ]
  },
  {
   "cell_type": "markdown",
   "id": "5e4b8109",
   "metadata": {},
   "source": [
    "P25 - Percentil25 = Q1"
   ]
  },
  {
   "cell_type": "code",
   "execution_count": 119,
   "id": "03a761f5",
   "metadata": {},
   "outputs": [
    {
     "data": {
      "text/plain": [
       "25.0"
      ]
     },
     "execution_count": 119,
     "metadata": {},
     "output_type": "execute_result"
    }
   ],
   "source": [
    "np.percentile(notas,25)"
   ]
  },
  {
   "cell_type": "markdown",
   "id": "d366bce6",
   "metadata": {},
   "source": [
    "P50 - Percentil 50 = Q2"
   ]
  },
  {
   "cell_type": "code",
   "execution_count": 120,
   "id": "56a4b805",
   "metadata": {},
   "outputs": [
    {
     "data": {
      "text/plain": [
       "33.0"
      ]
     },
     "execution_count": 120,
     "metadata": {},
     "output_type": "execute_result"
    }
   ],
   "source": [
    "np.percentile(notas,50)"
   ]
  },
  {
   "cell_type": "markdown",
   "id": "c4c999ee",
   "metadata": {},
   "source": [
    "P75 - Percentil 50 = Q3"
   ]
  },
  {
   "cell_type": "code",
   "execution_count": 121,
   "id": "d7e05ff1",
   "metadata": {},
   "outputs": [
    {
     "data": {
      "text/plain": [
       "65.0"
      ]
     },
     "execution_count": 121,
     "metadata": {},
     "output_type": "execute_result"
    }
   ],
   "source": [
    "np.percentile(notas,75)"
   ]
  },
  {
   "cell_type": "code",
   "execution_count": null,
   "id": "e0cf5550",
   "metadata": {},
   "outputs": [],
   "source": []
  }
 ],
 "metadata": {
  "kernelspec": {
   "display_name": "Python 3",
   "language": "python",
   "name": "python3"
  },
  "language_info": {
   "codemirror_mode": {
    "name": "ipython",
    "version": 3
   },
   "file_extension": ".py",
   "mimetype": "text/x-python",
   "name": "python",
   "nbconvert_exporter": "python",
   "pygments_lexer": "ipython3",
   "version": "3.8.8"
  }
 },
 "nbformat": 4,
 "nbformat_minor": 5
}
