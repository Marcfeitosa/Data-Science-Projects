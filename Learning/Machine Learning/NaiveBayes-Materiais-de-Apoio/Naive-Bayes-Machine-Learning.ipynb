{
 "cells": [
  {
   "cell_type": "markdown",
   "id": "0f1aa6d0",
   "metadata": {},
   "source": [
    "# Naive Bayes"
   ]
  },
  {
   "cell_type": "markdown",
   "id": "e7bcc99b",
   "metadata": {},
   "source": [
    "## Análise de Sentimentos"
   ]
  },
  {
   "cell_type": "code",
   "execution_count": 2,
   "id": "b4cc2bd4",
   "metadata": {},
   "outputs": [],
   "source": [
    "import nltk\n",
    "import re\n",
    "import pandas as pd\n",
    "from sklearn.feature_extraction.text import CountVectorizer\n",
    "from sklearn.naive_bayes import MultinomialNB\n",
    "from sklearn import metrics\n",
    "from sklearn.model_selection import cross_val_predict"
   ]
  },
  {
   "cell_type": "code",
   "execution_count": 3,
   "id": "6ae78396",
   "metadata": {},
   "outputs": [],
   "source": [
    "dataset = pd.read_csv(r\"C:\\Users\\marcf\\OneDrive\\Documentos\\Ciencia de dados\\NaiveBayes-Materiais-de-Apoio\\Tweets_Mg.csv\",encoding='utf-8')"
   ]
  },
  {
   "cell_type": "code",
   "execution_count": 4,
   "id": "c0074627",
   "metadata": {},
   "outputs": [
    {
     "name": "stdout",
     "output_type": "stream",
     "text": [
      "<class 'pandas.core.frame.DataFrame'>\n",
      "RangeIndex: 8199 entries, 0 to 8198\n",
      "Data columns (total 26 columns):\n",
      " #   Column                     Non-Null Count  Dtype  \n",
      "---  ------                     --------------  -----  \n",
      " 0   Unnamed: 0                 8199 non-null   int64  \n",
      " 1   Created At                 8199 non-null   object \n",
      " 2   Text                       8199 non-null   object \n",
      " 3   Geo Coordinates.latitude   104 non-null    float64\n",
      " 4   Geo Coordinates.longitude  104 non-null    float64\n",
      " 5   User Location              5489 non-null   object \n",
      " 6   Username                   8199 non-null   object \n",
      " 7   User Screen Name           8199 non-null   object \n",
      " 8   Retweet Count              8199 non-null   int64  \n",
      " 9   Classificacao              8199 non-null   object \n",
      " 10  Observação                 1 non-null      object \n",
      " 11  Unnamed: 10                0 non-null      float64\n",
      " 12  Unnamed: 11                0 non-null      float64\n",
      " 13  Unnamed: 12                0 non-null      float64\n",
      " 14  Unnamed: 13                0 non-null      float64\n",
      " 15  Unnamed: 14                0 non-null      float64\n",
      " 16  Unnamed: 15                0 non-null      float64\n",
      " 17  Unnamed: 16                0 non-null      float64\n",
      " 18  Unnamed: 17                0 non-null      float64\n",
      " 19  Unnamed: 18                0 non-null      float64\n",
      " 20  Unnamed: 19                0 non-null      float64\n",
      " 21  Unnamed: 20                0 non-null      float64\n",
      " 22  Unnamed: 21                0 non-null      float64\n",
      " 23  Unnamed: 22                0 non-null      float64\n",
      " 24  Unnamed: 23                0 non-null      float64\n",
      " 25  Unnamed: 24                0 non-null      float64\n",
      "dtypes: float64(17), int64(2), object(7)\n",
      "memory usage: 1.6+ MB\n"
     ]
    }
   ],
   "source": [
    "dataset.info()"
   ]
  },
  {
   "cell_type": "code",
   "execution_count": 5,
   "id": "9c8c9698",
   "metadata": {},
   "outputs": [
    {
     "name": "stderr",
     "output_type": "stream",
     "text": [
      "<ipython-input-5-e0a31e9b9484>:2: FutureWarning: Passing a negative integer is deprecated in version 1.0 and will not be supported in future version. Instead, use None to not limit the column width.\n",
      "  pd.set_option('display.max_colwidth', -1)\n"
     ]
    },
    {
     "data": {
      "text/plain": [
       "0     ���⛪ @ Catedral de Santo Antônio - Governador Valadares/MG https://t.co/JSbKamIqUJ                                                         \n",
       "1     � @ Governador Valadares, Minas Gerais https://t.co/B3ThIDJCSf                                                                             \n",
       "2     �� @ Governador Valadares, Minas Gerais https://t.co/dPkgzVR2Qw                                                                            \n",
       "3     ��� https://t.co/BnDsO34qK0                                                                                                                \n",
       "4     ��� PSOL vai questionar aumento de vereadores e prefeito de BH na Justiça - Politica - Estado de Minas https://t.co/DMg7BGsek5             \n",
       "                                                                   ...                                                                           \n",
       "95    #noticiasdorenan Uso de depósitos judiciais pelo governo tem nova polêmica em MG: O Banco… https://t.co/kHuZpKQaj5                         \n",
       "96    #OperacaoBetaLab #TimBeta #Beta #BetaLab #BetaAjudaBeta #BetaSegueBeta UOL: Desastre ambiental em MG: Empresas ped… https://t.co/kwyeKjhtcI\n",
       "97    #OperacaoBetaLab #TimBeta #Beta #BetaLab #BetaAjudaBeta #BetaSegueBeta UOL: Governo em calamidade financeira: BB a… https://t.co/1rWaHUACqt\n",
       "98    #OperacaoBetaLab #TimBeta #Beta #BetaLab #BetaAjudaBeta #BetaSegueBeta UOL: Polêmica com filho de Pimentel: Govern… https://t.co/E1EhSA9Ti3\n",
       "99    #operacaobetalab BB avisa Justiça que governo de MG não tem recursos em conta judicial https://t.co/W6AoFMMsvA #rt #sdv                    \n",
       "Name: Text, Length: 100, dtype: object"
      ]
     },
     "execution_count": 5,
     "metadata": {},
     "output_type": "execute_result"
    }
   ],
   "source": [
    "# Expante o tamanho de exibição de coluna de texto\n",
    "pd.set_option('display.max_colwidth', -1)\n",
    "dataset.Text.head(100)"
   ]
  },
  {
   "cell_type": "markdown",
   "id": "40e9b496",
   "metadata": {},
   "source": [
    "**Excluir Linhas duplicadas**"
   ]
  },
  {
   "cell_type": "code",
   "execution_count": 7,
   "id": "02e21279",
   "metadata": {},
   "outputs": [],
   "source": [
    "dataset.drop_duplicates(['Text'],inplace=True)"
   ]
  },
  {
   "cell_type": "code",
   "execution_count": 8,
   "id": "6bebc319",
   "metadata": {},
   "outputs": [
    {
     "data": {
      "text/plain": [
       "Unnamed: 0                   5765\n",
       "Created At                   5765\n",
       "Text                         5765\n",
       "Geo Coordinates.latitude     104 \n",
       "Geo Coordinates.longitude    104 \n",
       "User Location                3851\n",
       "Username                     5765\n",
       "User Screen Name             5765\n",
       "Retweet Count                5765\n",
       "Classificacao                5765\n",
       "Observação                   1   \n",
       "Unnamed: 10                  0   \n",
       "Unnamed: 11                  0   \n",
       "Unnamed: 12                  0   \n",
       "Unnamed: 13                  0   \n",
       "Unnamed: 14                  0   \n",
       "Unnamed: 15                  0   \n",
       "Unnamed: 16                  0   \n",
       "Unnamed: 17                  0   \n",
       "Unnamed: 18                  0   \n",
       "Unnamed: 19                  0   \n",
       "Unnamed: 20                  0   \n",
       "Unnamed: 21                  0   \n",
       "Unnamed: 22                  0   \n",
       "Unnamed: 23                  0   \n",
       "Unnamed: 24                  0   \n",
       "dtype: int64"
      ]
     },
     "execution_count": 8,
     "metadata": {},
     "output_type": "execute_result"
    }
   ],
   "source": [
    "dataset.count()"
   ]
  },
  {
   "cell_type": "markdown",
   "id": "d3b11f83",
   "metadata": {},
   "source": [
    "**Removendo colunas desnecessárias**"
   ]
  },
  {
   "cell_type": "code",
   "execution_count": 12,
   "id": "52af7923",
   "metadata": {},
   "outputs": [
    {
     "name": "stdout",
     "output_type": "stream",
     "text": [
      "Colunas Deletadas: Unnamed: 0\n",
      "Colunas Deletadas: Unnamed: 10\n",
      "Colunas Deletadas: Unnamed: 11\n",
      "Colunas Deletadas: Unnamed: 12\n",
      "Colunas Deletadas: Unnamed: 13\n",
      "Colunas Deletadas: Unnamed: 14\n",
      "Colunas Deletadas: Unnamed: 15\n",
      "Colunas Deletadas: Unnamed: 16\n",
      "Colunas Deletadas: Unnamed: 17\n",
      "Colunas Deletadas: Unnamed: 18\n",
      "Colunas Deletadas: Unnamed: 19\n",
      "Colunas Deletadas: Unnamed: 20\n",
      "Colunas Deletadas: Unnamed: 21\n",
      "Colunas Deletadas: Unnamed: 22\n",
      "Colunas Deletadas: Unnamed: 23\n",
      "Colunas Deletadas: Unnamed: 24\n"
     ]
    }
   ],
   "source": [
    "for i in dataset.columns.values:\n",
    "    if i.startswith('Unnamed'):\n",
    "        dataset.drop(i, axis=1, inplace=True)\n",
    "        print('Colunas Deletadas:',i)"
   ]
  },
  {
   "cell_type": "code",
   "execution_count": 13,
   "id": "b2ccbfea",
   "metadata": {},
   "outputs": [
    {
     "data": {
      "text/plain": [
       "Index(['Created At', 'Text', 'Geo Coordinates.latitude',\n",
       "       'Geo Coordinates.longitude', 'User Location', 'Username',\n",
       "       'User Screen Name', 'Retweet Count', 'Classificacao', 'Observação'],\n",
       "      dtype='object')"
      ]
     },
     "execution_count": 13,
     "metadata": {},
     "output_type": "execute_result"
    }
   ],
   "source": [
    "# Visualizando o dataset depois das alterações\n",
    "\n",
    "dataset.columns"
   ]
  },
  {
   "cell_type": "markdown",
   "id": "cc2d0f80",
   "metadata": {},
   "source": [
    "Distribuição das classes neutros, positivos e negativos"
   ]
  },
  {
   "cell_type": "code",
   "execution_count": 16,
   "id": "6cdfb4c9",
   "metadata": {},
   "outputs": [
    {
     "data": {
      "text/plain": [
       "0       Neutro  \n",
       "1       Neutro  \n",
       "2       Neutro  \n",
       "3       Neutro  \n",
       "4       Negativo\n",
       "          ...   \n",
       "8194    Positivo\n",
       "8195    Positivo\n",
       "8196    Positivo\n",
       "8197    Positivo\n",
       "8198    Positivo\n",
       "Name: Classificacao, Length: 5765, dtype: object"
      ]
     },
     "execution_count": 16,
     "metadata": {},
     "output_type": "execute_result"
    }
   ],
   "source": [
    "dataset.Classificacao"
   ]
  },
  {
   "cell_type": "code",
   "execution_count": 15,
   "id": "8e62a82a",
   "metadata": {},
   "outputs": [
    {
     "data": {
      "image/png": "[encoded data removed]",
      "text/plain": [
       "<Figure size 432x288 with 1 Axes>"
      ]
     },
     "metadata": {
      "needs_background": "light"
     },
     "output_type": "display_data"
    }
   ],
   "source": [
    "%matplotlib inline\n",
    "dataset.Classificacao.value_counts().plot(kind='bar');"
   ]
  },
  {
   "cell_type": "markdown",
   "id": "3ecb0408",
   "metadata": {},
   "source": [
    "Separando tweets e suas classes"
   ]
  },
  {
   "cell_type": "code",
   "execution_count": 17,
   "id": "eb4e9a2a",
   "metadata": {},
   "outputs": [],
   "source": [
    "tweets = dataset['Text']\n",
    "classes = dataset['Classificacao']"
   ]
  },
  {
   "cell_type": "code",
   "execution_count": 18,
   "id": "324631e1",
   "metadata": {},
   "outputs": [
    {
     "data": {
      "text/plain": [
       "0    ���⛪ @ Catedral de Santo Antônio - Governador Valadares/MG https://t.co/JSbKamIqUJ                                            \n",
       "1    � @ Governador Valadares, Minas Gerais https://t.co/B3ThIDJCSf                                                                \n",
       "2    �� @ Governador Valadares, Minas Gerais https://t.co/dPkgzVR2Qw                                                               \n",
       "3    ��� https://t.co/BnDsO34qK0                                                                                                   \n",
       "4    ��� PSOL vai questionar aumento de vereadores e prefeito de BH na Justiça - Politica - Estado de Minas https://t.co/DMg7BGsek5\n",
       "Name: Text, dtype: object"
      ]
     },
     "execution_count": 18,
     "metadata": {},
     "output_type": "execute_result"
    }
   ],
   "source": [
    "tweets.head()"
   ]
  },
  {
   "cell_type": "code",
   "execution_count": 19,
   "id": "66cbe637",
   "metadata": {},
   "outputs": [
    {
     "data": {
      "text/plain": [
       "0    Neutro  \n",
       "1    Neutro  \n",
       "2    Neutro  \n",
       "3    Neutro  \n",
       "4    Negativo\n",
       "Name: Classificacao, dtype: object"
      ]
     },
     "execution_count": 19,
     "metadata": {},
     "output_type": "execute_result"
    }
   ],
   "source": [
    "classes.head()"
   ]
  },
  {
   "cell_type": "markdown",
   "id": "9891e3ce",
   "metadata": {},
   "source": [
    "Gerando o modelo"
   ]
  },
  {
   "cell_type": "code",
   "execution_count": 21,
   "id": "27e08255",
   "metadata": {},
   "outputs": [],
   "source": [
    "vectorizer = CountVectorizer(analyzer='word')\n",
    "freq_tweets = vectorizer.fit_transform(tweets)"
   ]
  },
  {
   "cell_type": "code",
   "execution_count": 22,
   "id": "524d1c64",
   "metadata": {},
   "outputs": [
    {
     "data": {
      "text/plain": [
       "scipy.sparse.csr.csr_matrix"
      ]
     },
     "execution_count": 22,
     "metadata": {},
     "output_type": "execute_result"
    }
   ],
   "source": [
    "type(freq_tweets)"
   ]
  },
  {
   "cell_type": "code",
   "execution_count": 23,
   "id": "bccee5f0",
   "metadata": {},
   "outputs": [
    {
     "data": {
      "text/plain": [
       "(5765, 13029)"
      ]
     },
     "execution_count": 23,
     "metadata": {},
     "output_type": "execute_result"
    }
   ],
   "source": [
    "freq_tweets.shape"
   ]
  },
  {
   "cell_type": "code",
   "execution_count": 24,
   "id": "831b863e",
   "metadata": {},
   "outputs": [
    {
     "data": {
      "text/plain": [
       "array([[0, 0, 0, ..., 0, 0, 0],\n",
       "       [0, 0, 0, ..., 0, 0, 0],\n",
       "       [0, 0, 0, ..., 0, 0, 0],\n",
       "       ...,\n",
       "       [0, 0, 0, ..., 0, 0, 0],\n",
       "       [0, 0, 0, ..., 0, 0, 0],\n",
       "       [0, 0, 0, ..., 0, 0, 0]], dtype=int64)"
      ]
     },
     "execution_count": 24,
     "metadata": {},
     "output_type": "execute_result"
    }
   ],
   "source": [
    "freq_tweets.A"
   ]
  },
  {
   "cell_type": "markdown",
   "id": "bfbcb13b",
   "metadata": {},
   "source": [
    "Cria um modelo usando Naive Bayes Multinomial"
   ]
  },
  {
   "cell_type": "code",
   "execution_count": 25,
   "id": "4548d330",
   "metadata": {},
   "outputs": [
    {
     "data": {
      "text/plain": [
       "MultinomialNB()"
      ]
     },
     "execution_count": 25,
     "metadata": {},
     "output_type": "execute_result"
    }
   ],
   "source": [
    "modelo = MultinomialNB()\n",
    "modelo.fit(freq_tweets,classes)"
   ]
  },
  {
   "cell_type": "markdown",
   "id": "7be10b41",
   "metadata": {},
   "source": [
    "Testando o modelo com algumas instâncias simples"
   ]
  },
  {
   "cell_type": "code",
   "execution_count": 26,
   "id": "a11d9c37",
   "metadata": {},
   "outputs": [],
   "source": [
    "# defina instâncias de teste dentro de uma lista\n",
    "testes = ['Esse governo está no início, vamos ver o que vai dar',\n",
    "          'Estou muito feliz com o governo de Minas esse ano',\n",
    "          'O estado de Minas Gerais decretou calamidade financeira!!!',\n",
    "          'A segurança desse país está deixando a desejar',\n",
    "          'O governador de Minas é mais uma vez do PT']"
   ]
  },
  {
   "cell_type": "code",
   "execution_count": 31,
   "id": "10c6b0ad",
   "metadata": {},
   "outputs": [],
   "source": [
    "# Transforma os dados de teste em vetores de palavras.\n",
    "freq_testes = vectorizer.transform(testes)"
   ]
  },
  {
   "cell_type": "code",
   "execution_count": 35,
   "id": "e7008dff",
   "metadata": {},
   "outputs": [
    {
     "data": {
      "text/plain": [
       "array(['Neutro', 'Neutro', 'Negativo', 'Neutro', 'Neutro'], dtype='<U8')"
      ]
     },
     "execution_count": 35,
     "metadata": {},
     "output_type": "execute_result"
    }
   ],
   "source": [
    "modelo.predict(freq_testes)"
   ]
  },
  {
   "cell_type": "code",
   "execution_count": 32,
   "id": "3b67d3a4",
   "metadata": {},
   "outputs": [
    {
     "name": "stdout",
     "output_type": "stream",
     "text": [
      "Esse governo está no início, vamos ver o que vai dar, Neutro\n",
      "Estou muito feliz com o governo de Minas esse ano, Neutro\n",
      "O estado de Minas Gerais decretou calamidade financeira!!!, Negativo\n",
      "A segurança desse país está deixando a desejar, Neutro\n",
      "O governador de Minas é mais uma vez do PT, Neutro\n"
     ]
    }
   ],
   "source": [
    "# Fazendo a classificação com o modelo treinado.\n",
    "for t,c in zip (testes, modelo.predict(freq_testes)):\n",
    "    print(t +\", \"+ c)"
   ]
  },
  {
   "cell_type": "code",
   "execution_count": 34,
   "id": "6845f3f0",
   "metadata": {},
   "outputs": [
    {
     "name": "stdout",
     "output_type": "stream",
     "text": [
      "['Negativo' 'Neutro' 'Positivo']\n"
     ]
    },
    {
     "data": {
      "text/plain": [
       "array([[0.18, 0.82, 0.  ],\n",
       "       [0.02, 0.98, 0.  ],\n",
       "       [0.99, 0.01, 0.  ],\n",
       "       [0.1 , 0.89, 0.01],\n",
       "       [0.15, 0.85, 0.  ]])"
      ]
     },
     "execution_count": 34,
     "metadata": {},
     "output_type": "execute_result"
    }
   ],
   "source": [
    "# probabilidades de cada classe\n",
    "print(modelo.classes_)\n",
    "modelo.predict_proba(freq_testes).round(2)"
   ]
  },
  {
   "cell_type": "markdown",
   "id": "17146100",
   "metadata": {},
   "source": [
    "## Avaliação do modelo\n",
    "\n",
    "- Usaremos a técnica de Cross Validation para a avaliação dos modelos\n",
    "- Esta técnica será usada com 10 folds"
   ]
  },
  {
   "cell_type": "code",
   "execution_count": 36,
   "id": "5dff3815",
   "metadata": {},
   "outputs": [],
   "source": [
    "resultados = cross_val_predict(modelo, freq_tweets, classes, cv=10)"
   ]
  },
  {
   "cell_type": "markdown",
   "id": "ed2782d3",
   "metadata": {},
   "source": [
    "Matriz de confusão"
   ]
  },
  {
   "cell_type": "code",
   "execution_count": 37,
   "id": "442693d0",
   "metadata": {},
   "outputs": [
    {
     "name": "stdout",
     "output_type": "stream",
     "text": [
      "Predito   Negativo  Neutro  Positivo   All\n",
      "Real                                      \n",
      "Negativo  846       100     5         951 \n",
      "Neutro    206       1656    112       1974\n",
      "Positivo  53        294     2493      2840\n",
      "All       1105      2050    2610      5765\n"
     ]
    }
   ],
   "source": [
    "print(pd.crosstab(classes, resultados, rownames=['Real'], colnames=['Predito'], margins=True))"
   ]
  },
  {
   "cell_type": "markdown",
   "id": "2f33122d",
   "metadata": {},
   "source": [
    "Metricas de validação do modelo"
   ]
  },
  {
   "cell_type": "code",
   "execution_count": 38,
   "id": "6f6b8b6f",
   "metadata": {},
   "outputs": [
    {
     "name": "stdout",
     "output_type": "stream",
     "text": [
      "              precision    recall  f1-score   support\n",
      "\n",
      "    Positivo       0.96      0.88      0.91      2840\n",
      "    Negativo       0.77      0.89      0.82       951\n",
      "      Neutro       0.81      0.84      0.82      1974\n",
      "\n",
      "    accuracy                           0.87      5765\n",
      "   macro avg       0.84      0.87      0.85      5765\n",
      "weighted avg       0.87      0.87      0.87      5765\n",
      "\n"
     ]
    },
    {
     "name": "stderr",
     "output_type": "stream",
     "text": [
      "C:\\Users\\marcf\\anaconda3\\lib\\site-packages\\sklearn\\utils\\validation.py:70: FutureWarning: Pass labels=['Positivo', 'Negativo', 'Neutro'] as keyword args. From version 1.0 (renaming of 0.25) passing these as positional arguments will result in an error\n",
      "  warnings.warn(f\"Pass {args_msg} as keyword args. From version \"\n"
     ]
    }
   ],
   "source": [
    "sentimento = ['Positivo', 'Negativo', \"Neutro\"]\n",
    "print(metrics.classification_report(classes,resultados,sentimento))"
   ]
  },
  {
   "cell_type": "markdown",
   "id": "d700638d",
   "metadata": {},
   "source": [
    "### Tunning do Naive Bayes"
   ]
  },
  {
   "cell_type": "code",
   "execution_count": 39,
   "id": "c52ca2f1",
   "metadata": {},
   "outputs": [],
   "source": [
    "from sklearn.model_selection import GridSearchCV"
   ]
  },
  {
   "cell_type": "code",
   "execution_count": 41,
   "id": "f13b17d4",
   "metadata": {},
   "outputs": [
    {
     "data": {
      "text/plain": [
       "[1, 2, 3, 4, 5, 6, 7, 8, 9, 10]"
      ]
     },
     "execution_count": 41,
     "metadata": {},
     "output_type": "execute_result"
    }
   ],
   "source": [
    "lista_alpha = list(range(1,11))\n",
    "lista_alpha"
   ]
  },
  {
   "cell_type": "markdown",
   "id": "ad10658f",
   "metadata": {},
   "source": [
    "Cria um dicionário com o nome do parametro e a lista de valores"
   ]
  },
  {
   "cell_type": "code",
   "execution_count": 43,
   "id": "c623e9bb",
   "metadata": {},
   "outputs": [],
   "source": [
    "parametros_grid = dict(alpha=lista_alpha)"
   ]
  },
  {
   "cell_type": "code",
   "execution_count": 46,
   "id": "e0fe005a",
   "metadata": {},
   "outputs": [
    {
     "data": {
      "text/plain": [
       "{'alpha': [1, 2, 3, 4, 5, 6, 7, 8, 9, 10]}"
      ]
     },
     "execution_count": 46,
     "metadata": {},
     "output_type": "execute_result"
    }
   ],
   "source": [
    "parametros_grid"
   ]
  },
  {
   "cell_type": "markdown",
   "id": "8c53b7d8",
   "metadata": {},
   "source": [
    "Instancia um modelo"
   ]
  },
  {
   "cell_type": "code",
   "execution_count": 44,
   "id": "09c1643c",
   "metadata": {},
   "outputs": [],
   "source": [
    "nvModelo = MultinomialNB()"
   ]
  },
  {
   "cell_type": "code",
   "execution_count": 47,
   "id": "c97e22fb",
   "metadata": {},
   "outputs": [
    {
     "data": {
      "text/plain": [
       "MultinomialNB()"
      ]
     },
     "execution_count": 47,
     "metadata": {},
     "output_type": "execute_result"
    }
   ],
   "source": [
    "nvModelo"
   ]
  },
  {
   "cell_type": "markdown",
   "id": "39980eba",
   "metadata": {},
   "source": [
    "Cria um objeto Grid"
   ]
  },
  {
   "cell_type": "code",
   "execution_count": 45,
   "id": "96652774",
   "metadata": {},
   "outputs": [],
   "source": [
    "grid = GridSearchCV(nvModelo, parametros_grid, cv=10, scoring='accuracy')"
   ]
  },
  {
   "cell_type": "code",
   "execution_count": 48,
   "id": "499f79a0",
   "metadata": {},
   "outputs": [
    {
     "data": {
      "text/plain": [
       "GridSearchCV(cv=10, estimator=MultinomialNB(),\n",
       "             param_grid={'alpha': [1, 2, 3, 4, 5, 6, 7, 8, 9, 10]},\n",
       "             scoring='accuracy')"
      ]
     },
     "execution_count": 48,
     "metadata": {},
     "output_type": "execute_result"
    }
   ],
   "source": [
    "grid"
   ]
  },
  {
   "cell_type": "markdown",
   "id": "e843e1ee",
   "metadata": {},
   "source": [
    "roda o Grid"
   ]
  },
  {
   "cell_type": "code",
   "execution_count": 49,
   "id": "3553c8fa",
   "metadata": {},
   "outputs": [],
   "source": [
    "freq_tweets = vectorizer.fit_transform(tweets)"
   ]
  },
  {
   "cell_type": "code",
   "execution_count": 57,
   "id": "85bd904f",
   "metadata": {},
   "outputs": [
    {
     "data": {
      "text/plain": [
       "(5765, 13029)"
      ]
     },
     "execution_count": 57,
     "metadata": {},
     "output_type": "execute_result"
    }
   ],
   "source": [
    "freq_tweets.shape"
   ]
  },
  {
   "cell_type": "code",
   "execution_count": 59,
   "id": "72e1bffe",
   "metadata": {},
   "outputs": [
    {
     "data": {
      "text/plain": [
       "GridSearchCV(cv=10, estimator=MultinomialNB(),\n",
       "             param_grid={'alpha': [1, 2, 3, 4, 5, 6, 7, 8, 9, 10]},\n",
       "             scoring='accuracy')"
      ]
     },
     "execution_count": 59,
     "metadata": {},
     "output_type": "execute_result"
    }
   ],
   "source": [
    "grid.fit(freq_tweets, classes)"
   ]
  },
  {
   "cell_type": "markdown",
   "id": "781481ac",
   "metadata": {},
   "source": [
    "## Melhores scores"
   ]
  },
  {
   "cell_type": "code",
   "execution_count": 60,
   "id": "3fe7406f",
   "metadata": {},
   "outputs": [
    {
     "data": {
      "text/plain": [
       "0.8664846307529368"
      ]
     },
     "execution_count": 60,
     "metadata": {},
     "output_type": "execute_result"
    }
   ],
   "source": [
    "\n",
    "grid.best_score_"
   ]
  },
  {
   "cell_type": "code",
   "execution_count": 62,
   "id": "cae64348",
   "metadata": {},
   "outputs": [
    {
     "data": {
      "text/plain": [
       "{'alpha': 1}"
      ]
     },
     "execution_count": 62,
     "metadata": {},
     "output_type": "execute_result"
    }
   ],
   "source": [
    "grid.best_params_"
   ]
  },
  {
   "cell_type": "code",
   "execution_count": 63,
   "id": "c7c89f91",
   "metadata": {},
   "outputs": [
    {
     "data": {
      "text/plain": [
       "array(['Negativo', 'Neutro', 'Positivo'], dtype='<U8')"
      ]
     },
     "execution_count": 63,
     "metadata": {},
     "output_type": "execute_result"
    }
   ],
   "source": [
    "grid.classes_"
   ]
  },
  {
   "cell_type": "code",
   "execution_count": 64,
   "id": "74c27ad4",
   "metadata": {},
   "outputs": [
    {
     "data": {
      "text/plain": [
       "{'mean_fit_time': array([0.01273534, 0.01101239, 0.00957549, 0.01032488, 0.00975242,\n",
       "        0.01110244, 0.01266215, 0.01396935, 0.01237442, 0.01133003]),\n",
       " 'std_fit_time': array([0.00594684, 0.00220334, 0.00096546, 0.001779  , 0.00113976,\n",
       "        0.00190017, 0.0014833 , 0.00149794, 0.00161867, 0.00208341]),\n",
       " 'mean_score_time': array([0.00128505, 0.00066242, 0.00069757, 0.00053239, 0.00089703,\n",
       "        0.00080736, 0.00101964, 0.00095916, 0.00104959, 0.00088363]),\n",
       " 'std_score_time': array([0.00090364, 0.00057347, 0.00045667, 0.00054039, 0.00029908,\n",
       "        0.00046693, 0.00038984, 0.00046008, 0.00061439, 0.00048597]),\n",
       " 'param_alpha': masked_array(data=[1, 2, 3, 4, 5, 6, 7, 8, 9, 10],\n",
       "              mask=[False, False, False, False, False, False, False, False,\n",
       "                    False, False],\n",
       "        fill_value='?',\n",
       "             dtype=object),\n",
       " 'params': [{'alpha': 1},\n",
       "  {'alpha': 2},\n",
       "  {'alpha': 3},\n",
       "  {'alpha': 4},\n",
       "  {'alpha': 5},\n",
       "  {'alpha': 6},\n",
       "  {'alpha': 7},\n",
       "  {'alpha': 8},\n",
       "  {'alpha': 9},\n",
       "  {'alpha': 10}],\n",
       " 'split0_test_score': array([0.50259965, 0.50433276, 0.52339688, 0.52166378, 0.51819757,\n",
       "        0.51993068, 0.51646447, 0.52686308, 0.53379549, 0.53206239]),\n",
       " 'split1_test_score': array([0.86655113, 0.89948007, 0.90641248, 0.89948007, 0.89774697,\n",
       "        0.89428076, 0.89254766, 0.89254766, 0.88908146, 0.88214905]),\n",
       " 'split2_test_score': array([0.82322357, 0.82149047, 0.80935875, 0.80762565, 0.79896014,\n",
       "        0.91334489, 0.90294627, 0.78856153, 0.78336222, 0.78336222]),\n",
       " 'split3_test_score': array([0.91854419, 0.90294627, 0.89601386, 0.88561525, 0.88388215,\n",
       "        0.87868284, 0.87694974, 0.87521664, 0.87001733, 0.87001733]),\n",
       " 'split4_test_score': array([0.93760832, 0.93414211, 0.9220104 , 0.9202773 , 0.91681109,\n",
       "        0.91681109, 0.91161179, 0.90641248, 0.90294627, 0.89601386]),\n",
       " 'split5_test_score': array([0.96875   , 0.94618056, 0.94097222, 0.93576389, 0.93576389,\n",
       "        0.93402778, 0.93229167, 0.92708333, 0.92708333, 0.92361111]),\n",
       " 'split6_test_score': array([0.91840278, 0.91493056, 0.92013889, 0.90277778, 0.87847222,\n",
       "        0.86458333, 0.86111111, 0.85590278, 0.85069444, 0.82465278]),\n",
       " 'split7_test_score': array([0.89756944, 0.91319444, 0.91145833, 0.90277778, 0.90277778,\n",
       "        0.89756944, 0.89236111, 0.890625  , 0.88888889, 0.88194444]),\n",
       " 'split8_test_score': array([0.91666667, 0.89756944, 0.88194444, 0.88020833, 0.875     ,\n",
       "        0.87326389, 0.86979167, 0.86458333, 0.86111111, 0.85590278]),\n",
       " 'split9_test_score': array([0.91493056, 0.90972222, 0.90798611, 0.89756944, 0.88888889,\n",
       "        0.88541667, 0.88368056, 0.875     , 0.87152778, 0.86805556]),\n",
       " 'mean_test_score': array([0.86648463, 0.86439889, 0.86196924, 0.85537593, 0.84965007,\n",
       "        0.85779114, 0.8539756 , 0.84027958, 0.83785083, 0.83177715]),\n",
       " 'std_test_score': array([0.12690066, 0.12403493, 0.11778336, 0.11578804, 0.11561883,\n",
       "        0.11442477, 0.11421022, 0.1101547 , 0.10757453, 0.10639459]),\n",
       " 'rank_test_score': array([ 1,  2,  3,  5,  7,  4,  6,  8,  9, 10])}"
      ]
     },
     "execution_count": 64,
     "metadata": {},
     "output_type": "execute_result"
    }
   ],
   "source": [
    "grid.cv_results_"
   ]
  },
  {
   "cell_type": "code",
   "execution_count": 65,
   "id": "55a772d7",
   "metadata": {},
   "outputs": [
    {
     "data": {
      "text/plain": [
       "10"
      ]
     },
     "execution_count": 65,
     "metadata": {},
     "output_type": "execute_result"
    }
   ],
   "source": [
    "grid.cv"
   ]
  },
  {
   "cell_type": "code",
   "execution_count": 67,
   "id": "cc2ebd00",
   "metadata": {},
   "outputs": [
    {
     "data": {
      "text/plain": [
       "MultinomialNB()"
      ]
     },
     "execution_count": 67,
     "metadata": {},
     "output_type": "execute_result"
    }
   ],
   "source": [
    "grid.estimator"
   ]
  },
  {
   "cell_type": "code",
   "execution_count": 68,
   "id": "0defbe4b",
   "metadata": {},
   "outputs": [
    {
     "data": {
      "text/plain": [
       "nan"
      ]
     },
     "execution_count": 68,
     "metadata": {},
     "output_type": "execute_result"
    }
   ],
   "source": [
    "grid.error_score"
   ]
  },
  {
   "cell_type": "code",
   "execution_count": 70,
   "id": "fc8a8f1e",
   "metadata": {},
   "outputs": [
    {
     "data": {
      "text/plain": [
       "<bound method BaseSearchCV.score of GridSearchCV(cv=10, estimator=MultinomialNB(),\n",
       "             param_grid={'alpha': [1, 2, 3, 4, 5, 6, 7, 8, 9, 10]},\n",
       "             scoring='accuracy')>"
      ]
     },
     "execution_count": 70,
     "metadata": {},
     "output_type": "execute_result"
    }
   ],
   "source": [
    "grid.score"
   ]
  },
  {
   "cell_type": "markdown",
   "id": "ac6d5fc1",
   "metadata": {},
   "source": [
    "Validando o tunning do algorítmo"
   ]
  },
  {
   "cell_type": "code",
   "execution_count": 89,
   "id": "6aa25ed6",
   "metadata": {},
   "outputs": [
    {
     "data": {
      "text/plain": [
       "MultinomialNB(alpha=5)"
      ]
     },
     "execution_count": 89,
     "metadata": {},
     "output_type": "execute_result"
    }
   ],
   "source": [
    "vectorizer = CountVectorizer(analyzer='word')\n",
    "\n",
    "freq_tweets = vectorizer.fit_transform(tweets)\n",
    "\n",
    "modelo = MultinomialNB(alpha=5)\n",
    "\n",
    "modelo.fit(freq_tweets,classes)"
   ]
  },
  {
   "cell_type": "code",
   "execution_count": 85,
   "id": "3cea2b18",
   "metadata": {},
   "outputs": [],
   "source": [
    "freq_testes = vectorizer.transform(testes)"
   ]
  },
  {
   "cell_type": "code",
   "execution_count": 83,
   "id": "fa440868",
   "metadata": {},
   "outputs": [
    {
     "data": {
      "text/plain": [
       "array(['Neutro', 'Neutro', 'Negativo', 'Neutro', 'Neutro'], dtype='<U8')"
      ]
     },
     "execution_count": 83,
     "metadata": {},
     "output_type": "execute_result"
    }
   ],
   "source": [
    "#Fazendo a classificação com o modelo treinado\n",
    "modelo.predict(freq_testes)"
   ]
  },
  {
   "cell_type": "code",
   "execution_count": 87,
   "id": "fadff602",
   "metadata": {},
   "outputs": [],
   "source": [
    "resultados = cross_val_predict(modelo, freq_tweets, classes, cv=10)"
   ]
  },
  {
   "cell_type": "code",
   "execution_count": 88,
   "id": "89ce47fb",
   "metadata": {},
   "outputs": [
    {
     "name": "stdout",
     "output_type": "stream",
     "text": [
      "              precision    recall  f1-score   support\n",
      "\n",
      "    Positivo       0.84      0.93      0.88      2840\n",
      "    Negativo       0.93      0.71      0.81       951\n",
      "      Neutro       0.79      0.76      0.78      1974\n",
      "\n",
      "    accuracy                           0.84      5765\n",
      "   macro avg       0.86      0.80      0.82      5765\n",
      "weighted avg       0.84      0.84      0.84      5765\n",
      "\n"
     ]
    },
    {
     "name": "stderr",
     "output_type": "stream",
     "text": [
      "C:\\Users\\marcf\\anaconda3\\lib\\site-packages\\sklearn\\utils\\validation.py:70: FutureWarning: Pass labels=['Positivo', 'Negativo', 'Neutro'] as keyword args. From version 1.0 (renaming of 0.25) passing these as positional arguments will result in an error\n",
      "  warnings.warn(f\"Pass {args_msg} as keyword args. From version \"\n"
     ]
    }
   ],
   "source": [
    "sentimento = ['Positivo','Negativo','Neutro']\n",
    "print(metrics.classification_report(classes,resultados,sentimento))"
   ]
  },
  {
   "cell_type": "markdown",
   "id": "408f024d",
   "metadata": {},
   "source": [
    "**Considerações finais**\n",
    "\n",
    "- Considere aumentar a quantidade de dados de treino.\n",
    "- Pela sua simplicidade o Naive Bayes pode ser usado perfeitamente como um algoritmos de Baseline.\n",
    "- Considere alterar os parâmetros do algoritmo.\n",
    "- Em tarefas de classificação de textos, considere utilizar outras modelagens como Bigrams por exemplo.\n",
    "- Em tarefas envolvendo textos, outras técnicas como stemming ou remoção de stoptowords podem dar bons resultados."
   ]
  },
  {
   "cell_type": "code",
   "execution_count": null,
   "id": "b0efd48f",
   "metadata": {},
   "outputs": [],
   "source": []
  }
 ],
 "metadata": {
  "kernelspec": {
   "display_name": "Python 3",
   "language": "python",
   "name": "python3"
  },
  "language_info": {
   "codemirror_mode": {
    "name": "ipython",
    "version": 3
   },
   "file_extension": ".py",
   "mimetype": "text/x-python",
   "name": "python",
   "nbconvert_exporter": "python",
   "pygments_lexer": "ipython3",
   "version": "3.8.8"
  }
 },
 "nbformat": 4,
 "nbformat_minor": 5
}
