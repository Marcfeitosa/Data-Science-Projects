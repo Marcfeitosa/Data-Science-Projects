{
 "cells": [
  {
   "cell_type": "markdown",
   "id": "8f82f0a9-2325-4969-b96b-e11458839d98",
   "metadata": {},
   "source": [
    "# Importando as bibliotecas necessárias e os Data Frames"
   ]
  },
  {
   "cell_type": "code",
   "execution_count": 2,
   "id": "3018082b-170c-40a6-a721-36a601b53a4b",
   "metadata": {},
   "outputs": [
    {
     "name": "stdout",
     "output_type": "stream",
     "text": [
      "Import Complete!!\n"
     ]
    }
   ],
   "source": [
    "import polars as pl\n",
    "import pandas as pd\n",
    "import folium\n",
    "from folium import plugins\n",
    "import ipywidgets as widgets\n",
    "from ipywidgets import interact\n",
    "import altair as alt\n",
    "import matplotlib.pyplot as plt\n",
    "import seaborn as sns\n",
    "import matplotlib.dates as mdates\n",
    "from datetime import datetime, time\n",
    "import numpy as np\n",
    "from ydata_profiling import ProfileReport\n",
    "from IPython.display import display\n",
    "import plotly.graph_objs as go\n",
    "import dash\n",
    "from dash import dcc, html, Input, Output\n",
    "from matplotlib.ticker import FuncFormatter\n",
    "from folium.plugins import TimestampedGeoJson\n",
    "from ipyleaflet import Map, Polyline, basemaps, WidgetControl\n",
    "\n",
    "# Para carregar o dado direto no pandas - Loading the dataset directly to pandas\n",
    "fare_attributes = pd.read_csv(r\"C:\\Users\\marcf\\OneDrive\\Documentos\\Ciencia-de-dados\\SOROCABA-gtfs\\fare_attributes.txt\")\n",
    "fare_rules = pd.read_csv(r\"C:\\Users\\marcf\\OneDrive\\Documentos\\Ciencia-de-dados\\SOROCABA-gtfs\\fare_rules.txt\")\n",
    "routes = pd.read_csv(r\"C:\\Users\\marcf\\OneDrive\\Documentos\\Ciencia-de-dados\\SOROCABA-gtfs\\routes.txt\")\n",
    "shapes = pd.read_csv(r\"C:\\Users\\marcf\\OneDrive\\Documentos\\Ciencia-de-dados\\SOROCABA-gtfs\\shapes.txt\")\n",
    "stop_times = pd.read_csv(r\"C:\\Users\\marcf\\OneDrive\\Documentos\\Ciencia-de-dados\\SOROCABA-gtfs\\stop_times.txt\")\n",
    "stops = pd.read_csv(r\"C:\\Users\\marcf\\OneDrive\\Documentos\\Ciencia-de-dados\\SOROCABA-gtfs\\stops.txt\")\n",
    "trips = pd.read_csv(r\"C:\\Users\\marcf\\OneDrive\\Documentos\\Ciencia-de-dados\\SOROCABA-gtfs\\trips.txt\")\n",
    "calendar_dates = pd.read_csv(r\"C:\\Users\\marcf\\OneDrive\\Documentos\\Ciencia-de-dados\\SOROCABA-gtfs\\calendar_dates.txt\")\n",
    "\n",
    "#Clear Bootstrap Logs\n",
    "from IPython.display import clear_output \n",
    "#clear_output()\n",
    "\n",
    "print(\"Import Complete!!\")\n"
   ]
  },
  {
   "cell_type": "markdown",
   "id": "b3d1b18e-ad5e-49d0-8db2-075d8ef84c2c",
   "metadata": {},
   "source": [
    "<h1 style=\"background-color:#6a0dad; color:white\">Explorando os Data Frames</h1>"
   ]
  },
  {
   "cell_type": "markdown",
   "id": "34100381-fd41-4788-8426-c628d4a87b22",
   "metadata": {},
   "source": [
    "## <span style=\"color:#6a0dad\">Explorando o Data Frame 'fare_attributes'</span>\n"
   ]
  },
  {
   "cell_type": "code",
   "execution_count": 5,
   "id": "ee449276-fa2e-4125-bb0b-8e0d8414d8c9",
   "metadata": {},
   "outputs": [
    {
     "data": {
      "text/html": [
       "<div>\n",
       "<style scoped>\n",
       "    .dataframe tbody tr th:only-of-type {\n",
       "        vertical-align: middle;\n",
       "    }\n",
       "\n",
       "    .dataframe tbody tr th {\n",
       "        vertical-align: top;\n",
       "    }\n",
       "\n",
       "    .dataframe thead th {\n",
       "        text-align: right;\n",
       "    }\n",
       "</style>\n",
       "<table border=\"1\" class=\"dataframe\">\n",
       "  <thead>\n",
       "    <tr style=\"text-align: right;\">\n",
       "      <th></th>\n",
       "      <th>fare_id</th>\n",
       "      <th>price</th>\n",
       "      <th>currency_type</th>\n",
       "      <th>payment_method</th>\n",
       "      <th>transfers</th>\n",
       "      <th>agency_id</th>\n",
       "      <th>transfer_duration</th>\n",
       "    </tr>\n",
       "  </thead>\n",
       "  <tbody>\n",
       "    <tr>\n",
       "      <th>0</th>\n",
       "      <td>21390</td>\n",
       "      <td>4.90</td>\n",
       "      <td>BRL</td>\n",
       "      <td>0</td>\n",
       "      <td>0</td>\n",
       "      <td>1049</td>\n",
       "      <td>NaN</td>\n",
       "    </tr>\n",
       "    <tr>\n",
       "      <th>1</th>\n",
       "      <td>21395</td>\n",
       "      <td>5.25</td>\n",
       "      <td>BRL</td>\n",
       "      <td>0</td>\n",
       "      <td>0</td>\n",
       "      <td>1049</td>\n",
       "      <td>NaN</td>\n",
       "    </tr>\n",
       "    <tr>\n",
       "      <th>2</th>\n",
       "      <td>21398</td>\n",
       "      <td>6.00</td>\n",
       "      <td>BRL</td>\n",
       "      <td>0</td>\n",
       "      <td>0</td>\n",
       "      <td>1049</td>\n",
       "      <td>NaN</td>\n",
       "    </tr>\n",
       "    <tr>\n",
       "      <th>3</th>\n",
       "      <td>21412</td>\n",
       "      <td>5.40</td>\n",
       "      <td>BRL</td>\n",
       "      <td>0</td>\n",
       "      <td>0</td>\n",
       "      <td>1049</td>\n",
       "      <td>NaN</td>\n",
       "    </tr>\n",
       "    <tr>\n",
       "      <th>4</th>\n",
       "      <td>21394</td>\n",
       "      <td>5.50</td>\n",
       "      <td>BRL</td>\n",
       "      <td>0</td>\n",
       "      <td>0</td>\n",
       "      <td>1049</td>\n",
       "      <td>NaN</td>\n",
       "    </tr>\n",
       "    <tr>\n",
       "      <th>5</th>\n",
       "      <td>21399</td>\n",
       "      <td>6.15</td>\n",
       "      <td>BRL</td>\n",
       "      <td>0</td>\n",
       "      <td>0</td>\n",
       "      <td>1049</td>\n",
       "      <td>NaN</td>\n",
       "    </tr>\n",
       "    <tr>\n",
       "      <th>6</th>\n",
       "      <td>21407</td>\n",
       "      <td>5.35</td>\n",
       "      <td>BRL</td>\n",
       "      <td>0</td>\n",
       "      <td>0</td>\n",
       "      <td>1049</td>\n",
       "      <td>NaN</td>\n",
       "    </tr>\n",
       "    <tr>\n",
       "      <th>7</th>\n",
       "      <td>21426</td>\n",
       "      <td>5.15</td>\n",
       "      <td>BRL</td>\n",
       "      <td>0</td>\n",
       "      <td>0</td>\n",
       "      <td>1049</td>\n",
       "      <td>NaN</td>\n",
       "    </tr>\n",
       "  </tbody>\n",
       "</table>\n",
       "</div>"
      ],
      "text/plain": [
       "   fare_id  price currency_type  payment_method  transfers  agency_id  \\\n",
       "0    21390   4.90           BRL               0          0       1049   \n",
       "1    21395   5.25           BRL               0          0       1049   \n",
       "2    21398   6.00           BRL               0          0       1049   \n",
       "3    21412   5.40           BRL               0          0       1049   \n",
       "4    21394   5.50           BRL               0          0       1049   \n",
       "5    21399   6.15           BRL               0          0       1049   \n",
       "6    21407   5.35           BRL               0          0       1049   \n",
       "7    21426   5.15           BRL               0          0       1049   \n",
       "\n",
       "   transfer_duration  \n",
       "0                NaN  \n",
       "1                NaN  \n",
       "2                NaN  \n",
       "3                NaN  \n",
       "4                NaN  \n",
       "5                NaN  \n",
       "6                NaN  \n",
       "7                NaN  "
      ]
     },
     "execution_count": 5,
     "metadata": {},
     "output_type": "execute_result"
    }
   ],
   "source": [
    "fare_attributes.head(10)"
   ]
  },
  {
   "cell_type": "code",
   "execution_count": 6,
   "id": "8388583a-1c9a-44e7-9b0d-ef84457009f3",
   "metadata": {},
   "outputs": [
    {
     "data": {
      "text/html": [
       "<div>\n",
       "<style scoped>\n",
       "    .dataframe tbody tr th:only-of-type {\n",
       "        vertical-align: middle;\n",
       "    }\n",
       "\n",
       "    .dataframe tbody tr th {\n",
       "        vertical-align: top;\n",
       "    }\n",
       "\n",
       "    .dataframe thead th {\n",
       "        text-align: right;\n",
       "    }\n",
       "</style>\n",
       "<table border=\"1\" class=\"dataframe\">\n",
       "  <thead>\n",
       "    <tr style=\"text-align: right;\">\n",
       "      <th></th>\n",
       "      <th>fare_id</th>\n",
       "      <th>price</th>\n",
       "      <th>payment_method</th>\n",
       "      <th>transfers</th>\n",
       "      <th>agency_id</th>\n",
       "      <th>transfer_duration</th>\n",
       "    </tr>\n",
       "  </thead>\n",
       "  <tbody>\n",
       "    <tr>\n",
       "      <th>count</th>\n",
       "      <td>8.000000</td>\n",
       "      <td>8.000000</td>\n",
       "      <td>8.0</td>\n",
       "      <td>8.0</td>\n",
       "      <td>8.0</td>\n",
       "      <td>0.0</td>\n",
       "    </tr>\n",
       "    <tr>\n",
       "      <th>mean</th>\n",
       "      <td>21402.625000</td>\n",
       "      <td>5.462500</td>\n",
       "      <td>0.0</td>\n",
       "      <td>0.0</td>\n",
       "      <td>1049.0</td>\n",
       "      <td>NaN</td>\n",
       "    </tr>\n",
       "    <tr>\n",
       "      <th>std</th>\n",
       "      <td>11.831405</td>\n",
       "      <td>0.420671</td>\n",
       "      <td>0.0</td>\n",
       "      <td>0.0</td>\n",
       "      <td>0.0</td>\n",
       "      <td>NaN</td>\n",
       "    </tr>\n",
       "    <tr>\n",
       "      <th>min</th>\n",
       "      <td>21390.000000</td>\n",
       "      <td>4.900000</td>\n",
       "      <td>0.0</td>\n",
       "      <td>0.0</td>\n",
       "      <td>1049.0</td>\n",
       "      <td>NaN</td>\n",
       "    </tr>\n",
       "    <tr>\n",
       "      <th>25%</th>\n",
       "      <td>21394.750000</td>\n",
       "      <td>5.225000</td>\n",
       "      <td>0.0</td>\n",
       "      <td>0.0</td>\n",
       "      <td>1049.0</td>\n",
       "      <td>NaN</td>\n",
       "    </tr>\n",
       "    <tr>\n",
       "      <th>50%</th>\n",
       "      <td>21398.500000</td>\n",
       "      <td>5.375000</td>\n",
       "      <td>0.0</td>\n",
       "      <td>0.0</td>\n",
       "      <td>1049.0</td>\n",
       "      <td>NaN</td>\n",
       "    </tr>\n",
       "    <tr>\n",
       "      <th>75%</th>\n",
       "      <td>21408.250000</td>\n",
       "      <td>5.625000</td>\n",
       "      <td>0.0</td>\n",
       "      <td>0.0</td>\n",
       "      <td>1049.0</td>\n",
       "      <td>NaN</td>\n",
       "    </tr>\n",
       "    <tr>\n",
       "      <th>max</th>\n",
       "      <td>21426.000000</td>\n",
       "      <td>6.150000</td>\n",
       "      <td>0.0</td>\n",
       "      <td>0.0</td>\n",
       "      <td>1049.0</td>\n",
       "      <td>NaN</td>\n",
       "    </tr>\n",
       "  </tbody>\n",
       "</table>\n",
       "</div>"
      ],
      "text/plain": [
       "            fare_id     price  payment_method  transfers  agency_id  \\\n",
       "count      8.000000  8.000000             8.0        8.0        8.0   \n",
       "mean   21402.625000  5.462500             0.0        0.0     1049.0   \n",
       "std       11.831405  0.420671             0.0        0.0        0.0   \n",
       "min    21390.000000  4.900000             0.0        0.0     1049.0   \n",
       "25%    21394.750000  5.225000             0.0        0.0     1049.0   \n",
       "50%    21398.500000  5.375000             0.0        0.0     1049.0   \n",
       "75%    21408.250000  5.625000             0.0        0.0     1049.0   \n",
       "max    21426.000000  6.150000             0.0        0.0     1049.0   \n",
       "\n",
       "       transfer_duration  \n",
       "count                0.0  \n",
       "mean                 NaN  \n",
       "std                  NaN  \n",
       "min                  NaN  \n",
       "25%                  NaN  \n",
       "50%                  NaN  \n",
       "75%                  NaN  \n",
       "max                  NaN  "
      ]
     },
     "execution_count": 6,
     "metadata": {},
     "output_type": "execute_result"
    }
   ],
   "source": [
    "fare_attributes.describe()"
   ]
  },
  {
   "cell_type": "code",
   "execution_count": 7,
   "id": "d948ef36-986a-4554-92bf-434d07398cf7",
   "metadata": {},
   "outputs": [
    {
     "data": {
      "text/html": [
       "<div>\n",
       "<style scoped>\n",
       "    .dataframe tbody tr th:only-of-type {\n",
       "        vertical-align: middle;\n",
       "    }\n",
       "\n",
       "    .dataframe tbody tr th {\n",
       "        vertical-align: top;\n",
       "    }\n",
       "\n",
       "    .dataframe thead th {\n",
       "        text-align: right;\n",
       "    }\n",
       "</style>\n",
       "<table border=\"1\" class=\"dataframe\">\n",
       "  <thead>\n",
       "    <tr style=\"text-align: right;\">\n",
       "      <th></th>\n",
       "      <th>fare_id</th>\n",
       "      <th>price</th>\n",
       "      <th>payment_method</th>\n",
       "      <th>transfers</th>\n",
       "      <th>agency_id</th>\n",
       "      <th>transfer_duration</th>\n",
       "    </tr>\n",
       "  </thead>\n",
       "  <tbody>\n",
       "    <tr>\n",
       "      <th>count</th>\n",
       "      <td>8.000000</td>\n",
       "      <td>8.000000</td>\n",
       "      <td>8.0</td>\n",
       "      <td>8.0</td>\n",
       "      <td>8.0</td>\n",
       "      <td>0.0</td>\n",
       "    </tr>\n",
       "    <tr>\n",
       "      <th>mean</th>\n",
       "      <td>21402.625000</td>\n",
       "      <td>5.462500</td>\n",
       "      <td>0.0</td>\n",
       "      <td>0.0</td>\n",
       "      <td>1049.0</td>\n",
       "      <td>NaN</td>\n",
       "    </tr>\n",
       "    <tr>\n",
       "      <th>std</th>\n",
       "      <td>11.831405</td>\n",
       "      <td>0.420671</td>\n",
       "      <td>0.0</td>\n",
       "      <td>0.0</td>\n",
       "      <td>0.0</td>\n",
       "      <td>NaN</td>\n",
       "    </tr>\n",
       "    <tr>\n",
       "      <th>min</th>\n",
       "      <td>21390.000000</td>\n",
       "      <td>4.900000</td>\n",
       "      <td>0.0</td>\n",
       "      <td>0.0</td>\n",
       "      <td>1049.0</td>\n",
       "      <td>NaN</td>\n",
       "    </tr>\n",
       "    <tr>\n",
       "      <th>25%</th>\n",
       "      <td>21394.750000</td>\n",
       "      <td>5.225000</td>\n",
       "      <td>0.0</td>\n",
       "      <td>0.0</td>\n",
       "      <td>1049.0</td>\n",
       "      <td>NaN</td>\n",
       "    </tr>\n",
       "    <tr>\n",
       "      <th>50%</th>\n",
       "      <td>21398.500000</td>\n",
       "      <td>5.375000</td>\n",
       "      <td>0.0</td>\n",
       "      <td>0.0</td>\n",
       "      <td>1049.0</td>\n",
       "      <td>NaN</td>\n",
       "    </tr>\n",
       "    <tr>\n",
       "      <th>75%</th>\n",
       "      <td>21408.250000</td>\n",
       "      <td>5.625000</td>\n",
       "      <td>0.0</td>\n",
       "      <td>0.0</td>\n",
       "      <td>1049.0</td>\n",
       "      <td>NaN</td>\n",
       "    </tr>\n",
       "    <tr>\n",
       "      <th>max</th>\n",
       "      <td>21426.000000</td>\n",
       "      <td>6.150000</td>\n",
       "      <td>0.0</td>\n",
       "      <td>0.0</td>\n",
       "      <td>1049.0</td>\n",
       "      <td>NaN</td>\n",
       "    </tr>\n",
       "  </tbody>\n",
       "</table>\n",
       "</div>"
      ],
      "text/plain": [
       "            fare_id     price  payment_method  transfers  agency_id  \\\n",
       "count      8.000000  8.000000             8.0        8.0        8.0   \n",
       "mean   21402.625000  5.462500             0.0        0.0     1049.0   \n",
       "std       11.831405  0.420671             0.0        0.0        0.0   \n",
       "min    21390.000000  4.900000             0.0        0.0     1049.0   \n",
       "25%    21394.750000  5.225000             0.0        0.0     1049.0   \n",
       "50%    21398.500000  5.375000             0.0        0.0     1049.0   \n",
       "75%    21408.250000  5.625000             0.0        0.0     1049.0   \n",
       "max    21426.000000  6.150000             0.0        0.0     1049.0   \n",
       "\n",
       "       transfer_duration  \n",
       "count                0.0  \n",
       "mean                 NaN  \n",
       "std                  NaN  \n",
       "min                  NaN  \n",
       "25%                  NaN  \n",
       "50%                  NaN  \n",
       "75%                  NaN  \n",
       "max                  NaN  "
      ]
     },
     "execution_count": 7,
     "metadata": {},
     "output_type": "execute_result"
    }
   ],
   "source": [
    "fare_attributes.describe()"
   ]
  },
  {
   "cell_type": "code",
   "execution_count": 8,
   "id": "a1eaffe7-e760-4fd5-b1f2-60e721160314",
   "metadata": {},
   "outputs": [
    {
     "name": "stdout",
     "output_type": "stream",
     "text": [
      "<class 'pandas.core.frame.DataFrame'>\n",
      "RangeIndex: 8 entries, 0 to 7\n",
      "Data columns (total 7 columns):\n",
      " #   Column             Non-Null Count  Dtype  \n",
      "---  ------             --------------  -----  \n",
      " 0   fare_id            8 non-null      int64  \n",
      " 1   price              8 non-null      float64\n",
      " 2   currency_type      8 non-null      object \n",
      " 3   payment_method     8 non-null      int64  \n",
      " 4   transfers          8 non-null      int64  \n",
      " 5   agency_id          8 non-null      int64  \n",
      " 6   transfer_duration  0 non-null      float64\n",
      "dtypes: float64(2), int64(4), object(1)\n",
      "memory usage: 576.0+ bytes\n"
     ]
    }
   ],
   "source": [
    "fare_attributes.info()"
   ]
  },
  {
   "cell_type": "code",
   "execution_count": 9,
   "id": "20c2b393-ecde-4731-a40d-a7b08d6a46ab",
   "metadata": {},
   "outputs": [],
   "source": [
    "fare_attributes = fare_attributes.drop('transfer_duration', axis=1)"
   ]
  },
  {
   "cell_type": "code",
   "execution_count": 10,
   "id": "b2a9bd6e-9d76-4687-b654-3c0a0027939e",
   "metadata": {},
   "outputs": [
    {
     "data": {
      "text/html": [
       "<div>\n",
       "<style scoped>\n",
       "    .dataframe tbody tr th:only-of-type {\n",
       "        vertical-align: middle;\n",
       "    }\n",
       "\n",
       "    .dataframe tbody tr th {\n",
       "        vertical-align: top;\n",
       "    }\n",
       "\n",
       "    .dataframe thead th {\n",
       "        text-align: right;\n",
       "    }\n",
       "</style>\n",
       "<table border=\"1\" class=\"dataframe\">\n",
       "  <thead>\n",
       "    <tr style=\"text-align: right;\">\n",
       "      <th></th>\n",
       "      <th>fare_id</th>\n",
       "      <th>price</th>\n",
       "      <th>currency_type</th>\n",
       "      <th>payment_method</th>\n",
       "      <th>transfers</th>\n",
       "      <th>agency_id</th>\n",
       "    </tr>\n",
       "  </thead>\n",
       "  <tbody>\n",
       "    <tr>\n",
       "      <th>0</th>\n",
       "      <td>21390</td>\n",
       "      <td>4.90</td>\n",
       "      <td>BRL</td>\n",
       "      <td>0</td>\n",
       "      <td>0</td>\n",
       "      <td>1049</td>\n",
       "    </tr>\n",
       "    <tr>\n",
       "      <th>1</th>\n",
       "      <td>21395</td>\n",
       "      <td>5.25</td>\n",
       "      <td>BRL</td>\n",
       "      <td>0</td>\n",
       "      <td>0</td>\n",
       "      <td>1049</td>\n",
       "    </tr>\n",
       "    <tr>\n",
       "      <th>2</th>\n",
       "      <td>21398</td>\n",
       "      <td>6.00</td>\n",
       "      <td>BRL</td>\n",
       "      <td>0</td>\n",
       "      <td>0</td>\n",
       "      <td>1049</td>\n",
       "    </tr>\n",
       "    <tr>\n",
       "      <th>3</th>\n",
       "      <td>21412</td>\n",
       "      <td>5.40</td>\n",
       "      <td>BRL</td>\n",
       "      <td>0</td>\n",
       "      <td>0</td>\n",
       "      <td>1049</td>\n",
       "    </tr>\n",
       "    <tr>\n",
       "      <th>4</th>\n",
       "      <td>21394</td>\n",
       "      <td>5.50</td>\n",
       "      <td>BRL</td>\n",
       "      <td>0</td>\n",
       "      <td>0</td>\n",
       "      <td>1049</td>\n",
       "    </tr>\n",
       "    <tr>\n",
       "      <th>5</th>\n",
       "      <td>21399</td>\n",
       "      <td>6.15</td>\n",
       "      <td>BRL</td>\n",
       "      <td>0</td>\n",
       "      <td>0</td>\n",
       "      <td>1049</td>\n",
       "    </tr>\n",
       "    <tr>\n",
       "      <th>6</th>\n",
       "      <td>21407</td>\n",
       "      <td>5.35</td>\n",
       "      <td>BRL</td>\n",
       "      <td>0</td>\n",
       "      <td>0</td>\n",
       "      <td>1049</td>\n",
       "    </tr>\n",
       "    <tr>\n",
       "      <th>7</th>\n",
       "      <td>21426</td>\n",
       "      <td>5.15</td>\n",
       "      <td>BRL</td>\n",
       "      <td>0</td>\n",
       "      <td>0</td>\n",
       "      <td>1049</td>\n",
       "    </tr>\n",
       "  </tbody>\n",
       "</table>\n",
       "</div>"
      ],
      "text/plain": [
       "   fare_id  price currency_type  payment_method  transfers  agency_id\n",
       "0    21390   4.90           BRL               0          0       1049\n",
       "1    21395   5.25           BRL               0          0       1049\n",
       "2    21398   6.00           BRL               0          0       1049\n",
       "3    21412   5.40           BRL               0          0       1049\n",
       "4    21394   5.50           BRL               0          0       1049\n",
       "5    21399   6.15           BRL               0          0       1049\n",
       "6    21407   5.35           BRL               0          0       1049\n",
       "7    21426   5.15           BRL               0          0       1049"
      ]
     },
     "execution_count": 10,
     "metadata": {},
     "output_type": "execute_result"
    }
   ],
   "source": [
    "fare_attributes"
   ]
  },
  {
   "cell_type": "code",
   "execution_count": 11,
   "id": "0c35a873-2e3d-4d99-81e7-a68d61606b5d",
   "metadata": {},
   "outputs": [
    {
     "name": "stdout",
     "output_type": "stream",
     "text": [
      "fare_id           0\n",
      "price             0\n",
      "currency_type     0\n",
      "payment_method    0\n",
      "transfers         0\n",
      "agency_id         0\n",
      "dtype: int64\n"
     ]
    }
   ],
   "source": [
    "valores_ausentes_fare_attributes = fare_attributes.isna()\n",
    "contagem = valores_ausentes_fare_attributes.sum()\n",
    "print(contagem)"
   ]
  },
  {
   "cell_type": "markdown",
   "id": "fb8ddab9-5bd6-4603-9cba-ce575f22a11a",
   "metadata": {},
   "source": [
    "### <div style=\"background-color:#226C35; color:#FFFFFF; padding:10px\">Conclusões:</div>\n",
    "- Esse é um data frame meramente informativo apenas com identificações de tarifas e seus respectivos valores, vamos ter que cruzar esses dados com outros data frames para termos uma informação relevante\n",
    "- Mais na frente vamos cruzar esse Data Frame com o próximo, fare_rules. Primeiro vamos fazer a exploração dos seus dados"
   ]
  },
  {
   "cell_type": "markdown",
   "id": "8357516b-486c-4f2c-88e7-d7f6b0cc5f39",
   "metadata": {},
   "source": [
    "## <span style=\"color:#6a0dad\">Explorando o Data Frame 'fare_rules'</span>\n"
   ]
  },
  {
   "cell_type": "code",
   "execution_count": 12,
   "id": "58668c94-0095-4b40-82ad-0f6b87f29136",
   "metadata": {},
   "outputs": [
    {
     "name": "stdout",
     "output_type": "stream",
     "text": [
      "O Data Frame tem 13 linhas e 2 colunas.\n"
     ]
    }
   ],
   "source": [
    "print(f'O Data Frame tem {fare_rules.shape[0]} linhas e {fare_rules.shape[1]} colunas.')"
   ]
  },
  {
   "cell_type": "code",
   "execution_count": 13,
   "id": "fb8140bf-7fbc-46f8-92f3-63ef901a5770",
   "metadata": {},
   "outputs": [
    {
     "data": {
      "text/html": [
       "<div>\n",
       "<style scoped>\n",
       "    .dataframe tbody tr th:only-of-type {\n",
       "        vertical-align: middle;\n",
       "    }\n",
       "\n",
       "    .dataframe tbody tr th {\n",
       "        vertical-align: top;\n",
       "    }\n",
       "\n",
       "    .dataframe thead th {\n",
       "        text-align: right;\n",
       "    }\n",
       "</style>\n",
       "<table border=\"1\" class=\"dataframe\">\n",
       "  <thead>\n",
       "    <tr style=\"text-align: right;\">\n",
       "      <th></th>\n",
       "      <th>fare_id</th>\n",
       "      <th>route_id</th>\n",
       "    </tr>\n",
       "  </thead>\n",
       "  <tbody>\n",
       "    <tr>\n",
       "      <th>0</th>\n",
       "      <td>21390</td>\n",
       "      <td>c73df358-1a6d-4ff2-adf4-b1f3a1477344</td>\n",
       "    </tr>\n",
       "    <tr>\n",
       "      <th>1</th>\n",
       "      <td>21395</td>\n",
       "      <td>72b3e29b-10df-4bce-854a-582d115a99a4</td>\n",
       "    </tr>\n",
       "    <tr>\n",
       "      <th>2</th>\n",
       "      <td>21398</td>\n",
       "      <td>134ccc43-722d-433d-9e56-7bd03d985403</td>\n",
       "    </tr>\n",
       "    <tr>\n",
       "      <th>3</th>\n",
       "      <td>21390</td>\n",
       "      <td>1cf3a839-8147-4730-b0b6-5c52c4030a7b</td>\n",
       "    </tr>\n",
       "    <tr>\n",
       "      <th>4</th>\n",
       "      <td>21412</td>\n",
       "      <td>0e6d74dd-a14e-40b3-ac59-720498612889</td>\n",
       "    </tr>\n",
       "    <tr>\n",
       "      <th>5</th>\n",
       "      <td>21395</td>\n",
       "      <td>81399e03-dcaa-4255-858d-d3e81e69157d</td>\n",
       "    </tr>\n",
       "    <tr>\n",
       "      <th>6</th>\n",
       "      <td>21412</td>\n",
       "      <td>5396e018-5cca-4291-8622-c50f2ac15b41</td>\n",
       "    </tr>\n",
       "    <tr>\n",
       "      <th>7</th>\n",
       "      <td>21390</td>\n",
       "      <td>142cbd21-198a-4b79-8bb6-755ef1eee5e7</td>\n",
       "    </tr>\n",
       "    <tr>\n",
       "      <th>8</th>\n",
       "      <td>21394</td>\n",
       "      <td>aa595240-5ef2-4e2d-a2f7-300976b1dcbf</td>\n",
       "    </tr>\n",
       "    <tr>\n",
       "      <th>9</th>\n",
       "      <td>21395</td>\n",
       "      <td>90588e02-a842-4427-b7b1-6321737e7972</td>\n",
       "    </tr>\n",
       "    <tr>\n",
       "      <th>10</th>\n",
       "      <td>21399</td>\n",
       "      <td>792b9359-d1d8-437b-a5ab-b6fb1b5864e6</td>\n",
       "    </tr>\n",
       "    <tr>\n",
       "      <th>11</th>\n",
       "      <td>21407</td>\n",
       "      <td>5a75f026-dc66-42a7-97d0-dc9d496fe642</td>\n",
       "    </tr>\n",
       "    <tr>\n",
       "      <th>12</th>\n",
       "      <td>21426</td>\n",
       "      <td>aec90850-be02-49f0-ab8b-be9e1b3cef20</td>\n",
       "    </tr>\n",
       "  </tbody>\n",
       "</table>\n",
       "</div>"
      ],
      "text/plain": [
       "    fare_id                              route_id\n",
       "0     21390  c73df358-1a6d-4ff2-adf4-b1f3a1477344\n",
       "1     21395  72b3e29b-10df-4bce-854a-582d115a99a4\n",
       "2     21398  134ccc43-722d-433d-9e56-7bd03d985403\n",
       "3     21390  1cf3a839-8147-4730-b0b6-5c52c4030a7b\n",
       "4     21412  0e6d74dd-a14e-40b3-ac59-720498612889\n",
       "5     21395  81399e03-dcaa-4255-858d-d3e81e69157d\n",
       "6     21412  5396e018-5cca-4291-8622-c50f2ac15b41\n",
       "7     21390  142cbd21-198a-4b79-8bb6-755ef1eee5e7\n",
       "8     21394  aa595240-5ef2-4e2d-a2f7-300976b1dcbf\n",
       "9     21395  90588e02-a842-4427-b7b1-6321737e7972\n",
       "10    21399  792b9359-d1d8-437b-a5ab-b6fb1b5864e6\n",
       "11    21407  5a75f026-dc66-42a7-97d0-dc9d496fe642\n",
       "12    21426  aec90850-be02-49f0-ab8b-be9e1b3cef20"
      ]
     },
     "execution_count": 13,
     "metadata": {},
     "output_type": "execute_result"
    }
   ],
   "source": [
    "fare_rules.head(13)"
   ]
  },
  {
   "cell_type": "markdown",
   "id": "cf581aed-4d96-40a1-bf8b-39091f51bbe4",
   "metadata": {},
   "source": [
    "### <div style=\"background-color:#226C35; color:#FFFFFF; padding:10px\">Conclusões:</div>\n",
    "- Esse é outro frame de referência o arquivo fare_rules contém informações sobre as regras de tarifas que se aplicam a viagens em uma rede de transporte público. Cada linha do arquivo corresponde a uma regra de tarifa que se aplica a uma ou mais viagens em uma ou mais rotas.\n",
    "- Vamos combiná-lo com o arquivo fare_attributes para vermos como as tarifas são distribuídas por rotas.\n",
    "- De antemão podemos verificar que o data frame pode não estar completo pois há muito mais rotas disponíveis no arquivo routes.txt que nesse, há uma diferença de 110 linhas de ônibus (123 linhas no data frame routes e 13 linhas no data frame fare_rules)"
   ]
  },
  {
   "cell_type": "markdown",
   "id": "6e9c561d-80ab-4713-a3ce-42d985ac5f5e",
   "metadata": {},
   "source": [
    "## <span style=\"color:#6a0dad\">Explorando o Data Frame 'routes'</span>\n"
   ]
  },
  {
   "cell_type": "code",
   "execution_count": 15,
   "id": "b46ddb3a-7c9c-433c-a2fd-1fdce10c61c6",
   "metadata": {},
   "outputs": [
    {
     "name": "stdout",
     "output_type": "stream",
     "text": [
      "O Data Frame tem 123 linhas e 8 colunas.\n"
     ]
    }
   ],
   "source": [
    "print(f'O Data Frame tem {routes.shape[0]} linhas e {routes.shape[1]} colunas.')\n"
   ]
  },
  {
   "cell_type": "code",
   "execution_count": 16,
   "id": "8f6bbfaa-3ed7-46c0-9fe7-3e222b8f49d9",
   "metadata": {},
   "outputs": [
    {
     "data": {
      "text/html": [
       "<div>\n",
       "<style scoped>\n",
       "    .dataframe tbody tr th:only-of-type {\n",
       "        vertical-align: middle;\n",
       "    }\n",
       "\n",
       "    .dataframe tbody tr th {\n",
       "        vertical-align: top;\n",
       "    }\n",
       "\n",
       "    .dataframe thead th {\n",
       "        text-align: right;\n",
       "    }\n",
       "</style>\n",
       "<table border=\"1\" class=\"dataframe\">\n",
       "  <thead>\n",
       "    <tr style=\"text-align: right;\">\n",
       "      <th></th>\n",
       "      <th>agency_id</th>\n",
       "      <th>route_desc</th>\n",
       "      <th>route_type</th>\n",
       "      <th>route_color</th>\n",
       "      <th>route_text_color</th>\n",
       "    </tr>\n",
       "  </thead>\n",
       "  <tbody>\n",
       "    <tr>\n",
       "      <th>count</th>\n",
       "      <td>123.0</td>\n",
       "      <td>0.0</td>\n",
       "      <td>123.0</td>\n",
       "      <td>0.0</td>\n",
       "      <td>0.0</td>\n",
       "    </tr>\n",
       "    <tr>\n",
       "      <th>mean</th>\n",
       "      <td>1049.0</td>\n",
       "      <td>NaN</td>\n",
       "      <td>3.0</td>\n",
       "      <td>NaN</td>\n",
       "      <td>NaN</td>\n",
       "    </tr>\n",
       "    <tr>\n",
       "      <th>std</th>\n",
       "      <td>0.0</td>\n",
       "      <td>NaN</td>\n",
       "      <td>0.0</td>\n",
       "      <td>NaN</td>\n",
       "      <td>NaN</td>\n",
       "    </tr>\n",
       "    <tr>\n",
       "      <th>min</th>\n",
       "      <td>1049.0</td>\n",
       "      <td>NaN</td>\n",
       "      <td>3.0</td>\n",
       "      <td>NaN</td>\n",
       "      <td>NaN</td>\n",
       "    </tr>\n",
       "    <tr>\n",
       "      <th>25%</th>\n",
       "      <td>1049.0</td>\n",
       "      <td>NaN</td>\n",
       "      <td>3.0</td>\n",
       "      <td>NaN</td>\n",
       "      <td>NaN</td>\n",
       "    </tr>\n",
       "    <tr>\n",
       "      <th>50%</th>\n",
       "      <td>1049.0</td>\n",
       "      <td>NaN</td>\n",
       "      <td>3.0</td>\n",
       "      <td>NaN</td>\n",
       "      <td>NaN</td>\n",
       "    </tr>\n",
       "    <tr>\n",
       "      <th>75%</th>\n",
       "      <td>1049.0</td>\n",
       "      <td>NaN</td>\n",
       "      <td>3.0</td>\n",
       "      <td>NaN</td>\n",
       "      <td>NaN</td>\n",
       "    </tr>\n",
       "    <tr>\n",
       "      <th>max</th>\n",
       "      <td>1049.0</td>\n",
       "      <td>NaN</td>\n",
       "      <td>3.0</td>\n",
       "      <td>NaN</td>\n",
       "      <td>NaN</td>\n",
       "    </tr>\n",
       "  </tbody>\n",
       "</table>\n",
       "</div>"
      ],
      "text/plain": [
       "       agency_id  route_desc  route_type  route_color  route_text_color\n",
       "count      123.0         0.0       123.0          0.0               0.0\n",
       "mean      1049.0         NaN         3.0          NaN               NaN\n",
       "std          0.0         NaN         0.0          NaN               NaN\n",
       "min       1049.0         NaN         3.0          NaN               NaN\n",
       "25%       1049.0         NaN         3.0          NaN               NaN\n",
       "50%       1049.0         NaN         3.0          NaN               NaN\n",
       "75%       1049.0         NaN         3.0          NaN               NaN\n",
       "max       1049.0         NaN         3.0          NaN               NaN"
      ]
     },
     "execution_count": 16,
     "metadata": {},
     "output_type": "execute_result"
    }
   ],
   "source": [
    "routes.describe()"
   ]
  },
  {
   "cell_type": "code",
   "execution_count": 17,
   "id": "aef4a68f-a72a-47db-a0e4-e70ae5e250b9",
   "metadata": {},
   "outputs": [
    {
     "data": {
      "text/html": [
       "<div>\n",
       "<style scoped>\n",
       "    .dataframe tbody tr th:only-of-type {\n",
       "        vertical-align: middle;\n",
       "    }\n",
       "\n",
       "    .dataframe tbody tr th {\n",
       "        vertical-align: top;\n",
       "    }\n",
       "\n",
       "    .dataframe thead th {\n",
       "        text-align: right;\n",
       "    }\n",
       "</style>\n",
       "<table border=\"1\" class=\"dataframe\">\n",
       "  <thead>\n",
       "    <tr style=\"text-align: right;\">\n",
       "      <th></th>\n",
       "      <th>route_id</th>\n",
       "      <th>agency_id</th>\n",
       "      <th>route_short_name</th>\n",
       "      <th>route_long_name</th>\n",
       "      <th>route_desc</th>\n",
       "      <th>route_type</th>\n",
       "      <th>route_color</th>\n",
       "      <th>route_text_color</th>\n",
       "    </tr>\n",
       "  </thead>\n",
       "  <tbody>\n",
       "    <tr>\n",
       "      <th>0</th>\n",
       "      <td>9cf1742a-6bc8-4a32-9856-83b9a77b6554</td>\n",
       "      <td>1049</td>\n",
       "      <td>E130</td>\n",
       "      <td>São Camilo - Terminal Santo Antônio</td>\n",
       "      <td>NaN</td>\n",
       "      <td>3</td>\n",
       "      <td>NaN</td>\n",
       "      <td>NaN</td>\n",
       "    </tr>\n",
       "    <tr>\n",
       "      <th>1</th>\n",
       "      <td>7d9af57b-c92e-4f02-8f66-ce6fa6986219</td>\n",
       "      <td>1049</td>\n",
       "      <td>E120</td>\n",
       "      <td>Paineiras - Terminal Santo Antônio</td>\n",
       "      <td>NaN</td>\n",
       "      <td>3</td>\n",
       "      <td>NaN</td>\n",
       "      <td>NaN</td>\n",
       "    </tr>\n",
       "    <tr>\n",
       "      <th>2</th>\n",
       "      <td>e2a31ffe-1f93-4c87-a1fc-eb26c0838ac3</td>\n",
       "      <td>1049</td>\n",
       "      <td>A130</td>\n",
       "      <td>Estação Itavuvu - São Camilo</td>\n",
       "      <td>NaN</td>\n",
       "      <td>3</td>\n",
       "      <td>NaN</td>\n",
       "      <td>NaN</td>\n",
       "    </tr>\n",
       "    <tr>\n",
       "      <th>3</th>\n",
       "      <td>7b3ccb02-150e-4083-b8cd-be37e5a2252c</td>\n",
       "      <td>1049</td>\n",
       "      <td>E160</td>\n",
       "      <td>São Bento - Terminal Santo Antônio</td>\n",
       "      <td>NaN</td>\n",
       "      <td>3</td>\n",
       "      <td>NaN</td>\n",
       "      <td>NaN</td>\n",
       "    </tr>\n",
       "    <tr>\n",
       "      <th>4</th>\n",
       "      <td>af542db6-a91d-4240-8c89-fa8141272e7a</td>\n",
       "      <td>1049</td>\n",
       "      <td>A110</td>\n",
       "      <td>Terminal Vitória Régia - Vitória Régia Ii E Iii</td>\n",
       "      <td>NaN</td>\n",
       "      <td>3</td>\n",
       "      <td>NaN</td>\n",
       "      <td>NaN</td>\n",
       "    </tr>\n",
       "  </tbody>\n",
       "</table>\n",
       "</div>"
      ],
      "text/plain": [
       "                               route_id  agency_id route_short_name  \\\n",
       "0  9cf1742a-6bc8-4a32-9856-83b9a77b6554       1049             E130   \n",
       "1  7d9af57b-c92e-4f02-8f66-ce6fa6986219       1049             E120   \n",
       "2  e2a31ffe-1f93-4c87-a1fc-eb26c0838ac3       1049             A130   \n",
       "3  7b3ccb02-150e-4083-b8cd-be37e5a2252c       1049             E160   \n",
       "4  af542db6-a91d-4240-8c89-fa8141272e7a       1049             A110   \n",
       "\n",
       "                                   route_long_name  route_desc  route_type  \\\n",
       "0              São Camilo - Terminal Santo Antônio         NaN           3   \n",
       "1               Paineiras - Terminal Santo Antônio         NaN           3   \n",
       "2                     Estação Itavuvu - São Camilo         NaN           3   \n",
       "3               São Bento - Terminal Santo Antônio         NaN           3   \n",
       "4  Terminal Vitória Régia - Vitória Régia Ii E Iii         NaN           3   \n",
       "\n",
       "   route_color  route_text_color  \n",
       "0          NaN               NaN  \n",
       "1          NaN               NaN  \n",
       "2          NaN               NaN  \n",
       "3          NaN               NaN  \n",
       "4          NaN               NaN  "
      ]
     },
     "execution_count": 17,
     "metadata": {},
     "output_type": "execute_result"
    }
   ],
   "source": [
    "routes.head()"
   ]
  },
  {
   "cell_type": "code",
   "execution_count": 18,
   "id": "dfbe801a-c007-454c-81a8-09a648f47510",
   "metadata": {},
   "outputs": [],
   "source": [
    "# Fazendo o drop de colunas não utilizadas\n",
    "\n",
    "routes = routes.drop(['route_desc','route_color','route_text_color'], axis=1)"
   ]
  },
  {
   "cell_type": "code",
   "execution_count": 19,
   "id": "61d56191-7f51-4f47-a199-7ce743281bfe",
   "metadata": {},
   "outputs": [
    {
     "name": "stdout",
     "output_type": "stream",
     "text": [
      "<class 'pandas.core.frame.DataFrame'>\n",
      "RangeIndex: 123 entries, 0 to 122\n",
      "Data columns (total 5 columns):\n",
      " #   Column            Non-Null Count  Dtype \n",
      "---  ------            --------------  ----- \n",
      " 0   route_id          123 non-null    object\n",
      " 1   agency_id         123 non-null    int64 \n",
      " 2   route_short_name  123 non-null    object\n",
      " 3   route_long_name   123 non-null    object\n",
      " 4   route_type        123 non-null    int64 \n",
      "dtypes: int64(2), object(3)\n",
      "memory usage: 4.9+ KB\n"
     ]
    }
   ],
   "source": [
    "routes.info()"
   ]
  },
  {
   "cell_type": "code",
   "execution_count": 20,
   "id": "edac2bbe-1d2f-4d52-9c68-e853fd551045",
   "metadata": {},
   "outputs": [
    {
     "name": "stdout",
     "output_type": "stream",
     "text": [
      "route_id            0\n",
      "agency_id           0\n",
      "route_short_name    0\n",
      "route_long_name     0\n",
      "route_type          0\n",
      "dtype: int64\n"
     ]
    }
   ],
   "source": [
    "valores_ausentes_routes = routes.isna()\n",
    "contagem = valores_ausentes_routes.sum()\n",
    "print(contagem)"
   ]
  },
  {
   "cell_type": "markdown",
   "id": "5cf4edc1-b762-4d68-b62f-3c49a4c19fe7",
   "metadata": {},
   "source": [
    "### Gerando o relatório exploratório do 'routes' em HTML"
   ]
  },
  {
   "cell_type": "code",
   "execution_count": 21,
   "id": "5c1c5ac4-3e0c-403b-be24-dd49e15dc268",
   "metadata": {},
   "outputs": [
    {
     "data": {
      "application/vnd.jupyter.widget-view+json": {
       "model_id": "8cacf0d910fb4f179205219492f009da",
       "version_major": 2,
       "version_minor": 0
      },
      "text/plain": [
       "Summarize dataset:   0%|          | 0/5 [00:00<?, ?it/s]"
      ]
     },
     "metadata": {},
     "output_type": "display_data"
    },
    {
     "data": {
      "application/vnd.jupyter.widget-view+json": {
       "model_id": "999455a1d7e24480961b36ac7a44be05",
       "version_major": 2,
       "version_minor": 0
      },
      "text/plain": [
       "Generate report structure:   0%|          | 0/1 [00:00<?, ?it/s]"
      ]
     },
     "metadata": {},
     "output_type": "display_data"
    },
    {
     "data": {
      "application/vnd.jupyter.widget-view+json": {
       "model_id": "b4f4e4adc0a94625963a504cad62b701",
       "version_major": 2,
       "version_minor": 0
      },
      "text/plain": [
       "Render HTML:   0%|          | 0/1 [00:00<?, ?it/s]"
      ]
     },
     "metadata": {},
     "output_type": "display_data"
    },
    {
     "data": {
      "application/vnd.jupyter.widget-view+json": {
       "model_id": "eadb7fe402454a7f8fe50dce8fdb23e3",
       "version_major": 2,
       "version_minor": 0
      },
      "text/plain": [
       "Export report to file:   0%|          | 0/1 [00:00<?, ?it/s]"
      ]
     },
     "metadata": {},
     "output_type": "display_data"
    }
   ],
   "source": [
    "relatorio_routes = ProfileReport(routes, title='Relatorio routes')\n",
    "relatorio_routes.to_file('routes.html')"
   ]
  },
  {
   "cell_type": "code",
   "execution_count": 22,
   "id": "4fe55cb4-9160-4f14-a6ad-acc4afd00190",
   "metadata": {},
   "outputs": [
    {
     "data": {
      "application/vnd.jupyter.widget-view+json": {
       "model_id": "ec16c4ed0306403999ee80e24c64028a",
       "version_major": 2,
       "version_minor": 0
      },
      "text/plain": [
       "Summarize dataset:   0%|          | 0/5 [00:00<?, ?it/s]"
      ]
     },
     "metadata": {},
     "output_type": "display_data"
    },
    {
     "data": {
      "application/vnd.jupyter.widget-view+json": {
       "model_id": "f70c8124f9e74bd4a70262bb18bf3fb1",
       "version_major": 2,
       "version_minor": 0
      },
      "text/plain": [
       "Generate report structure:   0%|          | 0/1 [00:00<?, ?it/s]"
      ]
     },
     "metadata": {},
     "output_type": "display_data"
    },
    {
     "data": {
      "application/vnd.jupyter.widget-view+json": {
       "model_id": "7693b59f338d459a95d640ff5186e0d8",
       "version_major": 2,
       "version_minor": 0
      },
      "text/plain": [
       "Render HTML:   0%|          | 0/1 [00:00<?, ?it/s]"
      ]
     },
     "metadata": {},
     "output_type": "display_data"
    },
    {
     "data": {
      "application/vnd.jupyter.widget-view+json": {
       "model_id": "67837d6a0cec402a977acb2932927e95",
       "version_major": 2,
       "version_minor": 0
      },
      "text/plain": [
       "Export report to file:   0%|          | 0/1 [00:00<?, ?it/s]"
      ]
     },
     "metadata": {},
     "output_type": "display_data"
    }
   ],
   "source": [
    "relatorio_routes = ProfileReport(routes, title='Relatorio routes')\n",
    "relatorio_routes.to_file('routes.html', silent=True)"
   ]
  },
  {
   "cell_type": "code",
   "execution_count": null,
   "id": "74404872-5ff7-490f-86aa-7daa20f32536",
   "metadata": {},
   "outputs": [
    {
     "data": {
      "application/vnd.jupyter.widget-view+json": {
       "model_id": "938d94744c3b439b90f073266f3bef41",
       "version_major": 2,
       "version_minor": 0
      },
      "text/plain": [
       "Summarize dataset:   0%|          | 0/5 [00:00<?, ?it/s]"
      ]
     },
     "metadata": {},
     "output_type": "display_data"
    },
    {
     "data": {
      "application/vnd.jupyter.widget-view+json": {
       "model_id": "a12da65bab934d268c2c74ce9b24ec32",
       "version_major": 2,
       "version_minor": 0
      },
      "text/plain": [
       "Generate report structure:   0%|          | 0/1 [00:00<?, ?it/s]"
      ]
     },
     "metadata": {},
     "output_type": "display_data"
    },
    {
     "data": {
      "application/vnd.jupyter.widget-view+json": {
       "model_id": "e6e98cc505c945e989f5fc06cb6331ee",
       "version_major": 2,
       "version_minor": 0
      },
      "text/plain": [
       "Render widgets:   0%|          | 0/1 [00:00<?, ?it/s]"
      ]
     },
     "metadata": {},
     "output_type": "display_data"
    }
   ],
   "source": [
    "relatorio_routes = ProfileReport(routes, title='Relatorio routes')\n",
    "relatorio_routes.to_widgets()"
   ]
  },
  {
   "cell_type": "code",
   "execution_count": null,
   "id": "3b76b94a-a11c-4b4e-bc31-a92f73244ce1",
   "metadata": {},
   "outputs": [],
   "source": []
  }
 ],
 "metadata": {
  "kernelspec": {
   "display_name": "Python 3 (ipykernel)",
   "language": "python",
   "name": "python3"
  },
  "language_info": {
   "codemirror_mode": {
    "name": "ipython",
    "version": 3
   },
   "file_extension": ".py",
   "mimetype": "text/x-python",
   "name": "python",
   "nbconvert_exporter": "python",
   "pygments_lexer": "ipython3",
   "version": "3.8.8"
  }
 },
 "nbformat": 4,
 "nbformat_minor": 5
}
