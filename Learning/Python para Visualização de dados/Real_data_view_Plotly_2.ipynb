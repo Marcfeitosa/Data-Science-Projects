{
 "cells": [
  {
   "cell_type": "markdown",
   "id": "79866798",
   "metadata": {},
   "source": [
    "## Trabalhando com dados financeiros\n",
    "* Séries temporais\n",
    "* Dados de Ações ou ativos do mercado financeiro"
   ]
  },
  {
   "cell_type": "code",
   "execution_count": 4,
   "id": "d7132de8",
   "metadata": {},
   "outputs": [
    {
     "name": "stdout",
     "output_type": "stream",
     "text": [
      "Collecting chart_studio\n",
      "  Downloading chart_studio-1.1.0-py3-none-any.whl (64 kB)\n",
      "Requirement already satisfied: six in c:\\users\\marcf\\anaconda3\\lib\\site-packages (from chart_studio) (1.15.0)\n",
      "Requirement already satisfied: plotly in c:\\users\\marcf\\anaconda3\\lib\\site-packages (from chart_studio) (5.11.0)\n",
      "Collecting retrying>=1.3.3\n",
      "  Downloading retrying-1.3.4-py3-none-any.whl (11 kB)\n",
      "Requirement already satisfied: requests in c:\\users\\marcf\\anaconda3\\lib\\site-packages (from chart_studio) (2.25.1)\n",
      "Requirement already satisfied: tenacity>=6.2.0 in c:\\users\\marcf\\anaconda3\\lib\\site-packages (from plotly->chart_studio) (8.1.0)\n",
      "Requirement already satisfied: chardet<5,>=3.0.2 in c:\\users\\marcf\\anaconda3\\lib\\site-packages (from requests->chart_studio) (4.0.0)\n",
      "Requirement already satisfied: certifi>=2017.4.17 in c:\\users\\marcf\\anaconda3\\lib\\site-packages (from requests->chart_studio) (2020.12.5)\n",
      "Requirement already satisfied: idna<3,>=2.5 in c:\\users\\marcf\\anaconda3\\lib\\site-packages (from requests->chart_studio) (2.10)\n",
      "Requirement already satisfied: urllib3<1.27,>=1.21.1 in c:\\users\\marcf\\anaconda3\\lib\\site-packages (from requests->chart_studio) (1.26.4)\n",
      "Installing collected packages: retrying, chart-studio\n",
      "Successfully installed chart-studio-1.1.0 retrying-1.3.4\n"
     ]
    }
   ],
   "source": [
    "!pip install chart_studio"
   ]
  },
  {
   "cell_type": "code",
   "execution_count": 57,
   "id": "e068cf6c",
   "metadata": {},
   "outputs": [
    {
     "name": "stdout",
     "output_type": "stream",
     "text": [
      "Requirement already satisfied: plotly==5.11.0 in c:\\users\\marcf\\anaconda3\\lib\\site-packages (5.11.0)\n",
      "Requirement already satisfied: tenacity>=6.2.0 in c:\\users\\marcf\\anaconda3\\lib\\site-packages (from plotly==5.11.0) (8.1.0)\n"
     ]
    }
   ],
   "source": [
    "!pip install plotly==5.11.0"
   ]
  },
  {
   "cell_type": "code",
   "execution_count": 92,
   "id": "ea5c1d0f",
   "metadata": {},
   "outputs": [],
   "source": [
    "import chart_studio.plotly as pyo\n",
    "import plotly.express as px\n",
    "chart_studio.tools.set_credentials_file(username='mfeitosa', api_key='NKcxMLJvabVX94E6S3MP')\n",
    "import plotly.graph_objs as go\n",
    "import pandas as pd\n",
    "import numpy as np\n",
    "import cufflinks as cf\n",
    "cf.go_online()\n",
    "import plotly.io as pio\n",
    "pio.renderers.default='notebook'\n",
    "from datetime import datetime\n",
    "# use the pyo.plot(fig) instead of py.iplot(fig)"
   ]
  },
  {
   "cell_type": "code",
   "execution_count": 6,
   "id": "835c1b75",
   "metadata": {},
   "outputs": [
    {
     "data": {
      "text/html": [
       "<div>\n",
       "<style scoped>\n",
       "    .dataframe tbody tr th:only-of-type {\n",
       "        vertical-align: middle;\n",
       "    }\n",
       "\n",
       "    .dataframe tbody tr th {\n",
       "        vertical-align: top;\n",
       "    }\n",
       "\n",
       "    .dataframe thead th {\n",
       "        text-align: right;\n",
       "    }\n",
       "</style>\n",
       "<table border=\"1\" class=\"dataframe\">\n",
       "  <thead>\n",
       "    <tr style=\"text-align: right;\">\n",
       "      <th></th>\n",
       "      <th>Date</th>\n",
       "      <th>AAPL.Open</th>\n",
       "      <th>AAPL.High</th>\n",
       "      <th>AAPL.Low</th>\n",
       "      <th>AAPL.Close</th>\n",
       "      <th>AAPL.Volume</th>\n",
       "      <th>AAPL.Adjusted</th>\n",
       "      <th>dn</th>\n",
       "      <th>mavg</th>\n",
       "      <th>up</th>\n",
       "      <th>direction</th>\n",
       "    </tr>\n",
       "  </thead>\n",
       "  <tbody>\n",
       "    <tr>\n",
       "      <th>0</th>\n",
       "      <td>2015-02-17</td>\n",
       "      <td>127.489998</td>\n",
       "      <td>128.880005</td>\n",
       "      <td>126.919998</td>\n",
       "      <td>127.830002</td>\n",
       "      <td>63152400</td>\n",
       "      <td>122.905254</td>\n",
       "      <td>106.741052</td>\n",
       "      <td>117.927667</td>\n",
       "      <td>129.114281</td>\n",
       "      <td>Increasing</td>\n",
       "    </tr>\n",
       "    <tr>\n",
       "      <th>1</th>\n",
       "      <td>2015-02-18</td>\n",
       "      <td>127.629997</td>\n",
       "      <td>128.779999</td>\n",
       "      <td>127.449997</td>\n",
       "      <td>128.720001</td>\n",
       "      <td>44891700</td>\n",
       "      <td>123.760965</td>\n",
       "      <td>107.842423</td>\n",
       "      <td>118.940333</td>\n",
       "      <td>130.038244</td>\n",
       "      <td>Increasing</td>\n",
       "    </tr>\n",
       "    <tr>\n",
       "      <th>2</th>\n",
       "      <td>2015-02-19</td>\n",
       "      <td>128.479996</td>\n",
       "      <td>129.029999</td>\n",
       "      <td>128.330002</td>\n",
       "      <td>128.449997</td>\n",
       "      <td>37362400</td>\n",
       "      <td>123.501363</td>\n",
       "      <td>108.894245</td>\n",
       "      <td>119.889167</td>\n",
       "      <td>130.884089</td>\n",
       "      <td>Decreasing</td>\n",
       "    </tr>\n",
       "    <tr>\n",
       "      <th>3</th>\n",
       "      <td>2015-02-20</td>\n",
       "      <td>128.619995</td>\n",
       "      <td>129.500000</td>\n",
       "      <td>128.050003</td>\n",
       "      <td>129.500000</td>\n",
       "      <td>48948400</td>\n",
       "      <td>124.510914</td>\n",
       "      <td>109.785449</td>\n",
       "      <td>120.763500</td>\n",
       "      <td>131.741551</td>\n",
       "      <td>Increasing</td>\n",
       "    </tr>\n",
       "    <tr>\n",
       "      <th>4</th>\n",
       "      <td>2015-02-23</td>\n",
       "      <td>130.020004</td>\n",
       "      <td>133.000000</td>\n",
       "      <td>129.660004</td>\n",
       "      <td>133.000000</td>\n",
       "      <td>70974100</td>\n",
       "      <td>127.876074</td>\n",
       "      <td>110.372516</td>\n",
       "      <td>121.720167</td>\n",
       "      <td>133.067817</td>\n",
       "      <td>Increasing</td>\n",
       "    </tr>\n",
       "  </tbody>\n",
       "</table>\n",
       "</div>"
      ],
      "text/plain": [
       "         Date   AAPL.Open   AAPL.High    AAPL.Low  AAPL.Close  AAPL.Volume  \\\n",
       "0  2015-02-17  127.489998  128.880005  126.919998  127.830002     63152400   \n",
       "1  2015-02-18  127.629997  128.779999  127.449997  128.720001     44891700   \n",
       "2  2015-02-19  128.479996  129.029999  128.330002  128.449997     37362400   \n",
       "3  2015-02-20  128.619995  129.500000  128.050003  129.500000     48948400   \n",
       "4  2015-02-23  130.020004  133.000000  129.660004  133.000000     70974100   \n",
       "\n",
       "   AAPL.Adjusted          dn        mavg          up   direction  \n",
       "0     122.905254  106.741052  117.927667  129.114281  Increasing  \n",
       "1     123.760965  107.842423  118.940333  130.038244  Increasing  \n",
       "2     123.501363  108.894245  119.889167  130.884089  Decreasing  \n",
       "3     124.510914  109.785449  120.763500  131.741551  Increasing  \n",
       "4     127.876074  110.372516  121.720167  133.067817  Increasing  "
      ]
     },
     "execution_count": 6,
     "metadata": {},
     "output_type": "execute_result"
    }
   ],
   "source": [
    "df = pd.read_csv('HTTPS://raw.githubusercontent.com/plotly/datasets/master/finance-charts-apple.csv')\n",
    "df.head()"
   ]
  },
  {
   "cell_type": "code",
   "execution_count": 81,
   "id": "70c3f6aa",
   "metadata": {},
   "outputs": [
    {
     "data": {
      "text/plain": [
       "'https://plotly.com/~mfeitosa/1/'"
      ]
     },
     "execution_count": 81,
     "metadata": {},
     "output_type": "execute_result"
    }
   ],
   "source": [
    "data = [go.Scatter(x=df.Date,\n",
    "                   y=df['AAPL.Close'])]\n",
    "pyo.plot(data)"
   ]
  },
  {
   "cell_type": "code",
   "execution_count": 84,
   "id": "46f4c0fb",
   "metadata": {},
   "outputs": [
    {
     "data": {
      "text/plain": [
       "'https://plotly.com/~mfeitosa/3/'"
      ]
     },
     "execution_count": 84,
     "metadata": {},
     "output_type": "execute_result"
    }
   ],
   "source": [
    "\n",
    "trace_high = go.Scatter(x=df.Date,\n",
    "                        y=df['AAPL.High'],\n",
    "                        name = 'AAPL High',\n",
    "                        line = dict(color = '#17BECF'),\n",
    "                        opacity = 0.8)\n",
    "trace_low = go.Scatter(x=df.Date,\n",
    "                       y=df['AAPL.Low'],\n",
    "                       name = 'AAPL Low',\n",
    "                       line = dict(color = '#7F7F7F'),\n",
    "                       opacity = 0.8)\n",
    "\n",
    "data = [trace_high, trace_low]\n",
    "\n",
    "layout = dict(title = 'Faxixa de Data Customizada',\n",
    "              xaxis = dict(range = ['2016-07-01','2016-12-31'])\n",
    "             )\n",
    "\n",
    "fig = dict(data=data, layout=layout)\n",
    "pyo.plot(fig, filename = 'Manually Set Range')"
   ]
  },
  {
   "cell_type": "markdown",
   "id": "ec56fcfc",
   "metadata": {},
   "source": [
    "Série de preços com rangeslider"
   ]
  },
  {
   "cell_type": "code",
   "execution_count": 86,
   "id": "5fca3339",
   "metadata": {},
   "outputs": [
    {
     "data": {
      "text/plain": [
       "'https://plotly.com/~mfeitosa/5/'"
      ]
     },
     "execution_count": 86,
     "metadata": {},
     "output_type": "execute_result"
    }
   ],
   "source": [
    "trace_high = go.Scatter(x=df.Date,\n",
    "                        y=df['AAPL.High'],\n",
    "                        name = 'AAPL High',\n",
    "                        line = dict(color = '#17BECF'),\n",
    "                        opacity = 0.8)\n",
    "trace_low = go.Scatter(x=df.Date,\n",
    "                       y=df['AAPL.Low'],\n",
    "                       name = 'AAPL Low',\n",
    "                       line = dict(color = '#7F7F7F'),\n",
    "                       opacity = 0.8)\n",
    "\n",
    "data = [trace_high, trace_low]\n",
    "\n",
    "layout = dict(title = 'Faxixa de Data Customizada',\n",
    "              xaxis = dict(\n",
    "                  rangeselector = dict(\n",
    "                      buttons=list([\n",
    "                          dict(count=1,\n",
    "                               label='1m',\n",
    "                               step='month',\n",
    "                               stepmode='backward'),\n",
    "                          dict(count=6,\n",
    "                               label='6m',\n",
    "                               step='month',\n",
    "                               stepmode='backward'),\n",
    "                          dict(count=1,\n",
    "                               label='1a',\n",
    "                               step='year',\n",
    "                               stepmode='backward'),\n",
    "                          dict(step='all')\n",
    "                      ])\n",
    "                  ),\n",
    "              rangeslider=dict(visible=True),\n",
    "                  type='date'\n",
    "              )\n",
    "             )\n",
    "\n",
    "fig = dict(data=data, layout=layout)\n",
    "pyo.plot(fig, filename = 'Slide Rage Selction')"
   ]
  },
  {
   "cell_type": "markdown",
   "id": "e540c095",
   "metadata": {},
   "source": [
    "Trabalhando com candlesticks"
   ]
  },
  {
   "cell_type": "code",
   "execution_count": 90,
   "id": "b74b799e",
   "metadata": {},
   "outputs": [
    {
     "data": {
      "text/plain": [
       "'https://plotly.com/~mfeitosa/8/'"
      ]
     },
     "execution_count": 90,
     "metadata": {},
     "output_type": "execute_result"
    }
   ],
   "source": [
    "trace = go.Candlestick(x=df['Date'],\n",
    "                       open=df['AAPL.Open'],\n",
    "                       high=df['AAPL.High'],\n",
    "                       low=df['AAPL.Low'],\n",
    "                       close=df['AAPL.Close'])\n",
    "\n",
    "data = [trace]\n",
    "pyo.plot(data, filename ='Simple Candlestick')"
   ]
  },
  {
   "cell_type": "code",
   "execution_count": 91,
   "id": "c18cedf1",
   "metadata": {},
   "outputs": [
    {
     "data": {
      "text/plain": [
       "'https://plotly.com/~mfeitosa/8/'"
      ]
     },
     "execution_count": 91,
     "metadata": {},
     "output_type": "execute_result"
    }
   ],
   "source": [
    "trace = go.Candlestick(x=df['Date'],\n",
    "                       open=df['AAPL.Open'],\n",
    "                       high=df['AAPL.High'],\n",
    "                       low=df['AAPL.Low'],\n",
    "                       close=df['AAPL.Close'])\n",
    "\n",
    "layout = go.Layout(xaxis = dict(rangeslider=dict(visible=False)))\n",
    "data = [trace]\n",
    "fig = go.Figure(data=data, layout=layout)\n",
    "pyo.plot(fig, filename ='Simple Candlestick')"
   ]
  },
  {
   "cell_type": "markdown",
   "id": "0873ed92",
   "metadata": {},
   "source": [
    "Customizing candlestick"
   ]
  },
  {
   "cell_type": "code",
   "execution_count": 93,
   "id": "146a65af",
   "metadata": {},
   "outputs": [
    {
     "data": {
      "text/plain": [
       "'https://plotly.com/~mfeitosa/11/'"
      ]
     },
     "execution_count": 93,
     "metadata": {},
     "output_type": "execute_result"
    }
   ],
   "source": [
    "trace = go.Candlestick(x=df['Date'],\n",
    "                       open=df['AAPL.Open'],\n",
    "                       high=df['AAPL.High'],\n",
    "                       low=df['AAPL.Low'],\n",
    "                       close=df['AAPL.Close'],\n",
    "                       increasing=dict(line=dict(color='#17BECF')),\n",
    "                       decreasing=dict(line=dict(color='#7F7F7F')),\n",
    "                      )\n",
    "data=[trace]\n",
    "pyo.plot(data,filename='styled_candlestick')"
   ]
  },
  {
   "cell_type": "markdown",
   "id": "e01bd888",
   "metadata": {},
   "source": [
    "Inserindo anotações"
   ]
  },
  {
   "cell_type": "code",
   "execution_count": 94,
   "id": "c783a71e",
   "metadata": {},
   "outputs": [
    {
     "data": {
      "text/plain": [
       "'https://plotly.com/~mfeitosa/13/'"
      ]
     },
     "execution_count": 94,
     "metadata": {},
     "output_type": "execute_result"
    }
   ],
   "source": [
    "trace = go.Candlestick(x=df['Date'],\n",
    "                       open=df['AAPL.Open'],\n",
    "                       high=df['AAPL.High'],\n",
    "                       low=df['AAPL.Low'],\n",
    "                       close=df['AAPL.Close'])\n",
    "\n",
    "data = [trace]\n",
    "\n",
    "layout = {'title': 'Apple Preços no Período',\n",
    "          'yaxis': {'title': 'AAPL Stock'},\n",
    "          'shapes': [{'x0': '2016-12-09',\n",
    "                      'x1': '2016-12-09',\n",
    "                      'y0': 0,\n",
    "                      'y1': 1,\n",
    "                      'xref': 'x',\n",
    "                      'yref': 'paper',\n",
    "                      'line': {'color': 'rgb(30,30,30)',\n",
    "                               'width': 2}\n",
    "                     }],\n",
    "          'annotations': [{'x': '2016-12-09',\n",
    "                           'y': 0.05,\n",
    "                           'xref': 'x',\n",
    "                           'yref': 'paper',\n",
    "                           'showarrow': False,\n",
    "                           'xanchor': 'left',\n",
    "                           'text': 'Inicio do ciclo de alta'\n",
    "                          }]\n",
    "         }\n",
    "fig=dict(data=data, layout=layout)\n",
    "pyo.plot(fig)"
   ]
  },
  {
   "cell_type": "code",
   "execution_count": null,
   "id": "a4a6bae7",
   "metadata": {},
   "outputs": [],
   "source": []
  }
 ],
 "metadata": {
  "kernelspec": {
   "display_name": "Python 3",
   "language": "python",
   "name": "python3"
  },
  "language_info": {
   "codemirror_mode": {
    "name": "ipython",
    "version": 3
   },
   "file_extension": ".py",
   "mimetype": "text/x-python",
   "name": "python",
   "nbconvert_exporter": "python",
   "pygments_lexer": "ipython3",
   "version": "3.8.8"
  }
 },
 "nbformat": 4,
 "nbformat_minor": 5
}
