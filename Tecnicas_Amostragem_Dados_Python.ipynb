{
  "nbformat": 4,
  "nbformat_minor": 0,
  "metadata": {
    "colab": {
      "provenance": [],
      "authorship_tag": "ABX9TyOt3bFje54O9ZB1wpZQe8m0",
      "include_colab_link": true
    },
    "kernelspec": {
      "name": "python3",
      "display_name": "Python 3"
    },
    "language_info": {
      "name": "python"
    }
  },
  "cells": [
    {
      "cell_type": "markdown",
      "metadata": {
        "id": "view-in-github",
        "colab_type": "text"
      },
      "source": [
        "<a href=\"https://colab.research.google.com/github/Marcfeitosa/Data-Science-Projects/blob/main/Tecnicas_Amostragem_Dados_Python.ipynb\" target=\"_parent\"><img src=\"https://colab.research.google.com/assets/colab-badge.svg\" alt=\"Open In Colab\"/></a>"
      ]
    },
    {
      "cell_type": "markdown",
      "source": [
        "# Amostragem Aleatória\n",
        "\n",
        "Um determinado número de elementos é retirado da população de forma aleatória."
      ],
      "metadata": {
        "id": "DL9Ejqbd13AX"
      }
    },
    {
      "cell_type": "code",
      "execution_count": null,
      "metadata": {
        "id": "DCJaLxmOumsc"
      },
      "outputs": [],
      "source": [
        "import pandas as pd\n",
        "import numpy as np"
      ]
    },
    {
      "cell_type": "markdown",
      "source": [
        "Carregando a base de dados."
      ],
      "metadata": {
        "id": "4ZigMLOt2VR3"
      }
    },
    {
      "cell_type": "code",
      "source": [
        "df=pd.read_csv('sample_data/covid19.csv')"
      ],
      "metadata": {
        "id": "4BaVScM82OMJ"
      },
      "execution_count": null,
      "outputs": []
    },
    {
      "cell_type": "code",
      "source": [
        "df.info()"
      ],
      "metadata": {
        "colab": {
          "base_uri": "https://localhost:8080/"
        },
        "id": "5Wrqz2O42i83",
        "outputId": "9bd3ab74-b8b7-4100-c3da-c8891db1d633"
      },
      "execution_count": null,
      "outputs": [
        {
          "output_type": "stream",
          "name": "stdout",
          "text": [
            "<class 'pandas.core.frame.DataFrame'>\n",
            "RangeIndex: 47033 entries, 0 to 47032\n",
            "Data columns (total 12 columns):\n",
            " #   Column              Non-Null Count  Dtype  \n",
            "---  ------              --------------  -----  \n",
            " 0   case_id             0 non-null      float64\n",
            " 1   provincial_case_id  47033 non-null  int64  \n",
            " 2   age                 47033 non-null  object \n",
            " 3   sex                 47033 non-null  object \n",
            " 4   health_region       47033 non-null  object \n",
            " 5   province            47033 non-null  object \n",
            " 6   country             47032 non-null  object \n",
            " 7   date_report         47032 non-null  object \n",
            " 8   report_week         47032 non-null  object \n",
            " 9   has_travel_history  1123 non-null   object \n",
            " 10  locally_acquired    547 non-null    object \n",
            " 11  case_source         47032 non-null  object \n",
            "dtypes: float64(1), int64(1), object(10)\n",
            "memory usage: 4.3+ MB\n"
          ]
        }
      ]
    },
    {
      "cell_type": "code",
      "source": [
        "df.head()"
      ],
      "metadata": {
        "colab": {
          "base_uri": "https://localhost:8080/",
          "height": 357
        },
        "id": "V3IjqEDw3IQJ",
        "outputId": "a12ae771-4338-4856-ce1d-84492c83d70a"
      },
      "execution_count": null,
      "outputs": [
        {
          "output_type": "execute_result",
          "data": {
            "text/plain": [
              "   case_id  provincial_case_id    age     sex      health_region province  \\\n",
              "0      NaN                   1  50-59    Male            Toronto  Ontario   \n",
              "1      NaN                   2  50-59  Female            Toronto  Ontario   \n",
              "2      NaN                   1  40-49    Male  Vancouver Coastal       BC   \n",
              "3      NaN                   3  20-29  Female   Middlesex-London  Ontario   \n",
              "4      NaN                   2  50-59  Female  Vancouver Coastal       BC   \n",
              "\n",
              "  country date_report report_week has_travel_history locally_acquired  \\\n",
              "0  Canada  2020-01-25  2020-01-19                  t              NaN   \n",
              "1  Canada  2020-01-27  2020-01-26                  t              NaN   \n",
              "2  Canada  2020-01-28  2020-01-26                  t              NaN   \n",
              "3  Canada  2020-01-31  2020-01-26                  t              NaN   \n",
              "4  Canada  2020-02-04  2020-02-02                  f    Close Contact   \n",
              "\n",
              "                                         case_source  \n",
              "0  (1) https://news.ontario.ca/mohltc/en/2020/01/...  \n",
              "1  (1) https://news.ontario.ca/mohltc/en/2020/01/...  \n",
              "2  https://news.gov.bc.ca/releases/2020HLTH0015-0...  \n",
              "3  (1) https://news.ontario.ca/mohltc/en/2020/01/...  \n",
              "4  https://news.gov.bc.ca/releases/2020HLTH0023-0...  "
            ],
            "text/html": [
              "\n",
              "  <div id=\"df-7b82d485-1606-46c2-8268-36ef515dd88a\">\n",
              "    <div class=\"colab-df-container\">\n",
              "      <div>\n",
              "<style scoped>\n",
              "    .dataframe tbody tr th:only-of-type {\n",
              "        vertical-align: middle;\n",
              "    }\n",
              "\n",
              "    .dataframe tbody tr th {\n",
              "        vertical-align: top;\n",
              "    }\n",
              "\n",
              "    .dataframe thead th {\n",
              "        text-align: right;\n",
              "    }\n",
              "</style>\n",
              "<table border=\"1\" class=\"dataframe\">\n",
              "  <thead>\n",
              "    <tr style=\"text-align: right;\">\n",
              "      <th></th>\n",
              "      <th>case_id</th>\n",
              "      <th>provincial_case_id</th>\n",
              "      <th>age</th>\n",
              "      <th>sex</th>\n",
              "      <th>health_region</th>\n",
              "      <th>province</th>\n",
              "      <th>country</th>\n",
              "      <th>date_report</th>\n",
              "      <th>report_week</th>\n",
              "      <th>has_travel_history</th>\n",
              "      <th>locally_acquired</th>\n",
              "      <th>case_source</th>\n",
              "    </tr>\n",
              "  </thead>\n",
              "  <tbody>\n",
              "    <tr>\n",
              "      <th>0</th>\n",
              "      <td>NaN</td>\n",
              "      <td>1</td>\n",
              "      <td>50-59</td>\n",
              "      <td>Male</td>\n",
              "      <td>Toronto</td>\n",
              "      <td>Ontario</td>\n",
              "      <td>Canada</td>\n",
              "      <td>2020-01-25</td>\n",
              "      <td>2020-01-19</td>\n",
              "      <td>t</td>\n",
              "      <td>NaN</td>\n",
              "      <td>(1) https://news.ontario.ca/mohltc/en/2020/01/...</td>\n",
              "    </tr>\n",
              "    <tr>\n",
              "      <th>1</th>\n",
              "      <td>NaN</td>\n",
              "      <td>2</td>\n",
              "      <td>50-59</td>\n",
              "      <td>Female</td>\n",
              "      <td>Toronto</td>\n",
              "      <td>Ontario</td>\n",
              "      <td>Canada</td>\n",
              "      <td>2020-01-27</td>\n",
              "      <td>2020-01-26</td>\n",
              "      <td>t</td>\n",
              "      <td>NaN</td>\n",
              "      <td>(1) https://news.ontario.ca/mohltc/en/2020/01/...</td>\n",
              "    </tr>\n",
              "    <tr>\n",
              "      <th>2</th>\n",
              "      <td>NaN</td>\n",
              "      <td>1</td>\n",
              "      <td>40-49</td>\n",
              "      <td>Male</td>\n",
              "      <td>Vancouver Coastal</td>\n",
              "      <td>BC</td>\n",
              "      <td>Canada</td>\n",
              "      <td>2020-01-28</td>\n",
              "      <td>2020-01-26</td>\n",
              "      <td>t</td>\n",
              "      <td>NaN</td>\n",
              "      <td>https://news.gov.bc.ca/releases/2020HLTH0015-0...</td>\n",
              "    </tr>\n",
              "    <tr>\n",
              "      <th>3</th>\n",
              "      <td>NaN</td>\n",
              "      <td>3</td>\n",
              "      <td>20-29</td>\n",
              "      <td>Female</td>\n",
              "      <td>Middlesex-London</td>\n",
              "      <td>Ontario</td>\n",
              "      <td>Canada</td>\n",
              "      <td>2020-01-31</td>\n",
              "      <td>2020-01-26</td>\n",
              "      <td>t</td>\n",
              "      <td>NaN</td>\n",
              "      <td>(1) https://news.ontario.ca/mohltc/en/2020/01/...</td>\n",
              "    </tr>\n",
              "    <tr>\n",
              "      <th>4</th>\n",
              "      <td>NaN</td>\n",
              "      <td>2</td>\n",
              "      <td>50-59</td>\n",
              "      <td>Female</td>\n",
              "      <td>Vancouver Coastal</td>\n",
              "      <td>BC</td>\n",
              "      <td>Canada</td>\n",
              "      <td>2020-02-04</td>\n",
              "      <td>2020-02-02</td>\n",
              "      <td>f</td>\n",
              "      <td>Close Contact</td>\n",
              "      <td>https://news.gov.bc.ca/releases/2020HLTH0023-0...</td>\n",
              "    </tr>\n",
              "  </tbody>\n",
              "</table>\n",
              "</div>\n",
              "      <button class=\"colab-df-convert\" onclick=\"convertToInteractive('df-7b82d485-1606-46c2-8268-36ef515dd88a')\"\n",
              "              title=\"Convert this dataframe to an interactive table.\"\n",
              "              style=\"display:none;\">\n",
              "        \n",
              "  <svg xmlns=\"http://www.w3.org/2000/svg\" height=\"24px\"viewBox=\"0 0 24 24\"\n",
              "       width=\"24px\">\n",
              "    <path d=\"M0 0h24v24H0V0z\" fill=\"none\"/>\n",
              "    <path d=\"M18.56 5.44l.94 2.06.94-2.06 2.06-.94-2.06-.94-.94-2.06-.94 2.06-2.06.94zm-11 1L8.5 8.5l.94-2.06 2.06-.94-2.06-.94L8.5 2.5l-.94 2.06-2.06.94zm10 10l.94 2.06.94-2.06 2.06-.94-2.06-.94-.94-2.06-.94 2.06-2.06.94z\"/><path d=\"M17.41 7.96l-1.37-1.37c-.4-.4-.92-.59-1.43-.59-.52 0-1.04.2-1.43.59L10.3 9.45l-7.72 7.72c-.78.78-.78 2.05 0 2.83L4 21.41c.39.39.9.59 1.41.59.51 0 1.02-.2 1.41-.59l7.78-7.78 2.81-2.81c.8-.78.8-2.07 0-2.86zM5.41 20L4 18.59l7.72-7.72 1.47 1.35L5.41 20z\"/>\n",
              "  </svg>\n",
              "      </button>\n",
              "      \n",
              "  <style>\n",
              "    .colab-df-container {\n",
              "      display:flex;\n",
              "      flex-wrap:wrap;\n",
              "      gap: 12px;\n",
              "    }\n",
              "\n",
              "    .colab-df-convert {\n",
              "      background-color: #E8F0FE;\n",
              "      border: none;\n",
              "      border-radius: 50%;\n",
              "      cursor: pointer;\n",
              "      display: none;\n",
              "      fill: #1967D2;\n",
              "      height: 32px;\n",
              "      padding: 0 0 0 0;\n",
              "      width: 32px;\n",
              "    }\n",
              "\n",
              "    .colab-df-convert:hover {\n",
              "      background-color: #E2EBFA;\n",
              "      box-shadow: 0px 1px 2px rgba(60, 64, 67, 0.3), 0px 1px 3px 1px rgba(60, 64, 67, 0.15);\n",
              "      fill: #174EA6;\n",
              "    }\n",
              "\n",
              "    [theme=dark] .colab-df-convert {\n",
              "      background-color: #3B4455;\n",
              "      fill: #D2E3FC;\n",
              "    }\n",
              "\n",
              "    [theme=dark] .colab-df-convert:hover {\n",
              "      background-color: #434B5C;\n",
              "      box-shadow: 0px 1px 3px 1px rgba(0, 0, 0, 0.15);\n",
              "      filter: drop-shadow(0px 1px 2px rgba(0, 0, 0, 0.3));\n",
              "      fill: #FFFFFF;\n",
              "    }\n",
              "  </style>\n",
              "\n",
              "      <script>\n",
              "        const buttonEl =\n",
              "          document.querySelector('#df-7b82d485-1606-46c2-8268-36ef515dd88a button.colab-df-convert');\n",
              "        buttonEl.style.display =\n",
              "          google.colab.kernel.accessAllowed ? 'block' : 'none';\n",
              "\n",
              "        async function convertToInteractive(key) {\n",
              "          const element = document.querySelector('#df-7b82d485-1606-46c2-8268-36ef515dd88a');\n",
              "          const dataTable =\n",
              "            await google.colab.kernel.invokeFunction('convertToInteractive',\n",
              "                                                     [key], {});\n",
              "          if (!dataTable) return;\n",
              "\n",
              "          const docLinkHtml = 'Like what you see? Visit the ' +\n",
              "            '<a target=\"_blank\" href=https://colab.research.google.com/notebooks/data_table.ipynb>data table notebook</a>'\n",
              "            + ' to learn more about interactive tables.';\n",
              "          element.innerHTML = '';\n",
              "          dataTable['output_type'] = 'display_data';\n",
              "          await google.colab.output.renderOutput(dataTable, element);\n",
              "          const docLink = document.createElement('div');\n",
              "          docLink.innerHTML = docLinkHtml;\n",
              "          element.appendChild(docLink);\n",
              "        }\n",
              "      </script>\n",
              "    </div>\n",
              "  </div>\n",
              "  "
            ]
          },
          "metadata": {},
          "execution_count": 5
        }
      ]
    },
    {
      "cell_type": "markdown",
      "source": [
        "Criando uma amostra com apenas 1000 registros a partir do conjunto de dados."
      ],
      "metadata": {
        "id": "F_iX5CDR3h0q"
      }
    },
    {
      "cell_type": "code",
      "source": [
        "df_sample = df.sample(n=1000)"
      ],
      "metadata": {
        "id": "9pEn2mwH3Kbw"
      },
      "execution_count": null,
      "outputs": []
    },
    {
      "cell_type": "code",
      "source": [
        "df_sample.info()"
      ],
      "metadata": {
        "colab": {
          "base_uri": "https://localhost:8080/"
        },
        "id": "wzkEJ6AA3vO9",
        "outputId": "b3266cf8-a92c-4ee4-ebd0-30210aa35b23"
      },
      "execution_count": null,
      "outputs": [
        {
          "output_type": "stream",
          "name": "stdout",
          "text": [
            "<class 'pandas.core.frame.DataFrame'>\n",
            "Int64Index: 1000 entries, 23413 to 10293\n",
            "Data columns (total 12 columns):\n",
            " #   Column              Non-Null Count  Dtype  \n",
            "---  ------              --------------  -----  \n",
            " 0   case_id             0 non-null      float64\n",
            " 1   provincial_case_id  1000 non-null   int64  \n",
            " 2   age                 1000 non-null   object \n",
            " 3   sex                 1000 non-null   object \n",
            " 4   health_region       1000 non-null   object \n",
            " 5   province            1000 non-null   object \n",
            " 6   country             1000 non-null   object \n",
            " 7   date_report         1000 non-null   object \n",
            " 8   report_week         1000 non-null   object \n",
            " 9   has_travel_history  15 non-null     object \n",
            " 10  locally_acquired    10 non-null     object \n",
            " 11  case_source         1000 non-null   object \n",
            "dtypes: float64(1), int64(1), object(10)\n",
            "memory usage: 101.6+ KB\n"
          ]
        }
      ]
    },
    {
      "cell_type": "markdown",
      "source": [
        "Especificando o tamanho da amostra através do percentual."
      ],
      "metadata": {
        "id": "q2Or99vv31_p"
      }
    },
    {
      "cell_type": "code",
      "source": [
        "df_sample = df.sample(frac=0.10)"
      ],
      "metadata": {
        "id": "f4y8mcKf3yOe"
      },
      "execution_count": null,
      "outputs": []
    },
    {
      "cell_type": "code",
      "source": [
        "df_sample.info()"
      ],
      "metadata": {
        "colab": {
          "base_uri": "https://localhost:8080/"
        },
        "id": "jfPKl7W44E3a",
        "outputId": "be0f1201-341a-4eea-9307-47af2d250e10"
      },
      "execution_count": null,
      "outputs": [
        {
          "output_type": "stream",
          "name": "stdout",
          "text": [
            "<class 'pandas.core.frame.DataFrame'>\n",
            "Int64Index: 4703 entries, 45675 to 42606\n",
            "Data columns (total 12 columns):\n",
            " #   Column              Non-Null Count  Dtype  \n",
            "---  ------              --------------  -----  \n",
            " 0   case_id             0 non-null      float64\n",
            " 1   provincial_case_id  4703 non-null   int64  \n",
            " 2   age                 4703 non-null   object \n",
            " 3   sex                 4703 non-null   object \n",
            " 4   health_region       4703 non-null   object \n",
            " 5   province            4703 non-null   object \n",
            " 6   country             4703 non-null   object \n",
            " 7   date_report         4703 non-null   object \n",
            " 8   report_week         4703 non-null   object \n",
            " 9   has_travel_history  90 non-null     object \n",
            " 10  locally_acquired    44 non-null     object \n",
            " 11  case_source         4703 non-null   object \n",
            "dtypes: float64(1), int64(1), object(10)\n",
            "memory usage: 477.6+ KB\n"
          ]
        }
      ]
    },
    {
      "cell_type": "markdown",
      "source": [
        "# Amostragem aleatória Estratificada\n",
        "\n",
        "importando o método train_test_split para fazer a amostragem."
      ],
      "metadata": {
        "id": "HQl9mJwg4KLb"
      }
    },
    {
      "cell_type": "code",
      "source": [
        "from sklearn.model_selection import train_test_split"
      ],
      "metadata": {
        "id": "2g1KoUJX4HP9"
      },
      "execution_count": null,
      "outputs": []
    },
    {
      "cell_type": "markdown",
      "source": [
        "Contagem de registro"
      ],
      "metadata": {
        "id": "lMAf38Dr4mrX"
      }
    },
    {
      "cell_type": "code",
      "source": [
        "df['province'].value_counts()"
      ],
      "metadata": {
        "colab": {
          "base_uri": "https://localhost:8080/"
        },
        "id": "ctkiBcBG4lBh",
        "outputId": "daba079e-ed18-4226-9f7f-8ec2896e187a"
      },
      "execution_count": null,
      "outputs": [
        {
          "output_type": "execute_result",
          "data": {
            "text/plain": [
              "Quebec           23765\n",
              "Ontario          14915\n",
              "Alberta           4480\n",
              "BC                1948\n",
              "Nova Scotia        873\n",
              "Saskatchewan       349\n",
              "Manitoba           271\n",
              "NL                 258\n",
              "New Brunswick      118\n",
              "PEI                 26\n",
              "Repatriated         13\n",
              "Yukon               11\n",
              "NWT                  5\n",
              "Queb                 1\n",
              "Name: province, dtype: int64"
            ]
          },
          "metadata": {},
          "execution_count": 21
        }
      ]
    },
    {
      "cell_type": "markdown",
      "source": [
        "Gerando a amostragem estratificada."
      ],
      "metadata": {
        "id": "vfLDENQS4zQ7"
      }
    },
    {
      "cell_type": "code",
      "source": [
        "X_train, X_test, y_train, y_test = train_test_split(df.drop('province',axis=1),\n",
        "                                                    df['province'],\n",
        "                                                    test_size=0.20)\n"
      ],
      "metadata": {
        "id": "n3M7WICn4unl"
      },
      "execution_count": null,
      "outputs": []
    },
    {
      "cell_type": "markdown",
      "source": [
        "Verificando a forma dos dados"
      ],
      "metadata": {
        "id": "4qlp22c35SFe"
      }
    },
    {
      "cell_type": "code",
      "source": [
        "y_test.shape"
      ],
      "metadata": {
        "colab": {
          "base_uri": "https://localhost:8080/"
        },
        "id": "kvhPlJAK5QXg",
        "outputId": "0f2f51b9-06eb-4fe5-db03-9421e4c0a50f"
      },
      "execution_count": null,
      "outputs": [
        {
          "output_type": "execute_result",
          "data": {
            "text/plain": [
              "(11759,)"
            ]
          },
          "metadata": {},
          "execution_count": 34
        }
      ]
    },
    {
      "cell_type": "code",
      "source": [
        "y_test.value_counts()"
      ],
      "metadata": {
        "colab": {
          "base_uri": "https://localhost:8080/"
        },
        "id": "QTHtHAGd8igE",
        "outputId": "53f1a15f-6559-40f5-ee94-f752296008ce"
      },
      "execution_count": null,
      "outputs": [
        {
          "output_type": "execute_result",
          "data": {
            "text/plain": [
              "Quebec           5887\n",
              "Ontario          3793\n",
              "Alberta          1100\n",
              "BC                475\n",
              "Nova Scotia       227\n",
              "Saskatchewan       85\n",
              "NL                 83\n",
              "Manitoba           66\n",
              "New Brunswick      29\n",
              "Yukon               4\n",
              "PEI                 4\n",
              "Repatriated         4\n",
              "NWT                 2\n",
              "Name: province, dtype: int64"
            ]
          },
          "metadata": {},
          "execution_count": 35
        }
      ]
    },
    {
      "cell_type": "markdown",
      "source": [
        "Gerando a semente aleatória"
      ],
      "metadata": {
        "id": "pbPwnO7dCNez"
      }
    },
    {
      "cell_type": "code",
      "source": [
        "seed = np.random.choice(10,1)"
      ],
      "metadata": {
        "id": "Sz6KSeMDB1Wl"
      },
      "execution_count": null,
      "outputs": []
    },
    {
      "cell_type": "code",
      "source": [
        "seed"
      ],
      "metadata": {
        "colab": {
          "base_uri": "https://localhost:8080/"
        },
        "id": "mVzumGnyCRlJ",
        "outputId": "982e6b63-5b62-45b5-afc3-18d16aca1c2d"
      },
      "execution_count": null,
      "outputs": [
        {
          "output_type": "execute_result",
          "data": {
            "text/plain": [
              "array([5])"
            ]
          },
          "metadata": {},
          "execution_count": 43
        }
      ]
    },
    {
      "cell_type": "markdown",
      "source": [
        "Gerando índices a partir da semente"
      ],
      "metadata": {
        "id": "vRGGaEEvCbmC"
      }
    },
    {
      "cell_type": "code",
      "source": [
        "index = np.arange(0,100,seed)"
      ],
      "metadata": {
        "id": "3yGzmxAQCZu4"
      },
      "execution_count": null,
      "outputs": []
    },
    {
      "cell_type": "code",
      "source": [
        "index2 = np.arange(0,len(df),seed)"
      ],
      "metadata": {
        "id": "QP23NmreDDfo"
      },
      "execution_count": null,
      "outputs": []
    },
    {
      "cell_type": "code",
      "source": [
        "index"
      ],
      "metadata": {
        "colab": {
          "base_uri": "https://localhost:8080/"
        },
        "id": "EaBqocuBCyex",
        "outputId": "53ae8b3b-1766-49b0-c9e4-01bf6ca14698"
      },
      "execution_count": null,
      "outputs": [
        {
          "output_type": "execute_result",
          "data": {
            "text/plain": [
              "array([ 0,  1,  2,  3,  4,  5,  6,  7,  8,  9, 10, 11, 12, 13, 14, 15, 16,\n",
              "       17, 18, 19, 20, 21, 22, 23, 24, 25, 26, 27, 28, 29, 30, 31, 32, 33,\n",
              "       34, 35, 36, 37, 38, 39, 40, 41, 42, 43, 44, 45, 46, 47, 48, 49, 50,\n",
              "       51, 52, 53, 54, 55, 56, 57, 58, 59, 60, 61, 62, 63, 64, 65, 66, 67,\n",
              "       68, 69, 70, 71, 72, 73, 74, 75, 76, 77, 78, 79, 80, 81, 82, 83, 84,\n",
              "       85, 86, 87, 88, 89, 90, 91, 92, 93, 94, 95, 96, 97, 98, 99])"
            ]
          },
          "metadata": {},
          "execution_count": 45
        }
      ]
    },
    {
      "cell_type": "code",
      "source": [
        "index2"
      ],
      "metadata": {
        "colab": {
          "base_uri": "https://localhost:8080/"
        },
        "id": "nI5DjAvJDYdM",
        "outputId": "a6baba05-766f-4e8a-9289-2b870a7a61a2"
      },
      "execution_count": null,
      "outputs": [
        {
          "output_type": "execute_result",
          "data": {
            "text/plain": [
              "array([    0,     5,    10, ..., 47020, 47025, 47030])"
            ]
          },
          "metadata": {},
          "execution_count": 46
        }
      ]
    },
    {
      "cell_type": "markdown",
      "source": [
        "Gerando amostras a partir dos índices"
      ],
      "metadata": {
        "id": "c3fkOG08Djkg"
      }
    },
    {
      "cell_type": "code",
      "source": [
        "amostra = df.loc[index,:]\n",
        "amostra"
      ],
      "metadata": {
        "colab": {
          "base_uri": "https://localhost:8080/",
          "height": 592
        },
        "id": "8x1kH8ESDZ5_",
        "outputId": "a77dc780-742a-4e0d-8ccd-d39ff72af85c"
      },
      "execution_count": null,
      "outputs": [
        {
          "output_type": "execute_result",
          "data": {
            "text/plain": [
              "    case_id  provincial_case_id           age           sex  \\\n",
              "0       NaN                   1         50-59          Male   \n",
              "1       NaN                   2         50-59        Female   \n",
              "2       NaN                   1         40-49          Male   \n",
              "3       NaN                   3         20-29        Female   \n",
              "4       NaN                   2         50-59        Female   \n",
              "..      ...                 ...           ...           ...   \n",
              "95      NaN                  38         30-39        Female   \n",
              "96      NaN                  39         30-39          Male   \n",
              "97      NaN                  40         40-49          Male   \n",
              "98      NaN                  41         30-39        Female   \n",
              "99      NaN                   6  Not Reported  Not Reported   \n",
              "\n",
              "        health_region province country date_report report_week  \\\n",
              "0             Toronto  Ontario  Canada  2020-01-25  2020-01-19   \n",
              "1             Toronto  Ontario  Canada  2020-01-27  2020-01-26   \n",
              "2   Vancouver Coastal       BC  Canada  2020-01-28  2020-01-26   \n",
              "3    Middlesex-London  Ontario  Canada  2020-01-31  2020-01-26   \n",
              "4   Vancouver Coastal       BC  Canada  2020-02-04  2020-02-02   \n",
              "..                ...      ...     ...         ...         ...   \n",
              "95               York  Ontario  Canada  2020-03-11  2020-03-08   \n",
              "96            Toronto  Ontario  Canada  2020-03-11  2020-03-08   \n",
              "97             Ottawa  Ontario  Canada  2020-03-11  2020-03-08   \n",
              "98             Halton  Ontario  Canada  2020-03-11  2020-03-08   \n",
              "99           Montréal   Quebec  Canada  2020-03-11  2020-03-08   \n",
              "\n",
              "   has_travel_history locally_acquired  \\\n",
              "0                   t              NaN   \n",
              "1                   t              NaN   \n",
              "2                   t              NaN   \n",
              "3                   t              NaN   \n",
              "4                   f    Close Contact   \n",
              "..                ...              ...   \n",
              "95                  t              NaN   \n",
              "96                  t              NaN   \n",
              "97                  t              NaN   \n",
              "98                  t              NaN   \n",
              "99                  t              NaN   \n",
              "\n",
              "                                          case_source  \n",
              "0   (1) https://news.ontario.ca/mohltc/en/2020/01/...  \n",
              "1   (1) https://news.ontario.ca/mohltc/en/2020/01/...  \n",
              "2   https://news.gov.bc.ca/releases/2020HLTH0015-0...  \n",
              "3   (1) https://news.ontario.ca/mohltc/en/2020/01/...  \n",
              "4   https://news.gov.bc.ca/releases/2020HLTH0023-0...  \n",
              "..                                                ...  \n",
              "95  https://www.ontario.ca/page/2019-novel-coronav...  \n",
              "96  https://www.ontario.ca/page/2019-novel-coronav...  \n",
              "97  [1] https://www.ontario.ca/page/2019-novel-cor...  \n",
              "98  [1] https://www.ontario.ca/page/2019-novel-cor...  \n",
              "99  (1) https://www.lapresse.ca/covid-19/202003/11...  \n",
              "\n",
              "[100 rows x 12 columns]"
            ],
            "text/html": [
              "\n",
              "  <div id=\"df-0fcbae62-1739-4292-a0d9-ab463914751d\">\n",
              "    <div class=\"colab-df-container\">\n",
              "      <div>\n",
              "<style scoped>\n",
              "    .dataframe tbody tr th:only-of-type {\n",
              "        vertical-align: middle;\n",
              "    }\n",
              "\n",
              "    .dataframe tbody tr th {\n",
              "        vertical-align: top;\n",
              "    }\n",
              "\n",
              "    .dataframe thead th {\n",
              "        text-align: right;\n",
              "    }\n",
              "</style>\n",
              "<table border=\"1\" class=\"dataframe\">\n",
              "  <thead>\n",
              "    <tr style=\"text-align: right;\">\n",
              "      <th></th>\n",
              "      <th>case_id</th>\n",
              "      <th>provincial_case_id</th>\n",
              "      <th>age</th>\n",
              "      <th>sex</th>\n",
              "      <th>health_region</th>\n",
              "      <th>province</th>\n",
              "      <th>country</th>\n",
              "      <th>date_report</th>\n",
              "      <th>report_week</th>\n",
              "      <th>has_travel_history</th>\n",
              "      <th>locally_acquired</th>\n",
              "      <th>case_source</th>\n",
              "    </tr>\n",
              "  </thead>\n",
              "  <tbody>\n",
              "    <tr>\n",
              "      <th>0</th>\n",
              "      <td>NaN</td>\n",
              "      <td>1</td>\n",
              "      <td>50-59</td>\n",
              "      <td>Male</td>\n",
              "      <td>Toronto</td>\n",
              "      <td>Ontario</td>\n",
              "      <td>Canada</td>\n",
              "      <td>2020-01-25</td>\n",
              "      <td>2020-01-19</td>\n",
              "      <td>t</td>\n",
              "      <td>NaN</td>\n",
              "      <td>(1) https://news.ontario.ca/mohltc/en/2020/01/...</td>\n",
              "    </tr>\n",
              "    <tr>\n",
              "      <th>1</th>\n",
              "      <td>NaN</td>\n",
              "      <td>2</td>\n",
              "      <td>50-59</td>\n",
              "      <td>Female</td>\n",
              "      <td>Toronto</td>\n",
              "      <td>Ontario</td>\n",
              "      <td>Canada</td>\n",
              "      <td>2020-01-27</td>\n",
              "      <td>2020-01-26</td>\n",
              "      <td>t</td>\n",
              "      <td>NaN</td>\n",
              "      <td>(1) https://news.ontario.ca/mohltc/en/2020/01/...</td>\n",
              "    </tr>\n",
              "    <tr>\n",
              "      <th>2</th>\n",
              "      <td>NaN</td>\n",
              "      <td>1</td>\n",
              "      <td>40-49</td>\n",
              "      <td>Male</td>\n",
              "      <td>Vancouver Coastal</td>\n",
              "      <td>BC</td>\n",
              "      <td>Canada</td>\n",
              "      <td>2020-01-28</td>\n",
              "      <td>2020-01-26</td>\n",
              "      <td>t</td>\n",
              "      <td>NaN</td>\n",
              "      <td>https://news.gov.bc.ca/releases/2020HLTH0015-0...</td>\n",
              "    </tr>\n",
              "    <tr>\n",
              "      <th>3</th>\n",
              "      <td>NaN</td>\n",
              "      <td>3</td>\n",
              "      <td>20-29</td>\n",
              "      <td>Female</td>\n",
              "      <td>Middlesex-London</td>\n",
              "      <td>Ontario</td>\n",
              "      <td>Canada</td>\n",
              "      <td>2020-01-31</td>\n",
              "      <td>2020-01-26</td>\n",
              "      <td>t</td>\n",
              "      <td>NaN</td>\n",
              "      <td>(1) https://news.ontario.ca/mohltc/en/2020/01/...</td>\n",
              "    </tr>\n",
              "    <tr>\n",
              "      <th>4</th>\n",
              "      <td>NaN</td>\n",
              "      <td>2</td>\n",
              "      <td>50-59</td>\n",
              "      <td>Female</td>\n",
              "      <td>Vancouver Coastal</td>\n",
              "      <td>BC</td>\n",
              "      <td>Canada</td>\n",
              "      <td>2020-02-04</td>\n",
              "      <td>2020-02-02</td>\n",
              "      <td>f</td>\n",
              "      <td>Close Contact</td>\n",
              "      <td>https://news.gov.bc.ca/releases/2020HLTH0023-0...</td>\n",
              "    </tr>\n",
              "    <tr>\n",
              "      <th>...</th>\n",
              "      <td>...</td>\n",
              "      <td>...</td>\n",
              "      <td>...</td>\n",
              "      <td>...</td>\n",
              "      <td>...</td>\n",
              "      <td>...</td>\n",
              "      <td>...</td>\n",
              "      <td>...</td>\n",
              "      <td>...</td>\n",
              "      <td>...</td>\n",
              "      <td>...</td>\n",
              "      <td>...</td>\n",
              "    </tr>\n",
              "    <tr>\n",
              "      <th>95</th>\n",
              "      <td>NaN</td>\n",
              "      <td>38</td>\n",
              "      <td>30-39</td>\n",
              "      <td>Female</td>\n",
              "      <td>York</td>\n",
              "      <td>Ontario</td>\n",
              "      <td>Canada</td>\n",
              "      <td>2020-03-11</td>\n",
              "      <td>2020-03-08</td>\n",
              "      <td>t</td>\n",
              "      <td>NaN</td>\n",
              "      <td>https://www.ontario.ca/page/2019-novel-coronav...</td>\n",
              "    </tr>\n",
              "    <tr>\n",
              "      <th>96</th>\n",
              "      <td>NaN</td>\n",
              "      <td>39</td>\n",
              "      <td>30-39</td>\n",
              "      <td>Male</td>\n",
              "      <td>Toronto</td>\n",
              "      <td>Ontario</td>\n",
              "      <td>Canada</td>\n",
              "      <td>2020-03-11</td>\n",
              "      <td>2020-03-08</td>\n",
              "      <td>t</td>\n",
              "      <td>NaN</td>\n",
              "      <td>https://www.ontario.ca/page/2019-novel-coronav...</td>\n",
              "    </tr>\n",
              "    <tr>\n",
              "      <th>97</th>\n",
              "      <td>NaN</td>\n",
              "      <td>40</td>\n",
              "      <td>40-49</td>\n",
              "      <td>Male</td>\n",
              "      <td>Ottawa</td>\n",
              "      <td>Ontario</td>\n",
              "      <td>Canada</td>\n",
              "      <td>2020-03-11</td>\n",
              "      <td>2020-03-08</td>\n",
              "      <td>t</td>\n",
              "      <td>NaN</td>\n",
              "      <td>[1] https://www.ontario.ca/page/2019-novel-cor...</td>\n",
              "    </tr>\n",
              "    <tr>\n",
              "      <th>98</th>\n",
              "      <td>NaN</td>\n",
              "      <td>41</td>\n",
              "      <td>30-39</td>\n",
              "      <td>Female</td>\n",
              "      <td>Halton</td>\n",
              "      <td>Ontario</td>\n",
              "      <td>Canada</td>\n",
              "      <td>2020-03-11</td>\n",
              "      <td>2020-03-08</td>\n",
              "      <td>t</td>\n",
              "      <td>NaN</td>\n",
              "      <td>[1] https://www.ontario.ca/page/2019-novel-cor...</td>\n",
              "    </tr>\n",
              "    <tr>\n",
              "      <th>99</th>\n",
              "      <td>NaN</td>\n",
              "      <td>6</td>\n",
              "      <td>Not Reported</td>\n",
              "      <td>Not Reported</td>\n",
              "      <td>Montréal</td>\n",
              "      <td>Quebec</td>\n",
              "      <td>Canada</td>\n",
              "      <td>2020-03-11</td>\n",
              "      <td>2020-03-08</td>\n",
              "      <td>t</td>\n",
              "      <td>NaN</td>\n",
              "      <td>(1) https://www.lapresse.ca/covid-19/202003/11...</td>\n",
              "    </tr>\n",
              "  </tbody>\n",
              "</table>\n",
              "<p>100 rows × 12 columns</p>\n",
              "</div>\n",
              "      <button class=\"colab-df-convert\" onclick=\"convertToInteractive('df-0fcbae62-1739-4292-a0d9-ab463914751d')\"\n",
              "              title=\"Convert this dataframe to an interactive table.\"\n",
              "              style=\"display:none;\">\n",
              "        \n",
              "  <svg xmlns=\"http://www.w3.org/2000/svg\" height=\"24px\"viewBox=\"0 0 24 24\"\n",
              "       width=\"24px\">\n",
              "    <path d=\"M0 0h24v24H0V0z\" fill=\"none\"/>\n",
              "    <path d=\"M18.56 5.44l.94 2.06.94-2.06 2.06-.94-2.06-.94-.94-2.06-.94 2.06-2.06.94zm-11 1L8.5 8.5l.94-2.06 2.06-.94-2.06-.94L8.5 2.5l-.94 2.06-2.06.94zm10 10l.94 2.06.94-2.06 2.06-.94-2.06-.94-.94-2.06-.94 2.06-2.06.94z\"/><path d=\"M17.41 7.96l-1.37-1.37c-.4-.4-.92-.59-1.43-.59-.52 0-1.04.2-1.43.59L10.3 9.45l-7.72 7.72c-.78.78-.78 2.05 0 2.83L4 21.41c.39.39.9.59 1.41.59.51 0 1.02-.2 1.41-.59l7.78-7.78 2.81-2.81c.8-.78.8-2.07 0-2.86zM5.41 20L4 18.59l7.72-7.72 1.47 1.35L5.41 20z\"/>\n",
              "  </svg>\n",
              "      </button>\n",
              "      \n",
              "  <style>\n",
              "    .colab-df-container {\n",
              "      display:flex;\n",
              "      flex-wrap:wrap;\n",
              "      gap: 12px;\n",
              "    }\n",
              "\n",
              "    .colab-df-convert {\n",
              "      background-color: #E8F0FE;\n",
              "      border: none;\n",
              "      border-radius: 50%;\n",
              "      cursor: pointer;\n",
              "      display: none;\n",
              "      fill: #1967D2;\n",
              "      height: 32px;\n",
              "      padding: 0 0 0 0;\n",
              "      width: 32px;\n",
              "    }\n",
              "\n",
              "    .colab-df-convert:hover {\n",
              "      background-color: #E2EBFA;\n",
              "      box-shadow: 0px 1px 2px rgba(60, 64, 67, 0.3), 0px 1px 3px 1px rgba(60, 64, 67, 0.15);\n",
              "      fill: #174EA6;\n",
              "    }\n",
              "\n",
              "    [theme=dark] .colab-df-convert {\n",
              "      background-color: #3B4455;\n",
              "      fill: #D2E3FC;\n",
              "    }\n",
              "\n",
              "    [theme=dark] .colab-df-convert:hover {\n",
              "      background-color: #434B5C;\n",
              "      box-shadow: 0px 1px 3px 1px rgba(0, 0, 0, 0.15);\n",
              "      filter: drop-shadow(0px 1px 2px rgba(0, 0, 0, 0.3));\n",
              "      fill: #FFFFFF;\n",
              "    }\n",
              "  </style>\n",
              "\n",
              "      <script>\n",
              "        const buttonEl =\n",
              "          document.querySelector('#df-0fcbae62-1739-4292-a0d9-ab463914751d button.colab-df-convert');\n",
              "        buttonEl.style.display =\n",
              "          google.colab.kernel.accessAllowed ? 'block' : 'none';\n",
              "\n",
              "        async function convertToInteractive(key) {\n",
              "          const element = document.querySelector('#df-0fcbae62-1739-4292-a0d9-ab463914751d');\n",
              "          const dataTable =\n",
              "            await google.colab.kernel.invokeFunction('convertToInteractive',\n",
              "                                                     [key], {});\n",
              "          if (!dataTable) return;\n",
              "\n",
              "          const docLinkHtml = 'Like what you see? Visit the ' +\n",
              "            '<a target=\"_blank\" href=https://colab.research.google.com/notebooks/data_table.ipynb>data table notebook</a>'\n",
              "            + ' to learn more about interactive tables.';\n",
              "          element.innerHTML = '';\n",
              "          dataTable['output_type'] = 'display_data';\n",
              "          await google.colab.output.renderOutput(dataTable, element);\n",
              "          const docLink = document.createElement('div');\n",
              "          docLink.innerHTML = docLinkHtml;\n",
              "          element.appendChild(docLink);\n",
              "        }\n",
              "      </script>\n",
              "    </div>\n",
              "  </div>\n",
              "  "
            ]
          },
          "metadata": {},
          "execution_count": 51
        }
      ]
    },
    {
      "cell_type": "code",
      "source": [
        "amostra2 = df.loc[index2,:]\n",
        "amostra2"
      ],
      "metadata": {
        "colab": {
          "base_uri": "https://localhost:8080/",
          "height": 592
        },
        "id": "kKGh2o24EFb9",
        "outputId": "8b7b352f-bbc6-416c-9c03-41abccf3a88f"
      },
      "execution_count": null,
      "outputs": [
        {
          "output_type": "execute_result",
          "data": {
            "text/plain": [
              "       case_id  provincial_case_id           age           sex  \\\n",
              "0          NaN                   1         50-59          Male   \n",
              "5          NaN                   3         30-39          Male   \n",
              "10         NaN                   5         60-69        Female   \n",
              "15         NaN                   8         80-89          Male   \n",
              "20         NaN                  12         50-59          Male   \n",
              "...        ...                 ...           ...           ...   \n",
              "47010      NaN               23744  Not Reported  Not Reported   \n",
              "47015      NaN               23749  Not Reported  Not Reported   \n",
              "47020      NaN               23754  Not Reported  Not Reported   \n",
              "47025      NaN               23759  Not Reported  Not Reported   \n",
              "47030      NaN               23764  Not Reported  Not Reported   \n",
              "\n",
              "           health_region province country date_report report_week  \\\n",
              "0                Toronto  Ontario  Canada  2020-01-25  2020-01-19   \n",
              "5      Vancouver Coastal       BC  Canada  2020-02-06  2020-02-02   \n",
              "10               Toronto  Ontario  Canada  2020-02-26  2020-02-23   \n",
              "15               Toronto  Ontario  Canada  2020-02-28  2020-02-23   \n",
              "20                  York  Ontario  Canada  2020-03-01  2020-03-01   \n",
              "...                  ...      ...     ...         ...         ...   \n",
              "47010           Montréal   Quebec  Canada  2020-04-26  2020-04-26   \n",
              "47015           Montréal   Quebec  Canada  2020-04-26  2020-04-26   \n",
              "47020           Montréal   Quebec  Canada  2020-04-26  2020-04-26   \n",
              "47025           Montréal   Quebec  Canada  2020-04-26  2020-04-26   \n",
              "47030           Montréal   Quebec  Canada  2020-04-26  2020-04-26   \n",
              "\n",
              "      has_travel_history locally_acquired  \\\n",
              "0                      t              NaN   \n",
              "5                      t              NaN   \n",
              "10                     t              NaN   \n",
              "15                     t              NaN   \n",
              "20                     t              NaN   \n",
              "...                  ...              ...   \n",
              "47010                NaN              NaN   \n",
              "47015                NaN              NaN   \n",
              "47020                NaN              NaN   \n",
              "47025                NaN              NaN   \n",
              "47030                NaN              NaN   \n",
              "\n",
              "                                             case_source  \n",
              "0      (1) https://news.ontario.ca/mohltc/en/2020/01/...  \n",
              "5      https://news.gov.bc.ca/releases/2020HLTH0025-0...  \n",
              "10     (1) https://news.ontario.ca/mohltc/en/2020/02/...  \n",
              "15     https://news.ontario.ca/mohltc/en/2020/02/onta...  \n",
              "20     (1) https://news.ontario.ca/mohltc/en/2020/03/...  \n",
              "...                                                  ...  \n",
              "47010  https://www.quebec.ca/sante/problemes-de-sante...  \n",
              "47015  https://www.quebec.ca/sante/problemes-de-sante...  \n",
              "47020  https://www.quebec.ca/sante/problemes-de-sante...  \n",
              "47025  https://www.quebec.ca/sante/problemes-de-sante...  \n",
              "47030  https://www.quebec.ca/sante/problemes-de-sante...  \n",
              "\n",
              "[9407 rows x 12 columns]"
            ],
            "text/html": [
              "\n",
              "  <div id=\"df-4aa238c1-642d-4209-abbb-8fa3a897d9d3\">\n",
              "    <div class=\"colab-df-container\">\n",
              "      <div>\n",
              "<style scoped>\n",
              "    .dataframe tbody tr th:only-of-type {\n",
              "        vertical-align: middle;\n",
              "    }\n",
              "\n",
              "    .dataframe tbody tr th {\n",
              "        vertical-align: top;\n",
              "    }\n",
              "\n",
              "    .dataframe thead th {\n",
              "        text-align: right;\n",
              "    }\n",
              "</style>\n",
              "<table border=\"1\" class=\"dataframe\">\n",
              "  <thead>\n",
              "    <tr style=\"text-align: right;\">\n",
              "      <th></th>\n",
              "      <th>case_id</th>\n",
              "      <th>provincial_case_id</th>\n",
              "      <th>age</th>\n",
              "      <th>sex</th>\n",
              "      <th>health_region</th>\n",
              "      <th>province</th>\n",
              "      <th>country</th>\n",
              "      <th>date_report</th>\n",
              "      <th>report_week</th>\n",
              "      <th>has_travel_history</th>\n",
              "      <th>locally_acquired</th>\n",
              "      <th>case_source</th>\n",
              "    </tr>\n",
              "  </thead>\n",
              "  <tbody>\n",
              "    <tr>\n",
              "      <th>0</th>\n",
              "      <td>NaN</td>\n",
              "      <td>1</td>\n",
              "      <td>50-59</td>\n",
              "      <td>Male</td>\n",
              "      <td>Toronto</td>\n",
              "      <td>Ontario</td>\n",
              "      <td>Canada</td>\n",
              "      <td>2020-01-25</td>\n",
              "      <td>2020-01-19</td>\n",
              "      <td>t</td>\n",
              "      <td>NaN</td>\n",
              "      <td>(1) https://news.ontario.ca/mohltc/en/2020/01/...</td>\n",
              "    </tr>\n",
              "    <tr>\n",
              "      <th>5</th>\n",
              "      <td>NaN</td>\n",
              "      <td>3</td>\n",
              "      <td>30-39</td>\n",
              "      <td>Male</td>\n",
              "      <td>Vancouver Coastal</td>\n",
              "      <td>BC</td>\n",
              "      <td>Canada</td>\n",
              "      <td>2020-02-06</td>\n",
              "      <td>2020-02-02</td>\n",
              "      <td>t</td>\n",
              "      <td>NaN</td>\n",
              "      <td>https://news.gov.bc.ca/releases/2020HLTH0025-0...</td>\n",
              "    </tr>\n",
              "    <tr>\n",
              "      <th>10</th>\n",
              "      <td>NaN</td>\n",
              "      <td>5</td>\n",
              "      <td>60-69</td>\n",
              "      <td>Female</td>\n",
              "      <td>Toronto</td>\n",
              "      <td>Ontario</td>\n",
              "      <td>Canada</td>\n",
              "      <td>2020-02-26</td>\n",
              "      <td>2020-02-23</td>\n",
              "      <td>t</td>\n",
              "      <td>NaN</td>\n",
              "      <td>(1) https://news.ontario.ca/mohltc/en/2020/02/...</td>\n",
              "    </tr>\n",
              "    <tr>\n",
              "      <th>15</th>\n",
              "      <td>NaN</td>\n",
              "      <td>8</td>\n",
              "      <td>80-89</td>\n",
              "      <td>Male</td>\n",
              "      <td>Toronto</td>\n",
              "      <td>Ontario</td>\n",
              "      <td>Canada</td>\n",
              "      <td>2020-02-28</td>\n",
              "      <td>2020-02-23</td>\n",
              "      <td>t</td>\n",
              "      <td>NaN</td>\n",
              "      <td>https://news.ontario.ca/mohltc/en/2020/02/onta...</td>\n",
              "    </tr>\n",
              "    <tr>\n",
              "      <th>20</th>\n",
              "      <td>NaN</td>\n",
              "      <td>12</td>\n",
              "      <td>50-59</td>\n",
              "      <td>Male</td>\n",
              "      <td>York</td>\n",
              "      <td>Ontario</td>\n",
              "      <td>Canada</td>\n",
              "      <td>2020-03-01</td>\n",
              "      <td>2020-03-01</td>\n",
              "      <td>t</td>\n",
              "      <td>NaN</td>\n",
              "      <td>(1) https://news.ontario.ca/mohltc/en/2020/03/...</td>\n",
              "    </tr>\n",
              "    <tr>\n",
              "      <th>...</th>\n",
              "      <td>...</td>\n",
              "      <td>...</td>\n",
              "      <td>...</td>\n",
              "      <td>...</td>\n",
              "      <td>...</td>\n",
              "      <td>...</td>\n",
              "      <td>...</td>\n",
              "      <td>...</td>\n",
              "      <td>...</td>\n",
              "      <td>...</td>\n",
              "      <td>...</td>\n",
              "      <td>...</td>\n",
              "    </tr>\n",
              "    <tr>\n",
              "      <th>47010</th>\n",
              "      <td>NaN</td>\n",
              "      <td>23744</td>\n",
              "      <td>Not Reported</td>\n",
              "      <td>Not Reported</td>\n",
              "      <td>Montréal</td>\n",
              "      <td>Quebec</td>\n",
              "      <td>Canada</td>\n",
              "      <td>2020-04-26</td>\n",
              "      <td>2020-04-26</td>\n",
              "      <td>NaN</td>\n",
              "      <td>NaN</td>\n",
              "      <td>https://www.quebec.ca/sante/problemes-de-sante...</td>\n",
              "    </tr>\n",
              "    <tr>\n",
              "      <th>47015</th>\n",
              "      <td>NaN</td>\n",
              "      <td>23749</td>\n",
              "      <td>Not Reported</td>\n",
              "      <td>Not Reported</td>\n",
              "      <td>Montréal</td>\n",
              "      <td>Quebec</td>\n",
              "      <td>Canada</td>\n",
              "      <td>2020-04-26</td>\n",
              "      <td>2020-04-26</td>\n",
              "      <td>NaN</td>\n",
              "      <td>NaN</td>\n",
              "      <td>https://www.quebec.ca/sante/problemes-de-sante...</td>\n",
              "    </tr>\n",
              "    <tr>\n",
              "      <th>47020</th>\n",
              "      <td>NaN</td>\n",
              "      <td>23754</td>\n",
              "      <td>Not Reported</td>\n",
              "      <td>Not Reported</td>\n",
              "      <td>Montréal</td>\n",
              "      <td>Quebec</td>\n",
              "      <td>Canada</td>\n",
              "      <td>2020-04-26</td>\n",
              "      <td>2020-04-26</td>\n",
              "      <td>NaN</td>\n",
              "      <td>NaN</td>\n",
              "      <td>https://www.quebec.ca/sante/problemes-de-sante...</td>\n",
              "    </tr>\n",
              "    <tr>\n",
              "      <th>47025</th>\n",
              "      <td>NaN</td>\n",
              "      <td>23759</td>\n",
              "      <td>Not Reported</td>\n",
              "      <td>Not Reported</td>\n",
              "      <td>Montréal</td>\n",
              "      <td>Quebec</td>\n",
              "      <td>Canada</td>\n",
              "      <td>2020-04-26</td>\n",
              "      <td>2020-04-26</td>\n",
              "      <td>NaN</td>\n",
              "      <td>NaN</td>\n",
              "      <td>https://www.quebec.ca/sante/problemes-de-sante...</td>\n",
              "    </tr>\n",
              "    <tr>\n",
              "      <th>47030</th>\n",
              "      <td>NaN</td>\n",
              "      <td>23764</td>\n",
              "      <td>Not Reported</td>\n",
              "      <td>Not Reported</td>\n",
              "      <td>Montréal</td>\n",
              "      <td>Quebec</td>\n",
              "      <td>Canada</td>\n",
              "      <td>2020-04-26</td>\n",
              "      <td>2020-04-26</td>\n",
              "      <td>NaN</td>\n",
              "      <td>NaN</td>\n",
              "      <td>https://www.quebec.ca/sante/problemes-de-sante...</td>\n",
              "    </tr>\n",
              "  </tbody>\n",
              "</table>\n",
              "<p>9407 rows × 12 columns</p>\n",
              "</div>\n",
              "      <button class=\"colab-df-convert\" onclick=\"convertToInteractive('df-4aa238c1-642d-4209-abbb-8fa3a897d9d3')\"\n",
              "              title=\"Convert this dataframe to an interactive table.\"\n",
              "              style=\"display:none;\">\n",
              "        \n",
              "  <svg xmlns=\"http://www.w3.org/2000/svg\" height=\"24px\"viewBox=\"0 0 24 24\"\n",
              "       width=\"24px\">\n",
              "    <path d=\"M0 0h24v24H0V0z\" fill=\"none\"/>\n",
              "    <path d=\"M18.56 5.44l.94 2.06.94-2.06 2.06-.94-2.06-.94-.94-2.06-.94 2.06-2.06.94zm-11 1L8.5 8.5l.94-2.06 2.06-.94-2.06-.94L8.5 2.5l-.94 2.06-2.06.94zm10 10l.94 2.06.94-2.06 2.06-.94-2.06-.94-.94-2.06-.94 2.06-2.06.94z\"/><path d=\"M17.41 7.96l-1.37-1.37c-.4-.4-.92-.59-1.43-.59-.52 0-1.04.2-1.43.59L10.3 9.45l-7.72 7.72c-.78.78-.78 2.05 0 2.83L4 21.41c.39.39.9.59 1.41.59.51 0 1.02-.2 1.41-.59l7.78-7.78 2.81-2.81c.8-.78.8-2.07 0-2.86zM5.41 20L4 18.59l7.72-7.72 1.47 1.35L5.41 20z\"/>\n",
              "  </svg>\n",
              "      </button>\n",
              "      \n",
              "  <style>\n",
              "    .colab-df-container {\n",
              "      display:flex;\n",
              "      flex-wrap:wrap;\n",
              "      gap: 12px;\n",
              "    }\n",
              "\n",
              "    .colab-df-convert {\n",
              "      background-color: #E8F0FE;\n",
              "      border: none;\n",
              "      border-radius: 50%;\n",
              "      cursor: pointer;\n",
              "      display: none;\n",
              "      fill: #1967D2;\n",
              "      height: 32px;\n",
              "      padding: 0 0 0 0;\n",
              "      width: 32px;\n",
              "    }\n",
              "\n",
              "    .colab-df-convert:hover {\n",
              "      background-color: #E2EBFA;\n",
              "      box-shadow: 0px 1px 2px rgba(60, 64, 67, 0.3), 0px 1px 3px 1px rgba(60, 64, 67, 0.15);\n",
              "      fill: #174EA6;\n",
              "    }\n",
              "\n",
              "    [theme=dark] .colab-df-convert {\n",
              "      background-color: #3B4455;\n",
              "      fill: #D2E3FC;\n",
              "    }\n",
              "\n",
              "    [theme=dark] .colab-df-convert:hover {\n",
              "      background-color: #434B5C;\n",
              "      box-shadow: 0px 1px 3px 1px rgba(0, 0, 0, 0.15);\n",
              "      filter: drop-shadow(0px 1px 2px rgba(0, 0, 0, 0.3));\n",
              "      fill: #FFFFFF;\n",
              "    }\n",
              "  </style>\n",
              "\n",
              "      <script>\n",
              "        const buttonEl =\n",
              "          document.querySelector('#df-4aa238c1-642d-4209-abbb-8fa3a897d9d3 button.colab-df-convert');\n",
              "        buttonEl.style.display =\n",
              "          google.colab.kernel.accessAllowed ? 'block' : 'none';\n",
              "\n",
              "        async function convertToInteractive(key) {\n",
              "          const element = document.querySelector('#df-4aa238c1-642d-4209-abbb-8fa3a897d9d3');\n",
              "          const dataTable =\n",
              "            await google.colab.kernel.invokeFunction('convertToInteractive',\n",
              "                                                     [key], {});\n",
              "          if (!dataTable) return;\n",
              "\n",
              "          const docLinkHtml = 'Like what you see? Visit the ' +\n",
              "            '<a target=\"_blank\" href=https://colab.research.google.com/notebooks/data_table.ipynb>data table notebook</a>'\n",
              "            + ' to learn more about interactive tables.';\n",
              "          element.innerHTML = '';\n",
              "          dataTable['output_type'] = 'display_data';\n",
              "          await google.colab.output.renderOutput(dataTable, element);\n",
              "          const docLink = document.createElement('div');\n",
              "          docLink.innerHTML = docLinkHtml;\n",
              "          element.appendChild(docLink);\n",
              "        }\n",
              "      </script>\n",
              "    </div>\n",
              "  </div>\n",
              "  "
            ]
          },
          "metadata": {},
          "execution_count": 53
        }
      ]
    },
    {
      "cell_type": "markdown",
      "source": [
        "Contagem de registros"
      ],
      "metadata": {
        "id": "t7pT-zw6Egfg"
      }
    },
    {
      "cell_type": "code",
      "source": [
        "amostra.info()"
      ],
      "metadata": {
        "colab": {
          "base_uri": "https://localhost:8080/"
        },
        "id": "-74HqkWtETOs",
        "outputId": "39fa2928-352d-4c2b-994c-d999d0d78619"
      },
      "execution_count": null,
      "outputs": [
        {
          "output_type": "stream",
          "name": "stdout",
          "text": [
            "<class 'pandas.core.frame.DataFrame'>\n",
            "Int64Index: 100 entries, 0 to 99\n",
            "Data columns (total 12 columns):\n",
            " #   Column              Non-Null Count  Dtype  \n",
            "---  ------              --------------  -----  \n",
            " 0   case_id             0 non-null      float64\n",
            " 1   provincial_case_id  100 non-null    int64  \n",
            " 2   age                 100 non-null    object \n",
            " 3   sex                 100 non-null    object \n",
            " 4   health_region       100 non-null    object \n",
            " 5   province            100 non-null    object \n",
            " 6   country             100 non-null    object \n",
            " 7   date_report         100 non-null    object \n",
            " 8   report_week         100 non-null    object \n",
            " 9   has_travel_history  100 non-null    object \n",
            " 10  locally_acquired    22 non-null     object \n",
            " 11  case_source         100 non-null    object \n",
            "dtypes: float64(1), int64(1), object(10)\n",
            "memory usage: 10.2+ KB\n"
          ]
        }
      ]
    },
    {
      "cell_type": "code",
      "source": [],
      "metadata": {
        "id": "bH_lVVfOEjyf"
      },
      "execution_count": null,
      "outputs": []
    }
  ]
}