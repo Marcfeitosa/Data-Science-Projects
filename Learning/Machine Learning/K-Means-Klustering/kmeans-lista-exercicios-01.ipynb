{
 "cells": [
  {
   "cell_type": "markdown",
   "metadata": {},
   "source": [
    "# KMeans- Exercícios"
   ]
  },
  {
   "cell_type": "markdown",
   "metadata": {},
   "source": [
    "<font color=blue><b> Data Science do Zero</b></font><br>\n",
    " www.minerandodados.com.br  "
   ]
  },
  {
   "cell_type": "markdown",
   "metadata": {},
   "source": [
    "1) Importe as bibliotecas para visualização de dados e clustering."
   ]
  },
  {
   "cell_type": "code",
   "execution_count": 42,
   "metadata": {},
   "outputs": [],
   "source": [
    "import pandas as pd\n",
    "import matplotlib.pyplot as plt\n",
    "import seaborn as sns\n",
    "from sklearn.cluster import KMeans"
   ]
  },
  {
   "cell_type": "markdown",
   "metadata": {},
   "source": [
    "2) Leia a base de dados **iris.csv** localizada no diretorio **datasets** e crie um Dataframe."
   ]
  },
  {
   "cell_type": "code",
   "execution_count": 149,
   "metadata": {},
   "outputs": [],
   "source": [
    "iris = pd.read_csv(r\"C:\\Users\\marcf\\OneDrive\\Documentos\\Ciencia de dados\\K-Means-Clustering\\iris.csv\")"
   ]
  },
  {
   "cell_type": "code",
   "execution_count": 150,
   "metadata": {},
   "outputs": [
    {
     "data": {
      "text/html": [
       "<div>\n",
       "<style scoped>\n",
       "    .dataframe tbody tr th:only-of-type {\n",
       "        vertical-align: middle;\n",
       "    }\n",
       "\n",
       "    .dataframe tbody tr th {\n",
       "        vertical-align: top;\n",
       "    }\n",
       "\n",
       "    .dataframe thead th {\n",
       "        text-align: right;\n",
       "    }\n",
       "</style>\n",
       "<table border=\"1\" class=\"dataframe\">\n",
       "  <thead>\n",
       "    <tr style=\"text-align: right;\">\n",
       "      <th></th>\n",
       "      <th>SepalLength</th>\n",
       "      <th>SepalWidth</th>\n",
       "      <th>PetalLength</th>\n",
       "      <th>PetalWidth</th>\n",
       "      <th>Species</th>\n",
       "    </tr>\n",
       "  </thead>\n",
       "  <tbody>\n",
       "    <tr>\n",
       "      <th>0</th>\n",
       "      <td>5.1</td>\n",
       "      <td>3.5</td>\n",
       "      <td>1.4</td>\n",
       "      <td>0.2</td>\n",
       "      <td>Iris-setosa</td>\n",
       "    </tr>\n",
       "    <tr>\n",
       "      <th>1</th>\n",
       "      <td>4.9</td>\n",
       "      <td>3.0</td>\n",
       "      <td>1.4</td>\n",
       "      <td>0.2</td>\n",
       "      <td>Iris-setosa</td>\n",
       "    </tr>\n",
       "    <tr>\n",
       "      <th>2</th>\n",
       "      <td>4.7</td>\n",
       "      <td>3.2</td>\n",
       "      <td>1.3</td>\n",
       "      <td>0.2</td>\n",
       "      <td>Iris-setosa</td>\n",
       "    </tr>\n",
       "    <tr>\n",
       "      <th>3</th>\n",
       "      <td>4.6</td>\n",
       "      <td>3.1</td>\n",
       "      <td>1.5</td>\n",
       "      <td>0.2</td>\n",
       "      <td>Iris-setosa</td>\n",
       "    </tr>\n",
       "    <tr>\n",
       "      <th>4</th>\n",
       "      <td>5.0</td>\n",
       "      <td>3.6</td>\n",
       "      <td>1.4</td>\n",
       "      <td>0.2</td>\n",
       "      <td>Iris-setosa</td>\n",
       "    </tr>\n",
       "  </tbody>\n",
       "</table>\n",
       "</div>"
      ],
      "text/plain": [
       "   SepalLength  SepalWidth  PetalLength  PetalWidth      Species\n",
       "0          5.1         3.5          1.4         0.2  Iris-setosa\n",
       "1          4.9         3.0          1.4         0.2  Iris-setosa\n",
       "2          4.7         3.2          1.3         0.2  Iris-setosa\n",
       "3          4.6         3.1          1.5         0.2  Iris-setosa\n",
       "4          5.0         3.6          1.4         0.2  Iris-setosa"
      ]
     },
     "execution_count": 150,
     "metadata": {},
     "output_type": "execute_result"
    }
   ],
   "source": [
    "iris.head()"
   ]
  },
  {
   "cell_type": "code",
   "execution_count": 151,
   "metadata": {},
   "outputs": [
    {
     "name": "stdout",
     "output_type": "stream",
     "text": [
      "<class 'pandas.core.frame.DataFrame'>\n",
      "RangeIndex: 150 entries, 0 to 149\n",
      "Data columns (total 5 columns):\n",
      " #   Column       Non-Null Count  Dtype  \n",
      "---  ------       --------------  -----  \n",
      " 0   SepalLength  150 non-null    float64\n",
      " 1   SepalWidth   150 non-null    float64\n",
      " 2   PetalLength  150 non-null    float64\n",
      " 3   PetalWidth   150 non-null    float64\n",
      " 4   Species      150 non-null    object \n",
      "dtypes: float64(4), object(1)\n",
      "memory usage: 6.0+ KB\n"
     ]
    }
   ],
   "source": [
    "iris.info()"
   ]
  },
  {
   "cell_type": "markdown",
   "metadata": {},
   "source": [
    "3) Armazene apenas as **features e seus dados** na variável train."
   ]
  },
  {
   "cell_type": "code",
   "execution_count": 152,
   "metadata": {},
   "outputs": [
    {
     "data": {
      "text/plain": [
       "pandas.core.frame.DataFrame"
      ]
     },
     "execution_count": 152,
     "metadata": {},
     "output_type": "execute_result"
    }
   ],
   "source": [
    "type(iris)"
   ]
  },
  {
   "cell_type": "code",
   "execution_count": 31,
   "metadata": {},
   "outputs": [],
   "source": [
    "from sklearn import datasets\n",
    "iris2 = datasets.load_iris()"
   ]
  },
  {
   "cell_type": "code",
   "execution_count": 153,
   "metadata": {},
   "outputs": [
    {
     "data": {
      "text/plain": [
       "sklearn.utils.Bunch"
      ]
     },
     "execution_count": 153,
     "metadata": {},
     "output_type": "execute_result"
    }
   ],
   "source": [
    "type(iris2)"
   ]
  },
  {
   "cell_type": "code",
   "execution_count": 154,
   "metadata": {},
   "outputs": [
    {
     "data": {
      "text/plain": [
       "['sepal length (cm)',\n",
       " 'sepal width (cm)',\n",
       " 'petal length (cm)',\n",
       " 'petal width (cm)']"
      ]
     },
     "execution_count": 154,
     "metadata": {},
     "output_type": "execute_result"
    }
   ],
   "source": [
    "iris2.feature_names"
   ]
  },
  {
   "cell_type": "markdown",
   "metadata": {},
   "source": [
    "5) Armazene os dados de classes na variável classes."
   ]
  },
  {
   "cell_type": "code",
   "execution_count": 156,
   "metadata": {},
   "outputs": [],
   "source": [
    "classes = iris.drop('Species', axis=1)"
   ]
  },
  {
   "cell_type": "markdown",
   "metadata": {},
   "source": [
    "6) Utilizando o código abaixo, crie uma função que faça o **calculo da distância euclidiana entre dois vetores**."
   ]
  },
  {
   "cell_type": "code",
   "execution_count": 14,
   "metadata": {},
   "outputs": [],
   "source": [
    "# Função que retorna a distância eucludiana de dois vetores de duas dimensões.\n",
    "from sklearn.neighbors import DistanceMetric\n",
    "def calcula_distancia(x,c):\n",
    "    dist = DistanceMetric.get_metric('euclidean')\n",
    "    return dist.pairwise(x,c)"
   ]
  },
  {
   "cell_type": "markdown",
   "metadata": {},
   "source": [
    "7) Utilizando a função **calcula_distancia** faça:"
   ]
  },
  {
   "cell_type": "markdown",
   "metadata": {},
   "source": [
    "- Calcule a distância entre os vetores **v1 e v2** abaixo\n",
    "> v1 = [[1.2,1,2.1,1]]<br>\n",
    "> v2 = [[1,1.9,5.4,3.2]]"
   ]
  },
  {
   "cell_type": "code",
   "execution_count": 17,
   "metadata": {},
   "outputs": [
    {
     "data": {
      "text/plain": [
       "array([[4.07185461]])"
      ]
     },
     "execution_count": 17,
     "metadata": {},
     "output_type": "execute_result"
    }
   ],
   "source": [
    "v1 = [[1.2,1,2.1,1]]\n",
    "v2 = [[1,1.9,5.4,3.2]]\n",
    "calcula_distancia(v1,v2)"
   ]
  },
  {
   "cell_type": "markdown",
   "metadata": {},
   "source": [
    "- Calcule a distância entre os vetores **v3 e v4** abaixo e explique o retorno\n",
    "> v3 = [[0.5,0,2.1,1.5]]<br>\n",
    "> v4 = [[0.5,0,2.1,1.5]]"
   ]
  },
  {
   "cell_type": "code",
   "execution_count": 18,
   "metadata": {},
   "outputs": [
    {
     "data": {
      "text/plain": [
       "array([[0.]])"
      ]
     },
     "execution_count": 18,
     "metadata": {},
     "output_type": "execute_result"
    }
   ],
   "source": [
    "v3 = [[0.5,0,2.1,1.5]]\n",
    "v4 = [[0.5,0,2.1,1.5]]\n",
    "calcula_distancia(v3,v4)"
   ]
  },
  {
   "cell_type": "markdown",
   "metadata": {},
   "source": [
    "8) Instâncie o algoritmo Kmeans com o número de clusters **igual ao número de classes** da sua base de dados e execute o algoritmo KMeans."
   ]
  },
  {
   "cell_type": "code",
   "execution_count": 110,
   "metadata": {},
   "outputs": [],
   "source": [
    "kmeans = KMeans(n_clusters=3)"
   ]
  },
  {
   "cell_type": "markdown",
   "metadata": {},
   "source": [
    "09) Imprima os valores dos **centroides**."
   ]
  },
  {
   "cell_type": "code",
   "execution_count": 162,
   "metadata": {},
   "outputs": [
    {
     "data": {
      "text/plain": [
       "array([[6.85      , 3.07368421, 5.74210526, 2.07105263],\n",
       "       [5.9016129 , 2.7483871 , 4.39354839, 1.43387097],\n",
       "       [5.006     , 3.418     , 1.464     , 0.244     ]])"
      ]
     },
     "execution_count": 162,
     "metadata": {},
     "output_type": "execute_result"
    }
   ],
   "source": [
    "kmeans.fit(classes)\n",
    "centros = kmeans.cluster_centers_\n",
    "centros"
   ]
  },
  {
   "cell_type": "markdown",
   "metadata": {},
   "source": [
    "10) Selecione **três amostras da base de dados e calcule a distância euclidiana entre as amostras de dados e cada um dos valores de centroids**."
   ]
  },
  {
   "cell_type": "markdown",
   "metadata": {},
   "source": [
    "- DICA: Use um laço for..."
   ]
  },
  {
   "cell_type": "code",
   "execution_count": 64,
   "metadata": {},
   "outputs": [
    {
     "data": {
      "text/plain": [
       "(150, 5)"
      ]
     },
     "execution_count": 64,
     "metadata": {},
     "output_type": "execute_result"
    }
   ],
   "source": [
    "iris.shape"
   ]
  },
  {
   "cell_type": "code",
   "execution_count": 88,
   "metadata": {},
   "outputs": [
    {
     "data": {
      "text/html": [
       "<div>\n",
       "<style scoped>\n",
       "    .dataframe tbody tr th:only-of-type {\n",
       "        vertical-align: middle;\n",
       "    }\n",
       "\n",
       "    .dataframe tbody tr th {\n",
       "        vertical-align: top;\n",
       "    }\n",
       "\n",
       "    .dataframe thead th {\n",
       "        text-align: right;\n",
       "    }\n",
       "</style>\n",
       "<table border=\"1\" class=\"dataframe\">\n",
       "  <thead>\n",
       "    <tr style=\"text-align: right;\">\n",
       "      <th></th>\n",
       "      <th>SepalLength</th>\n",
       "      <th>SepalWidth</th>\n",
       "      <th>PetalLength</th>\n",
       "      <th>PetalWidth</th>\n",
       "    </tr>\n",
       "  </thead>\n",
       "  <tbody>\n",
       "    <tr>\n",
       "      <th>0</th>\n",
       "      <td>5.1</td>\n",
       "      <td>3.5</td>\n",
       "      <td>1.4</td>\n",
       "      <td>0.2</td>\n",
       "    </tr>\n",
       "    <tr>\n",
       "      <th>1</th>\n",
       "      <td>4.9</td>\n",
       "      <td>3.0</td>\n",
       "      <td>1.4</td>\n",
       "      <td>0.2</td>\n",
       "    </tr>\n",
       "    <tr>\n",
       "      <th>2</th>\n",
       "      <td>4.7</td>\n",
       "      <td>3.2</td>\n",
       "      <td>1.3</td>\n",
       "      <td>0.2</td>\n",
       "    </tr>\n",
       "    <tr>\n",
       "      <th>3</th>\n",
       "      <td>4.6</td>\n",
       "      <td>3.1</td>\n",
       "      <td>1.5</td>\n",
       "      <td>0.2</td>\n",
       "    </tr>\n",
       "    <tr>\n",
       "      <th>4</th>\n",
       "      <td>5.0</td>\n",
       "      <td>3.6</td>\n",
       "      <td>1.4</td>\n",
       "      <td>0.2</td>\n",
       "    </tr>\n",
       "    <tr>\n",
       "      <th>5</th>\n",
       "      <td>5.4</td>\n",
       "      <td>3.9</td>\n",
       "      <td>1.7</td>\n",
       "      <td>0.4</td>\n",
       "    </tr>\n",
       "    <tr>\n",
       "      <th>6</th>\n",
       "      <td>4.6</td>\n",
       "      <td>3.4</td>\n",
       "      <td>1.4</td>\n",
       "      <td>0.3</td>\n",
       "    </tr>\n",
       "    <tr>\n",
       "      <th>7</th>\n",
       "      <td>5.0</td>\n",
       "      <td>3.4</td>\n",
       "      <td>1.5</td>\n",
       "      <td>0.2</td>\n",
       "    </tr>\n",
       "    <tr>\n",
       "      <th>8</th>\n",
       "      <td>4.4</td>\n",
       "      <td>2.9</td>\n",
       "      <td>1.4</td>\n",
       "      <td>0.2</td>\n",
       "    </tr>\n",
       "    <tr>\n",
       "      <th>9</th>\n",
       "      <td>4.9</td>\n",
       "      <td>3.1</td>\n",
       "      <td>1.5</td>\n",
       "      <td>0.1</td>\n",
       "    </tr>\n",
       "  </tbody>\n",
       "</table>\n",
       "</div>"
      ],
      "text/plain": [
       "   SepalLength  SepalWidth  PetalLength  PetalWidth\n",
       "0          5.1         3.5          1.4         0.2\n",
       "1          4.9         3.0          1.4         0.2\n",
       "2          4.7         3.2          1.3         0.2\n",
       "3          4.6         3.1          1.5         0.2\n",
       "4          5.0         3.6          1.4         0.2\n",
       "5          5.4         3.9          1.7         0.4\n",
       "6          4.6         3.4          1.4         0.3\n",
       "7          5.0         3.4          1.5         0.2\n",
       "8          4.4         2.9          1.4         0.2\n",
       "9          4.9         3.1          1.5         0.1"
      ]
     },
     "execution_count": 88,
     "metadata": {},
     "output_type": "execute_result"
    }
   ],
   "source": [
    "workediris = iris\n",
    "X = workediris.drop('Species',axis=1)\n",
    "X[:10]"
   ]
  },
  {
   "cell_type": "code",
   "execution_count": 163,
   "metadata": {},
   "outputs": [
    {
     "name": "stdout",
     "output_type": "stream",
     "text": [
      "Para a linha número  138  a distância para os centros é de:  [[0.57903109 1.31541133 4.55574275]]\n",
      "\n",
      "\n",
      "Para a linha número  54  a distância para os centros é de:  [[2.45978458 0.73153652 3.00672446]]\n",
      "\n",
      "\n",
      "Para a linha número  99  a distância para os centros é de:  [[3.44291999 1.66064034 1.98584793]]\n",
      "\n",
      "\n"
     ]
    }
   ],
   "source": [
    "from random import randint\n",
    "\n",
    "for i in range(1,4):\n",
    "    num = randint(1,150)\n",
    "    print(\"Para a linha número \", num,\" a distância para os centros é de: \", calcula_distancia(classes[(num-1):num],centros))\n",
    "    print(\"\\n\")"
   ]
  },
  {
   "cell_type": "markdown",
   "metadata": {},
   "source": [
    "11) Gere a **tabela de distância** e verifique os valores através do método fit_transform()."
   ]
  },
  {
   "cell_type": "code",
   "execution_count": 134,
   "metadata": {},
   "outputs": [
    {
     "data": {
      "text/html": [
       "<div>\n",
       "<style scoped>\n",
       "    .dataframe tbody tr th:only-of-type {\n",
       "        vertical-align: middle;\n",
       "    }\n",
       "\n",
       "    .dataframe tbody tr th {\n",
       "        vertical-align: top;\n",
       "    }\n",
       "\n",
       "    .dataframe thead th {\n",
       "        text-align: right;\n",
       "    }\n",
       "</style>\n",
       "<table border=\"1\" class=\"dataframe\">\n",
       "  <thead>\n",
       "    <tr style=\"text-align: right;\">\n",
       "      <th></th>\n",
       "      <th>SepalLength</th>\n",
       "      <th>SepalWidth</th>\n",
       "      <th>PetalLength</th>\n",
       "      <th>PetalWidth</th>\n",
       "    </tr>\n",
       "  </thead>\n",
       "  <tbody>\n",
       "    <tr>\n",
       "      <th>0</th>\n",
       "      <td>5.1</td>\n",
       "      <td>3.5</td>\n",
       "      <td>1.4</td>\n",
       "      <td>0.2</td>\n",
       "    </tr>\n",
       "    <tr>\n",
       "      <th>1</th>\n",
       "      <td>4.9</td>\n",
       "      <td>3.0</td>\n",
       "      <td>1.4</td>\n",
       "      <td>0.2</td>\n",
       "    </tr>\n",
       "    <tr>\n",
       "      <th>2</th>\n",
       "      <td>4.7</td>\n",
       "      <td>3.2</td>\n",
       "      <td>1.3</td>\n",
       "      <td>0.2</td>\n",
       "    </tr>\n",
       "    <tr>\n",
       "      <th>3</th>\n",
       "      <td>4.6</td>\n",
       "      <td>3.1</td>\n",
       "      <td>1.5</td>\n",
       "      <td>0.2</td>\n",
       "    </tr>\n",
       "    <tr>\n",
       "      <th>4</th>\n",
       "      <td>5.0</td>\n",
       "      <td>3.6</td>\n",
       "      <td>1.4</td>\n",
       "      <td>0.2</td>\n",
       "    </tr>\n",
       "    <tr>\n",
       "      <th>5</th>\n",
       "      <td>5.4</td>\n",
       "      <td>3.9</td>\n",
       "      <td>1.7</td>\n",
       "      <td>0.4</td>\n",
       "    </tr>\n",
       "    <tr>\n",
       "      <th>6</th>\n",
       "      <td>4.6</td>\n",
       "      <td>3.4</td>\n",
       "      <td>1.4</td>\n",
       "      <td>0.3</td>\n",
       "    </tr>\n",
       "    <tr>\n",
       "      <th>7</th>\n",
       "      <td>5.0</td>\n",
       "      <td>3.4</td>\n",
       "      <td>1.5</td>\n",
       "      <td>0.2</td>\n",
       "    </tr>\n",
       "    <tr>\n",
       "      <th>8</th>\n",
       "      <td>4.4</td>\n",
       "      <td>2.9</td>\n",
       "      <td>1.4</td>\n",
       "      <td>0.2</td>\n",
       "    </tr>\n",
       "    <tr>\n",
       "      <th>9</th>\n",
       "      <td>4.9</td>\n",
       "      <td>3.1</td>\n",
       "      <td>1.5</td>\n",
       "      <td>0.1</td>\n",
       "    </tr>\n",
       "  </tbody>\n",
       "</table>\n",
       "</div>"
      ],
      "text/plain": [
       "   SepalLength  SepalWidth  PetalLength  PetalWidth\n",
       "0          5.1         3.5          1.4         0.2\n",
       "1          4.9         3.0          1.4         0.2\n",
       "2          4.7         3.2          1.3         0.2\n",
       "3          4.6         3.1          1.5         0.2\n",
       "4          5.0         3.6          1.4         0.2\n",
       "5          5.4         3.9          1.7         0.4\n",
       "6          4.6         3.4          1.4         0.3\n",
       "7          5.0         3.4          1.5         0.2\n",
       "8          4.4         2.9          1.4         0.2\n",
       "9          4.9         3.1          1.5         0.1"
      ]
     },
     "execution_count": 134,
     "metadata": {},
     "output_type": "execute_result"
    }
   ],
   "source": [
    "X = iris.drop('Species',axis=1)\n",
    "X[:10]"
   ]
  },
  {
   "cell_type": "code",
   "execution_count": 135,
   "metadata": {},
   "outputs": [
    {
     "data": {
      "text/plain": [
       "array([[0.14694217, 5.0595416 , 3.41925061],\n",
       "       [0.43816892, 5.11494335, 3.39857426],\n",
       "       [0.41230086, 5.27935534, 3.56935666],\n",
       "       [0.51883716, 5.15358977, 3.42240962],\n",
       "       [0.19796969, 5.10433388, 3.46726403],\n",
       "       [0.68380699, 4.68148797, 3.14673162],\n",
       "       [0.41520116, 5.21147652, 3.51650264],\n",
       "       [0.0599333 , 5.00252706, 3.33654987],\n",
       "       [0.80099438, 5.32798107, 3.57233779],\n",
       "       [0.36659514, 5.06790865, 3.3583767 ],\n",
       "       [0.48784424, 4.89806763, 3.32449131],\n",
       "       [0.25138019, 4.9966845 , 3.31126872],\n",
       "       [0.49192682, 5.19103612, 3.46661272],\n",
       "       [0.90906105, 5.65173594, 3.90578362],\n",
       "       [1.02019214, 5.10804455, 3.646649  ],\n",
       "       [1.21309192, 4.88564095, 3.49427881],\n",
       "       [0.66241377, 5.03090587, 3.495248  ],\n",
       "       [0.1509702 , 5.02342022, 3.38444981],\n",
       "       [0.82848778, 4.61792995, 3.11245944],\n",
       "       [0.39898872, 4.97213426, 3.37738931],\n",
       "       [0.46172719, 4.6955761 , 3.07471224],\n",
       "       [0.33762701, 4.9236821 , 3.31506588],\n",
       "       [0.64435394, 5.59713396, 3.93167253],\n",
       "       [0.37946278, 4.68193765, 3.01233762],\n",
       "       [0.4845534 , 4.75095704, 3.06241269],\n",
       "       [0.44180539, 4.90772894, 3.19414543],\n",
       "       [0.20782685, 4.84545508, 3.17967089],\n",
       "       [0.21815591, 4.93969029, 3.30941724],\n",
       "       [0.2097427 , 5.01833618, 3.37648183],\n",
       "       [0.40198507, 5.02954567, 3.31272968],\n",
       "       [0.40495926, 4.98608729, 3.26550651],\n",
       "       [0.42566654, 4.79550372, 3.18083736],\n",
       "       [0.72442529, 5.06520776, 3.53142353],\n",
       "       [0.9282198 , 5.04438334, 3.57102821],\n",
       "       [0.36659514, 5.06790865, 3.3583767 ],\n",
       "       [0.34524194, 5.25071556, 3.56904033],\n",
       "       [0.5287646 , 5.02368214, 3.43783276],\n",
       "       [0.36659514, 5.06790865, 3.3583767 ],\n",
       "       [0.75550778, 5.40750095, 3.66205264],\n",
       "       [0.11131936, 4.9664149 , 3.31092773],\n",
       "       [0.19181241, 5.14520862, 3.49764675],\n",
       "       [1.23935144, 5.38423754, 3.60850034],\n",
       "       [0.66602703, 5.40847417, 3.68120561],\n",
       "       [0.38986151, 4.78803478, 3.14278239],\n",
       "       [0.60761172, 4.59828494, 3.00585191],\n",
       "       [0.47370033, 5.11844067, 3.39468045],\n",
       "       [0.41855943, 4.92421655, 3.32788568],\n",
       "       [0.4673243 , 5.23766854, 3.51879523],\n",
       "       [0.41132955, 4.92859681, 3.34104251],\n",
       "       [0.14139307, 5.08216833, 3.40601705],\n",
       "       [3.97889331, 1.25489071, 1.22697525],\n",
       "       [3.57569462, 1.44477759, 0.684141  ],\n",
       "       [4.13182671, 1.01903626, 1.17527644],\n",
       "       [3.00672446, 2.45978458, 0.73153652],\n",
       "       [3.7451291 , 1.3520017 , 0.63853451],\n",
       "       [3.34604124, 1.88009327, 0.26937898],\n",
       "       [3.74149596, 1.28902785, 0.76452634],\n",
       "       [2.233829  , 3.37155487, 1.58388575],\n",
       "       [3.70928457, 1.41123804, 0.75582717],\n",
       "       [2.79706847, 2.58955659, 0.85984838],\n",
       "       [2.5937602 , 3.27864111, 1.53611907],\n",
       "       [3.16815277, 1.90055758, 0.32426175],\n",
       "       [3.07805003, 2.38073698, 0.80841374],\n",
       "       [3.64323922, 1.45909603, 0.39674141],\n",
       "       [2.50973943, 2.60303733, 0.87269542],\n",
       "       [3.59544045, 1.50822767, 0.87306498],\n",
       "       [3.36487622, 1.85387593, 0.41229163],\n",
       "       [2.9438057 , 2.25517257, 0.53579956],\n",
       "       [3.70189033, 1.74778451, 0.6367639 ],\n",
       "       [2.80399572, 2.49557781, 0.71254917],\n",
       "       [3.79431048, 1.37094403, 0.7093731 ],\n",
       "       [3.02079327, 2.06563694, 0.46349013],\n",
       "       [3.98757972, 1.29106776, 0.69373966],\n",
       "       [3.60060995, 1.57547425, 0.43661144],\n",
       "       [3.37188256, 1.70495043, 0.54593856],\n",
       "       [3.55977415, 1.52298639, 0.74313017],\n",
       "       [4.00819061, 1.18965415, 0.98798453],\n",
       "       [4.20328348, 0.84636259, 1.06739835],\n",
       "       [3.47148268, 1.61913335, 0.21993519],\n",
       "       [2.42231129, 2.77868071, 1.0243726 ],\n",
       "       [2.73312861, 2.6440625 , 0.86396528],\n",
       "       [2.61755458, 2.75566654, 0.97566381],\n",
       "       [2.82736485, 2.32254696, 0.55763082],\n",
       "       [4.06974102, 1.22324554, 0.73395781],\n",
       "       [3.33538484, 1.9942056 , 0.57500396],\n",
       "       [3.47050313, 1.61049622, 0.68790275],\n",
       "       [3.87556344, 1.19803047, 0.92700552],\n",
       "       [3.55803204, 1.81572464, 0.61459444],\n",
       "       [2.93107352, 2.20430516, 0.50830256],\n",
       "       [2.9382294 , 2.40438484, 0.6291191 ],\n",
       "       [3.23221163, 2.14635877, 0.48790256],\n",
       "       [3.54152397, 1.52402278, 0.38266958],\n",
       "       [2.94020271, 2.26286106, 0.49185351],\n",
       "       [2.27868208, 3.33648305, 1.5485635 ],\n",
       "       [3.07720523, 2.16211718, 0.3856087 ],\n",
       "       [3.00931753, 2.11299567, 0.44284695],\n",
       "       [3.05790647, 2.07973003, 0.3449879 ],\n",
       "       [3.29423618, 1.76829182, 0.37241653],\n",
       "       [1.98584793, 3.44291999, 1.66064034],\n",
       "       [2.98784069, 2.16527941, 0.38393196],\n",
       "       [5.23002792, 0.77731871, 2.0445799 ],\n",
       "       [4.13627755, 1.29757391, 0.85382472],\n",
       "       [5.2614059 , 0.30610139, 2.05245342],\n",
       "       [4.63361544, 0.65293923, 1.33089245],\n",
       "       [5.00335807, 0.38458885, 1.72813078],\n",
       "       [6.06026336, 1.14225684, 2.87401886],\n",
       "       [3.49158875, 2.4108337 , 1.07101875],\n",
       "       [5.59810611, 0.78573677, 2.39730707],\n",
       "       [4.99343489, 0.65454939, 1.67668563],\n",
       "       [5.60613878, 0.8435596 , 2.54158648],\n",
       "       [4.31086905, 0.74552218, 1.17541367],\n",
       "       [4.46273369, 0.75289837, 1.13563278],\n",
       "       [4.80907392, 0.25958095, 1.59322675],\n",
       "       [4.11232197, 1.48572618, 0.88917352],\n",
       "       [4.34524936, 1.30303821, 1.20227628],\n",
       "       [4.57523682, 0.68288333, 1.42273608],\n",
       "       [4.5953446 , 0.50991553, 1.33403966],\n",
       "       [6.21652572, 1.47791217, 3.20105585],\n",
       "       [6.4578628 , 1.52971038, 3.20759942],\n",
       "       [4.0684631 , 1.53708992, 0.82617494],\n",
       "       [5.07992047, 0.26952816, 1.91251832],\n",
       "       [3.95277017, 1.5334904 , 0.81891975],\n",
       "       [6.17566126, 1.31149299, 2.9794431 ],\n",
       "       [4.05181342, 1.10668455, 0.74269596],\n",
       "       [4.92666134, 0.27627819, 1.75847731],\n",
       "       [5.27802918, 0.52766931, 2.14580999],\n",
       "       [3.91887637, 1.20765678, 0.62526165],\n",
       "       [3.94953061, 1.16212743, 0.70228926],\n",
       "       [4.78292714, 0.54629196, 1.4663925 ],\n",
       "       [5.0624097 , 0.59428255, 1.93773659],\n",
       "       [5.50890116, 0.7312665 , 2.31885342],\n",
       "       [5.99739877, 1.43802246, 3.07340053],\n",
       "       [4.82261257, 0.5605572 , 1.51444141],\n",
       "       [4.10541009, 1.05631592, 0.81536685],\n",
       "       [4.50652771, 1.12133058, 1.23209127],\n",
       "       [5.75777665, 0.95311851, 2.6381171 ],\n",
       "       [4.84041238, 0.73306362, 1.72401927],\n",
       "       [4.55574275, 0.57903109, 1.31541133],\n",
       "       [3.83572575, 1.29960041, 0.61011676],\n",
       "       [4.75659458, 0.34794609, 1.60532899],\n",
       "       [4.97248348, 0.3893492 , 1.77481954],\n",
       "       [4.59738969, 0.68403844, 1.53937059],\n",
       "       [4.13627755, 1.29757391, 0.85382472],\n",
       "       [5.21259935, 0.30952112, 2.00764279],\n",
       "       [5.09085376, 0.50939919, 1.94554509],\n",
       "       [4.60751473, 0.61173881, 1.44957743],\n",
       "       [4.21459274, 1.10072376, 0.89747884],\n",
       "       [4.40998776, 0.65334214, 1.17993324],\n",
       "       [4.59839015, 0.83572418, 1.50889317],\n",
       "       [4.07622276, 1.1805499 , 0.83452741]])"
      ]
     },
     "execution_count": 135,
     "metadata": {},
     "output_type": "execute_result"
    }
   ],
   "source": [
    "distance = kmeans.fit_transform(X)\n",
    "distance"
   ]
  },
  {
   "cell_type": "markdown",
   "metadata": {},
   "source": [
    "12) Utilizando o método **predict()** defina novos valores de dados e faça a predição."
   ]
  },
  {
   "cell_type": "code",
   "execution_count": 164,
   "metadata": {},
   "outputs": [],
   "source": [
    "import seaborn as sns"
   ]
  },
  {
   "cell_type": "code",
   "execution_count": null,
   "metadata": {},
   "outputs": [],
   "source": [
    "iris = pd.read_csv(r\"C:\\Users\\marcf\\OneDrive\\Documentos\\Ciencia de dados\\K-Means-Clustering\\iris.csv\")"
   ]
  },
  {
   "cell_type": "code",
   "execution_count": 166,
   "metadata": {},
   "outputs": [
    {
     "data": {
      "text/plain": [
       "<AxesSubplot:xlabel='SepalLength', ylabel='Density'>"
      ]
     },
     "execution_count": 166,
     "metadata": {},
     "output_type": "execute_result"
    },
    {
     "data": {
      "image/png": "[encoded data removed]",
      "text/plain": [
       "<Figure size 432x288 with 1 Axes>"
      ]
     },
     "metadata": {
      "needs_background": "light"
     },
     "output_type": "display_data"
    }
   ],
   "source": [
    "sns.kdeplot(classes.SepalLength,shade=True )"
   ]
  },
  {
   "cell_type": "code",
   "execution_count": 167,
   "metadata": {},
   "outputs": [
    {
     "data": {
      "text/plain": [
       "<AxesSubplot:xlabel='SepalWidth', ylabel='Density'>"
      ]
     },
     "execution_count": 167,
     "metadata": {},
     "output_type": "execute_result"
    },
    {
     "data": {
      "image/png": "[encoded data removed]",
      "text/plain": [
       "<Figure size 432x288 with 1 Axes>"
      ]
     },
     "metadata": {
      "needs_background": "light"
     },
     "output_type": "display_data"
    }
   ],
   "source": [
    "sns.kdeplot(classes.SepalWidth,shade=True )"
   ]
  },
  {
   "cell_type": "code",
   "execution_count": 169,
   "metadata": {},
   "outputs": [
    {
     "data": {
      "text/plain": [
       "<AxesSubplot:xlabel='PetalLength', ylabel='Density'>"
      ]
     },
     "execution_count": 169,
     "metadata": {},
     "output_type": "execute_result"
    },
    {
     "data": {
      "image/png": "[encoded data removed]",
      "text/plain": [
       "<Figure size 432x288 with 1 Axes>"
      ]
     },
     "metadata": {
      "needs_background": "light"
     },
     "output_type": "display_data"
    }
   ],
   "source": [
    "sns.kdeplot(classes.PetalLength,shade=True )"
   ]
  },
  {
   "cell_type": "code",
   "execution_count": 170,
   "metadata": {},
   "outputs": [
    {
     "data": {
      "text/plain": [
       "<AxesSubplot:xlabel='PetalWidth', ylabel='Density'>"
      ]
     },
     "execution_count": 170,
     "metadata": {},
     "output_type": "execute_result"
    },
    {
     "data": {
      "image/png": "[encoded data removed]",
      "text/plain": [
       "<Figure size 432x288 with 1 Axes>"
      ]
     },
     "metadata": {
      "needs_background": "light"
     },
     "output_type": "display_data"
    }
   ],
   "source": [
    "sns.kdeplot(classes.PetalWidth,shade=True )"
   ]
  },
  {
   "cell_type": "code",
   "execution_count": 174,
   "metadata": {},
   "outputs": [
    {
     "data": {
      "text/plain": [
       "array([[7.14460968, 3.44163095, 2.49500171, 0.8308436 ]])"
      ]
     },
     "execution_count": 174,
     "metadata": {},
     "output_type": "execute_result"
    }
   ],
   "source": [
    "import random\n",
    "import numpy as np\n",
    "\n",
    "X = []\n",
    "\n",
    "num1 = random.uniform(4,8)\n",
    "X.append(num1)\n",
    "num2 = random.uniform(1.5,4.5)\n",
    "X.append(num2)\n",
    "num3 = random.uniform(0,8)\n",
    "X.append(num3)\n",
    "num4 = random.uniform(0,3)\n",
    "X.append(num4)\n",
    "X = np.array(X).reshape(1,4)\n",
    "\n",
    "X"
   ]
  },
  {
   "cell_type": "code",
   "execution_count": 176,
   "metadata": {},
   "outputs": [
    {
     "data": {
      "text/plain": [
       "array([[3.50770289, 2.44821354, 2.44572274]])"
      ]
     },
     "execution_count": 176,
     "metadata": {},
     "output_type": "execute_result"
    }
   ],
   "source": [
    "calcula_distancia(X,centros)"
   ]
  },
  {
   "cell_type": "code",
   "execution_count": 177,
   "metadata": {},
   "outputs": [
    {
     "name": "stdout",
     "output_type": "stream",
     "text": [
      "[2]\n"
     ]
    }
   ],
   "source": [
    "print(kmeans.predict(X))"
   ]
  },
  {
   "cell_type": "code",
   "execution_count": 182,
   "metadata": {},
   "outputs": [
    {
     "name": "stdout",
     "output_type": "stream",
     "text": [
      "Dado 1 gerado:  [[6.46745298 3.44299167 3.68588688 2.97110796]]\n",
      "Distancia para os centros de:  [[2.30669978 1.91481929 3.80924777]]\n",
      "Classificação prevista:  [1]\n",
      "\n",
      "\n",
      "Dado 2 gerado:  [[4.23877171 4.11637473 0.61438816 0.16793199]]\n",
      "Distancia para os centros de:  [[6.14988354 4.53002037 1.34312812]]\n",
      "Classificação prevista:  [2]\n",
      "\n",
      "\n",
      "Dado 3 gerado:  [[6.25168379 1.72728228 1.02341815 2.24307515]]\n",
      "Distancia para os centros de:  [[4.9463502  3.63012313 2.93268962]]\n",
      "Classificação prevista:  [2]\n",
      "\n",
      "\n",
      "Dado 4 gerado:  [[7.29312858 1.92201577 6.75641456 0.52476591]]\n",
      "Distancia para os centros de:  [[2.22317995 3.0047985  5.96300322]]\n",
      "Classificação prevista:  [0]\n",
      "\n",
      "\n",
      "Dado 5 gerado:  [[4.18236106 2.7742657  6.49164591 0.58811305]]\n",
      "Distancia para os centros de:  [[3.15703499 2.84144616 5.14668943]]\n",
      "Classificação prevista:  [1]\n",
      "\n",
      "\n",
      "Dado 6 gerado:  [[6.22175678 2.09258876 5.62413794 0.47932529]]\n",
      "Distancia para os centros de:  [[1.97604404 1.71990455 4.53838134]]\n",
      "Classificação prevista:  [1]\n",
      "\n",
      "\n",
      "Dado 7 gerado:  [[5.02037744 3.45370444 3.41875129 0.80435939]]\n",
      "Distancia para os centros de:  [[3.23950915 1.61881522 2.03384777]]\n",
      "Classificação prevista:  [1]\n",
      "\n",
      "\n",
      "Dado 8 gerado:  [[7.51314464 2.24279169 5.80111036 0.35094335]]\n",
      "Distancia para os centros de:  [[2.0229683  2.45084153 5.14673217]]\n",
      "Classificação prevista:  [0]\n",
      "\n",
      "\n",
      "Dado 9 gerado:  [[6.73334015 2.126586   7.86403047 2.49589013]]\n",
      "Distancia para os centros de:  [[2.36509155 3.7749884  7.11918909]]\n",
      "Classificação prevista:  [0]\n",
      "\n",
      "\n",
      "Dado 10 gerado:  [[6.75222234 1.57689305 0.9148331  2.94349924]]\n",
      "Distancia para os centros de:  [[5.12968458 4.05910979 3.74537685]]\n",
      "Classificação prevista:  [2]\n",
      "\n",
      "\n"
     ]
    }
   ],
   "source": [
    "i = 0\n",
    "while i < 10:\n",
    "    X = []\n",
    "    num1 = random.uniform(4,8)\n",
    "    X.append(num1)\n",
    "    num2 = random.uniform(1.5,4.5)\n",
    "    X.append(num2)\n",
    "    num3 = random.uniform(0,8)\n",
    "    X.append(num3)\n",
    "    num4 = random.uniform(0,3)\n",
    "    X.append(num4)\n",
    "    X = np.array(X).reshape(1,4)\n",
    "    print(\"Dado\", i+1, \"gerado: \",X)\n",
    "    print(\"Distancia para os centros de: \", calcula_distancia(X,centros))\n",
    "    print(\"Classificação prevista: \", kmeans.predict(X))\n",
    "    print(\"\\n\")\n",
    "    i = i + 1"
   ]
  }
 ],
 "metadata": {
  "kernelspec": {
   "display_name": "Python 3",
   "language": "python",
   "name": "python3"
  },
  "language_info": {
   "codemirror_mode": {
    "name": "ipython",
    "version": 3
   },
   "file_extension": ".py",
   "mimetype": "text/x-python",
   "name": "python",
   "nbconvert_exporter": "python",
   "pygments_lexer": "ipython3",
   "version": "3.8.8"
  },
  "widgets": {
   "application/vnd.jupyter.widget-state+json": {
    "state": {},
    "version_major": 2,
    "version_minor": 0
   }
  }
 },
 "nbformat": 4,
 "nbformat_minor": 2
}
